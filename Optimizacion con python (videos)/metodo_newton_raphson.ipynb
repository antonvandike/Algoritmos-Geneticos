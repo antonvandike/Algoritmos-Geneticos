{
  "nbformat": 4,
  "nbformat_minor": 0,
  "metadata": {
    "colab": {
      "provenance": [],
      "authorship_tag": "ABX9TyMu/gjyOUiWntA56uJ7sbfs",
      "include_colab_link": true
    },
    "kernelspec": {
      "name": "python3",
      "display_name": "Python 3"
    },
    "language_info": {
      "name": "python"
    }
  },
  "cells": [
    {
      "cell_type": "markdown",
      "metadata": {
        "id": "view-in-github",
        "colab_type": "text"
      },
      "source": [
        "<a href=\"https://colab.research.google.com/github/luisantoniourbanaviles/Algoritmos-Geneticos/blob/main/Optimizacion%20con%20python%20(videos)/metodo_newton_raphson.ipynb\" target=\"_parent\"><img src=\"https://colab.research.google.com/assets/colab-badge.svg\" alt=\"Open In Colab\"/></a>"
      ]
    },
    {
      "cell_type": "markdown",
      "source": [
        "# Metodo de Newton-Raphson\n"
      ],
      "metadata": {
        "id": "4R2qi79XVDub"
      }
    },
    {
      "cell_type": "markdown",
      "source": [
        "## Funcion del video"
      ],
      "metadata": {
        "id": "4DYplVMfVIt6"
      }
    },
    {
      "cell_type": "code",
      "source": [
        "def T(x):\n",
        "  f  = 10400/(x - 20) + 204165.5/(-2*x + 330)\n",
        "  return(f)"
      ],
      "metadata": {
        "id": "d58x-uzg8_jI"
      },
      "execution_count": null,
      "outputs": []
    },
    {
      "cell_type": "markdown",
      "source": [
        "## Librerias a usar"
      ],
      "metadata": {
        "id": "W3oMDARtVTxO"
      }
    },
    {
      "cell_type": "code",
      "source": [
        "import numpy as np"
      ],
      "metadata": {
        "id": "gPWhDSVt8LtI"
      },
      "execution_count": null,
      "outputs": []
    },
    {
      "cell_type": "markdown",
      "source": [
        "## Codigo de Newton Raphson"
      ],
      "metadata": {
        "id": "hgrhw_00VcWW"
      }
    },
    {
      "cell_type": "code",
      "source": [
        "def newton_raphson(f,x,e):\n",
        "  h=0.0001\n",
        "\n",
        "  while abs(derivada_1(f,x,h))>e:\n",
        "\n",
        "    D_1 = derivada_1(f,x,h)\n",
        "    D_2 = derivada_2(f,x,h)\n",
        "\n",
        "    x = x - D_1/D_2\n",
        "  return(x)\n"
      ],
      "metadata": {
        "id": "7V2hDJUJ6h-x"
      },
      "execution_count": null,
      "outputs": []
    },
    {
      "cell_type": "markdown",
      "source": [
        "## Diferencias finitas"
      ],
      "metadata": {
        "id": "5-4hkNAUVi6j"
      }
    },
    {
      "cell_type": "code",
      "execution_count": null,
      "metadata": {
        "id": "2yJBunfA5bGc"
      },
      "outputs": [],
      "source": [
        "def df(f,x,h,A):\n",
        "  P=[-2,-1,1,2] # Parametros que van dentro de la funcion\n",
        "  F=[1,-8,8,-1] # Parametros que multiplican a la funcion evaluada\n",
        "\n",
        "  df = 0\n",
        "  for k in range(len(P)):\n",
        "    df = df + F[k]*f(x+P[k]*h*A)\n",
        "\n",
        "  df = (1/(12*h))*df\n",
        "  return(df)"
      ]
    },
    {
      "cell_type": "markdown",
      "source": [
        "## Primer Derivada\n"
      ],
      "metadata": {
        "id": "GbQwfR5YVlAQ"
      }
    },
    {
      "cell_type": "code",
      "source": [
        "def derivada_1(f,x,h):\n",
        "  D = df(f,x,h,1)\n",
        "  return(D)"
      ],
      "metadata": {
        "id": "H9_cNIcb5rDC"
      },
      "execution_count": null,
      "outputs": []
    },
    {
      "cell_type": "markdown",
      "source": [
        "## Segunda Derivada\n"
      ],
      "metadata": {
        "id": "j2Ud4NHdXiVa"
      }
    },
    {
      "cell_type": "code",
      "source": [
        "def derivada_2(f,x,h):\n",
        "  df_x  = lambda x: df( f  ,x, h , 1)\n",
        "  df_xx = lambda x: df(df_x,x, h , 1)\n",
        "  return(df_xx(x))"
      ],
      "metadata": {
        "id": "C9umceddXiVb"
      },
      "execution_count": null,
      "outputs": []
    },
    {
      "cell_type": "markdown",
      "source": [
        "## Funciones del articulo"
      ],
      "metadata": {
        "id": "K1f7xub2WMFV"
      }
    },
    {
      "cell_type": "code",
      "source": [
        "def f_p(x):\n",
        "  f  = -(x**6)/60 -(x**5)/50 + (x**4)/2 + 2*(x**3)/3 - 3.2*(x**2) -6.4*x\n",
        "  return(f)"
      ],
      "metadata": {
        "id": "kfrkDAWA50YK"
      },
      "execution_count": null,
      "outputs": []
    },
    {
      "cell_type": "code",
      "source": [
        "def f_r(x):\n",
        "  f  = -((x**6) + (x**5) - 10*(x**2) - 10*x - 12)/((x**2)+6)\n",
        "  return(f)"
      ],
      "metadata": {
        "id": "h8I5gXR4OuLS"
      },
      "execution_count": null,
      "outputs": []
    },
    {
      "cell_type": "code",
      "source": [
        "def f_i(x):\n",
        "  f  = 5 - np.sqrt((x**4) + 2*(x**3) - 3*(x**2) + 13)\n",
        "  return(f)"
      ],
      "metadata": {
        "id": "DyvVXZzEO9bI"
      },
      "execution_count": null,
      "outputs": []
    },
    {
      "cell_type": "code",
      "source": [
        "def f_t(x):\n",
        "  f  = (np.sin(3*x+45)**2) + 0.9*(np.sin(9*x)**3) - np.sin(15*x + 50) - np.cos(2*x - 30)\n",
        "  return(f)"
      ],
      "metadata": {
        "id": "hz7Wo98HPB4p"
      },
      "execution_count": null,
      "outputs": []
    },
    {
      "cell_type": "code",
      "source": [
        "def f_nrv(x):\n",
        "  f  = np.sin(2*np.pi*x)/x -np.cos(3*np.pi*x)/x\n",
        "  return(f)"
      ],
      "metadata": {
        "id": "dC6oboQwPFM5"
      },
      "execution_count": null,
      "outputs": []
    },
    {
      "cell_type": "code",
      "source": [
        "def f_nrh(x):\n",
        "  f  = (2*x-1)/(x**2)\n",
        "  return(f)"
      ],
      "metadata": {
        "id": "f5T_nwPDPIKK"
      },
      "execution_count": null,
      "outputs": []
    },
    {
      "cell_type": "code",
      "source": [
        "def f_l(x):\n",
        "  f  = -(x**4)*(np.log(abs(x))-1)\n",
        "  return(f)"
      ],
      "metadata": {
        "id": "Ba6_x39oQlVZ"
      },
      "execution_count": null,
      "outputs": []
    },
    {
      "cell_type": "code",
      "source": [
        "def f_e(x):\n",
        "  f  = np.exp(-x)*(np.log(abs(x)) + x/abs(x))\n",
        "  return(f)"
      ],
      "metadata": {
        "id": "NT0losUbQnmw"
      },
      "execution_count": null,
      "outputs": []
    },
    {
      "cell_type": "markdown",
      "source": [
        "## Uso del codigo"
      ],
      "metadata": {
        "id": "1OYZAEk6Wtb7"
      }
    },
    {
      "cell_type": "code",
      "source": [
        "# funcion polinomial\n",
        "\n",
        "x = newton_raphson(f_p,-5,0.0001)\n",
        "print(x,f_p(x))"
      ],
      "metadata": {
        "colab": {
          "base_uri": "https://localhost:8080/"
        },
        "id": "pW_4eL1IXDJj",
        "outputId": "6f5cc354-9f5e-4a0e-e64a-82fc4463be2b"
      },
      "execution_count": null,
      "outputs": [
        {
          "output_type": "stream",
          "name": "stdout",
          "text": [
            "-4.000000147526858 11.94666666666636\n"
          ]
        }
      ]
    },
    {
      "cell_type": "code",
      "source": [
        "# funcion racional\n",
        "\n",
        "x = newton_raphson(f_r,-3,0.0001)\n",
        "print(x,f_r(x))"
      ],
      "metadata": {
        "colab": {
          "base_uri": "https://localhost:8080/"
        },
        "id": "0Bx_QMLAXDWI",
        "outputId": "1002ed32-8707-4b87-9fbd-2fe7cfde1c19"
      },
      "execution_count": null,
      "outputs": [
        {
          "output_type": "stream",
          "name": "stdout",
          "text": [
            "-1.3884673747844207 1.9411485918526656\n"
          ]
        }
      ]
    },
    {
      "cell_type": "code",
      "source": [
        "# funcion irracional\n",
        "\n",
        "x = newton_raphson(f_i,-4,0.0001)\n",
        "print(x,f_i(x))"
      ],
      "metadata": {
        "colab": {
          "base_uri": "https://localhost:8080/"
        },
        "id": "GjwmCtbfXDjU",
        "outputId": "39d3e3f7-2d53-4978-85e7-08fc3722b801"
      },
      "execution_count": null,
      "outputs": [
        {
          "output_type": "stream",
          "name": "stdout",
          "text": [
            "-2.607839187595152e-05 1.3944487248189472\n"
          ]
        }
      ]
    },
    {
      "cell_type": "code",
      "source": [
        "# funcion trigonometrica\n",
        "\n",
        "x = newton_raphson(f_t,-4,0.0001)\n",
        "print(x,f_t(x))"
      ],
      "metadata": {
        "colab": {
          "base_uri": "https://localhost:8080/"
        },
        "id": "8LS88YC8XDrO",
        "outputId": "ce266c74-945e-4831-ac4e-bda0aa5fecf0"
      },
      "execution_count": null,
      "outputs": [
        {
          "output_type": "stream",
          "name": "stdout",
          "text": [
            "-3.8792564783735393 0.8497542447953311\n"
          ]
        }
      ]
    },
    {
      "cell_type": "code",
      "source": [
        "# funcion racional no continua con asintota vertical\n",
        "\n",
        "x = newton_raphson(f_nrv,-4,0.0001)\n",
        "print(x,f_nrv(x))"
      ],
      "metadata": {
        "colab": {
          "base_uri": "https://localhost:8080/"
        },
        "id": "UuYlP64UXDzR",
        "outputId": "a5db1e34-2f6f-4b19-df4f-ef80b87965ee"
      },
      "execution_count": null,
      "outputs": [
        {
          "output_type": "stream",
          "name": "stdout",
          "text": [
            "-4.065545438876762 0.29896943139895366\n"
          ]
        }
      ]
    },
    {
      "cell_type": "code",
      "source": [
        "# funcion racional no continua con asintota horizontal\n",
        "\n",
        "x = newton_raphson(f_nrh,-4,0.0001)\n",
        "print(x,f_nrh(x))"
      ],
      "metadata": {
        "colab": {
          "base_uri": "https://localhost:8080/"
        },
        "id": "w3TjTlY3XD6G",
        "outputId": "28f8489f-8669-4260-eb42-33a2f837b97b"
      },
      "execution_count": null,
      "outputs": [
        {
          "output_type": "stream",
          "name": "stdout",
          "text": [
            "-207.46438750405247 -0.009663442138120452\n"
          ]
        }
      ]
    },
    {
      "cell_type": "code",
      "source": [
        "# funcion logaritmica\n",
        "\n",
        "x = newton_raphson(f_l,-3,0.0001)\n",
        "print(x,f_l(x))"
      ],
      "metadata": {
        "colab": {
          "base_uri": "https://localhost:8080/"
        },
        "id": "R9wK7ffkXW7k",
        "outputId": "faa53490-d43e-4c7a-b81e-7b4cbc1a6ebd"
      },
      "execution_count": null,
      "outputs": [
        {
          "output_type": "stream",
          "name": "stdout",
          "text": [
            "-2.1170000341930932 5.0213842307969125\n"
          ]
        }
      ]
    },
    {
      "cell_type": "code",
      "source": [
        "# funcion exponencial\n",
        "\n",
        "x = newton_raphson(f_e,-3,0.0001)\n",
        "print(x,f_e(x))"
      ],
      "metadata": {
        "colab": {
          "base_uri": "https://localhost:8080/"
        },
        "id": "NxbFtGi9Xz9Y",
        "outputId": "fba8f65f-8c09-4ae8-8666-2ed1c82129c2"
      },
      "execution_count": null,
      "outputs": [
        {
          "output_type": "stream",
          "name": "stdout",
          "text": [
            "-1.0066537150245831 -2.718281695223389\n"
          ]
        }
      ]
    }
  ]
}