{
  "nbformat": 4,
  "nbformat_minor": 0,
  "metadata": {
    "colab": {
      "provenance": [],
      "authorship_tag": "ABX9TyMruWpraW/WtOFmrKbMpiry",
      "include_colab_link": true
    },
    "kernelspec": {
      "name": "python3",
      "display_name": "Python 3"
    },
    "language_info": {
      "name": "python"
    }
  },
  "cells": [
    {
      "cell_type": "markdown",
      "metadata": {
        "id": "view-in-github",
        "colab_type": "text"
      },
      "source": [
        "<a href=\"https://colab.research.google.com/github/luisantoniourbanaviles/Algoritmos-Geneticos/blob/main/Optimizacion%20con%20python%20(videos)/metodo_fibonacci.ipynb\" target=\"_parent\"><img src=\"https://colab.research.google.com/assets/colab-badge.svg\" alt=\"Open In Colab\"/></a>"
      ]
    },
    {
      "cell_type": "markdown",
      "source": [
        "# Metodo de Fibonacci\n",
        "\n"
      ],
      "metadata": {
        "id": "4R2qi79XVDub"
      }
    },
    {
      "cell_type": "markdown",
      "source": [
        "## Funcion del video"
      ],
      "metadata": {
        "id": "4DYplVMfVIt6"
      }
    },
    {
      "cell_type": "code",
      "execution_count": 49,
      "metadata": {
        "id": "YPaiaNl0C2p9"
      },
      "outputs": [],
      "source": [
        "def T(x):\n",
        "  f  = 10400/(x - 20) + 204165.5/(-2*x + 330)\n",
        "  return(f)"
      ]
    },
    {
      "cell_type": "markdown",
      "source": [
        "## Librerias a usar"
      ],
      "metadata": {
        "id": "el6eHrNLwoDo"
      }
    },
    {
      "cell_type": "code",
      "source": [
        "import numpy as np"
      ],
      "metadata": {
        "id": "d9GbnQk4D1Ov"
      },
      "execution_count": 50,
      "outputs": []
    },
    {
      "cell_type": "markdown",
      "source": [
        "## Método de Fibonacci"
      ],
      "metadata": {
        "id": "oIiJrZ_jwq4A"
      }
    },
    {
      "cell_type": "code",
      "source": [
        "def Fib(n):\n",
        "  Fib = [1, 1]\n",
        "  for i in range(n):\n",
        "    Fib.append(Fib[i]+ Fib[i+1])\n",
        "  return (Fib)"
      ],
      "metadata": {
        "id": "QrMPLNoXV90F"
      },
      "execution_count": 51,
      "outputs": []
    },
    {
      "cell_type": "code",
      "source": [
        "def fibonacci(f,a,b,e):\n",
        "  # Intervalo l\n",
        "  l = abs(b-a)\n",
        "  k = 2\n",
        "  n=30\n",
        "  F = Fib(n)\n",
        "\n",
        "  while abs(a-b)>e:\n",
        "\n",
        "    Lk = l*F[n - k + 1]/F[n + 1]\n",
        "    xa = a + Lk;\n",
        "    xb = b - Lk\n",
        "\n",
        "    if f(xa) > f(xb):\n",
        "      a=xa\n",
        "\n",
        "    else:\n",
        "      b=xb\n",
        "    k = k + 1\n",
        "\n",
        "  return(a,b)"
      ],
      "metadata": {
        "id": "tjrmuooBG-if"
      },
      "execution_count": 52,
      "outputs": []
    },
    {
      "cell_type": "markdown",
      "source": [
        "## Prueba con la funcion del video"
      ],
      "metadata": {
        "id": "yHTR9FWWxIkL"
      }
    },
    {
      "cell_type": "code",
      "source": [
        "d,f = fibonacci(T,40,90,0.0001)\n",
        "print(d,f,T(d))"
      ],
      "metadata": {
        "colab": {
          "base_uri": "https://localhost:8080/"
        },
        "id": "yPygZ_Y-EMmO",
        "outputId": "ed754452-5e21-4d3b-e72f-da728f19dc9d"
      },
      "execution_count": 53,
      "outputs": [
        {
          "output_type": "stream",
          "name": "stdout",
          "text": [
            "55.08351202698975 55.083580887743665 1225.1656368790884\n"
          ]
        }
      ]
    },
    {
      "cell_type": "markdown",
      "source": [
        "## Funciones del articulo"
      ],
      "metadata": {
        "id": "njexs3Crxmox"
      }
    },
    {
      "cell_type": "code",
      "source": [
        "def f_p(x):\n",
        "  f  = -(x**6)/60 -(x**5)/50 + (x**4)/2 + 2*(x**3)/3 - 3.2*(x**2) -6.4*x\n",
        "  return(f)"
      ],
      "metadata": {
        "id": "kfrkDAWA50YK"
      },
      "execution_count": 54,
      "outputs": []
    },
    {
      "cell_type": "code",
      "source": [
        "def f_r(x):\n",
        "  f  = -((x**6) + (x**5) - 10*(x**2) - 10*x - 12)/((x**2)+6)\n",
        "  return(f)"
      ],
      "metadata": {
        "id": "h8I5gXR4OuLS"
      },
      "execution_count": 55,
      "outputs": []
    },
    {
      "cell_type": "code",
      "source": [
        "def f_i(x):\n",
        "  f  = 5 - np.sqrt((x**4) + 2*(x**3) - 3*(x**2) + 13)\n",
        "  return(f)"
      ],
      "metadata": {
        "id": "DyvVXZzEO9bI"
      },
      "execution_count": 56,
      "outputs": []
    },
    {
      "cell_type": "code",
      "source": [
        "def f_t(x):\n",
        "  f  = (np.sin(3*x+45)**2) + 0.9*(np.sin(9*x)**3) - np.sin(15*x + 50) - np.cos(2*x - 30)\n",
        "  return(f)"
      ],
      "metadata": {
        "id": "hz7Wo98HPB4p"
      },
      "execution_count": 57,
      "outputs": []
    },
    {
      "cell_type": "code",
      "source": [
        "def f_nrv(x):\n",
        "  f  = np.sin(2*np.pi*x)/x -np.cos(3*np.pi*x)/x\n",
        "  return(f)"
      ],
      "metadata": {
        "id": "dC6oboQwPFM5"
      },
      "execution_count": 58,
      "outputs": []
    },
    {
      "cell_type": "code",
      "source": [
        "def f_nrh(x):\n",
        "  f  = (2*x-1)/(x**2)\n",
        "  return(f)"
      ],
      "metadata": {
        "id": "f5T_nwPDPIKK"
      },
      "execution_count": 59,
      "outputs": []
    },
    {
      "cell_type": "code",
      "source": [
        "def f_l(x):\n",
        "  f  = -(x**4)*(np.log(abs(x))-1)\n",
        "  return(f)"
      ],
      "metadata": {
        "id": "Ba6_x39oQlVZ"
      },
      "execution_count": 60,
      "outputs": []
    },
    {
      "cell_type": "code",
      "source": [
        "def f_e(x):\n",
        "  f  = np.exp(-x)*(np.log(abs(x)) + x/abs(x))\n",
        "  return(f)"
      ],
      "metadata": {
        "id": "NT0losUbQnmw"
      },
      "execution_count": 61,
      "outputs": []
    },
    {
      "cell_type": "markdown",
      "source": [
        "## Uso del codigo"
      ],
      "metadata": {
        "id": "_zkXbSIuxvMK"
      }
    },
    {
      "cell_type": "code",
      "source": [
        "# funcion polinomial\n",
        "\n",
        "a,b = fibonacci(f_p,-5,5,0.0001)\n",
        "print(a,b,f_p(a),f_p(b))"
      ],
      "metadata": {
        "colab": {
          "base_uri": "https://localhost:8080/"
        },
        "id": "pW_4eL1IXDJj",
        "outputId": "0a95eee9-58c8-4811-aa2e-08495071f3fd"
      },
      "execution_count": 62,
      "outputs": [
        {
          "output_type": "stream",
          "name": "stdout",
          "text": [
            "1.9999756692002835 2.000072074255764 -13.973333329071037 -13.973333295931058\n"
          ]
        }
      ]
    },
    {
      "cell_type": "code",
      "source": [
        "# funcion racional\n",
        "\n",
        "a,b = fibonacci(f_r,-3,3,0.0001)\n",
        "print(a,b,f_r(a),f_r(b))"
      ],
      "metadata": {
        "colab": {
          "base_uri": "https://localhost:8080/"
        },
        "id": "0Bx_QMLAXDWI",
        "outputId": "7250bdba-26ee-4e6a-9a4d-174d86a24f5a"
      },
      "execution_count": 63,
      "outputs": [
        {
          "output_type": "stream",
          "name": "stdout",
          "text": [
            "-0.5791092999202588 -0.5790156492949347 1.5137238157418915 1.5137238201485037\n"
          ]
        }
      ]
    },
    {
      "cell_type": "code",
      "source": [
        "# funcion irracional\n",
        "\n",
        "a,b = fibonacci(f_i,-4,3,0.0001)\n",
        "print(a,b,f_i(a),f_i(b))"
      ],
      "metadata": {
        "colab": {
          "base_uri": "https://localhost:8080/"
        },
        "id": "GjwmCtbfXDjU",
        "outputId": "bb59dc9c-f436-4bc9-e55d-d00485fc6d89"
      },
      "execution_count": 64,
      "outputs": [
        {
          "output_type": "stream",
          "name": "stdout",
          "text": [
            "2.999932516461163 3 -5.999558294978534 -6.0\n"
          ]
        }
      ]
    },
    {
      "cell_type": "code",
      "source": [
        "# funcion trigonometrica\n",
        "\n",
        "a,b = fibonacci(f_t,-4,4,0.0001)\n",
        "print(a,b,f_t(a),f_t(b))"
      ],
      "metadata": {
        "colab": {
          "base_uri": "https://localhost:8080/"
        },
        "id": "8LS88YC8XDrO",
        "outputId": "b4648930-8817-49d3-f285-2aa5bf2df01d"
      },
      "execution_count": 65,
      "outputs": [
        {
          "output_type": "stream",
          "name": "stdout",
          "text": [
            "-0.2758525076102608 -0.275775383565876 -1.7726780820698458 -1.7726780615478148\n"
          ]
        }
      ]
    },
    {
      "cell_type": "code",
      "source": [
        "# funcion racional no continua con asintota vertical\n",
        "\n",
        "a,b = fibonacci(f_nrv,-4,4,0.0001)\n",
        "print(a,b,f_nrv(a),f_nrv(b))"
      ],
      "metadata": {
        "colab": {
          "base_uri": "https://localhost:8080/"
        },
        "id": "UuYlP64UXDzR",
        "outputId": "18c9c3aa-dabc-4330-c9f8-509fcd2d6923"
      },
      "execution_count": 66,
      "outputs": [
        {
          "output_type": "stream",
          "name": "stdout",
          "text": [
            "-0.9155523849003977 -0.9154752608560125 -1.3169021855609637 -1.31690210654994\n"
          ]
        }
      ]
    },
    {
      "cell_type": "code",
      "source": [
        "# funcion racional no continua con asintota horizontal\n",
        "\n",
        "a,b = fibonacci(f_nrh,-4,4,0.0001)\n",
        "print(a,b,f_nrh(a),f_nrh(b))"
      ],
      "metadata": {
        "colab": {
          "base_uri": "https://localhost:8080/"
        },
        "id": "w3TjTlY3XD6G",
        "outputId": "563f4eab-796d-4df9-e3d8-708187065332"
      },
      "execution_count": 67,
      "outputs": [
        {
          "output_type": "stream",
          "name": "stdout",
          "text": [
            "-3.8562022192296504e-05 3.856202219251978e-05 -672533454.5676366 -672429725.559849\n"
          ]
        }
      ]
    },
    {
      "cell_type": "code",
      "source": [
        "# funcion logaritmica\n",
        "\n",
        "a,b = fibonacci(f_l,-3,3,0.0001)\n",
        "print(a,b,f_l(a),f_l(b))"
      ],
      "metadata": {
        "colab": {
          "base_uri": "https://localhost:8080/"
        },
        "id": "R9wK7ffkXW7k",
        "outputId": "b238de75-b94c-4fa6-a929-3ef4c26dbb12"
      },
      "execution_count": 68,
      "outputs": [
        {
          "output_type": "stream",
          "name": "stdout",
          "text": [
            "-6.472910868008983e-05 2.892151664447166e-05 1.8687723259307094e-16 8.01170249723601e-18\n"
          ]
        }
      ]
    },
    {
      "cell_type": "code",
      "source": [
        "# funcion exponencial\n",
        "\n",
        "a,b = fibonacci(f_e,-3,3,0.0001)\n",
        "print(a,b,f_e(a),f_e(b))"
      ],
      "metadata": {
        "colab": {
          "base_uri": "https://localhost:8080/"
        },
        "id": "NxbFtGi9Xz9Y",
        "outputId": "09fd7140-beb9-496b-fff6-746500ad48e8"
      },
      "execution_count": 69,
      "outputs": [
        {
          "output_type": "stream",
          "name": "stdout",
          "text": [
            "-6.472910868008983e-05 2.892151664447166e-05 -10.645988638366816 -9.450651388169906\n"
          ]
        }
      ]
    }
  ]
}