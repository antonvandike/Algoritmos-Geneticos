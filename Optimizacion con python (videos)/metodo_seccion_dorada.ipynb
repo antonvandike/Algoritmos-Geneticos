{
  "nbformat": 4,
  "nbformat_minor": 0,
  "metadata": {
    "colab": {
      "provenance": [],
      "authorship_tag": "ABX9TyPyWztahIIYh1n5La+kYvWf",
      "include_colab_link": true
    },
    "kernelspec": {
      "name": "python3",
      "display_name": "Python 3"
    },
    "language_info": {
      "name": "python"
    }
  },
  "cells": [
    {
      "cell_type": "markdown",
      "metadata": {
        "id": "view-in-github",
        "colab_type": "text"
      },
      "source": [
        "<a href=\"https://colab.research.google.com/github/luisantoniourbanaviles/Algoritmos-Geneticos/blob/main/Optimizacion%20con%20python%20(videos)/metodo_seccion_dorada.ipynb\" target=\"_parent\"><img src=\"https://colab.research.google.com/assets/colab-badge.svg\" alt=\"Open In Colab\"/></a>"
      ]
    },
    {
      "cell_type": "markdown",
      "source": [
        "# Metodo de búsqueda de la seccion dorada\n"
      ],
      "metadata": {
        "id": "4R2qi79XVDub"
      }
    },
    {
      "cell_type": "markdown",
      "source": [
        "## Funcion del video"
      ],
      "metadata": {
        "id": "4DYplVMfVIt6"
      }
    },
    {
      "cell_type": "code",
      "execution_count": 22,
      "metadata": {
        "id": "YPaiaNl0C2p9"
      },
      "outputs": [],
      "source": [
        "def T(x):\n",
        "  f  = 10400/(x - 20) + 204165.5/(-2*x + 330)\n",
        "  return(f)"
      ]
    },
    {
      "cell_type": "markdown",
      "source": [
        "## Librerias a usar"
      ],
      "metadata": {
        "id": "el6eHrNLwoDo"
      }
    },
    {
      "cell_type": "code",
      "source": [
        "import numpy as np"
      ],
      "metadata": {
        "id": "d9GbnQk4D1Ov"
      },
      "execution_count": 23,
      "outputs": []
    },
    {
      "cell_type": "markdown",
      "source": [
        "## Método de la seccion dorada"
      ],
      "metadata": {
        "id": "oIiJrZ_jwq4A"
      }
    },
    {
      "cell_type": "code",
      "source": [
        "def seccion_dorada(f,a,b,e):\n",
        "  # Intervalo l\n",
        "  l=abs(b-a)\n",
        "\n",
        "  # Valor de T\n",
        "  T=2 - (1+(np.sqrt(5)))/2\n",
        "\n",
        "  while abs(f(a)-f(b))>0.0001:\n",
        "    # Puntos xi inciales\n",
        "\n",
        "    #x1=b-T*l;\n",
        "    x1 = a*(1-T) +b*T;\n",
        "\n",
        "    #x2=a+T*l;\n",
        "    x2 = a*T +b*(1-T)\n",
        "\n",
        "\n",
        "\n",
        "    if f(x1) > f(x2):\n",
        "      a=x1\n",
        "\n",
        "    else:\n",
        "      b=x2\n",
        "\n",
        "  return(a,b)"
      ],
      "metadata": {
        "id": "tjrmuooBG-if"
      },
      "execution_count": 24,
      "outputs": []
    },
    {
      "cell_type": "markdown",
      "source": [
        "## Prueba con la funcion del video"
      ],
      "metadata": {
        "id": "yHTR9FWWxIkL"
      }
    },
    {
      "cell_type": "code",
      "source": [
        "d,f = seccion_dorada(T,40,90,0.0001)\n",
        "print(d,f,T(d))"
      ],
      "metadata": {
        "colab": {
          "base_uri": "https://localhost:8080/"
        },
        "id": "yPygZ_Y-EMmO",
        "outputId": "d83a2ec1-f5fe-4787-d9ab-8c3664ee19f3"
      },
      "execution_count": 25,
      "outputs": [
        {
          "output_type": "stream",
          "name": "stdout",
          "text": [
            "55.055646377302814 55.11495844178492 1225.1658840053199\n"
          ]
        }
      ]
    },
    {
      "cell_type": "markdown",
      "source": [
        "## Funciones del articulo"
      ],
      "metadata": {
        "id": "njexs3Crxmox"
      }
    },
    {
      "cell_type": "code",
      "source": [
        "def f_p(x):\n",
        "  f  = -(x**6)/60 -(x**5)/50 + (x**4)/2 + 2*(x**3)/3 - 3.2*(x**2) -6.4*x\n",
        "  return(f)"
      ],
      "metadata": {
        "id": "kfrkDAWA50YK"
      },
      "execution_count": 26,
      "outputs": []
    },
    {
      "cell_type": "code",
      "source": [
        "def f_r(x):\n",
        "  f  = -((x**6) + (x**5) - 10*(x**2) - 10*x - 12)/((x**2)+6)\n",
        "  return(f)"
      ],
      "metadata": {
        "id": "h8I5gXR4OuLS"
      },
      "execution_count": 27,
      "outputs": []
    },
    {
      "cell_type": "code",
      "source": [
        "def f_i(x):\n",
        "  f  = 5 - np.sqrt((x**4) + 2*(x**3) - 3*(x**2) + 13)\n",
        "  return(f)"
      ],
      "metadata": {
        "id": "DyvVXZzEO9bI"
      },
      "execution_count": 28,
      "outputs": []
    },
    {
      "cell_type": "code",
      "source": [
        "def f_t(x):\n",
        "  f  = (np.sin(3*x+45)**2) + 0.9*(np.sin(9*x)**3) - np.sin(15*x + 50) - np.cos(2*x - 30)\n",
        "  return(f)"
      ],
      "metadata": {
        "id": "hz7Wo98HPB4p"
      },
      "execution_count": 29,
      "outputs": []
    },
    {
      "cell_type": "code",
      "source": [
        "def f_nrv(x):\n",
        "  f  = np.sin(2*np.pi*x)/x -np.cos(3*np.pi*x)/x\n",
        "  return(f)"
      ],
      "metadata": {
        "id": "dC6oboQwPFM5"
      },
      "execution_count": 30,
      "outputs": []
    },
    {
      "cell_type": "code",
      "source": [
        "def f_nrh(x):\n",
        "  f  = (2*x-1)/(x**2)\n",
        "  return(f)"
      ],
      "metadata": {
        "id": "f5T_nwPDPIKK"
      },
      "execution_count": 31,
      "outputs": []
    },
    {
      "cell_type": "code",
      "source": [
        "def f_l(x):\n",
        "  f  = -(x**4)*(np.log(abs(x))-1)\n",
        "  return(f)"
      ],
      "metadata": {
        "id": "Ba6_x39oQlVZ"
      },
      "execution_count": 32,
      "outputs": []
    },
    {
      "cell_type": "code",
      "source": [
        "def f_e(x):\n",
        "  f  = np.exp(-x)*(np.log(abs(x)) + x/abs(x))\n",
        "  return(f)"
      ],
      "metadata": {
        "id": "NT0losUbQnmw"
      },
      "execution_count": 33,
      "outputs": []
    },
    {
      "cell_type": "markdown",
      "source": [
        "## Uso del codigo"
      ],
      "metadata": {
        "id": "_zkXbSIuxvMK"
      }
    },
    {
      "cell_type": "code",
      "source": [
        "# funcion polinomial\n",
        "\n",
        "a,b = seccion_dorada(f_p,-5,5,0.0001)\n",
        "print(a,b,f_p(a),f_p(b))"
      ],
      "metadata": {
        "colab": {
          "base_uri": "https://localhost:8080/"
        },
        "id": "pW_4eL1IXDJj",
        "outputId": "72010510-8b27-44fa-e7c0-d4b1a3d6df99"
      },
      "execution_count": 34,
      "outputs": [
        {
          "output_type": "stream",
          "name": "stdout",
          "text": [
            "1.9979328016151312 2.0024638401529797 -13.973302576120673 -13.97328960775128\n"
          ]
        }
      ]
    },
    {
      "cell_type": "code",
      "source": [
        "# funcion racional\n",
        "\n",
        "a,b = seccion_dorada(f_r,-3,3,0.0001)\n",
        "print(a,b,f_r(a),f_r(b))"
      ],
      "metadata": {
        "colab": {
          "base_uri": "https://localhost:8080/"
        },
        "id": "0Bx_QMLAXDWI",
        "outputId": "89272101-2d16-4348-d133-e42a364df19b"
      },
      "execution_count": 35,
      "outputs": [
        {
          "output_type": "stream",
          "name": "stdout",
          "text": [
            "-0.5876039627239732 -0.568970242633122 1.5138238672988371 1.5138651671851027\n"
          ]
        }
      ]
    },
    {
      "cell_type": "code",
      "source": [
        "# funcion irracional\n",
        "\n",
        "a,b = seccion_dorada(f_i,-4,3,0.0001)\n",
        "print(a,b,f_i(a),f_i(b))"
      ],
      "metadata": {
        "colab": {
          "base_uri": "https://localhost:8080/"
        },
        "id": "GjwmCtbfXDjU",
        "outputId": "719c7547-bd5a-49c2-a3be-6d4fb8e5604c"
      },
      "execution_count": 36,
      "outputs": [
        {
          "output_type": "stream",
          "name": "stdout",
          "text": [
            "2.9999901498212194 3 -5.999935526217886 -6.0\n"
          ]
        }
      ]
    },
    {
      "cell_type": "code",
      "source": [
        "# funcion trigonometrica\n",
        "\n",
        "a,b = seccion_dorada(f_t,-4,4,0.0001)\n",
        "print(a,b,f_t(a),f_t(b))"
      ],
      "metadata": {
        "colab": {
          "base_uri": "https://localhost:8080/"
        },
        "id": "8LS88YC8XDrO",
        "outputId": "a41ff66e-0c9e-4c24-ba44-3f667615185d"
      },
      "execution_count": 37,
      "outputs": [
        {
          "output_type": "stream",
          "name": "stdout",
          "text": [
            "-0.2770828175587958 -0.27484254890221516 -1.7725850926499471 -1.7726227839448507\n"
          ]
        }
      ]
    },
    {
      "cell_type": "code",
      "source": [
        "# funcion racional no continua con asintota vertical\n",
        "\n",
        "a,b = seccion_dorada(f_nrv,-4,4,0.0001)\n",
        "print(a,b,f_nrv(a),f_nrv(b))"
      ],
      "metadata": {
        "colab": {
          "base_uri": "https://localhost:8080/"
        },
        "id": "UuYlP64UXDzR",
        "outputId": "459f44e7-1d99-4eb6-d54e-1a2b6d338aed"
      },
      "execution_count": 38,
      "outputs": [
        {
          "output_type": "stream",
          "name": "stdout",
          "text": [
            "-0.9171866812214431 -0.9135618503911644 -1.3167783345846644 -1.3167295062549915\n"
          ]
        }
      ]
    },
    {
      "cell_type": "code",
      "source": [
        "# funcion racional no continua con asintota horizontal\n",
        "\n",
        "a,b = seccion_dorada(f_nrh,-4,4,0.0001)\n",
        "print(a,b,f_nrh(a),f_nrh(b))"
      ],
      "metadata": {
        "colab": {
          "base_uri": "https://localhost:8080/"
        },
        "id": "w3TjTlY3XD6G",
        "outputId": "c8302b34-378e-4ed1-db38-660ab30af6b5"
      },
      "execution_count": 39,
      "outputs": [
        {
          "output_type": "stream",
          "name": "stdout",
          "text": [
            "-7.45834073120021e-155 -7.458340731200208e-155 -1.7976931348623143e+308 -1.7976931348623143e+308\n"
          ]
        },
        {
          "output_type": "stream",
          "name": "stderr",
          "text": [
            "<ipython-input-31-9f21f8aceb5b>:2: RuntimeWarning: overflow encountered in double_scalars\n",
            "  f  = (2*x-1)/(x**2)\n"
          ]
        }
      ]
    },
    {
      "cell_type": "code",
      "source": [
        "# funcion logaritmica\n",
        "\n",
        "a,b = seccion_dorada(f_l,-3,3,0.0001)\n",
        "print(a,b,f_l(a),f_l(b))"
      ],
      "metadata": {
        "colab": {
          "base_uri": "https://localhost:8080/"
        },
        "id": "R9wK7ffkXW7k",
        "outputId": "8eea5eed-8974-4cb0-996c-5d90b94842d3"
      },
      "execution_count": 40,
      "outputs": [
        {
          "output_type": "stream",
          "name": "stdout",
          "text": [
            "-3 3 -7.987595382116893 -7.987595382116893\n"
          ]
        }
      ]
    },
    {
      "cell_type": "code",
      "source": [
        "# funcion exponencial\n",
        "\n",
        "a,b = seccion_dorada(f_e,-3,3,0.0001)\n",
        "print(a,b,f_e(a),f_e(b))"
      ],
      "metadata": {
        "colab": {
          "base_uri": "https://localhost:8080/"
        },
        "id": "NxbFtGi9Xz9Y",
        "outputId": "c1ef3619-1e43-4375-a27c-2651af7e4d08"
      },
      "execution_count": 41,
      "outputs": [
        {
          "output_type": "stream",
          "name": "stdout",
          "text": [
            "-2e-323 -2e-323 -744.0537775602613 -744.0537775602613\n"
          ]
        }
      ]
    }
  ]
}