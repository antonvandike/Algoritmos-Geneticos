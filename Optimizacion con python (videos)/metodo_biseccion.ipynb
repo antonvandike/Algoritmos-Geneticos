{
  "nbformat": 4,
  "nbformat_minor": 0,
  "metadata": {
    "colab": {
      "provenance": [],
      "authorship_tag": "ABX9TyNgWQCXza0KUW5Mt1ThKhsC",
      "include_colab_link": true
    },
    "kernelspec": {
      "name": "python3",
      "display_name": "Python 3"
    },
    "language_info": {
      "name": "python"
    }
  },
  "cells": [
    {
      "cell_type": "markdown",
      "metadata": {
        "id": "view-in-github",
        "colab_type": "text"
      },
      "source": [
        "<a href=\"https://colab.research.google.com/github/luisantoniourbanaviles/Algoritmos-Geneticos/blob/main/Optimizacion%20con%20python%20(videos)/metodo_biseccion.ipynb\" target=\"_parent\"><img src=\"https://colab.research.google.com/assets/colab-badge.svg\" alt=\"Open In Colab\"/></a>"
      ]
    },
    {
      "cell_type": "markdown",
      "source": [
        "# Metodo de biseccion\n"
      ],
      "metadata": {
        "id": "4R2qi79XVDub"
      }
    },
    {
      "cell_type": "markdown",
      "source": [
        "## Funcion del video"
      ],
      "metadata": {
        "id": "4DYplVMfVIt6"
      }
    },
    {
      "cell_type": "code",
      "source": [
        "def T(x):\n",
        "  f  = 10400/(x - 20) + 204165.5/(-2*x + 330)\n",
        "  return(f)"
      ],
      "metadata": {
        "id": "d58x-uzg8_jI"
      },
      "execution_count": null,
      "outputs": []
    },
    {
      "cell_type": "markdown",
      "source": [
        "## Librerias a usar"
      ],
      "metadata": {
        "id": "W3oMDARtVTxO"
      }
    },
    {
      "cell_type": "code",
      "source": [
        "import numpy as np"
      ],
      "metadata": {
        "id": "gPWhDSVt8LtI"
      },
      "execution_count": null,
      "outputs": []
    },
    {
      "cell_type": "markdown",
      "source": [
        "## Codigo de biseccion"
      ],
      "metadata": {
        "id": "hgrhw_00VcWW"
      }
    },
    {
      "cell_type": "code",
      "source": [
        "def biseccion(f,a,b,e):\n",
        "  h=0.0001\n",
        "  while derivada_1(f,a,h)>e:\n",
        "    alpha = (a+b)/2\n",
        "\n",
        "    D_a = derivada_1(f,a,h)\n",
        "    D_alpha = derivada_1(f,alpha,h)\n",
        "\n",
        "    if D_a*D_alpha<0:\n",
        "      b=alpha\n",
        "\n",
        "    else:\n",
        "      a=alpha\n",
        "\n",
        "  return(a,b)\n"
      ],
      "metadata": {
        "id": "7V2hDJUJ6h-x"
      },
      "execution_count": null,
      "outputs": []
    },
    {
      "cell_type": "markdown",
      "source": [
        "## Diferencias finitas"
      ],
      "metadata": {
        "id": "5-4hkNAUVi6j"
      }
    },
    {
      "cell_type": "code",
      "execution_count": null,
      "metadata": {
        "id": "2yJBunfA5bGc"
      },
      "outputs": [],
      "source": [
        "def df(f,x,h,A):\n",
        "  P=[-2,-1,1,2] # Parametros que van dentro de la funcion\n",
        "  F=[1,-8,8,-1] # Parametros que multiplican a la funcion evaluada\n",
        "\n",
        "  df = 0\n",
        "  for k in range(len(P)):\n",
        "    df = df + F[k]*f(x+P[k]*h*A)\n",
        "\n",
        "  df = (1/(12*h))*df\n",
        "  return(df)"
      ]
    },
    {
      "cell_type": "markdown",
      "source": [
        "## Primer Derivada\n"
      ],
      "metadata": {
        "id": "GbQwfR5YVlAQ"
      }
    },
    {
      "cell_type": "code",
      "source": [
        "def derivada_1(f,x,h):\n",
        "  D = df(f,x,h,1)\n",
        "  return(D)"
      ],
      "metadata": {
        "id": "H9_cNIcb5rDC"
      },
      "execution_count": null,
      "outputs": []
    },
    {
      "cell_type": "markdown",
      "source": [
        "## Funciones del articulo"
      ],
      "metadata": {
        "id": "K1f7xub2WMFV"
      }
    },
    {
      "cell_type": "code",
      "source": [
        "def f_p(x):\n",
        "  f  = -(x**6)/60 -(x**5)/50 + (x**4)/2 + 2*(x**3)/3 - 3.2*(x**2) -6.4*x\n",
        "  return(f)"
      ],
      "metadata": {
        "id": "kfrkDAWA50YK"
      },
      "execution_count": null,
      "outputs": []
    },
    {
      "cell_type": "code",
      "source": [
        "def f_r(x):\n",
        "  f  = -((x**6) + (x**5) - 10*(x**2) - 10*x - 12)/((x**2)+6)\n",
        "  return(f)"
      ],
      "metadata": {
        "id": "h8I5gXR4OuLS"
      },
      "execution_count": null,
      "outputs": []
    },
    {
      "cell_type": "code",
      "source": [
        "def f_i(x):\n",
        "  f  = 5 - np.sqrt((x**4) + 2*(x**3) - 3*(x**2) + 13)\n",
        "  return(f)"
      ],
      "metadata": {
        "id": "DyvVXZzEO9bI"
      },
      "execution_count": null,
      "outputs": []
    },
    {
      "cell_type": "code",
      "source": [
        "def f_t(x):\n",
        "  f  = (np.sin(3*x+45)**2) + 0.9*(np.sin(9*x)**3) - np.sin(15*x + 50) - np.cos(2*x - 30)\n",
        "  return(f)"
      ],
      "metadata": {
        "id": "hz7Wo98HPB4p"
      },
      "execution_count": null,
      "outputs": []
    },
    {
      "cell_type": "code",
      "source": [
        "def f_nrv(x):\n",
        "  f  = np.sin(2*np.pi*x)/x -np.cos(3*np.pi*x)/x\n",
        "  return(f)"
      ],
      "metadata": {
        "id": "dC6oboQwPFM5"
      },
      "execution_count": null,
      "outputs": []
    },
    {
      "cell_type": "code",
      "source": [
        "def f_nrh(x):\n",
        "  f  = (2*x-1)/(x**2)\n",
        "  return(f)"
      ],
      "metadata": {
        "id": "f5T_nwPDPIKK"
      },
      "execution_count": null,
      "outputs": []
    },
    {
      "cell_type": "code",
      "source": [
        "def f_l(x):\n",
        "  f  = -(x**4)*(np.log(abs(x))-1)\n",
        "  return(f)"
      ],
      "metadata": {
        "id": "Ba6_x39oQlVZ"
      },
      "execution_count": null,
      "outputs": []
    },
    {
      "cell_type": "code",
      "source": [
        "def f_e(x):\n",
        "  f  = np.exp(-x)*(np.log(abs(x)) + x/abs(x))\n",
        "  return(f)"
      ],
      "metadata": {
        "id": "NT0losUbQnmw"
      },
      "execution_count": null,
      "outputs": []
    },
    {
      "cell_type": "markdown",
      "source": [
        "## Uso del codigo"
      ],
      "metadata": {
        "id": "1OYZAEk6Wtb7"
      }
    },
    {
      "cell_type": "code",
      "source": [
        "# funcion polinomial\n",
        "\n",
        "a,b = biseccion(f_p,-5,5,0.0001)\n",
        "print(a,b,f_p(a),f_p(b))"
      ],
      "metadata": {
        "colab": {
          "base_uri": "https://localhost:8080/"
        },
        "id": "pW_4eL1IXDJj",
        "outputId": "2035a80b-9c2e-47f4-83ad-766d575b6a9a"
      },
      "execution_count": null,
      "outputs": [
        {
          "output_type": "stream",
          "name": "stdout",
          "text": [
            "-4.000000953674316 -3.9999961853027344 11.946666666653563 11.946666666457112\n"
          ]
        }
      ]
    },
    {
      "cell_type": "code",
      "source": [
        "# funcion racional\n",
        "\n",
        "a,b = biseccion(f_r,-3,3,0.0001)\n",
        "print(a,b,f_r(a),f_r(b))"
      ],
      "metadata": {
        "colab": {
          "base_uri": "https://localhost:8080/"
        },
        "id": "0Bx_QMLAXDWI",
        "outputId": "229b8228-9745-4e07-88a3-2a9b09aeeff3"
      },
      "execution_count": null,
      "outputs": [
        {
          "output_type": "stream",
          "name": "stdout",
          "text": [
            "1.1765785217285156 1.1765899658203125 4.428487621943701 4.428487621253146\n"
          ]
        }
      ]
    },
    {
      "cell_type": "code",
      "source": [
        "# funcion irracional\n",
        "\n",
        "a,b = biseccion(f_i,-4,3,0.0001)\n",
        "print(a,b,f_i(a),f_i(b))"
      ],
      "metadata": {
        "colab": {
          "base_uri": "https://localhost:8080/"
        },
        "id": "GjwmCtbfXDjU",
        "outputId": "c4979c0b-fab6-435e-e2a6-bcfab7f0146c"
      },
      "execution_count": null,
      "outputs": [
        {
          "output_type": "stream",
          "name": "stdout",
          "text": [
            "-2.1861467361450195 -2.1861400604248047 4.220789007250886 4.220789007545326\n"
          ]
        }
      ]
    },
    {
      "cell_type": "code",
      "source": [
        "# funcion trigonometrica\n",
        "\n",
        "a,b = biseccion(f_t,-4,4,0.0001)\n",
        "print(a,b,f_t(a),f_t(b))"
      ],
      "metadata": {
        "colab": {
          "base_uri": "https://localhost:8080/"
        },
        "id": "8LS88YC8XDrO",
        "outputId": "ade21176-d62b-4470-eecc-6f804131ef3d"
      },
      "execution_count": null,
      "outputs": [
        {
          "output_type": "stream",
          "name": "stdout",
          "text": [
            "-0.9611930847167969 -0.9611892700195312 0.5880383378086302 0.5880383361091892\n"
          ]
        }
      ]
    },
    {
      "cell_type": "code",
      "source": [
        "# funcion racional no continua con asintota vertical\n",
        "\n",
        "a,b = biseccion(f_nrv,-4,4,0.0001)\n",
        "print(a,b,f_nrv(a),f_nrv(b))"
      ],
      "metadata": {
        "colab": {
          "base_uri": "https://localhost:8080/"
        },
        "id": "UuYlP64UXDzR",
        "outputId": "03dc6f14-e3c6-4699-beb4-feffc2c9010b"
      },
      "execution_count": null,
      "outputs": [
        {
          "output_type": "stream",
          "name": "stdout",
          "text": [
            "-4 4 0.24999999999999975 -0.2500000000000002\n"
          ]
        }
      ]
    },
    {
      "cell_type": "code",
      "source": [
        "# funcion racional no continua con asintota horizontal\n",
        "\n",
        "a,b = biseccion(f_nrh,-4,4,0.0001)\n",
        "print(a,b,f_nrh(a),f_nrh(b))"
      ],
      "metadata": {
        "colab": {
          "base_uri": "https://localhost:8080/"
        },
        "id": "w3TjTlY3XD6G",
        "outputId": "135e45ce-8425-4c60-9507-e01a21df268e"
      },
      "execution_count": null,
      "outputs": [
        {
          "output_type": "stream",
          "name": "stdout",
          "text": [
            "-4 4 -0.5625 0.4375\n"
          ]
        }
      ]
    },
    {
      "cell_type": "code",
      "source": [
        "# funcion logaritmica\n",
        "\n",
        "a,b = biseccion(f_l,-3,3,0.0001)\n",
        "print(a,b,f_l(a),f_l(b))"
      ],
      "metadata": {
        "colab": {
          "base_uri": "https://localhost:8080/"
        },
        "id": "R9wK7ffkXW7k",
        "outputId": "04eb4aaa-fc74-4a0b-8b3e-2c07602a304e"
      },
      "execution_count": null,
      "outputs": [
        {
          "output_type": "stream",
          "name": "stdout",
          "text": [
            "0.0 3 nan -7.987595382116893\n"
          ]
        },
        {
          "output_type": "stream",
          "name": "stderr",
          "text": [
            "<ipython-input-107-c24ae73bb175>:2: RuntimeWarning: divide by zero encountered in log\n",
            "  f  = -(x**4)*(np.log(abs(x))-1)\n",
            "<ipython-input-107-c24ae73bb175>:2: RuntimeWarning: invalid value encountered in double_scalars\n",
            "  f  = -(x**4)*(np.log(abs(x))-1)\n"
          ]
        }
      ]
    },
    {
      "cell_type": "code",
      "source": [
        "# funcion exponencial\n",
        "\n",
        "a,b = biseccion(f_e,-3,3,0.0001)\n",
        "print(a,b,f_e(a),f_e(b))"
      ],
      "metadata": {
        "colab": {
          "base_uri": "https://localhost:8080/"
        },
        "id": "NxbFtGi9Xz9Y",
        "outputId": "e4beac7f-0772-4bb6-bc61-2f003e8bea6b"
      },
      "execution_count": null,
      "outputs": [
        {
          "output_type": "stream",
          "name": "stdout",
          "text": [
            "-3 3 1.9806807651233598 0.10448375349355862\n"
          ]
        }
      ]
    }
  ]
}