{
  "nbformat": 4,
  "nbformat_minor": 0,
  "metadata": {
    "colab": {
      "provenance": [],
      "authorship_tag": "ABX9TyPLFUmso8OvgBXq6QUN5G+u",
      "include_colab_link": true
    },
    "kernelspec": {
      "name": "python3",
      "display_name": "Python 3"
    },
    "language_info": {
      "name": "python"
    }
  },
  "cells": [
    {
      "cell_type": "markdown",
      "metadata": {
        "id": "view-in-github",
        "colab_type": "text"
      },
      "source": [
        "<a href=\"https://colab.research.google.com/github/luisantoniourbanaviles/Algoritmos-Geneticos/blob/main/Optimizacion%20con%20python%20(videos)/metodo_secante.ipynb\" target=\"_parent\"><img src=\"https://colab.research.google.com/assets/colab-badge.svg\" alt=\"Open In Colab\"/></a>"
      ]
    },
    {
      "cell_type": "markdown",
      "source": [
        "# Metodo de la secante\n"
      ],
      "metadata": {
        "id": "4R2qi79XVDub"
      }
    },
    {
      "cell_type": "markdown",
      "source": [
        "## Funcion del video"
      ],
      "metadata": {
        "id": "4DYplVMfVIt6"
      }
    },
    {
      "cell_type": "code",
      "execution_count": 56,
      "metadata": {
        "id": "YPaiaNl0C2p9"
      },
      "outputs": [],
      "source": [
        "def T(x):\n",
        "  f  = 10400/(x - 20) + 204165.5/(-2*x + 330)\n",
        "  return(f)"
      ]
    },
    {
      "cell_type": "markdown",
      "source": [
        "## Librerias a usar"
      ],
      "metadata": {
        "id": "el6eHrNLwoDo"
      }
    },
    {
      "cell_type": "code",
      "source": [
        "import numpy as np"
      ],
      "metadata": {
        "id": "d9GbnQk4D1Ov"
      },
      "execution_count": 57,
      "outputs": []
    },
    {
      "cell_type": "markdown",
      "source": [
        "## Método de la secante"
      ],
      "metadata": {
        "id": "oIiJrZ_jwq4A"
      }
    },
    {
      "cell_type": "code",
      "source": [
        "def secante(f,a,b,e):\n",
        "  h=0.0001\n",
        "\n",
        "  while abs(derivada_1(f,a,h))>e:\n",
        "    # f'(a),f'(b)\n",
        "    D_a = derivada_1(f,a,h)\n",
        "    D_b = derivada_1(f,b,h)\n",
        "\n",
        "    #Calculo de alpha\n",
        "    alpha = b - D_b/((D_b-D_a)/(b-a))\n",
        "\n",
        "    D_alpha = derivada_1(f,alpha,h)\n",
        "\n",
        "    if D_alpha > 0:\n",
        "      b=alpha\n",
        "\n",
        "    else:\n",
        "      a=alpha\n",
        "  return(a,b)"
      ],
      "metadata": {
        "id": "PtYyMKMmD_yl"
      },
      "execution_count": 58,
      "outputs": []
    },
    {
      "cell_type": "markdown",
      "source": [
        "## Diferencias finitas"
      ],
      "metadata": {
        "id": "5-4hkNAUVi6j"
      }
    },
    {
      "cell_type": "code",
      "execution_count": 59,
      "metadata": {
        "id": "2yJBunfA5bGc"
      },
      "outputs": [],
      "source": [
        "def df(f,x,h,A):\n",
        "  P=[-2,-1,1,2] # Parametros que van dentro de la funcion\n",
        "  F=[1,-8,8,-1] # Parametros que multiplican a la funcion evaluada\n",
        "\n",
        "  df = 0\n",
        "  for k in range(len(P)):\n",
        "    df = df + F[k]*f(x+P[k]*h*A)\n",
        "\n",
        "  df = (1/(12*h))*df\n",
        "  return(df)"
      ]
    },
    {
      "cell_type": "markdown",
      "source": [
        "## Primer Derivada\n"
      ],
      "metadata": {
        "id": "GbQwfR5YVlAQ"
      }
    },
    {
      "cell_type": "code",
      "source": [
        "def derivada_1(f,x,h):\n",
        "  D = df(f,x,h,1)\n",
        "  return(D)"
      ],
      "metadata": {
        "id": "H9_cNIcb5rDC"
      },
      "execution_count": 60,
      "outputs": []
    },
    {
      "cell_type": "markdown",
      "source": [
        "## Prueba con la funcion del video"
      ],
      "metadata": {
        "id": "yHTR9FWWxIkL"
      }
    },
    {
      "cell_type": "code",
      "source": [
        "d,f = secante(T,40,90,0.0001)\n",
        "print(d,f,T(d))"
      ],
      "metadata": {
        "colab": {
          "base_uri": "https://localhost:8080/"
        },
        "id": "yPygZ_Y-EMmO",
        "outputId": "8f7abe60-4c5c-4092-e654-1ef01bf84a1e"
      },
      "execution_count": 61,
      "outputs": [
        {
          "output_type": "stream",
          "name": "stdout",
          "text": [
            "55.083528608319355 55.08352860890661 1225.165636879001\n"
          ]
        }
      ]
    },
    {
      "cell_type": "markdown",
      "source": [
        "## Funciones del articulo"
      ],
      "metadata": {
        "id": "njexs3Crxmox"
      }
    },
    {
      "cell_type": "code",
      "source": [
        "def f_p(x):\n",
        "  f  = -(x**6)/60 -(x**5)/50 + (x**4)/2 + 2*(x**3)/3 - 3.2*(x**2) -6.4*x\n",
        "  return(f)"
      ],
      "metadata": {
        "id": "kfrkDAWA50YK"
      },
      "execution_count": 62,
      "outputs": []
    },
    {
      "cell_type": "code",
      "source": [
        "def f_r(x):\n",
        "  f  = -((x**6) + (x**5) - 10*(x**2) - 10*x - 12)/((x**2)+6)\n",
        "  return(f)"
      ],
      "metadata": {
        "id": "h8I5gXR4OuLS"
      },
      "execution_count": 63,
      "outputs": []
    },
    {
      "cell_type": "code",
      "source": [
        "def f_i(x):\n",
        "  f  = 5 - np.sqrt((x**4) + 2*(x**3) - 3*(x**2) + 13)\n",
        "  return(f)"
      ],
      "metadata": {
        "id": "DyvVXZzEO9bI"
      },
      "execution_count": 64,
      "outputs": []
    },
    {
      "cell_type": "code",
      "source": [
        "def f_t(x):\n",
        "  f  = (np.sin(3*x+45)**2) + 0.9*(np.sin(9*x)**3) - np.sin(15*x + 50) - np.cos(2*x - 30)\n",
        "  return(f)"
      ],
      "metadata": {
        "id": "hz7Wo98HPB4p"
      },
      "execution_count": 65,
      "outputs": []
    },
    {
      "cell_type": "code",
      "source": [
        "def f_nrv(x):\n",
        "  f  = np.sin(2*np.pi*x)/x -np.cos(3*np.pi*x)/x\n",
        "  return(f)"
      ],
      "metadata": {
        "id": "dC6oboQwPFM5"
      },
      "execution_count": 66,
      "outputs": []
    },
    {
      "cell_type": "code",
      "source": [
        "def f_nrh(x):\n",
        "  f  = (2*x-1)/(x**2)\n",
        "  return(f)"
      ],
      "metadata": {
        "id": "f5T_nwPDPIKK"
      },
      "execution_count": 67,
      "outputs": []
    },
    {
      "cell_type": "code",
      "source": [
        "def f_l(x):\n",
        "  f  = -(x**4)*(np.log(abs(x))-1)\n",
        "  return(f)"
      ],
      "metadata": {
        "id": "Ba6_x39oQlVZ"
      },
      "execution_count": 68,
      "outputs": []
    },
    {
      "cell_type": "code",
      "source": [
        "def f_e(x):\n",
        "  f  = np.exp(-x)*(np.log(abs(x)) + x/abs(x))\n",
        "  return(f)"
      ],
      "metadata": {
        "id": "NT0losUbQnmw"
      },
      "execution_count": 69,
      "outputs": []
    },
    {
      "cell_type": "markdown",
      "source": [
        "## Uso del codigo"
      ],
      "metadata": {
        "id": "_zkXbSIuxvMK"
      }
    },
    {
      "cell_type": "code",
      "source": [
        "# funcion polinomial\n",
        "\n",
        "a,b = secante(f_p,-5,5,0.0001)\n",
        "print(a,b,f_p(a),f_p(b))"
      ],
      "metadata": {
        "colab": {
          "base_uri": "https://localhost:8080/"
        },
        "id": "pW_4eL1IXDJj",
        "outputId": "d11e7506-d4cb-4b56-9121-edc6e3521fc5"
      },
      "execution_count": 70,
      "outputs": [
        {
          "output_type": "stream",
          "name": "stdout",
          "text": [
            "-0.9999999999997972 -1.0000000000000517 3.036666666666666 3.036666666666667\n"
          ]
        }
      ]
    },
    {
      "cell_type": "code",
      "source": [
        "# funcion racional\n",
        "\n",
        "a,b = secante(f_r,-3,3,0.0001)\n",
        "print(a,b,f_r(a),f_r(b))"
      ],
      "metadata": {
        "colab": {
          "base_uri": "https://localhost:8080/"
        },
        "id": "0Bx_QMLAXDWI",
        "outputId": "8f30b190-8521-407e-8b2b-98758b3bdbf0"
      },
      "execution_count": 71,
      "outputs": [
        {
          "output_type": "stream",
          "name": "stdout",
          "text": [
            "-1.3884461600653175 3 1.9411485913983122 -56.0\n"
          ]
        }
      ]
    },
    {
      "cell_type": "code",
      "source": [
        "# funcion irracional\n",
        "\n",
        "a,b = secante(f_i,-4,3,0.0001)\n",
        "print(a,b,f_i(a),f_i(b))"
      ],
      "metadata": {
        "colab": {
          "base_uri": "https://localhost:8080/"
        },
        "id": "GjwmCtbfXDjU",
        "outputId": "05d4147a-9b2b-4833-d937-c22c04912690"
      },
      "execution_count": 72,
      "outputs": [
        {
          "output_type": "stream",
          "name": "stdout",
          "text": [
            "-2.186138750997962 -2.186579425576153 4.220789007518823 4.220787455826789\n"
          ]
        }
      ]
    },
    {
      "cell_type": "code",
      "source": [
        "# funcion trigonometrica\n",
        "\n",
        "a,b = secante(f_t,-4,4,0.0001)\n",
        "print(a,b,f_t(a),f_t(b))"
      ],
      "metadata": {
        "colab": {
          "base_uri": "https://localhost:8080/"
        },
        "id": "8LS88YC8XDrO",
        "outputId": "82cdd30f-60e0-4a09-8e07-8234af226237"
      },
      "execution_count": 73,
      "outputs": [
        {
          "output_type": "stream",
          "name": "stdout",
          "text": [
            "-17.00559876715407 -16.948008400316652 -1.5031572036664294 -1.1849586739842393\n"
          ]
        }
      ]
    },
    {
      "cell_type": "code",
      "source": [
        "# funcion racional no continua con asintota vertical\n",
        "\n",
        "a,b = secante(f_nrv,-4,4,0.0001)\n",
        "print(a,b,f_nrv(a),f_nrv(b))"
      ],
      "metadata": {
        "colab": {
          "base_uri": "https://localhost:8080/"
        },
        "id": "UuYlP64UXDzR",
        "outputId": "e9af47e3-2b0a-4285-bc53-6cf248ddf7f2"
      },
      "execution_count": 74,
      "outputs": [
        {
          "output_type": "stream",
          "name": "stdout",
          "text": [
            "-3.6878991062499473 -3.6566714518449817 -0.5165219342976016 -0.5000460420296684\n"
          ]
        }
      ]
    },
    {
      "cell_type": "code",
      "source": [
        "# funcion racional no continua con asintota horizontal\n",
        "\n",
        "a,b = secante(f_nrh,-4,4,0.0001)\n",
        "print(a,b,f_nrh(a),f_nrh(b))"
      ],
      "metadata": {
        "colab": {
          "base_uri": "https://localhost:8080/"
        },
        "id": "w3TjTlY3XD6G",
        "outputId": "b87066d3-03f2-4eee-a0fd-f529c2c01d28"
      },
      "execution_count": 75,
      "outputs": [
        {
          "output_type": "stream",
          "name": "stdout",
          "text": [
            "140.96391741660105 4 0.014137702913974067 0.4375\n"
          ]
        }
      ]
    },
    {
      "cell_type": "code",
      "source": [
        "# funcion logaritmica\n",
        "\n",
        "a,b = secante(f_l,-3,3,0.0001)\n",
        "print(a,b,f_l(a),f_l(b))"
      ],
      "metadata": {
        "colab": {
          "base_uri": "https://localhost:8080/"
        },
        "id": "R9wK7ffkXW7k",
        "outputId": "97972563-f833-4360-98a8-64a7588062bb"
      },
      "execution_count": 76,
      "outputs": [
        {
          "output_type": "stream",
          "name": "stdout",
          "text": [
            "-5.950795411990839e-14 3 3.9441874491479174e-52 -7.987595382116893\n"
          ]
        }
      ]
    },
    {
      "cell_type": "code",
      "source": [
        "# funcion exponencial\n",
        "\n",
        "a,b = secante(f_e,-3,3,0.0001)\n",
        "print(a,b,f_e(a),f_e(b))"
      ],
      "metadata": {
        "colab": {
          "base_uri": "https://localhost:8080/"
        },
        "id": "NxbFtGi9Xz9Y",
        "outputId": "d1009cae-930b-4d30-ad36-2eae7ac5d5fe"
      },
      "execution_count": 77,
      "outputs": [
        {
          "output_type": "stream",
          "name": "stdout",
          "text": [
            "10.394932638763027 3 0.0001022011971148081 0.10448375349355862\n"
          ]
        }
      ]
    }
  ]
}