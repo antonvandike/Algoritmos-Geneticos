{
  "nbformat": 4,
  "nbformat_minor": 0,
  "metadata": {
    "colab": {
      "provenance": [],
      "authorship_tag": "ABX9TyNLK+5kYykSku7GQrb5Mdvs",
      "include_colab_link": true
    },
    "kernelspec": {
      "name": "python3",
      "display_name": "Python 3"
    },
    "language_info": {
      "name": "python"
    }
  },
  "cells": [
    {
      "cell_type": "markdown",
      "metadata": {
        "id": "view-in-github",
        "colab_type": "text"
      },
      "source": [
        "<a href=\"https://colab.research.google.com/github/luisantoniourbanaviles/Algoritmos-Geneticos/blob/main/Algoritmo%20genetico%20(primeros%20intentos)/AG_forzado.ipynb\" target=\"_parent\"><img src=\"https://colab.research.google.com/assets/colab-badge.svg\" alt=\"Open In Colab\"/></a>"
      ]
    },
    {
      "cell_type": "markdown",
      "source": [
        "###Algoritmo Genetico Simple\n",
        "\n",
        "\n"
      ],
      "metadata": {
        "id": "bdXhTcuxOnC3"
      }
    },
    {
      "cell_type": "code",
      "source": [
        "int('101',2)"
      ],
      "metadata": {
        "colab": {
          "base_uri": "https://localhost:8080/"
        },
        "id": "fxEiQuKjOtHp",
        "outputId": "9ad3ccf6-9130-4dbf-c965-279beedfed40"
      },
      "execution_count": null,
      "outputs": [
        {
          "output_type": "execute_result",
          "data": {
            "text/plain": [
              "5"
            ]
          },
          "metadata": {},
          "execution_count": 1
        }
      ]
    },
    {
      "cell_type": "code",
      "source": [
        "a='{:b}'.format(5)\n",
        "print(a)"
      ],
      "metadata": {
        "colab": {
          "base_uri": "https://localhost:8080/"
        },
        "id": "RwLReMxNPEA9",
        "outputId": "3b403e50-f9c3-4449-969b-297aa83e0599"
      },
      "execution_count": null,
      "outputs": [
        {
          "output_type": "stream",
          "name": "stdout",
          "text": [
            "101\n"
          ]
        }
      ]
    },
    {
      "cell_type": "code",
      "source": [
        "len(a)"
      ],
      "metadata": {
        "colab": {
          "base_uri": "https://localhost:8080/"
        },
        "id": "rZ3kr0bmOZMv",
        "outputId": "dad88e34-9c85-4a43-bea2-6324452db1ed"
      },
      "execution_count": null,
      "outputs": [
        {
          "output_type": "execute_result",
          "data": {
            "text/plain": [
              "3"
            ]
          },
          "metadata": {},
          "execution_count": 49
        }
      ]
    },
    {
      "cell_type": "code",
      "source": [
        "int(a,2)"
      ],
      "metadata": {
        "colab": {
          "base_uri": "https://localhost:8080/"
        },
        "id": "qSua61n7oIFE",
        "outputId": "6bdb58d4-7ae6-4d6b-d916-24769f80c705"
      },
      "execution_count": null,
      "outputs": [
        {
          "output_type": "execute_result",
          "data": {
            "text/plain": [
              "5"
            ]
          },
          "metadata": {},
          "execution_count": 3
        }
      ]
    },
    {
      "cell_type": "code",
      "source": [
        "def f1(x):\n",
        "  f = 12*(x**5) - 975*(x**4) + 28000*(x**3) - 345000*(x**2) + 1800000*x\n",
        "  return(f)"
      ],
      "metadata": {
        "id": "SdnZBzK_ld5P"
      },
      "execution_count": null,
      "outputs": []
    },
    {
      "cell_type": "code",
      "source": [
        "import random as rd"
      ],
      "metadata": {
        "id": "BaI0KWhxmcGS"
      },
      "execution_count": null,
      "outputs": []
    },
    {
      "cell_type": "code",
      "source": [
        "f1(20)"
      ],
      "metadata": {
        "colab": {
          "base_uri": "https://localhost:8080/"
        },
        "id": "uwwVCM6jlyXA",
        "outputId": "31dc62f9-453c-4ed0-db97-9ee88b178fb1"
      },
      "execution_count": null,
      "outputs": [
        {
          "output_type": "execute_result",
          "data": {
            "text/plain": [
              "4400000"
            ]
          },
          "metadata": {},
          "execution_count": 6
        }
      ]
    },
    {
      "cell_type": "code",
      "source": [
        "pob_i = []\n",
        "n=10\n",
        "for x in range(10):\n",
        "  pob_i.append(rd.randint(0,31))\n",
        "\n",
        "print(pob_i)"
      ],
      "metadata": {
        "colab": {
          "base_uri": "https://localhost:8080/"
        },
        "id": "pxQZCQh9mYmX",
        "outputId": "6af433f2-d929-45ff-95a2-3b290508d775"
      },
      "execution_count": null,
      "outputs": [
        {
          "output_type": "stream",
          "name": "stdout",
          "text": [
            "[27, 14, 18, 10, 17, 16, 13, 26, 1, 28]\n"
          ]
        }
      ]
    },
    {
      "cell_type": "code",
      "source": [],
      "metadata": {
        "id": "shNHB6JSNVc0"
      },
      "execution_count": null,
      "outputs": []
    },
    {
      "cell_type": "code",
      "source": [
        "\n",
        "cod    = []\n",
        "\n",
        "for x in range(n):\n",
        "  cod.append('{:b}'.format(pob_i[x]))\n",
        "\n",
        "print(cod)"
      ],
      "metadata": {
        "colab": {
          "base_uri": "https://localhost:8080/"
        },
        "id": "RYMJuG9Pm7N3",
        "outputId": "8afe3bcf-5aa5-41d4-e4ac-d54de48407f9"
      },
      "execution_count": null,
      "outputs": [
        {
          "output_type": "stream",
          "name": "stdout",
          "text": [
            "[2250909, 3410288, 4239216, 2950000, 4064309, 3853312, 3219541, 2732912, 1482037, 1810816]\n",
            "['11011', '1110', '10010', '1010', '10001', '10000', '1101', '11010', '1', '11100']\n"
          ]
        }
      ]
    },
    {
      "cell_type": "code",
      "source": [
        "a,b = rd.randint(0,9),rd.randint(0,9)\n",
        "print(a,b)"
      ],
      "metadata": {
        "colab": {
          "base_uri": "https://localhost:8080/"
        },
        "id": "IlP6mTSKNb0i",
        "outputId": "ada89830-bb7e-4c6b-82a8-d9e31df9f20d"
      },
      "execution_count": null,
      "outputs": [
        {
          "output_type": "stream",
          "name": "stdout",
          "text": [
            "8 3\n"
          ]
        }
      ]
    },
    {
      "cell_type": "code",
      "source": [
        "def completar(x,y):\n",
        "\n",
        "  if len(x)<len(y):\n",
        "\n",
        "    for s in range(len(y)-len(x)):\n",
        "      x = '0' + x\n",
        "\n",
        "\n",
        "  elif len(x)>len(y):\n",
        "\n",
        "    for s in range(len(x)-len(y)):\n",
        "      y = '0' + y\n",
        "\n",
        "\n",
        "  return(x,y)"
      ],
      "metadata": {
        "id": "lP5tj-PzN940"
      },
      "execution_count": null,
      "outputs": []
    },
    {
      "cell_type": "code",
      "source": [
        "def cruza(a,b):\n",
        "\n",
        "  q = rd.randint(1,n-1)\n",
        "  c_11 = a[0:q]\n",
        "  c_12 = a[q:]\n",
        "\n",
        "  c_21 = b[0:q]\n",
        "  c_22 = b[q:]\n",
        "\n",
        "  n_1 = c_11 + c_22\n",
        "  n_2 = c_21 + c_12\n",
        "\n",
        "\n",
        "  return(n_1,n_2)\n"
      ],
      "metadata": {
        "id": "rI1RuJ3vQ2EK"
      },
      "execution_count": null,
      "outputs": []
    },
    {
      "cell_type": "code",
      "source": [
        "def mutacion(a):\n",
        "\n",
        "\n",
        "  a_m = \"\"\n",
        "\n",
        "  for bit in a:\n",
        "\n",
        "    prob_m = rd.random()\n",
        "\n",
        "    if prob_m<0.05:\n",
        "      if bit == '0':\n",
        "        bit = '1'\n",
        "      else:\n",
        "        bit = '0'\n",
        "\n",
        "    a_m = a_m + bit\n",
        "\n",
        "\n",
        "  return(a_m)\n",
        "\n"
      ],
      "metadata": {
        "id": "O90DK17SU5S3"
      },
      "execution_count": null,
      "outputs": []
    },
    {
      "cell_type": "code",
      "source": [
        "mutacion(cod[4])"
      ],
      "metadata": {
        "colab": {
          "base_uri": "https://localhost:8080/"
        },
        "id": "8tHhL3gMWL2c",
        "outputId": "abffadc0-3730-4f42-aa55-458fa7d91b15"
      },
      "execution_count": null,
      "outputs": [
        {
          "output_type": "stream",
          "name": "stdout",
          "text": [
            "10001\n"
          ]
        }
      ]
    },
    {
      "cell_type": "code",
      "source": [
        "\n",
        "for x in range(0,n,2):\n",
        "  prob_c = rd.random()\n",
        "\n",
        "  if prob_c < 0.7:\n",
        "    print('cruza')\n",
        "    a,b = rd.randint(0,9),rd.randint(0,9)\n",
        "    p_1,p_2 = completar(cod[a],cod[b])\n",
        "\n",
        "    n_1,n_2 = cruza(p_1,p_2)\n",
        "    print(n_1)\n",
        "    print(n_2,'\\n')\n",
        "\n",
        "    n_1,n_2 = mutacion(n_1),mutacion(n_2)\n",
        "\n",
        "\n",
        "    print(n_1)\n",
        "    print(n_2,'\\n')\n",
        "\n",
        "    pob_i[x] = int(n_1,2)\n",
        "    pob_i[x+1] = int(n_2,2)\n",
        "\n",
        "  else:\n",
        "    print('no cruza')\n",
        "    a,b = rd.randint(0,9),rd.randint(0,9)\n",
        "    p_1,p_2 = completar(cod[a],cod[b])\n",
        "\n",
        "    n_1,n_2 = p_1,p_2\n",
        "\n",
        "    print(n_1)\n",
        "    print(n_2,'\\n')\n",
        "    pob_i[x] = int(n_1,2)\n",
        "    pob_i[x+1] = int(n_2,2)\n"
      ],
      "metadata": {
        "colab": {
          "base_uri": "https://localhost:8080/"
        },
        "id": "TLjM69brnr2y",
        "outputId": "eb89ed1a-d130-4c9f-9ee6-56024524ae04"
      },
      "execution_count": null,
      "outputs": [
        {
          "output_type": "stream",
          "name": "stdout",
          "text": [
            "cruza\n",
            "11010\n",
            "00010 \n",
            "\n",
            "11010\n",
            "00010 \n",
            "\n",
            "no cruza\n",
            "11100\n",
            "10010 \n",
            "\n",
            "no cruza\n",
            "00001\n",
            "10000 \n",
            "\n",
            "cruza\n",
            "01010\n",
            "10000 \n",
            "\n",
            "01010\n",
            "10010 \n",
            "\n",
            "cruza\n",
            "1101\n",
            "0001 \n",
            "\n",
            "1101\n",
            "0001 \n",
            "\n"
          ]
        }
      ]
    },
    {
      "cell_type": "code",
      "source": [
        "print(pob_i)"
      ],
      "metadata": {
        "colab": {
          "base_uri": "https://localhost:8080/"
        },
        "id": "TiYvvr13dDtX",
        "outputId": "7ee8b6a8-fd53-4f40-f92a-92b5a45745cb"
      },
      "execution_count": null,
      "outputs": [
        {
          "output_type": "stream",
          "name": "stdout",
          "text": [
            "[26, 2, 28, 18, 1, 16, 10, 18, 13, 1]\n"
          ]
        }
      ]
    },
    {
      "cell_type": "code",
      "source": [
        "# decimal to binary number\n",
        "\n",
        "# Function returns octal representation\n",
        "def float_bin(number, places = 3):\n",
        "\n",
        "    # split() separates whole number and decimal\n",
        "    # part and stores it in two separate variables\n",
        "    whole, dec = str(number).split(\".\")\n",
        "\n",
        "    # Convert both whole number and decimal\n",
        "    # part from string type to integer type\n",
        "    whole = int(whole)\n",
        "    dec = int (dec)\n",
        "\n",
        "    # Convert the whole number part to it's\n",
        "    # respective binary form and remove the\n",
        "    # \"0b\" from it.\n",
        "    res = bin(whole).lstrip(\"0b\") + \".\"\n",
        "\n",
        "    # Iterate the number of times, we want\n",
        "    # the number of decimal places to be\n",
        "    for x in range(places):\n",
        "\n",
        "        # Multiply the decimal value by 2\n",
        "        # and separate the whole number part\n",
        "        # and decimal part\n",
        "        whole, dec = str((decimal_converter(dec)) * 2).split(\".\")\n",
        "\n",
        "        # Convert the decimal part\n",
        "        # to integer again\n",
        "        dec = int(dec)\n",
        "\n",
        "        # Keep adding the integer parts\n",
        "        # receive to the result variable\n",
        "        res += whole\n",
        "\n",
        "    return res\n",
        "\n",
        "# Function converts the value passed as\n",
        "# parameter to it's decimal representation\n",
        "def decimal_converter(num):\n",
        "    while num > 1:\n",
        "        num /= 10\n",
        "    return num\n",
        "\n",
        "# Driver Code\n",
        "\n",
        "# Take the user input for\n",
        "# the floating point number\n",
        "n = input(\"Enter your floating point value : \\n\")\n",
        "\n",
        "# Take user input for the number of\n",
        "# decimal places user want result as\n",
        "p = int(input(\"Enter the number of decimal places of the result : \\n\"))\n",
        "\n",
        "print(float_bin(n, places = p))"
      ],
      "metadata": {
        "colab": {
          "base_uri": "https://localhost:8080/"
        },
        "id": "XfSJM6VoqFAc",
        "outputId": "09a3d1fe-b3dd-4995-ab12-00d1ce973a2d"
      },
      "execution_count": null,
      "outputs": [
        {
          "output_type": "stream",
          "name": "stdout",
          "text": [
            "Enter your floating point value : \n",
            "4.51\n",
            "Enter the number of decimal places of the result : \n",
            "15\n",
            "100.100110011001100\n"
          ]
        }
      ]
    },
    {
      "cell_type": "code",
      "source": [],
      "metadata": {
        "id": "-eoc9agBbVLu"
      },
      "execution_count": null,
      "outputs": []
    },
    {
      "cell_type": "code",
      "source": [
        "palabra = \"10001\"\n",
        "palabra_reemplazada = \"\"\n",
        "for letra in palabra:\n",
        "  a = rd.random()\n",
        "  if a<0.5:\n",
        "    if letra == '0':\n",
        "      letra = '1'\n",
        "    else:\n",
        "      letra = '0'\n",
        "\n",
        "  palabra_reemplazada += letra\n",
        "print(palabra_reemplazada)"
      ],
      "metadata": {
        "colab": {
          "base_uri": "https://localhost:8080/"
        },
        "id": "7gY66_KJYZS2",
        "outputId": "af6815c7-2eaf-4053-dbfc-e7ec54181e62"
      },
      "execution_count": null,
      "outputs": [
        {
          "output_type": "stream",
          "name": "stdout",
          "text": [
            "11100\n"
          ]
        }
      ]
    }
  ]
}