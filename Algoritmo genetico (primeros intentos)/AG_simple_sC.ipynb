{
  "nbformat": 4,
  "nbformat_minor": 0,
  "metadata": {
    "colab": {
      "provenance": [],
      "authorship_tag": "ABX9TyPczL3dBuap6cugrorX/bIx",
      "include_colab_link": true
    },
    "kernelspec": {
      "name": "python3",
      "display_name": "Python 3"
    },
    "language_info": {
      "name": "python"
    }
  },
  "cells": [
    {
      "cell_type": "markdown",
      "metadata": {
        "id": "view-in-github",
        "colab_type": "text"
      },
      "source": [
        "<a href=\"https://colab.research.google.com/github/luisantoniourbanaviles/Algoritmos-Geneticos/blob/main/Algoritmo%20genetico%20(primeros%20intentos)/AG_simple_sC.ipynb\" target=\"_parent\"><img src=\"https://colab.research.google.com/assets/colab-badge.svg\" alt=\"Open In Colab\"/></a>"
      ]
    },
    {
      "cell_type": "code",
      "execution_count": 31,
      "metadata": {
        "id": "O0O3gu4kAZWJ"
      },
      "outputs": [],
      "source": [
        "import random as rd\n",
        "import numpy as np"
      ]
    },
    {
      "cell_type": "code",
      "source": [
        "def f1(x):\n",
        "  f = 12*(x**5) - 975*(x**4) + 28000*(x**3) - 345000*(x**2) + 1800000*x\n",
        "  return(f)"
      ],
      "metadata": {
        "id": "3_hDOu4QAg54"
      },
      "execution_count": 32,
      "outputs": []
    },
    {
      "cell_type": "code",
      "source": [
        "# poblacion inicial\n",
        "\n",
        "pob_i = []\n",
        "n=10\n",
        "for x in range(10):\n",
        "  pob_i.append(rd.randint(0,31))\n",
        "\n",
        "print(pob_i)"
      ],
      "metadata": {
        "colab": {
          "base_uri": "https://localhost:8080/"
        },
        "id": "o-nNM_23eVCZ",
        "outputId": "3476abcf-2ba7-4c41-8b57-70f180f7ec8f"
      },
      "execution_count": 33,
      "outputs": [
        {
          "output_type": "stream",
          "name": "stdout",
          "text": [
            "[16, 31, 7, 11, 6, 5, 15, 17, 13, 18]\n"
          ]
        }
      ]
    },
    {
      "cell_type": "code",
      "source": [
        "def codificacion(pob_i):\n",
        "  cod    = []\n",
        "\n",
        "  for x in range(n):\n",
        "    cod.append('{:b}'.format(pob_i[x]))\n",
        "\n",
        "  return(cod)"
      ],
      "metadata": {
        "id": "nVyMSvN6ehZj"
      },
      "execution_count": 34,
      "outputs": []
    },
    {
      "cell_type": "code",
      "source": [
        "def completar(x,y):\n",
        "\n",
        "  if len(x)<len(y):\n",
        "    for s in range(len(y)-len(x)):\n",
        "      x = '0' + x\n",
        "\n",
        "  elif len(x)>len(y):\n",
        "    for s in range(len(x)-len(y)):\n",
        "      y = '0' + y\n",
        "\n",
        "  return(x,y)"
      ],
      "metadata": {
        "id": "rT_KwLr_fHJe"
      },
      "execution_count": 35,
      "outputs": []
    },
    {
      "cell_type": "code",
      "source": [
        "def cruza(a,b):\n",
        "\n",
        "  q = rd.randint(1,n-1)\n",
        "  c_11 = a[0:q]\n",
        "  c_12 = a[q:]\n",
        "\n",
        "  c_21 = b[0:q]\n",
        "  c_22 = b[q:]\n",
        "\n",
        "  n_1 = c_11 + c_22\n",
        "  n_2 = c_21 + c_12\n",
        "\n",
        "\n",
        "  return(n_1,n_2)"
      ],
      "metadata": {
        "id": "k9EaWv-5feMW"
      },
      "execution_count": 36,
      "outputs": []
    },
    {
      "cell_type": "code",
      "source": [
        "def mutacion(a):\n",
        "\n",
        "\n",
        "  a_m = \"\"\n",
        "\n",
        "  for bit in a:\n",
        "\n",
        "    prob_m = rd.random()\n",
        "\n",
        "    if prob_m<0.05:\n",
        "      if bit == '0':\n",
        "        bit = '1'\n",
        "      else:\n",
        "        bit = '0'\n",
        "\n",
        "    a_m = a_m + bit\n",
        "\n",
        "\n",
        "  return(a_m)"
      ],
      "metadata": {
        "id": "oOsoLijbfgaq"
      },
      "execution_count": 37,
      "outputs": []
    },
    {
      "cell_type": "code",
      "source": [
        "# generaciones\n",
        "\n",
        "for x in range(10):\n",
        "\n",
        "  cod = codificacion(pob_i)\n",
        "\n",
        "  for x in range(0,n,2):\n",
        "    prob_c = rd.random()\n",
        "\n",
        "    if prob_c < 0.7:\n",
        "      #print('cruza')\n",
        "      a,b = rd.randint(0,9),rd.randint(0,9)\n",
        "      p_1,p_2 = completar(cod[a],cod[b])\n",
        "\n",
        "      n_1,n_2 = cruza(p_1,p_2)\n",
        "      #print(n_1)\n",
        "      #print(n_2,'\\n')\n",
        "\n",
        "      n_1,n_2 = mutacion(n_1),mutacion(n_2)\n",
        "\n",
        "\n",
        "      #print(n_1)\n",
        "      #print(n_2,'\\n')\n",
        "\n",
        "      pob_i[x] = int(n_1,2)\n",
        "      pob_i[x+1] = int(n_2,2)\n",
        "\n",
        "    else:\n",
        "      #print('no cruza')\n",
        "      a,b = rd.randint(0,9),rd.randint(0,9)\n",
        "      p_1,p_2 = completar(cod[a],cod[b])\n",
        "\n",
        "      n_1,n_2 = p_1,p_2\n",
        "\n",
        "      #print(n_1)\n",
        "      #print(n_2,'\\n')\n",
        "      pob_i[x] = int(n_1,2)\n",
        "      pob_i[x+1] = int(n_2,2)\n",
        "\n",
        "  print(pob_i)\n"
      ],
      "metadata": {
        "colab": {
          "base_uri": "https://localhost:8080/"
        },
        "id": "0i55liDjeKQ1",
        "outputId": "e2828c26-9595-4122-c7db-d8adce1b886a"
      },
      "execution_count": 38,
      "outputs": [
        {
          "output_type": "stream",
          "name": "stdout",
          "text": [
            "[11, 15, 11, 5, 15, 6, 31, 31, 15, 18]\n",
            "[11, 15, 15, 29, 31, 11, 31, 31, 6, 31]\n",
            "[23, 31, 29, 11, 6, 31, 15, 11, 30, 7]\n",
            "[7, 31, 11, 6, 31, 29, 15, 30, 6, 13]\n",
            "[31, 31, 31, 6, 13, 5, 22, 15, 30, 15]\n",
            "[13, 6, 15, 11, 15, 31, 31, 30, 31, 13]\n",
            "[15, 30, 30, 11, 31, 13, 29, 13, 9, 31]\n",
            "[15, 13, 15, 29, 26, 13, 15, 29, 9, 30]\n",
            "[29, 15, 26, 15, 15, 15, 15, 15, 13, 28]\n",
            "[15, 15, 15, 15, 29, 15, 29, 30, 13, 13]\n"
          ]
        }
      ]
    }
  ]
}