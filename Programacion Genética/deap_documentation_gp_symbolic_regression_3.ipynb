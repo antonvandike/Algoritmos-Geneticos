{
  "nbformat": 4,
  "nbformat_minor": 0,
  "metadata": {
    "colab": {
      "provenance": [],
      "authorship_tag": "ABX9TyNqwYJz15iXq6yJXtfo4peY",
      "include_colab_link": true
    },
    "kernelspec": {
      "name": "python3",
      "display_name": "Python 3"
    },
    "language_info": {
      "name": "python"
    }
  },
  "cells": [
    {
      "cell_type": "markdown",
      "metadata": {
        "id": "view-in-github",
        "colab_type": "text"
      },
      "source": [
        "<a href=\"https://colab.research.google.com/github/antonvandike/Algoritmos-Geneticos/blob/main/Programacion%20Gen%C3%A9tica/deap_documentation_gp_symbolic_regression_3.ipynb\" target=\"_parent\"><img src=\"https://colab.research.google.com/assets/colab-badge.svg\" alt=\"Open In Colab\"/></a>"
      ]
    },
    {
      "cell_type": "markdown",
      "source": [
        "#Solucion del problema del control de paridad uniforme\n"
      ],
      "metadata": {
        "id": "pVVtyKf7dVZH"
      }
    },
    {
      "cell_type": "code",
      "source": [
        "pip install deap"
      ],
      "metadata": {
        "colab": {
          "base_uri": "https://localhost:8080/"
        },
        "id": "JE91VIDQCHrA",
        "outputId": "48bc47cc-3c2a-4370-8dd9-410aa559ea50"
      },
      "execution_count": 1,
      "outputs": [
        {
          "output_type": "stream",
          "name": "stdout",
          "text": [
            "Requirement already satisfied: deap in /usr/local/lib/python3.10/dist-packages (1.4.1)\n",
            "Requirement already satisfied: numpy in /usr/local/lib/python3.10/dist-packages (from deap) (1.25.2)\n"
          ]
        }
      ]
    },
    {
      "cell_type": "markdown",
      "source": [
        "###Configuraciones y definiciones"
      ],
      "metadata": {
        "id": "dx6mGb10tjmE"
      }
    },
    {
      "cell_type": "code",
      "execution_count": 2,
      "metadata": {
        "id": "_o0YKIs34_AR"
      },
      "outputs": [],
      "source": [
        "## Paso 1: Modulos\n",
        "\n",
        "from deap import base\n",
        "from deap import creator\n",
        "from deap import tools\n",
        "from deap import gp\n",
        "from deap import algorithms\n",
        "\n",
        "import random as rd\n",
        "import numpy as np\n",
        "import math as mt\n",
        "\n",
        "import operator as op\n",
        "import sympy as sp\n",
        "\n",
        "import matplotlib.pyplot as plt\n",
        "import seaborn as sns\n",
        "\n",
        "import itertools\n",
        "import matplotlib.pyplot as plt\n",
        "import networkx as nx\n",
        "\n",
        "from functools import partial\n"
      ]
    },
    {
      "cell_type": "code",
      "source": [
        "## Paso 2: Parametros del problema\n",
        "\n",
        "# Contenido del problema\n",
        "\n",
        "POPULATION_SIZE = 100     # Tamaño de la poblacion de individuos\n",
        "P_CROSSOVER     =  0.9    # Probabilidad de cruza\n",
        "P_MUTATION      =  0.5    # Probabilidad de mutación\n",
        "\n",
        "MAX_GENERATIONS = 80   # Maximo numero de generaciones (condición de termino)"
      ],
      "metadata": {
        "id": "sk8gDOZfLjT5"
      },
      "execution_count": 32,
      "outputs": []
    },
    {
      "cell_type": "code",
      "source": [
        "HALL_OF_FAME_SIZE = 10"
      ],
      "metadata": {
        "id": "T8ksHqrDLC3A"
      },
      "execution_count": 4,
      "outputs": []
    },
    {
      "cell_type": "code",
      "source": [
        "# Constantes especificas de la progrmacion genetica:\n",
        "MIN_TREE_HEIGHT = 1\n",
        "MAX_TREE_HEIGHT = 2\n",
        "LIMIT_TREE_HEIGHT = 17\n",
        "MUT_MIN_TREE_HEIGHT = 0\n",
        "MUT_MAX_TREE_HEIGHT = 2"
      ],
      "metadata": {
        "id": "Q71qAv4enZR2"
      },
      "execution_count": 5,
      "outputs": []
    },
    {
      "cell_type": "code",
      "source": [
        "## Paso 3: Elementos aleatorios\n",
        "\n",
        "RANDOM_SEED = 42          # Comunmente cuando se experimenta con un codigo\n",
        "rd.seed(RANDOM_SEED)      # se corre el problema con los mismos parametros\n",
        "                          # para repetir y compara resultados"
      ],
      "metadata": {
        "id": "eDnBQiyiNGGu"
      },
      "execution_count": 6,
      "outputs": []
    },
    {
      "cell_type": "code",
      "source": [
        "toolbox = base.Toolbox()"
      ],
      "metadata": {
        "id": "VbkWpv6JnitJ"
      },
      "execution_count": 7,
      "outputs": []
    },
    {
      "cell_type": "code",
      "source": [
        "# Define new functions\n",
        "def protectedDiv(left, right):\n",
        "    try:\n",
        "        return left / right\n",
        "    except ZeroDivisionError:\n",
        "        return 1"
      ],
      "metadata": {
        "id": "8UETRAVoeunj"
      },
      "execution_count": 8,
      "outputs": []
    },
    {
      "cell_type": "code",
      "source": [
        "## Paso 4: Declarando el cromosoma\n",
        "\n",
        "# create the primitive set:\n",
        "pset = gp.PrimitiveSet(\"MAIN\", 1)\n",
        "\n",
        "pset.addPrimitive(op.add, 2)\n",
        "pset.addPrimitive(op.sub, 2)\n",
        "pset.addPrimitive(op.mul, 2)\n",
        "pset.addPrimitive(protectedDiv, 2)\n",
        "pset.addPrimitive(op.neg, 1)\n",
        "pset.addPrimitive(mt.cos, 1)\n",
        "pset.addPrimitive(mt.sin, 1)\n",
        "\n",
        "# add terminal values:\n",
        "\n",
        "pset.addEphemeralConstant(\"rand101\", partial(rd.randint, -1, 1))\n",
        "pset.renameArguments(ARG0='x')\n",
        "\n",
        "toolbox.register(\"expr\", gp.genHalfAndHalf, pset=pset, min_=MIN_TREE_HEIGHT, max_=MAX_TREE_HEIGHT)"
      ],
      "metadata": {
        "id": "4O4iiU3bSF9G"
      },
      "execution_count": 9,
      "outputs": []
    },
    {
      "cell_type": "code",
      "source": [
        "## Paso 5: Crear la funcion de aptitud (FITNESS)\n",
        "\n",
        "# Se indica minimizacion y un solo peso\n",
        "#creator.create(\"FitnessMin\", base.Fitness, weights=(-1.0,))\n",
        "creator.create(\"FitnessMin\", base.Fitness, weights=(-1.0,-0.8,-0.5))\n"
      ],
      "metadata": {
        "id": "VrtvLUMeXlkz"
      },
      "execution_count": 10,
      "outputs": []
    },
    {
      "cell_type": "code",
      "source": [
        "## Paso 6: Crear la funcion de  aptitud del individuo\n",
        "\n",
        "creator.create(\"Individual\", gp.PrimitiveTree, fitness=creator.FitnessMin)"
      ],
      "metadata": {
        "id": "7AMKqm6CXnRH"
      },
      "execution_count": 11,
      "outputs": []
    },
    {
      "cell_type": "code",
      "source": [
        "## Paso 7: Declarar el operador para generador de individuos\n",
        "\n",
        "toolbox.register(\"individualCreator\", tools.initIterate, creator.Individual, toolbox.expr)"
      ],
      "metadata": {
        "id": "RZ17RdoiXtvZ"
      },
      "execution_count": 12,
      "outputs": []
    },
    {
      "cell_type": "code",
      "source": [
        "a = toolbox.individualCreator()\n",
        "nodes, edges, labels = gp.graph(a)\n",
        "g = nx.Graph()\n",
        "g.add_nodes_from(nodes)\n",
        "g.add_edges_from(edges)\n",
        "pos = nx.spring_layout(g)\n",
        "\n",
        "nx.draw_networkx_nodes(g, pos, node_color='cyan')\n",
        "nx.draw_networkx_nodes(g, pos, nodelist=[0], node_color='red', node_size=400)\n",
        "\n",
        "nx.draw_networkx_edges(g, pos)\n",
        "nx.draw_networkx_labels(g, pos, **{\"labels\": labels, \"font_size\": 8})\n",
        "\n"
      ],
      "metadata": {
        "id": "T1aIGNbdX14C",
        "colab": {
          "base_uri": "https://localhost:8080/",
          "height": 441
        },
        "outputId": "fef9d349-8a95-41be-aabc-9246101e1d05"
      },
      "execution_count": 13,
      "outputs": [
        {
          "output_type": "execute_result",
          "data": {
            "text/plain": [
              "{0: Text(-0.4623630001719894, -1.0, 'cos'),\n",
              " 1: Text(0.46236300017198956, 0.9999999999999998, '-1')}"
            ]
          },
          "metadata": {},
          "execution_count": 13
        },
        {
          "output_type": "display_data",
          "data": {
            "text/plain": [
              "<Figure size 640x480 with 1 Axes>"
            ],
            "image/png": "[encoded data removed]"
          },
          "metadata": {}
        }
      ]
    },
    {
      "cell_type": "code",
      "source": [
        "#f = lambda x: sp.sin(x)"
      ],
      "metadata": {
        "id": "CuGCyYnTZ1xS"
      },
      "execution_count": 14,
      "outputs": []
    },
    {
      "cell_type": "code",
      "source": [
        "#print(f(x1))"
      ],
      "metadata": {
        "id": "tQ3SCJ2LaNH2"
      },
      "execution_count": 15,
      "outputs": []
    },
    {
      "cell_type": "code",
      "source": [
        "#print(f(mt.pi/2))"
      ],
      "metadata": {
        "id": "INUwNCsvapPA"
      },
      "execution_count": 16,
      "outputs": []
    },
    {
      "cell_type": "code",
      "source": [
        "#print(dec)"
      ],
      "metadata": {
        "id": "savhjYgTVkUP"
      },
      "execution_count": 17,
      "outputs": []
    },
    {
      "cell_type": "code",
      "source": [
        "#x1 = sp.Symbol('x')"
      ],
      "metadata": {
        "id": "dy4wugFEWum9"
      },
      "execution_count": 18,
      "outputs": []
    },
    {
      "cell_type": "code",
      "source": [
        "#dec(x1)"
      ],
      "metadata": {
        "id": "4Y1fTefqW0D4"
      },
      "execution_count": 19,
      "outputs": []
    },
    {
      "cell_type": "code",
      "source": [
        "## Paso 8: Declarar el operador para generar la poblacion\n",
        "\n",
        "toolbox.register(\"populationCreator\", tools.initRepeat, list, toolbox.individualCreator)"
      ],
      "metadata": {
        "id": "ySgDHyikYTM4"
      },
      "execution_count": 20,
      "outputs": []
    },
    {
      "cell_type": "code",
      "source": [
        "# Crear un operador para compilar el arbol primitivo en el codigo de python\n",
        "\n",
        "toolbox.register(\"compile\", gp.compile, pset=pset)"
      ],
      "metadata": {
        "id": "8JOBrlUEYb9n"
      },
      "execution_count": 21,
      "outputs": []
    },
    {
      "cell_type": "code",
      "source": [
        "## Paso 9: Definir función para calcular la aptitud\n",
        "\n",
        "def evalSymbReg(individual, points):\n",
        "    # Transform the tree expression in a callable function\n",
        "    func = toolbox.compile(expr=individual)\n",
        "    # Evaluate the mean squared error between the expression\n",
        "    # and the real function : x**4 + x**3 + x**2 + x\n",
        "    sqerrors = ((func(x) - x**4 - x**3 - x**2 - x)**2 for x in points)\n",
        "\n",
        "    a = len(individual)\n",
        "    b = individual.height\n",
        "\n",
        "    return mt.fsum(sqerrors) / len(points), a, b,"
      ],
      "metadata": {
        "id": "5TMNQI_aYkcI"
      },
      "execution_count": 22,
      "outputs": []
    },
    {
      "cell_type": "code",
      "source": [
        "evalSymbReg(toolbox.individualCreator(), points=[x/10. for x in range(-10,10)])"
      ],
      "metadata": {
        "id": "p5ABmvZqYoFL",
        "colab": {
          "base_uri": "https://localhost:8080/"
        },
        "outputId": "0bc920e4-14b2-4234-ce16-fded0176090c"
      },
      "execution_count": 23,
      "outputs": [
        {
          "output_type": "execute_result",
          "data": {
            "text/plain": [
              "(1.1938422108085054, 2, 1)"
            ]
          },
          "metadata": {},
          "execution_count": 23
        }
      ]
    },
    {
      "cell_type": "code",
      "source": [
        "## Paso 10: Declarar el operador de evaluacion\n",
        "\n",
        "toolbox.register(\"evaluate\", evalSymbReg, points=[x/10. for x in range(-10,10)])"
      ],
      "metadata": {
        "id": "UfwLDzaeY5WT"
      },
      "execution_count": 24,
      "outputs": []
    },
    {
      "cell_type": "code",
      "source": [
        "## Paso 11: Declarar los operadores geneticos\n",
        "\n",
        "toolbox.register(\"select\", tools.selTournament, tournsize=3)\n",
        "toolbox.register(\"mate\", gp.cxOnePoint)\n",
        "toolbox.register(\"expr_mut\", gp.genFull, min_=0, max_=2)\n",
        "toolbox.register(\"mutate\", gp.mutUniform, expr=toolbox.expr_mut, pset=pset)"
      ],
      "metadata": {
        "id": "fdiG8ct7Y-Hx"
      },
      "execution_count": 25,
      "outputs": []
    },
    {
      "cell_type": "code",
      "source": [
        "# bloat control:\n",
        "\n",
        "toolbox.decorate(\"mate\", gp.staticLimit(key=op.attrgetter(\"height\"), max_value=17))\n",
        "toolbox.decorate(\"mutate\", gp.staticLimit(key=op.attrgetter(\"height\"), max_value=17))"
      ],
      "metadata": {
        "id": "NxFItRwYZElc"
      },
      "execution_count": 26,
      "outputs": []
    },
    {
      "cell_type": "code",
      "source": [
        "def symbreg():\n",
        "\n",
        "    pop = toolbox.populationCreator(POPULATION_SIZE)\n",
        "    hof = tools.HallOfFame(HALL_OF_FAME_SIZE)\n",
        "\n",
        "    stats_fit = tools.Statistics(lambda ind: ind.fitness.values)\n",
        "    stats_size = tools.Statistics(len)\n",
        "\n",
        "    mstats = tools.MultiStatistics(fitness=stats_fit, size=stats_size)\n",
        "    mstats.register(\"avg\", np.mean)\n",
        "    mstats.register(\"std\", np.std)\n",
        "    mstats.register(\"min\", np.min)\n",
        "    mstats.register(\"max\", np.max)\n",
        "\n",
        "    pop, log = algorithms.eaSimple(pop,\n",
        "                                   toolbox,\n",
        "                                   cxpb=P_CROSSOVER,\n",
        "                                   mutpb=P_MUTATION,\n",
        "                                   ngen=MAX_GENERATIONS,\n",
        "                                   stats=mstats,\n",
        "                                   halloffame=hof,\n",
        "                                   verbose=True)\n",
        "    # print log\n",
        "    best = hof.items[0]\n",
        "\n",
        "    print(\"-- length={}, height={}\".format(len(best), best.height))\n",
        "    print(\"-- Best Fitness = \", best.fitness.values[0])\n",
        "\n",
        "\n",
        "    # plot best tree:\n",
        "    nodes, edges, labels = gp.graph(best)\n",
        "    g = nx.Graph()\n",
        "    g.add_nodes_from(nodes)\n",
        "    g.add_edges_from(edges)\n",
        "    pos = nx.spring_layout(g)\n",
        "\n",
        "    nx.draw_networkx_nodes(g, pos, node_color='cyan')\n",
        "    nx.draw_networkx_nodes(g, pos, nodelist=[0], node_color='red', node_size=400)\n",
        "\n",
        "    nx.draw_networkx_edges(g, pos)\n",
        "    nx.draw_networkx_labels(g, pos, **{\"labels\": labels, \"font_size\": 8})\n",
        "    plt.show()\n",
        "\n",
        "    print(\"-- Best Individual = \", best)\n",
        "    bestSym = toolbox.compile(expr = best)\n",
        "    print(bestSym)\n",
        "\n",
        "    x2 = sp.Symbol('x')\n",
        "    print(bestSym(x2))\n"
      ],
      "metadata": {
        "id": "opA1o9xAZJWn"
      },
      "execution_count": 33,
      "outputs": []
    },
    {
      "cell_type": "code",
      "source": [
        "symbreg()"
      ],
      "metadata": {
        "id": "GRR95nMqam-H",
        "colab": {
          "base_uri": "https://localhost:8080/",
          "height": 1000
        },
        "outputId": "a8711e0c-4493-4b64-f210-c7eec929399e"
      },
      "execution_count": 36,
      "outputs": [
        {
          "output_type": "stream",
          "name": "stdout",
          "text": [
            "   \t      \t                        fitness                        \t                      size                     \n",
            "   \t      \t-------------------------------------------------------\t-----------------------------------------------\n",
            "gen\tnevals\tavg    \tgen\tmax    \tmin     \tnevals\tstd    \tavg \tgen\tmax\tmin\tnevals\tstd    \n",
            "0  \t100   \t2.49612\t0  \t18.9739\t0.483609\t100   \t2.08675\t3.79\t0  \t7  \t2  \t100   \t1.55753\n",
            "1  \t94    \t2.42799\t1  \t14.2339\t0       \t94    \t2.03434\t4.1 \t1  \t10 \t1  \t94    \t2.15174\n",
            "2  \t95    \t2.33286\t2  \t14     \t0       \t95    \t2.23691\t4.21\t2  \t14 \t1  \t95    \t2.72872\n",
            "3  \t97    \t2.61265\t3  \t22     \t0       \t97    \t3.34193\t4.73\t3  \t22 \t1  \t97    \t4.08376\n",
            "4  \t96    \t2.19195\t4  \t17     \t0       \t96    \t3.02894\t4.08\t4  \t17 \t1  \t96    \t4.098  \n",
            "5  \t91    \t2.78456\t5  \t24     \t0       \t91    \t3.95443\t5.46\t5  \t24 \t1  \t91    \t5.45054\n",
            "6  \t98    \t3.17669\t6  \t21     \t0       \t98    \t4.16702\t6.29\t6  \t21 \t1  \t98    \t5.54129\n",
            "7  \t95    \t3.74744\t7  \t24     \t0       \t95    \t4.53021\t7.5 \t7  \t24 \t1  \t95    \t5.68419\n",
            "8  \t97    \t4.03583\t8  \t32     \t0       \t97    \t5.00264\t8.31\t8  \t32 \t1  \t97    \t6.40265\n",
            "9  \t94    \t4.90581\t9  \t23     \t0       \t94    \t5.48721\t9.77\t9  \t23 \t1  \t94    \t6.35902\n",
            "10 \t98    \t4.72113\t10 \t25     \t0       \t98    \t5.34293\t9.68\t10 \t25 \t1  \t98    \t6.36063\n",
            "11 \t95    \t5.34524\t11 \t46.5161\t0       \t95    \t6.06702\t10.55\t11 \t27 \t1  \t95    \t6.32199\n",
            "12 \t98    \t5.6339 \t12 \t27     \t0       \t98    \t6.16198\t11.49\t12 \t27 \t1  \t98    \t6.95628\n",
            "13 \t94    \t6.58282\t13 \t30     \t0       \t94    \t7.0479 \t13.86\t13 \t30 \t1  \t94    \t7.27052\n",
            "14 \t95    \t7.3455 \t14 \t29     \t0       \t95    \t7.29757\t15.53\t14 \t29 \t1  \t95    \t6.42722\n",
            "15 \t95    \t7.52287\t15 \t38     \t0       \t95    \t8.15392\t16.42\t15 \t38 \t1  \t95    \t7.93622\n",
            "16 \t94    \t7.94387\t16 \t38     \t0       \t94    \t8.26617\t17.28\t16 \t38 \t1  \t94    \t7.48876\n",
            "17 \t98    \t8.06906\t17 \t50     \t0       \t98    \t8.70894\t17.29\t17 \t50 \t1  \t98    \t8.89752\n",
            "18 \t98    \t8.85541\t18 \t67     \t0       \t98    \t9.97358\t19.39\t18 \t67 \t1  \t98    \t10.4066\n",
            "19 \t98    \t10.1088\t19 \t72     \t0       \t98    \t11.4805\t22.18\t19 \t72 \t1  \t98    \t12.1329\n",
            "20 \t94    \t10.4931\t20 \t66     \t0.0188028\t94    \t11.8295\t23.18\t20 \t66 \t3  \t94    \t11.8485\n",
            "21 \t89    \t14.8742\t21 \t1177.91\t0        \t89    \t68.4957\t24.35\t21 \t81 \t1  \t89    \t14.1113\n",
            "22 \t94    \t11.812 \t22 \t82     \t0.0188028\t94    \t14.3382\t26.16\t22 \t82 \t6  \t94    \t15.8276\n",
            "23 \t95    \t11.5285\t23 \t81     \t0.0224052\t95    \t13.6818\t25.67\t23 \t81 \t2  \t95    \t14.7737\n",
            "24 \t95    \t1420.09\t24 \t422368 \t0.0194521\t95    \t24344  \t25.6 \t24 \t88 \t5  \t95    \t14.9205\n",
            "25 \t97    \t11.822 \t25 \t78     \t0        \t97    \t14.3581\t26.38\t25 \t78 \t1  \t97    \t15.993 \n",
            "26 \t96    \t12.892 \t26 \t75     \t0.019584 \t96    \t15.0117\t28.13\t26 \t75 \t2  \t96    \t15.4179\n",
            "27 \t92    \t12.8342\t27 \t67     \t0        \t92    \t15.1037\t28.65\t27 \t67 \t1  \t92    \t15.8684\n",
            "28 \t93    \t13.1644\t28 \t76     \t0.000802559\t93    \t14.3591\t29.18\t28 \t76 \t8  \t93    \t13.3434\n",
            "29 \t95    \t12.103 \t29 \t75.2512\t8.16594e-33\t95    \t13.9231\t26.03\t29 \t68 \t2  \t95    \t13.8076\n",
            "30 \t91    \t11.7095\t30 \t64     \t0          \t91    \t13.87  \t25.81\t30 \t64 \t1  \t91    \t14.9531\n",
            "31 \t95    \t11.0312\t31 \t63     \t0.0102131  \t95    \t12.316 \t23.97\t31 \t63 \t3  \t95    \t12.4751\n",
            "32 \t99    \t9.59312\t32 \t66     \t0          \t99    \t11.1547\t20.81\t32 \t66 \t1  \t99    \t12.1092\n",
            "33 \t97    \t10.6207\t33 \t75     \t0.00129996 \t97    \t11.9917\t22.77\t33 \t75 \t3  \t97    \t12.6672\n",
            "34 \t96    \t9.85959\t34 \t56     \t0.00129996 \t96    \t11.6851\t21.26\t34 \t56 \t2  \t96    \t13.1792\n",
            "35 \t94    \t11.2799\t35 \t58     \t0.00129996 \t94    \t12.7492\t24.79\t35 \t58 \t3  \t94    \t12.8991\n",
            "36 \t97    \t11.3813\t36 \t60     \t0.00835122 \t97    \t12.8594\t25.07\t36 \t60 \t3  \t97    \t12.9285\n",
            "37 \t93    \t12.4156\t37 \t70     \t0          \t93    \t14.7259\t27.63\t37 \t70 \t1  \t93    \t15.7268\n",
            "38 \t93    \t12.5413\t38 \t61     \t0          \t93    \t14.319 \t27.9 \t38 \t61 \t1  \t93    \t14.3927\n",
            "39 \t99    \t15.9383\t39 \t1231.73\t0          \t99    \t71.5121\t26   \t39 \t84 \t1  \t99    \t12.5984\n",
            "40 \t99    \t157.307\t40 \t43770.5\t5.3926e-33 \t99    \t2522.24\t24.54\t40 \t82 \t3  \t99    \t12.2143\n",
            "41 \t98    \t11.9844\t41 \t60     \t5.3926e-33 \t98    \t12.4421\t25.83\t41 \t60 \t7  \t98    \t10.9481\n",
            "42 \t95    \t12.5149\t42 \t85.5668\t0.000535553\t95    \t13.9404\t26.86\t42 \t60 \t2  \t95    \t12.4242\n",
            "43 \t94    \t12.7945\t43 \t58     \t0          \t94    \t13.4454\t28.03\t43 \t58 \t1  \t94    \t11.5995\n",
            "44 \t91    \t26.4739\t44 \t4007.8 \t0.000535553\t91    \t230.802\t27.59\t44 \t70 \t9  \t91    \t12.0026\n",
            "45 \t97    \t11.992 \t45 \t74     \t0.000395179\t97    \t13.2574\t26.07\t45 \t74 \t2  \t97    \t13.2403\n",
            "46 \t95    \t13.4647\t46 \t430.379\t0          \t95    \t27.4765\t26.36\t46 \t79 \t1  \t95    \t12.6708\n",
            "47 \t98    \t12.8192\t47 \t79     \t0.000395179\t98    \t14.0452\t27.87\t47 \t79 \t2  \t98    \t13.9432\n",
            "48 \t97    \t13.8619\t48 \t77     \t0          \t97    \t15.8102\t30.66\t48 \t77 \t1  \t97    \t15.997 \n",
            "49 \t98    \t13.8436\t49 \t84     \t5.3926e-33 \t98    \t15.7015\t30.44\t49 \t84 \t6  \t98    \t15.9514\n",
            "50 \t96    \t12.9319\t50 \t66     \t0          \t96    \t14.0804\t28.29\t50 \t66 \t1  \t96    \t13.2448\n",
            "51 \t92    \t14.1105\t51 \t72     \t0.0013423  \t92    \t15.3946\t31.12\t51 \t72 \t3  \t92    \t14.3417\n",
            "52 \t94    \t14.7799\t52 \t84     \t0.0049075  \t94    \t16.6148\t32.71\t52 \t84 \t3  \t94    \t16.38  \n",
            "53 \t99    \t14.3027\t53 \t66     \t0          \t99    \t15.9104\t31.6 \t53 \t66 \t1  \t99    \t15.3929\n",
            "54 \t98    \t13.5996\t54 \t66     \t0          \t98    \t15.0913\t29.98\t54 \t66 \t1  \t98    \t14.5107\n",
            "55 \t94    \t12.6537\t55 \t76     \t0          \t94    \t14.3428\t27.65\t55 \t76 \t1  \t94    \t14.5763\n",
            "56 \t92    \t13.7274\t56 \t59     \t0          \t92    \t14.6658\t30.26\t56 \t59 \t1  \t92    \t12.9712\n",
            "57 \t94    \t14.3189\t57 \t63     \t0.000847831\t94    \t15.752 \t31.87\t57 \t63 \t8  \t94    \t14.5675\n",
            "58 \t97    \t12.9756\t58 \t66     \t0          \t97    \t14.7733\t28.57\t58 \t66 \t1  \t97    \t14.9902\n",
            "59 \t95    \t14.6522\t59 \t71     \t0          \t95    \t16.6841\t32.8 \t59 \t71 \t1  \t95    \t16.2142\n",
            "60 \t93    \t14.941 \t60 \t66     \t0          \t93    \t16.8261\t33.38\t60 \t66 \t1  \t93    \t16.1275\n",
            "61 \t92    \t13.8495\t61 \t87     \t0          \t92    \t16.6312\t30.99\t61 \t87 \t1  \t92    \t17.9167\n",
            "62 \t97    \t14.6115\t62 \t79     \t0.000792985\t97    \t16.1431\t32.46\t62 \t79 \t7  \t97    \t14.7861\n",
            "63 \t98    \t14.8264\t63 \t71     \t0          \t98    \t16.4621\t33.03\t63 \t71 \t1  \t98    \t15.3639\n",
            "64 \t94    \t15.206 \t64 \t65     \t0          \t94    \t16.9484\t33.92\t64 \t65 \t1  \t94    \t15.9089\n",
            "65 \t96    \t14.7611\t65 \t64     \t0.00051912 \t96    \t16.179 \t32.56\t65 \t64 \t2  \t96    \t15.0621\n",
            "66 \t96    \t16.5799\t66 \t89     \t0.00051912 \t96    \t17.7076\t36.72\t66 \t89 \t3  \t96    \t15.3702\n",
            "67 \t95    \t15.7786\t67 \t69     \t0          \t95    \t17.1598\t35.02\t67 \t69 \t1  \t95    \t15.508 \n",
            "68 \t93    \t15.5268\t68 \t71     \t0          \t93    \t16.9179\t34.52\t68 \t71 \t1  \t93    \t15.197 \n",
            "69 \t96    \t16.2268\t69 \t73     \t0.000539427\t96    \t17.6701\t35.95\t69 \t73 \t2  \t96    \t15.9959\n",
            "70 \t96    \t16.9923\t70 \t69     \t0          \t96    \t18.0775\t37.67\t70 \t69 \t1  \t96    \t15.512 \n",
            "71 \t90    \t17.2466\t71 \t86     \t0.000137673\t90    \t18.8007\t38.46\t71 \t86 \t6  \t90    \t16.9419\n",
            "72 \t94    \t15.6911\t72 \t63     \t0          \t94    \t17.0311\t34.79\t72 \t63 \t1  \t94    \t15.2304\n",
            "73 \t99    \t15.2469\t73 \t97     \t0          \t99    \t16.9934\t34.14\t73 \t97 \t1  \t99    \t15.831 \n",
            "74 \t92    \t16.5317\t74 \t88     \t0.000455964\t92    \t18.05  \t36.87\t74 \t88 \t7  \t92    \t16.3203\n",
            "75 \t93    \t15.9341\t75 \t74     \t0          \t93    \t17.4746\t35.17\t75 \t74 \t1  \t93    \t16.3285\n",
            "76 \t93    \t16.9919\t76 \t104    \t0.000127001\t93    \t19.4257\t38.2 \t76 \t104\t9  \t93    \t19.0258\n",
            "77 \t90    \t17.5266\t77 \t90     \t0.000218521\t90    \t19.8971\t39.51\t77 \t90 \t6  \t90    \t19.0381\n",
            "78 \t97    \t15.2892\t78 \t91     \t9.42482e-05\t97    \t17.2166\t33.79\t78 \t91 \t2  \t97    \t16.9164\n",
            "79 \t97    \t14.3123\t79 \t95     \t0          \t97    \t16.7455\t31.7 \t79 \t95 \t1  \t97    \t17.6462\n",
            "80 \t91    \t14.8665\t80 \t96     \t0.000127001\t91    \t18.5471\t33.43\t80 \t96 \t2  \t91    \t20.9553\n",
            "-- length=16, height=4\n",
            "-- Best Fitness =  5.3926038442842604e-33\n"
          ]
        },
        {
          "output_type": "display_data",
          "data": {
            "text/plain": [
              "<Figure size 640x480 with 1 Axes>"
            ],
            "image/png": "[encoded data removed]"
          },
          "metadata": {}
        },
        {
          "output_type": "stream",
          "name": "stdout",
          "text": [
            "-- Best Individual =  mul(add(mul(x, mul(x, 1)), x), sub(mul(x, mul(1, x)), neg(1)))\n",
            "<function <lambda> at 0x7e7d85e3ff40>\n",
            "(x**2 + 1)*(x**2 + x)\n"
          ]
        }
      ]
    }
  ]
}