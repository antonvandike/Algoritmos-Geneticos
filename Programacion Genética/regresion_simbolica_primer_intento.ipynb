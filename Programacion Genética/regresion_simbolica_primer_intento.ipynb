{
  "nbformat": 4,
  "nbformat_minor": 0,
  "metadata": {
    "colab": {
      "provenance": [],
      "authorship_tag": "ABX9TyNMAtN76tqL+xQKpqVL9+iX",
      "include_colab_link": true
    },
    "kernelspec": {
      "name": "python3",
      "display_name": "Python 3"
    },
    "language_info": {
      "name": "python"
    }
  },
  "cells": [
    {
      "cell_type": "markdown",
      "metadata": {
        "id": "view-in-github",
        "colab_type": "text"
      },
      "source": [
        "<a href=\"https://colab.research.google.com/github/antonvandike/Algoritmos-Geneticos/blob/main/Programacion%20Gen%C3%A9tica/regresion_simbolica_primer_intento.ipynb\" target=\"_parent\"><img src=\"https://colab.research.google.com/assets/colab-badge.svg\" alt=\"Open In Colab\"/></a>"
      ]
    },
    {
      "cell_type": "markdown",
      "source": [
        "#Solucion del problema del control de paridad uniforme\n"
      ],
      "metadata": {
        "id": "pVVtyKf7dVZH"
      }
    },
    {
      "cell_type": "code",
      "source": [
        "pip install deap"
      ],
      "metadata": {
        "colab": {
          "base_uri": "https://localhost:8080/"
        },
        "id": "JE91VIDQCHrA",
        "outputId": "474802b5-1f49-414e-bf59-dd5b0170d057"
      },
      "execution_count": 1,
      "outputs": [
        {
          "output_type": "stream",
          "name": "stdout",
          "text": [
            "Requirement already satisfied: deap in /usr/local/lib/python3.10/dist-packages (1.4.1)\n",
            "Requirement already satisfied: numpy in /usr/local/lib/python3.10/dist-packages (from deap) (1.25.2)\n"
          ]
        }
      ]
    },
    {
      "cell_type": "markdown",
      "source": [
        "###Configuraciones y definiciones"
      ],
      "metadata": {
        "id": "dx6mGb10tjmE"
      }
    },
    {
      "cell_type": "code",
      "execution_count": 2,
      "metadata": {
        "id": "_o0YKIs34_AR"
      },
      "outputs": [],
      "source": [
        "## Paso 1: Modulos\n",
        "\n",
        "from deap import base\n",
        "from deap import creator\n",
        "from deap import tools\n",
        "from deap import gp\n",
        "from deap import algorithms\n",
        "\n",
        "import random as rd\n",
        "import numpy as np\n",
        "import math as mt\n",
        "\n",
        "import operator as op\n",
        "import sympy as sp\n",
        "\n",
        "import matplotlib.pyplot as plt\n",
        "import seaborn as sns\n",
        "\n",
        "import itertools\n",
        "import matplotlib.pyplot as plt\n",
        "import networkx as nx\n",
        "\n",
        "from functools import partial\n"
      ]
    },
    {
      "cell_type": "code",
      "source": [
        "class txtParser:\n",
        "    def __init__(self, txt):\n",
        "        #Constructor\n",
        "        self.x = []\n",
        "        self.y = []\n",
        "        self.populateList(txt)\n",
        "\n",
        "    def populateList(self, file):\n",
        "        with open(file) as fp:\n",
        "            cnt = 0\n",
        "            for line in fp:\n",
        "                if(cnt<2):\n",
        "                    cnt+=1\n",
        "                    continue\n",
        "                line = line.split()\n",
        "                self.x.append(float(line[0]))\n",
        "                self.y.append(float(line[1]))\n",
        "        return #se puede comentar."
      ],
      "metadata": {
        "id": "SjGzsBfCs4BK"
      },
      "execution_count": 3,
      "outputs": []
    },
    {
      "cell_type": "code",
      "source": [
        "data = txtParser(\"regression_2.txt\")"
      ],
      "metadata": {
        "id": "c64EoJEEtRNI"
      },
      "execution_count": 4,
      "outputs": []
    },
    {
      "cell_type": "code",
      "source": [
        "## Paso 2: Parametros del problema\n",
        "\n",
        "# Contenido del problema\n",
        "\n",
        "POPULATION_SIZE = 300    # Tamaño de la poblacion de individuos\n",
        "P_CROSSOVER     =  0.5    # Probabilidad de cruza\n",
        "P_MUTATION      =  0.1    # Probabilidad de mutación\n",
        "\n",
        "MAX_GENERATIONS = 40   # Maximo numero de generaciones (condición de termino)"
      ],
      "metadata": {
        "id": "sk8gDOZfLjT5"
      },
      "execution_count": 5,
      "outputs": []
    },
    {
      "cell_type": "code",
      "source": [
        "HALL_OF_FAME_SIZE = 1"
      ],
      "metadata": {
        "id": "T8ksHqrDLC3A"
      },
      "execution_count": 6,
      "outputs": []
    },
    {
      "cell_type": "code",
      "source": [
        "# Constantes especificas de la progrmacion genetica:\n",
        "MIN_TREE_HEIGHT = 1\n",
        "MAX_TREE_HEIGHT = 3\n",
        "LIMIT_TREE_HEIGHT = 17\n",
        "MUT_MIN_TREE_HEIGHT = 0\n",
        "MUT_MAX_TREE_HEIGHT = 2"
      ],
      "metadata": {
        "id": "Q71qAv4enZR2"
      },
      "execution_count": 7,
      "outputs": []
    },
    {
      "cell_type": "code",
      "source": [
        "## Paso 3: Elementos aleatorios\n",
        "\n",
        "RANDOM_SEED = 42          # Comunmente cuando se experimenta con un codigo\n",
        "rd.seed(RANDOM_SEED)      # se corre el problema con los mismos parametros\n",
        "                          # para repetir y compara resultados"
      ],
      "metadata": {
        "id": "eDnBQiyiNGGu"
      },
      "execution_count": 8,
      "outputs": []
    },
    {
      "cell_type": "code",
      "source": [
        "toolbox = base.Toolbox()"
      ],
      "metadata": {
        "id": "VbkWpv6JnitJ"
      },
      "execution_count": 9,
      "outputs": []
    },
    {
      "cell_type": "code",
      "source": [
        "# Define new functions\n",
        "def protectedDiv(left, right):\n",
        "    try:\n",
        "        return left / right\n",
        "    except ZeroDivisionError:\n",
        "        return 1"
      ],
      "metadata": {
        "id": "8UETRAVoeunj"
      },
      "execution_count": 10,
      "outputs": []
    },
    {
      "cell_type": "code",
      "source": [
        "## Paso 4: Declarando el cromosoma\n",
        "\n",
        "# create the primitive set:\n",
        "pset = gp.PrimitiveSet(\"main\", 1)\n",
        "\n",
        "pset.addPrimitive(op.sub, 2)\n",
        "pset.addPrimitive(op.mul, 2)\n",
        "pset.addPrimitive(op.add, 2)\n",
        "pset.addPrimitive(protectedDiv, 2)\n",
        "\n",
        "# add terminal values:\n",
        "\n",
        "pset.addEphemeralConstant(\"rand\", lambda: rd.randint(-1,1))\n",
        "pset.renameArguments(ARG0='x')\n",
        "\n",
        "toolbox.register(\"expr\", gp.genHalfAndHalf, pset=pset, min_=MIN_TREE_HEIGHT, max_=MAX_TREE_HEIGHT)"
      ],
      "metadata": {
        "id": "4O4iiU3bSF9G",
        "colab": {
          "base_uri": "https://localhost:8080/"
        },
        "outputId": "d70cba6d-0652-4d56-81c7-3fa90c10be12"
      },
      "execution_count": 11,
      "outputs": [
        {
          "output_type": "stream",
          "name": "stderr",
          "text": [
            "/usr/local/lib/python3.10/dist-packages/deap/gp.py:254: RuntimeWarning: Ephemeral rand function cannot be pickled because its generating function is a lambda function. Use functools.partial instead.\n",
            "  warnings.warn(\"Ephemeral {name} function cannot be \"\n"
          ]
        }
      ]
    },
    {
      "cell_type": "code",
      "source": [
        "## Paso 5: Crear la funcion de aptitud (FITNESS)\n",
        "\n",
        "# Se indica minimizacion y un solo peso\n",
        "#creator.create(\"FitnessMin\", base.Fitness, weights=(-1.0,))\n",
        "#creator.create(\"FitnessMin\", base.Fitness, weights=(-10.0,))\n",
        "creator.create(\"FitnessMin\", base.Fitness, weights=(-1.0,-0.8,-0.5))\n"
      ],
      "metadata": {
        "id": "VrtvLUMeXlkz"
      },
      "execution_count": 12,
      "outputs": []
    },
    {
      "cell_type": "code",
      "source": [
        "## Paso 6: Crear la funcion de  aptitud del individuo\n",
        "\n",
        "creator.create(\"Individual\", gp.PrimitiveTree, fitness=creator.FitnessMin)"
      ],
      "metadata": {
        "id": "7AMKqm6CXnRH"
      },
      "execution_count": 13,
      "outputs": []
    },
    {
      "cell_type": "code",
      "source": [
        "## Paso 7: Declarar el operador para generador de individuos\n",
        "\n",
        "toolbox.register(\"individualCreator\", tools.initIterate, creator.Individual, toolbox.expr)"
      ],
      "metadata": {
        "id": "RZ17RdoiXtvZ"
      },
      "execution_count": 14,
      "outputs": []
    },
    {
      "cell_type": "code",
      "source": [
        "a = toolbox.individualCreator()\n",
        "nodes, edges, labels = gp.graph(a)\n",
        "g = nx.Graph()\n",
        "g.add_nodes_from(nodes)\n",
        "g.add_edges_from(edges)\n",
        "pos = nx.spring_layout(g)\n",
        "\n",
        "nx.draw_networkx_nodes(g, pos, node_color='cyan')\n",
        "nx.draw_networkx_nodes(g, pos, nodelist=[0], node_color='red', node_size=400)\n",
        "\n",
        "nx.draw_networkx_edges(g, pos)\n",
        "nx.draw_networkx_labels(g, pos, **{\"labels\": labels, \"font_size\": 8})\n",
        "\n"
      ],
      "metadata": {
        "id": "T1aIGNbdX14C",
        "colab": {
          "base_uri": "https://localhost:8080/",
          "height": 458
        },
        "outputId": "33acc958-2600-4763-b9a8-b14a39a70fa3"
      },
      "execution_count": 15,
      "outputs": [
        {
          "output_type": "execute_result",
          "data": {
            "text/plain": [
              "{0: Text(-8.747523102664206e-05, 0.0002717841547424522, 'add'),\n",
              " 1: Text(1.0, 0.32170555370484766, 'x'),\n",
              " 2: Text(-0.9999125247689733, -0.32197733785959026, 'x')}"
            ]
          },
          "metadata": {},
          "execution_count": 15
        },
        {
          "output_type": "display_data",
          "data": {
            "text/plain": [
              "<Figure size 640x480 with 1 Axes>"
            ],
            "image/png": "[encoded data removed]"
          },
          "metadata": {}
        }
      ]
    },
    {
      "cell_type": "code",
      "source": [
        "## Paso 8: Declarar el operador para generar la poblacion\n",
        "\n",
        "toolbox.register(\"populationCreator\", tools.initRepeat, list, toolbox.individualCreator)"
      ],
      "metadata": {
        "id": "ySgDHyikYTM4"
      },
      "execution_count": 16,
      "outputs": []
    },
    {
      "cell_type": "code",
      "source": [
        "# Crear un operador para compilar el arbol primitivo en el codigo de python\n",
        "\n",
        "toolbox.register(\"compile\", gp.compile, pset=pset)"
      ],
      "metadata": {
        "id": "8JOBrlUEYb9n"
      },
      "execution_count": 17,
      "outputs": []
    },
    {
      "cell_type": "code",
      "source": [
        "x  = [0,1,2,3,4,5,6,7,8,9]\n",
        "y1 = [0.0,1.0,4.0,9.0,16.0,25.0,36.0,49.0,64.0,81.0]"
      ],
      "metadata": {
        "id": "dUSJ66lgcsof"
      },
      "execution_count": 18,
      "outputs": []
    },
    {
      "cell_type": "code",
      "source": [
        "## Paso 9: Definir función para calcular la aptitud\n",
        "\n",
        "\n",
        "def symbolicRegression(individual, points, true):\n",
        "    func = toolbox.compile(expr = individual)\n",
        "    sqerrors = ((func(i)-j)**2 for i, j in zip(points, true))\n",
        "\n",
        "    a = len(individual)\n",
        "    b = individual.height\n",
        "\n",
        "    return mt.fsum(sqerrors) / len(x), a, b,"
      ],
      "metadata": {
        "id": "5TMNQI_aYkcI"
      },
      "execution_count": 19,
      "outputs": []
    },
    {
      "cell_type": "code",
      "source": [
        "symbolicRegression(toolbox.individualCreator(), data.x,data.y)"
      ],
      "metadata": {
        "id": "p5ABmvZqYoFL",
        "colab": {
          "base_uri": "https://localhost:8080/"
        },
        "outputId": "cf95a932-a40a-4a04-bf98-57ef96e9a7e3"
      },
      "execution_count": 20,
      "outputs": [
        {
          "output_type": "execute_result",
          "data": {
            "text/plain": [
              "(103.072, 11, 3)"
            ]
          },
          "metadata": {},
          "execution_count": 20
        }
      ]
    },
    {
      "cell_type": "code",
      "source": [
        "## Paso 10: Declarar el operador de evaluacion\n",
        "toolbox.register(\"evaluate\",symbolicRegression,points = data.x, true = data.y)\n"
      ],
      "metadata": {
        "id": "UfwLDzaeY5WT"
      },
      "execution_count": 21,
      "outputs": []
    },
    {
      "cell_type": "code",
      "source": [
        "## Paso 11: Declarar los operadores geneticos\n",
        "\n",
        "toolbox.register(\"select\", tools.selTournament, tournsize=3)\n",
        "toolbox.register(\"mate\", gp.cxOnePoint)\n",
        "toolbox.register(\"expr_mut\", gp.genFull, min_=0, max_=2)\n",
        "toolbox.register(\"mutate\", gp.mutUniform, expr=toolbox.expr_mut, pset=pset)"
      ],
      "metadata": {
        "id": "fdiG8ct7Y-Hx"
      },
      "execution_count": 22,
      "outputs": []
    },
    {
      "cell_type": "code",
      "source": [
        "# bloat control:\n",
        "\n",
        "\n",
        "toolbox.decorate(\"mate\", gp.staticLimit(key=op.attrgetter(\"height\"), max_value=17))\n",
        "toolbox.decorate(\"mutate\", gp.staticLimit(key=op.attrgetter(\"height\"), max_value=17))"
      ],
      "metadata": {
        "id": "NxFItRwYZElc"
      },
      "execution_count": 23,
      "outputs": []
    },
    {
      "cell_type": "code",
      "source": [
        "def symbreg():\n",
        "\n",
        "    pop = toolbox.populationCreator(POPULATION_SIZE)\n",
        "    hof = tools.HallOfFame(HALL_OF_FAME_SIZE)\n",
        "\n",
        "    stats_fit = tools.Statistics(lambda ind: ind.fitness.values)\n",
        "    stats_size = tools.Statistics(len)\n",
        "\n",
        "    mstats = tools.MultiStatistics(fitness=stats_fit, size=stats_size)\n",
        "    mstats.register(\"avg\", np.mean)\n",
        "    mstats.register(\"std\", np.std)\n",
        "    mstats.register(\"min\", np.min)\n",
        "    mstats.register(\"max\", np.max)\n",
        "\n",
        "    pop, log = algorithms.eaSimple(pop,\n",
        "                                   toolbox,\n",
        "                                   cxpb=P_CROSSOVER,\n",
        "                                   mutpb=P_MUTATION,\n",
        "                                   ngen=MAX_GENERATIONS,\n",
        "                                   stats=mstats,\n",
        "                                   halloffame=hof,\n",
        "                                   verbose=True)\n",
        "    # print log\n",
        "    best = hof.items[0]\n",
        "\n",
        "    print(\"-- length={}, height={}\".format(len(best), best.height))\n",
        "    print(\"-- Best Fitness = \", best.fitness.values[0])\n",
        "\n",
        "\n",
        "    # plot best tree:\n",
        "    nodes, edges, labels = gp.graph(best)\n",
        "    g = nx.Graph()\n",
        "    g.add_nodes_from(nodes)\n",
        "    g.add_edges_from(edges)\n",
        "    pos = nx.spring_layout(g)\n",
        "\n",
        "    nx.draw_networkx_nodes(g, pos, node_color='cyan')\n",
        "    nx.draw_networkx_nodes(g, pos, nodelist=[0], node_color='red', node_size=400)\n",
        "\n",
        "    nx.draw_networkx_edges(g, pos)\n",
        "    nx.draw_networkx_labels(g, pos, **{\"labels\": labels, \"font_size\": 8})\n",
        "    plt.show()\n",
        "\n",
        "    print(\"-- Best Individual = \", best)\n",
        "\n",
        "    tree = gp.PrimitiveTree(best)\n",
        "\n",
        "    bestSym = toolbox.compile(expr = best)\n",
        "    x2 = sp.Symbol('x')\n",
        "    print(bestSym(x2))\n",
        "\n",
        "    listres = []\n",
        "\n",
        "    for i in range(len(data.x)):\n",
        "        listres.append(\"x: %2f\" % data.x[i])\n",
        "        listres.append(\"y: %2f\" % bestSym(data.x[i]))\n",
        "    i=0\n",
        "    j=0\n",
        "    SSE = 0.0\n",
        "    while i < len(listres):\n",
        "        print(\"%s %s    Actual: %2f     Square error: %2f\" %(listres[i],listres[i+1],data.y[j],(bestSym(data.x[j])-data.y[j])**2))\n",
        "        SSE+=(bestSym(data.x[j])-data.y[j])**2\n",
        "        j=j+1\n",
        "        i=i+2\n",
        "    SSE/=len(data.x)\n",
        "    print(\"Seed: %d, Fitness: %2f\"%(RANDOM_SEED,SSE))\n",
        "\n",
        "    print('Comparación grafica')\n",
        "\n",
        "    plt.plot(data.x,data.y)\n",
        "    plt.plot(data.x, [bestSym(i) for i in data.x])\n",
        "    plt.legend(('Datos reales', 'Datos aproximados'),\n",
        "            prop = {'size': 10}, loc='upper right')\n",
        "    plt.show()\n"
      ],
      "metadata": {
        "id": "opA1o9xAZJWn"
      },
      "execution_count": 24,
      "outputs": []
    },
    {
      "cell_type": "code",
      "source": [
        "symbreg()"
      ],
      "metadata": {
        "id": "GRR95nMqam-H",
        "colab": {
          "base_uri": "https://localhost:8080/",
          "height": 1000
        },
        "outputId": "cd68295f-e34c-4bfc-f656-0d00489b7c78"
      },
      "execution_count": 25,
      "outputs": [
        {
          "output_type": "stream",
          "name": "stdout",
          "text": [
            "   \t      \t                    fitness                    \t                      size                     \n",
            "   \t      \t-----------------------------------------------\t-----------------------------------------------\n",
            "gen\tnevals\tavg    \tgen\tmax    \tmin\tnevals\tstd    \tavg    \tgen\tmax\tmin\tnevals\tstd    \n",
            "0  \t300   \t215.768\t0  \t94193.2\t1  \t300   \t3189.28\t7.33333\t0  \t15 \t3  \t300   \t4.69846\n",
            "1  \t162   \t15.0941\t1  \t1683.27\t1  \t162   \t60.7424\t6.81333\t1  \t21 \t3  \t162   \t4.68954\n",
            "2  \t181   \t14.5569\t2  \t1554.71\t0  \t181   \t72.2453\t6.52   \t2  \t23 \t1  \t181   \t4.18365\n",
            "3  \t169   \t12.8462\t3  \t1216.61\t0  \t169   \t42.9969\t6.84   \t3  \t21 \t1  \t169   \t3.8368 \n",
            "4  \t174   \t17.1325\t4  \t1849.53\t0  \t174   \t106.052\t7.07333\t4  \t19 \t1  \t174   \t3.8168 \n",
            "5  \t176   \t12.497 \t5  \t1441.99\t0  \t176   \t50.1767\t7.18   \t5  \t21 \t1  \t176   \t3.57877\n",
            "6  \t175   \t14.7245\t6  \t2659.19\t0  \t175   \t93.7343\t7.88667\t6  \t21 \t1  \t175   \t3.82977\n",
            "7  \t171   \t12.9594\t7  \t1907.25\t0  \t171   \t65.1413\t8.20667\t7  \t21 \t1  \t171   \t3.8881 \n",
            "8  \t169   \t170.711\t8  \t126447 \t0  \t169   \t4220.65\t9.37333\t8  \t21 \t1  \t169   \t4.29813\n",
            "9  \t159   \t15.7728\t9  \t1554.71\t0  \t159   \t86.8769\t10.7667\t9  \t25 \t1  \t159   \t5.1832 \n",
            "10 \t174   \t11.4753\t10 \t168.972\t0  \t174   \t14.7971\t11.98  \t10 \t27 \t1  \t174   \t5.44423\n",
            "11 \t185   \t15.3264\t11 \t1857.61\t0  \t185   \t81.9624\t13.32  \t11 \t33 \t1  \t185   \t6.09953\n",
            "12 \t151   \t557.984\t12 \t392474 \t1  \t151   \t13475.9\t14.3267\t12 \t33 \t3  \t151   \t6.37599\n",
            "13 \t178   \t13.7116\t13 \t1441.99\t0  \t178   \t51.1655\t15.7467\t13 \t51 \t1  \t178   \t7.32137\n",
            "14 \t162   \t15.2864\t14 \t1474.37\t1  \t162   \t69.7294\t17.5533\t14 \t51 \t3  \t162   \t7.8469 \n",
            "15 \t166   \t23.9825\t15 \t6244.41\t1  \t166   \t222.118\t19.94  \t15 \t51 \t3  \t166   \t8.55783\n",
            "16 \t182   \t112.894\t16 \t74102.2\t1  \t182   \t2519.29\t22.8533\t16 \t67 \t3  \t182   \t9.50255\n",
            "17 \t154   \t14.7387\t17 \t188.6  \t1  \t154   \t14.6193\t25.0467\t17 \t73 \t3  \t154   \t10.5823\n",
            "18 \t171   \t15.4623\t18 \t168.972\t1  \t171   \t14.9805\t26.18  \t18 \t55 \t3  \t171   \t9.27978\n",
            "19 \t165   \t18.6674\t19 \t2937.21\t2  \t165   \t98.5468\t26.82  \t19 \t75 \t5  \t165   \t10.3618\n",
            "20 \t162   \t31.2783\t20 \t12208.8\t0  \t162   \t411.355\t28.4533\t20 \t75 \t1  \t162   \t10.849 \n",
            "21 \t160   \t129.397\t21 \t98000.8\t0  \t160   \t3265   \t30.72  \t21 \t97 \t1  \t160   \t11.9789\n",
            "22 \t175   \t20.7286\t22 \t1747.79\t0  \t175   \t72.6558\t33.3133\t22 \t77 \t1  \t175   \t10.881 \n",
            "23 \t172   \t153.696\t23 \t120030 \t0.657739\t172   \t3998.52\t36.4667\t23 \t77 \t7  \t172   \t11.8088\n",
            "24 \t170   \t105.812\t24 \t73265  \t0.659897\t170   \t2441.1 \t41.14  \t24 \t103\t7  \t170   \t13.4102\n",
            "25 \t151   \t23.9404\t25 \t1541.43\t0.332   \t151   \t57.261 \t44.3933\t25 \t109\t7  \t151   \t14.3997\n",
            "26 \t155   \t36.0435\t26 \t1887.61\t0.332   \t155   \t130.461\t46.6867\t26 \t89 \t15 \t155   \t14.1259\n",
            "27 \t160   \t78.5658\t27 \t41685.5\t0.332   \t160   \t1393.24\t48.72  \t27 \t103\t7  \t160   \t16.1419\n",
            "28 \t168   \t40.7353\t28 \t1980.64\t0.332   \t168   \t161.806\t49.8733\t28 \t89 \t15 \t168   \t16.3429\n",
            "29 \t164   \t153.68 \t29 \t107638 \t0.332   \t164   \t3586.59\t47.2533\t29 \t97 \t5  \t164   \t17.8875\n",
            "30 \t151   \t39.9625\t30 \t1952.47\t0       \t151   \t165.598\t42.7667\t30 \t119\t1  \t151   \t15.2127\n",
            "31 \t172   \t42.138 \t31 \t1975.53\t0.222642\t172   \t180.799\t39.8133\t31 \t85 \t11 \t172   \t13.112 \n",
            "32 \t155   \t35.0754\t32 \t2188.97\t0.222642\t155   \t160.22 \t38.0067\t32 \t93 \t15 \t155   \t13.8261\n",
            "33 \t169   \t142.419\t33 \t39846.4\t0.222642\t169   \t1996.72\t35.9133\t33 \t83 \t15 \t169   \t12.3172\n",
            "34 \t153   \t70.7448\t34 \t39847.4\t0       \t153   \t1330.8 \t34.6667\t34 \t79 \t1  \t153   \t12.2058\n",
            "35 \t158   \t39.6081\t35 \t2367.29\t0       \t158   \t176.68 \t34.1333\t35 \t73 \t1  \t158   \t11.9184\n",
            "36 \t162   \t33.0107\t36 \t1952.47\t0       \t162   \t139.618\t35.1333\t36 \t99 \t1  \t162   \t13.2114\n",
            "37 \t159   \t32.885 \t37 \t2430.47\t0       \t159   \t147.38 \t36.4333\t37 \t67 \t1  \t159   \t14.5872\n",
            "38 \t174   \t42.0632\t38 \t3870.73\t0.229875\t174   \t200.256\t39.5467\t38 \t75 \t3  \t174   \t16.3551\n",
            "39 \t174   \t31.1325\t39 \t1943.65\t0.229875\t174   \t119.941\t43.0067\t39 \t97 \t7  \t174   \t16.8796\n",
            "40 \t169   \t26.4518\t40 \t1174.11\t0       \t169   \t67.3013\t43.1333\t40 \t81 \t1  \t169   \t17.8746\n",
            "-- length=69, height=17\n",
            "-- Best Fitness =  0.222642286165431\n"
          ]
        },
        {
          "output_type": "display_data",
          "data": {
            "text/plain": [
              "<Figure size 640x480 with 1 Axes>"
            ],
            "image/png": "[encoded data removed]"
          },
          "metadata": {}
        },
        {
          "output_type": "stream",
          "name": "stdout",
          "text": [
            "-- Best Individual =  add(add(add(protectedDiv(mul(x, x), mul(-1, x)), add(1, 1)), 1), sub(1, mul(protectedDiv(add(1, sub(sub(protectedDiv(add(1, sub(x, mul(x, -1))), add(x, 1)), -1), mul(sub(protectedDiv(add(1, 0), add(x, protectedDiv(add(1, sub(1, mul(sub(protectedDiv(add(1, 0), add(x, x)), -1), -1))), add(sub(protectedDiv(0, x), 0), x)))), -1), -1))), 1), -1)))\n",
            "-x + 7 + 1/(x + (3 + 1/(2*x))/x) + (2*x + 1)/(x + 1)\n",
            "x: 0.000000 y: 9.250000    Actual: 9.200000     Square error: 0.002500\n",
            "x: 1.000000 y: 7.722222    Actual: 7.000000     Square error: 0.521605\n",
            "x: 2.000000 y: 6.942529    Actual: 7.300000     Square error: 0.127786\n",
            "x: 3.000000 y: 5.996575    Actual: 6.800000     Square error: 0.645491\n",
            "x: 4.000000 y: 5.009150    Actual: 4.900000     Square error: 0.011914\n",
            "x: 5.000000 y: 4.011269    Actual: 3.900000     Square error: 0.012381\n",
            "x: 6.000000 y: 3.010661    Actual: 3.800000     Square error: 0.623056\n",
            "x: 7.000000 y: 2.009431    Actual: 2.400000     Square error: 0.152544\n",
            "x: 8.000000 y: 1.008181    Actual: 0.800000     Square error: 0.043339\n",
            "x: 9.000000 y: 0.007072    Actual: 0.300000     Square error: 0.085807\n",
            "Seed: 42, Fitness: 0.222642\n",
            "Comparación grafica\n"
          ]
        },
        {
          "output_type": "display_data",
          "data": {
            "text/plain": [
              "<Figure size 640x480 with 1 Axes>"
            ],
            "image/png": "[encoded data removed]"
          },
          "metadata": {}
        }
      ]
    }
  ]
}