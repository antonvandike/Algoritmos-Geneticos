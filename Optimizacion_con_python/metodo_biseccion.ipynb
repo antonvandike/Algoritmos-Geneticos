{
  "nbformat": 4,
  "nbformat_minor": 0,
  "metadata": {
    "colab": {
      "provenance": [],
      "authorship_tag": "ABX9TyO0sQ/qYCfmWJhyRUcnyuHp",
      "include_colab_link": true
    },
    "kernelspec": {
      "name": "python3",
      "display_name": "Python 3"
    },
    "language_info": {
      "name": "python"
    }
  },
  "cells": [
    {
      "cell_type": "markdown",
      "metadata": {
        "id": "view-in-github",
        "colab_type": "text"
      },
      "source": [
        "<a href=\"https://colab.research.google.com/github/luisantoniourbanaviles/Algoritmos-Geneticos/blob/main/Optimizacion_con_python/metodo_biseccion.ipynb\" target=\"_parent\"><img src=\"https://colab.research.google.com/assets/colab-badge.svg\" alt=\"Open In Colab\"/></a>"
      ]
    },
    {
      "cell_type": "markdown",
      "source": [
        "# Metodo de biseccion\n"
      ],
      "metadata": {
        "id": "4R2qi79XVDub"
      }
    },
    {
      "cell_type": "markdown",
      "source": [
        "## Funcion del video"
      ],
      "metadata": {
        "id": "4DYplVMfVIt6"
      }
    },
    {
      "cell_type": "code",
      "source": [
        "def T(x):\n",
        "  f  = 10400/(x - 20) + 204165.5/(-2*x + 330)\n",
        "  return(f)"
      ],
      "metadata": {
        "id": "d58x-uzg8_jI"
      },
      "execution_count": 24,
      "outputs": []
    },
    {
      "cell_type": "markdown",
      "source": [
        "## Librerias a usar"
      ],
      "metadata": {
        "id": "W3oMDARtVTxO"
      }
    },
    {
      "cell_type": "code",
      "source": [
        "import numpy as np"
      ],
      "metadata": {
        "id": "gPWhDSVt8LtI"
      },
      "execution_count": 3,
      "outputs": []
    },
    {
      "cell_type": "markdown",
      "source": [
        "## Codigo de biseccion"
      ],
      "metadata": {
        "id": "hgrhw_00VcWW"
      }
    },
    {
      "cell_type": "code",
      "source": [
        "def biseccion(f,a,b,e):\n",
        "  h=0.0001\n",
        "  while np.linalg.norm(Gradient(f,a,h))>0.0001:\n",
        "    alpha = (a+b)/2\n",
        "\n",
        "    G_a = Gradient(f,a,h)\n",
        "    G_alpha = Gradient(f,alpha,h)\n",
        "\n",
        "    if G_a*G_alpha<0:\n",
        "      b=alpha\n",
        "\n",
        "    else:\n",
        "      a=alpha\n",
        "\n",
        "  return(a,b)\n"
      ],
      "metadata": {
        "id": "7V2hDJUJ6h-x"
      },
      "execution_count": 4,
      "outputs": []
    },
    {
      "cell_type": "markdown",
      "source": [
        "## Diferencias finitas"
      ],
      "metadata": {
        "id": "5-4hkNAUVi6j"
      }
    },
    {
      "cell_type": "code",
      "execution_count": 5,
      "metadata": {
        "id": "2yJBunfA5bGc"
      },
      "outputs": [],
      "source": [
        "def df(f,x,h,A):\n",
        "  P=[-2,-1,1,2] # Parametros que van dentro de la funcion\n",
        "  F=[1,-8,8,-1] # Parametros que multiplican a la funcion evaluada\n",
        "\n",
        "  df = 0\n",
        "  for k in range(len(P)):\n",
        "    df = df + F[k]*f(x+P[k]*h*A)\n",
        "\n",
        "  df = (1/(12*h))*df\n",
        "  return(df)"
      ]
    },
    {
      "cell_type": "markdown",
      "source": [
        "## Gradiente"
      ],
      "metadata": {
        "id": "GbQwfR5YVlAQ"
      }
    },
    {
      "cell_type": "code",
      "source": [
        "def Gradient(f,x,h):\n",
        "  x = np.array(x)\n",
        "  n = np.size(x)\n",
        "  A = np.identity(n)\n",
        "  G = np.zeros((n,1))\n",
        "  for k in range(n):\n",
        "    G[k] = df(f,x,h,A[k]);\n",
        "  return(G)"
      ],
      "metadata": {
        "id": "H9_cNIcb5rDC"
      },
      "execution_count": 6,
      "outputs": []
    },
    {
      "cell_type": "markdown",
      "source": [
        "## Funciones del articulo"
      ],
      "metadata": {
        "id": "K1f7xub2WMFV"
      }
    },
    {
      "cell_type": "code",
      "source": [
        "def f_p(x):\n",
        "  f  = -(x**6)/60 -(x**5)/50 + (x**4)/2 + 2*(x**3)/3 - 3.2*(x**2) -6.4*x\n",
        "  return(f)"
      ],
      "metadata": {
        "id": "kfrkDAWA50YK"
      },
      "execution_count": 7,
      "outputs": []
    },
    {
      "cell_type": "code",
      "source": [
        "def f_r(x):\n",
        "  f  = -((x**6) + (x**5) - 10*(x**2) - 10*x - 12)/((x**2)+6)\n",
        "  return(f)"
      ],
      "metadata": {
        "id": "h8I5gXR4OuLS"
      },
      "execution_count": 8,
      "outputs": []
    },
    {
      "cell_type": "code",
      "source": [
        "def f_i(x):\n",
        "  f  = 5 - np.sqrt((x**4) + 2*(x**3) - 3*(x**2) + 13)\n",
        "  return(f)"
      ],
      "metadata": {
        "id": "DyvVXZzEO9bI"
      },
      "execution_count": 9,
      "outputs": []
    },
    {
      "cell_type": "code",
      "source": [
        "def f_t(x):\n",
        "  f  = (np.sin(3*x+45)**2) + 0.9*(np.sin(9*x)**3) - np.sin(15*x + 50) - np.cos(2*x - 30)\n",
        "  return(f)"
      ],
      "metadata": {
        "id": "hz7Wo98HPB4p"
      },
      "execution_count": 10,
      "outputs": []
    },
    {
      "cell_type": "code",
      "source": [
        "def f_nrv(x):\n",
        "  f  = np.sin(2*np.pi*x)/x -np.cos(3*np.pi*x)/x\n",
        "  return(f)"
      ],
      "metadata": {
        "id": "dC6oboQwPFM5"
      },
      "execution_count": 11,
      "outputs": []
    },
    {
      "cell_type": "code",
      "source": [
        "def f_nrh(x):\n",
        "  f  = (2*x-1)/(x**2)\n",
        "  return(f)"
      ],
      "metadata": {
        "id": "f5T_nwPDPIKK"
      },
      "execution_count": 12,
      "outputs": []
    },
    {
      "cell_type": "code",
      "source": [
        "def f_l(x):\n",
        "  f  = -(x**4)*(np.log(abs(x))-1)\n",
        "  return(f)"
      ],
      "metadata": {
        "id": "Ba6_x39oQlVZ"
      },
      "execution_count": 13,
      "outputs": []
    },
    {
      "cell_type": "code",
      "source": [
        "def f_e(x):\n",
        "  f  = np.exp(-x)*(np.log(abs(x)) + x/abs(x))\n",
        "  return(f)"
      ],
      "metadata": {
        "id": "NT0losUbQnmw"
      },
      "execution_count": 14,
      "outputs": []
    },
    {
      "cell_type": "markdown",
      "source": [
        "## Uso del codigo"
      ],
      "metadata": {
        "id": "1OYZAEk6Wtb7"
      }
    },
    {
      "cell_type": "code",
      "source": [
        "# funcion polinomial\n",
        "\n",
        "a,b = biseccion(f_p,-5,5,0.0001)\n",
        "print(a,b,f_p(a),f_p(b))"
      ],
      "metadata": {
        "colab": {
          "base_uri": "https://localhost:8080/"
        },
        "id": "Qf_I-M8EQt5Y",
        "outputId": "2509a84f-383e-4ec9-f39d-4897545cf411"
      },
      "execution_count": 15,
      "outputs": [
        {
          "output_type": "stream",
          "name": "stdout",
          "text": [
            "-4.000000953674316 -3.9999961853027344 11.946666666653563 11.946666666457112\n"
          ]
        }
      ]
    },
    {
      "cell_type": "code",
      "source": [],
      "metadata": {
        "id": "R79j1AM5XA1D"
      },
      "execution_count": 15,
      "outputs": []
    },
    {
      "cell_type": "code",
      "source": [
        "# funcion polinomial\n",
        "\n",
        "a,b = biseccion(f_p,-5,5,0.0001)\n",
        "print(a,b,f_p(a),f_p(b))"
      ],
      "metadata": {
        "colab": {
          "base_uri": "https://localhost:8080/"
        },
        "id": "pW_4eL1IXDJj",
        "outputId": "065ed0f8-7bc4-4f78-ae8c-3dabe5ee87ef"
      },
      "execution_count": 16,
      "outputs": [
        {
          "output_type": "stream",
          "name": "stdout",
          "text": [
            "-4.000000953674316 -3.9999961853027344 11.946666666653563 11.946666666457112\n"
          ]
        }
      ]
    },
    {
      "cell_type": "code",
      "source": [
        "# funcion racional\n",
        "\n",
        "a,b = biseccion(f_r,-3,3,0.0001)\n",
        "print(a,b,f_r(a),f_r(b))"
      ],
      "metadata": {
        "colab": {
          "base_uri": "https://localhost:8080/"
        },
        "id": "0Bx_QMLAXDWI",
        "outputId": "3d26d196-db5d-47d8-8621-2eaf7fb9c61d"
      },
      "execution_count": 17,
      "outputs": [
        {
          "output_type": "stream",
          "name": "stdout",
          "text": [
            "1.1765785217285156 1.1765899658203125 4.428487621943701 4.428487621253146\n"
          ]
        }
      ]
    },
    {
      "cell_type": "code",
      "source": [
        "# funcion irracional\n",
        "\n",
        "a,b = biseccion(f_i,-4,3,0.0001)\n",
        "print(a,b,f_i(a),f_i(b))"
      ],
      "metadata": {
        "colab": {
          "base_uri": "https://localhost:8080/"
        },
        "id": "GjwmCtbfXDjU",
        "outputId": "b9dbb60d-a548-4ad7-97a1-61725ae0c972"
      },
      "execution_count": 18,
      "outputs": [
        {
          "output_type": "stream",
          "name": "stdout",
          "text": [
            "-2.1861467361450195 -2.1861400604248047 4.220789007250886 4.220789007545326\n"
          ]
        }
      ]
    },
    {
      "cell_type": "code",
      "source": [
        "# funcion trigonometrica\n",
        "\n",
        "a,b = biseccion(f_t,-4,4,0.0001)\n",
        "print(a,b,f_t(a),f_t(b))"
      ],
      "metadata": {
        "colab": {
          "base_uri": "https://localhost:8080/"
        },
        "id": "8LS88YC8XDrO",
        "outputId": "75f9a231-3934-415c-fd6a-b0c1ea35e5c9"
      },
      "execution_count": 19,
      "outputs": [
        {
          "output_type": "stream",
          "name": "stdout",
          "text": [
            "-0.9611930847167969 -0.9611892700195312 0.5880383378086302 0.5880383361091892\n"
          ]
        }
      ]
    },
    {
      "cell_type": "code",
      "source": [
        "# funcion racional no continua con asintota vertical\n",
        "\n",
        "a,b = biseccion(f_nrv,-4,4,0.0001)\n",
        "print(a,b,f_nrv(a),f_nrv(b))"
      ],
      "metadata": {
        "colab": {
          "base_uri": "https://localhost:8080/"
        },
        "id": "UuYlP64UXDzR",
        "outputId": "a78f0c68-fdcd-4b42-ca12-2cb3bc65f19a"
      },
      "execution_count": 20,
      "outputs": [
        {
          "output_type": "stream",
          "name": "stdout",
          "text": [
            "0.6694416999816895 0.6694421768188477 -2.7997499240813024 -2.799749924078375\n"
          ]
        }
      ]
    },
    {
      "cell_type": "code",
      "source": [
        "# funcion racional no continua con asintota horizontal\n",
        "\n",
        "a,b = biseccion(f_nrh,-4,4,0.0001)\n",
        "print(a,b,f_nrh(a),f_nrh(b))"
      ],
      "metadata": {
        "colab": {
          "base_uri": "https://localhost:8080/"
        },
        "id": "w3TjTlY3XD6G",
        "outputId": "a80ecf5c-dcad-4351-fb38-30b1a0e534b6"
      },
      "execution_count": 21,
      "outputs": [
        {
          "output_type": "stream",
          "name": "stdout",
          "text": [
            "-0.000264568703940465 -0.0002645687039404649 -14293967.852791926 -14293967.852791937\n"
          ]
        }
      ]
    },
    {
      "cell_type": "code",
      "source": [
        "# funcion logaritmica\n",
        "\n",
        "a,b = biseccion(f_l,-3,3,0.0001)\n",
        "print(a,b,f_l(a),f_l(b))"
      ],
      "metadata": {
        "colab": {
          "base_uri": "https://localhost:8080/"
        },
        "id": "R9wK7ffkXW7k",
        "outputId": "8b308760-1e1c-48bc-c17a-f8e586559d47"
      },
      "execution_count": 22,
      "outputs": [
        {
          "output_type": "stream",
          "name": "stdout",
          "text": [
            "0.0 3 nan -7.987595382116893\n"
          ]
        },
        {
          "output_type": "stream",
          "name": "stderr",
          "text": [
            "<ipython-input-13-c24ae73bb175>:2: RuntimeWarning: divide by zero encountered in log\n",
            "  f  = -(x**4)*(np.log(abs(x))-1)\n",
            "<ipython-input-13-c24ae73bb175>:2: RuntimeWarning: invalid value encountered in double_scalars\n",
            "  f  = -(x**4)*(np.log(abs(x))-1)\n"
          ]
        }
      ]
    },
    {
      "cell_type": "code",
      "source": [
        "# funcion exponencial\n",
        "\n",
        "a,b = biseccion(f_e,-3,3,0.0001)\n",
        "print(a,b,f_e(a),f_e(b))"
      ],
      "metadata": {
        "colab": {
          "base_uri": "https://localhost:8080/"
        },
        "id": "NxbFtGi9Xz9Y",
        "outputId": "aebef7e1-d040-41ae-ad4e-629e4cface00"
      },
      "execution_count": 23,
      "outputs": [
        {
          "output_type": "stream",
          "name": "stdout",
          "text": [
            "-7.274991003214382e-05 -7.27498991182074e-05 -10.529248862629853 -10.529249012545792\n"
          ]
        }
      ]
    }
  ]
}