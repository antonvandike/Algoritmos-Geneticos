{
  "nbformat": 4,
  "nbformat_minor": 0,
  "metadata": {
    "colab": {
      "provenance": [],
      "authorship_tag": "ABX9TyOcSeQmP+mumOTXafTzFadC",
      "include_colab_link": true
    },
    "kernelspec": {
      "name": "python3",
      "display_name": "Python 3"
    },
    "language_info": {
      "name": "python"
    }
  },
  "cells": [
    {
      "cell_type": "markdown",
      "metadata": {
        "id": "view-in-github",
        "colab_type": "text"
      },
      "source": [
        "<a href=\"https://colab.research.google.com/github/antonvandike/Algoritmos-Geneticos/blob/main/Libro_Eyal_Wirsansky/Handson_chapter_6_4_simionescu.ipynb\" target=\"_parent\"><img src=\"https://colab.research.google.com/assets/colab-badge.svg\" alt=\"Open In Colab\"/></a>"
      ]
    },
    {
      "cell_type": "markdown",
      "source": [
        "#Solucion del problema de la funcion de Simionescu"
      ],
      "metadata": {
        "id": "pVVtyKf7dVZH"
      }
    },
    {
      "cell_type": "markdown",
      "source": [
        "###Configuraciones y definiciones"
      ],
      "metadata": {
        "id": "jUyH11RZdH6j"
      }
    },
    {
      "cell_type": "code",
      "source": [
        "pip install deap"
      ],
      "metadata": {
        "colab": {
          "base_uri": "https://localhost:8080/"
        },
        "id": "JE91VIDQCHrA",
        "outputId": "0af7a964-3add-4451-9692-c94ca98bc63a"
      },
      "execution_count": null,
      "outputs": [
        {
          "output_type": "stream",
          "name": "stdout",
          "text": [
            "Requirement already satisfied: deap in /usr/local/lib/python3.10/dist-packages (1.4.1)\n",
            "Requirement already satisfied: numpy in /usr/local/lib/python3.10/dist-packages (from deap) (1.25.2)\n"
          ]
        }
      ]
    },
    {
      "cell_type": "markdown",
      "source": [
        "#Solucion del problema del agente de ventas viajero"
      ],
      "metadata": {
        "id": "ohjtxY33tjmD"
      }
    },
    {
      "cell_type": "markdown",
      "source": [
        "###Configuraciones y definiciones"
      ],
      "metadata": {
        "id": "dx6mGb10tjmE"
      }
    },
    {
      "cell_type": "code",
      "execution_count": null,
      "metadata": {
        "id": "_o0YKIs34_AR"
      },
      "outputs": [],
      "source": [
        "## Paso 1: Modulos\n",
        "\n",
        "from deap import base\n",
        "from deap import creator\n",
        "from deap import tools\n",
        "\n",
        "import random as rd\n",
        "import numpy as np\n",
        "\n",
        "import matplotlib.pyplot as plt\n",
        "import seaborn as sns\n",
        "\n",
        "import elitism\n",
        "import math"
      ]
    },
    {
      "cell_type": "code",
      "source": [
        "# Constantes del problema:\n",
        "\n",
        "DIMENSIONS = 2  # number of dimensions\n",
        "BOUND_LOW, BOUND_UP = -1.25, 1.25  # boundaries for all dimensions"
      ],
      "metadata": {
        "id": "DnZPCG94uGyl"
      },
      "execution_count": null,
      "outputs": []
    },
    {
      "cell_type": "code",
      "source": [
        "# Valor de penalidad para las restricciones\n",
        "\n",
        "PENALTY_VALUE = 10.0"
      ],
      "metadata": {
        "id": "dNHAEKCMPVgH"
      },
      "execution_count": null,
      "outputs": []
    },
    {
      "cell_type": "code",
      "source": [
        "## Paso 2: Parametros del problema\n",
        "\n",
        "# Contenido del problema del agente viajero\n",
        "\n",
        "POPULATION_SIZE = 300     # Tamaño de la poblacion de individuos\n",
        "P_CROSSOVER     =  0.9    # Probabilidad de cruza\n",
        "P_MUTATION      =  0.5    # Probabilidad de mutación\n",
        "\n",
        "MAX_GENERATIONS = 300     # Maximo numero de generaciones (condición de termino)"
      ],
      "metadata": {
        "id": "sk8gDOZfLjT5"
      },
      "execution_count": null,
      "outputs": []
    },
    {
      "cell_type": "code",
      "source": [
        "HALL_OF_FAME_SIZE = 30"
      ],
      "metadata": {
        "id": "T8ksHqrDLC3A"
      },
      "execution_count": null,
      "outputs": []
    },
    {
      "cell_type": "code",
      "source": [
        "CROWDING_FACTOR = 20.0  # Factor de aglomeracion para cruza y mutacion"
      ],
      "metadata": {
        "id": "hkriYODeudGj"
      },
      "execution_count": null,
      "outputs": []
    },
    {
      "cell_type": "code",
      "source": [
        "## Paso 3: Elementos aleatorios\n",
        "\n",
        "RANDOM_SEED = 42          # Comunmente cuando se experimenta con un codigo\n",
        "rd.seed(RANDOM_SEED)      # se corre el problema con los mismos parametros\n",
        "                          # para repetir y compara resultados"
      ],
      "metadata": {
        "id": "eDnBQiyiNGGu"
      },
      "execution_count": null,
      "outputs": []
    },
    {
      "cell_type": "code",
      "source": [
        "## Paso 4: Declarando el cromosoma\n",
        "toolbox = base.Toolbox()\n",
        "\n",
        "def randomFloat(low, up):\n",
        "    return [rd.uniform(l, u) for l, u in zip([low] * DIMENSIONS, [up] * DIMENSIONS)]\n",
        "\n",
        "toolbox.register(\"attrFloat\", randomFloat, BOUND_LOW, BOUND_UP)"
      ],
      "metadata": {
        "id": "4O4iiU3bSF9G"
      },
      "execution_count": null,
      "outputs": []
    },
    {
      "cell_type": "code",
      "source": [
        "toolbox.attrFloat()"
      ],
      "metadata": {
        "colab": {
          "base_uri": "https://localhost:8080/"
        },
        "id": "jhGFJHbpu4CW",
        "outputId": "045184f5-c8e3-4c3a-bdb4-d4e3da08ee5b"
      },
      "execution_count": null,
      "outputs": [
        {
          "output_type": "execute_result",
          "data": {
            "text/plain": [
              "[0.3485669961447093, -1.1874731119433326]"
            ]
          },
          "metadata": {},
          "execution_count": 12
        }
      ]
    },
    {
      "cell_type": "code",
      "source": [
        "## Paso 5: Crear la funcion de aptitud (FITNESS)\n",
        "\n",
        "# Se indica maximizacion y un solo peso\n",
        "creator.create('FitnessMin', base.Fitness, weights = (-1.0,))"
      ],
      "metadata": {
        "id": "PfnaIlJPTMBV"
      },
      "execution_count": null,
      "outputs": []
    },
    {
      "cell_type": "code",
      "source": [
        "## Paso 6: Crear la funcion de  aptitud del individuo\n",
        "\n",
        "creator.create(\"Individual\", list, fitness=creator.FitnessMin)"
      ],
      "metadata": {
        "id": "wrTNY_p7VcMt"
      },
      "execution_count": null,
      "outputs": []
    },
    {
      "cell_type": "code",
      "source": [
        "## Paso 7: Declarar el operador para generador de individuos\n",
        "\n",
        "toolbox.register(\"individualCreator\", tools.initIterate, creator.Individual, toolbox.attrFloat)"
      ],
      "metadata": {
        "id": "pVg34tJUYaOE"
      },
      "execution_count": null,
      "outputs": []
    },
    {
      "cell_type": "code",
      "source": [
        "## Paso 8: Declarar el operador para generar la poblacion\n",
        "\n",
        "toolbox.register(\"populationCreator\", tools.initRepeat, list, toolbox.individualCreator)"
      ],
      "metadata": {
        "id": "5OB5u2ePa7wO"
      },
      "execution_count": null,
      "outputs": []
    },
    {
      "cell_type": "code",
      "source": [
        "## Paso 9: Definir función para calcular la aptitud\n",
        "# 'Inverted' Himmelblau function as the given individual's fitness:\n",
        "def simionescu(individual):\n",
        "    x = individual[0]\n",
        "    y = individual[1]\n",
        "    f = 0.1 * x * y\n",
        "    return f,  # return a tuple"
      ],
      "metadata": {
        "id": "W8mXJZs6b_Ei"
      },
      "execution_count": null,
      "outputs": []
    },
    {
      "cell_type": "code",
      "source": [
        "## Paso 10: Declarar el operador de evaluacion\n",
        "\n",
        "toolbox.register(\"evaluate\", simionescu)"
      ],
      "metadata": {
        "id": "ZSbOP09Bcx2W"
      },
      "execution_count": null,
      "outputs": []
    },
    {
      "cell_type": "code",
      "source": [
        "# define the valid input domain using the cosntraints:\n",
        "def feasible(individual):\n",
        "    \"\"\"Feasibility function for the individual.\n",
        "    Returns True if feasible, False otherwise.\n",
        "    \"\"\"\n",
        "    x = individual[0]\n",
        "    y = individual[1]\n",
        "    return x**2 + y**2 <= (1 + 0.2 * math.cos(8.0 * math.atan2(x, y)))**2\n"
      ],
      "metadata": {
        "id": "PFeeflRXQqtr"
      },
      "execution_count": null,
      "outputs": []
    },
    {
      "cell_type": "code",
      "source": [
        "# decorate the fitness function with the delta penalty function:\n",
        "toolbox.decorate(\"evaluate\", tools.DeltaPenalty(feasible, PENALTY_VALUE))"
      ],
      "metadata": {
        "id": "JSyo18D_Qs0b"
      },
      "execution_count": null,
      "outputs": []
    },
    {
      "cell_type": "code",
      "source": [
        "## Paso 11: Declarar los operadores geneticos\n",
        "\n",
        "toolbox.register(\"select\", tools.selTournament, tournsize=2)\n",
        "toolbox.register(\"mate\", tools.cxSimulatedBinaryBounded, low=BOUND_LOW, up=BOUND_UP, eta=CROWDING_FACTOR)\n",
        "toolbox.register(\"mutate\", tools.mutPolynomialBounded, low=BOUND_LOW, up=BOUND_UP, eta=CROWDING_FACTOR, indpb=1.0/DIMENSIONS)"
      ],
      "metadata": {
        "id": "6wv9YN9qdrVi"
      },
      "execution_count": null,
      "outputs": []
    },
    {
      "cell_type": "markdown",
      "source": [
        "###Evolucionando la solución"
      ],
      "metadata": {
        "id": "UPas2s4We39f"
      }
    },
    {
      "cell_type": "code",
      "source": [
        "def simionescu_problem():\n",
        "\n",
        "\n",
        "\n",
        "    # create initial population (generation 0):\n",
        "    population = toolbox.populationCreator(n=POPULATION_SIZE)\n",
        "\n",
        "    # prepare the statistics object:\n",
        "    stats = tools.Statistics(lambda ind: ind.fitness.values)\n",
        "    stats.register(\"min\", np.min)\n",
        "    stats.register(\"avg\", np.mean)\n",
        "\n",
        "    # define the hall-of-fame object:\n",
        "    hof = tools.HallOfFame(HALL_OF_FAME_SIZE)\n",
        "\n",
        "    # perform the Genetic Algorithm flow with elitism:\n",
        "    population, logbook = elitism.eaSimpleWithElitism(population, toolbox, cxpb=P_CROSSOVER, mutpb=P_MUTATION,\n",
        "                                              ngen=MAX_GENERATIONS, stats=stats, halloffame=hof, verbose=True)\n",
        "\n",
        "    # print info for best solution found:\n",
        "    best = hof.items[0]\n",
        "    print(\"-- Best Individual = \", best)\n",
        "    print(\"-- Best Fitness = \", best.fitness.values[0])\n",
        "\n",
        "    # extract statistics:\n",
        "    minFitnessValues, meanFitnessValues = logbook.select(\"min\", \"avg\")\n",
        "\n",
        "    # plot statistics:\n",
        "    sns.set_style(\"whitegrid\")\n",
        "    plt.plot(minFitnessValues, color='red')\n",
        "    plt.plot(meanFitnessValues, color='green')\n",
        "    plt.xlabel('Generation')\n",
        "    plt.ylabel('Min / Average Fitness')\n",
        "    plt.title('Min and Average fitness over Generations')\n",
        "\n",
        "    plt.show()\n",
        "\n"
      ],
      "metadata": {
        "id": "tlyaYNAd2uSn"
      },
      "execution_count": null,
      "outputs": []
    },
    {
      "cell_type": "code",
      "source": [
        "simionescu_problem()"
      ],
      "metadata": {
        "colab": {
          "base_uri": "https://localhost:8080/"
        },
        "id": "TaFnkwBFw_LJ",
        "outputId": "7de4f075-8c8a-48e2-a75a-aa3c5d65f06e"
      },
      "execution_count": null,
      "outputs": [
        {
          "output_type": "stream",
          "name": "stdout",
          "text": [
            "gen\tnevals\tmin      \tavg    \n",
            "0  \t300   \t-0.069787\t4.93296\n",
            "1  \t256   \t-0.069787\t2.55945\n",
            "2  \t258   \t-0.069787\t1.15236\n",
            "3  \t259   \t-0.069787\t1.04513\n",
            "4  \t257   \t-0.0711389\t0.838209\n",
            "5  \t262   \t-0.0711389\t1.10278 \n",
            "6  \t253   \t-0.0713743\t1.03549 \n",
            "7  \t259   \t-0.0713743\t1.33405 \n",
            "8  \t260   \t-0.0713743\t1.46187 \n",
            "9  \t263   \t-0.0717955\t1.79389 \n",
            "10 \t248   \t-0.0717955\t1.78702 \n",
            "11 \t257   \t-0.0719372\t2.28488 \n",
            "12 \t257   \t-0.0719508\t2.45065 \n",
            "13 \t255   \t-0.0719508\t2.71883 \n",
            "14 \t262   \t-0.0719526\t2.11497 \n",
            "15 \t252   \t-0.0719526\t2.18229 \n",
            "16 \t254   \t-0.0719526\t2.58346 \n",
            "17 \t264   \t-0.0719754\t2.28121 \n",
            "18 \t262   \t-0.0719783\t2.51597 \n",
            "19 \t254   \t-0.0719823\t2.4829  \n",
            "20 \t259   \t-0.0719823\t2.95255 \n",
            "21 \t256   \t-0.0719864\t2.51581 \n",
            "22 \t259   \t-0.0719864\t2.61657 \n",
            "23 \t260   \t-0.0719879\t2.68394 \n",
            "24 \t254   \t-0.0719879\t2.64972 \n",
            "25 \t259   \t-0.071993 \t2.51614 \n",
            "26 \t253   \t-0.0719947\t2.78354 \n",
            "27 \t257   \t-0.0719947\t2.98504 \n",
            "28 \t251   \t-0.0719947\t3.18753 \n",
            "29 \t254   \t-0.0719947\t2.7509  \n",
            "30 \t255   \t-0.0719967\t2.71703 \n",
            "31 \t261   \t-0.0719967\t2.88501 \n",
            "32 \t254   \t-0.071997 \t2.3814  \n",
            "33 \t249   \t-0.071997 \t2.34857 \n",
            "34 \t257   \t-0.071997 \t2.51582 \n",
            "35 \t250   \t-0.0719971\t2.58323 \n",
            "36 \t245   \t-0.0719971\t3.01928 \n",
            "37 \t258   \t-0.0719971\t2.7842  \n",
            "38 \t263   \t-0.0719971\t2.61712 \n",
            "39 \t257   \t-0.0719972\t2.98624 \n",
            "40 \t258   \t-0.0719972\t3.35585 \n",
            "41 \t256   \t-0.0719972\t2.88579 \n",
            "42 \t254   \t-0.0719972\t2.54989 \n",
            "43 \t254   \t-0.0719972\t2.75121 \n",
            "44 \t261   \t-0.0719972\t2.95282 \n",
            "45 \t255   \t-0.0719972\t2.51588 \n",
            "46 \t255   \t-0.0719972\t2.51609 \n",
            "47 \t257   \t-0.0719972\t2.68344 \n",
            "48 \t255   \t-0.0719972\t3.28763 \n",
            "49 \t259   \t-0.0719972\t3.49    \n",
            "50 \t261   \t-0.0719972\t3.28846 \n",
            "51 \t261   \t-0.0719972\t3.48922 \n",
            "52 \t257   \t-0.0719972\t3.4904  \n",
            "53 \t255   \t-0.0719972\t2.98683 \n",
            "54 \t260   \t-0.0719972\t3.12063 \n",
            "55 \t260   \t-0.0719972\t3.12074 \n",
            "56 \t258   \t-0.0719972\t2.85232 \n",
            "57 \t257   \t-0.0719972\t2.9529  \n",
            "58 \t259   \t-0.0719972\t3.28809 \n",
            "59 \t257   \t-0.0719972\t2.55023 \n",
            "60 \t255   \t-0.0719972\t2.61638 \n",
            "61 \t253   \t-0.0719972\t2.75039 \n",
            "62 \t250   \t-0.0719972\t2.61595 \n",
            "63 \t260   \t-0.0719972\t3.48902 \n",
            "64 \t260   \t-0.0719972\t3.59007 \n",
            "65 \t261   \t-0.0719972\t3.45619 \n",
            "66 \t247   \t-0.0719972\t2.71764 \n",
            "67 \t262   \t-0.0719972\t2.61733 \n",
            "68 \t255   \t-0.0719972\t2.91826 \n",
            "69 \t256   \t-0.0719972\t3.18771 \n",
            "70 \t255   \t-0.0719972\t2.88609 \n",
            "71 \t258   \t-0.0719972\t2.28167 \n",
            "72 \t262   \t-0.0719972\t2.91932 \n",
            "73 \t252   \t-0.0719972\t2.91865 \n",
            "74 \t262   \t-0.0719972\t2.71732 \n",
            "75 \t254   \t-0.0719972\t2.61652 \n",
            "76 \t262   \t-0.0719972\t2.68339 \n",
            "77 \t252   \t-0.0719972\t3.01968 \n",
            "78 \t257   \t-0.0719972\t3.01977 \n",
            "79 \t261   \t-0.0719972\t2.58299 \n",
            "80 \t258   \t-0.0719972\t2.81782 \n",
            "81 \t251   \t-0.0719972\t2.91814 \n",
            "82 \t252   \t-0.0719972\t3.11914 \n",
            "83 \t248   \t-0.0719972\t2.48181 \n",
            "84 \t262   \t-0.0719972\t2.81756 \n",
            "85 \t257   \t-0.0719972\t2.68335 \n",
            "86 \t255   \t-0.0719972\t2.88507 \n",
            "87 \t256   \t-0.0719972\t2.95206 \n",
            "88 \t252   \t-0.0719972\t3.01934 \n",
            "89 \t262   \t-0.0719972\t2.61648 \n",
            "90 \t254   \t-0.0719972\t2.75088 \n",
            "91 \t254   \t-0.0719972\t2.98564 \n",
            "92 \t253   \t-0.0719972\t2.68424 \n",
            "93 \t252   \t-0.0719972\t2.75084 \n",
            "94 \t253   \t-0.0719972\t2.88492 \n",
            "95 \t254   \t-0.0719972\t2.98614 \n",
            "96 \t256   \t-0.0719972\t3.28769 \n",
            "97 \t262   \t-0.0719972\t3.22091 \n",
            "98 \t251   \t-0.0719972\t2.81867 \n",
            "99 \t249   \t-0.0719972\t2.9863  \n",
            "100\t258   \t-0.0719972\t2.68401 \n",
            "101\t257   \t-0.0719972\t2.64979 \n",
            "102\t248   \t-0.0719972\t2.85141 \n",
            "103\t260   \t-0.0719972\t3.01944 \n",
            "104\t250   \t-0.0719972\t3.15437 \n",
            "105\t253   \t-0.0719972\t3.22184 \n",
            "106\t255   \t-0.0719972\t2.91981 \n",
            "107\t258   \t-0.0719972\t3.01965 \n",
            "108\t256   \t-0.0719972\t2.91872 \n",
            "109\t257   \t-0.0719972\t3.42213 \n",
            "110\t256   \t-0.0719972\t2.95285 \n",
            "111\t256   \t-0.0719972\t2.55034 \n",
            "112\t258   \t-0.0719972\t3.1211  \n",
            "113\t255   \t-0.0719972\t2.95291 \n",
            "114\t253   \t-0.0719972\t2.51608 \n",
            "115\t248   \t-0.0719972\t2.48202 \n",
            "116\t258   \t-0.0719972\t2.91825 \n",
            "117\t254   \t-0.0719972\t2.75005 \n",
            "118\t258   \t-0.0719972\t3.0187  \n",
            "119\t258   \t-0.0719972\t2.68431 \n",
            "120\t263   \t-0.0719972\t2.61701 \n",
            "121\t264   \t-0.0719972\t2.81841 \n",
            "122\t264   \t-0.0719972\t3.0196  \n",
            "123\t261   \t-0.0719972\t2.75074 \n",
            "124\t256   \t-0.0719972\t2.51605 \n",
            "125\t252   \t-0.0719972\t2.88476 \n",
            "126\t260   \t-0.0719972\t3.15375 \n",
            "127\t258   \t-0.0719972\t2.58355 \n",
            "128\t258   \t-0.0719972\t2.95298 \n",
            "129\t255   \t-0.0719972\t2.81792 \n",
            "130\t262   \t-0.0719972\t2.48257 \n",
            "131\t263   \t-0.0719972\t3.25377 \n",
            "132\t256   \t-0.0719972\t3.5893  \n",
            "133\t264   \t-0.0719972\t3.28785 \n",
            "134\t252   \t-0.0719972\t2.44909 \n",
            "135\t262   \t-0.0719972\t3.12007 \n",
            "136\t253   \t-0.0719972\t3.05315 \n",
            "137\t261   \t-0.0719972\t2.68434 \n",
            "138\t255   \t-0.0719972\t3.25406 \n",
            "139\t260   \t-0.0719972\t2.98593 \n",
            "140\t262   \t-0.0719972\t2.9518  \n",
            "141\t263   \t-0.0719972\t2.88485 \n",
            "142\t259   \t-0.0719972\t2.95176 \n",
            "143\t257   \t-0.0719972\t3.11949 \n",
            "144\t248   \t-0.0719972\t2.71693 \n",
            "145\t262   \t-0.0719972\t2.75084 \n",
            "146\t256   \t-0.0719972\t2.51632 \n",
            "147\t247   \t-0.0719972\t2.34816 \n",
            "148\t258   \t-0.0719972\t2.81796 \n",
            "149\t256   \t-0.0719972\t2.5495  \n",
            "150\t256   \t-0.0719972\t2.78414 \n",
            "151\t255   \t-0.0719972\t2.71721 \n",
            "152\t258   \t-0.0719972\t2.85139 \n",
            "153\t258   \t-0.0719972\t3.25403 \n",
            "154\t252   \t-0.0719972\t3.55548 \n",
            "155\t251   \t-0.0719972\t3.28724 \n",
            "156\t256   \t-0.0719972\t3.11994 \n",
            "157\t257   \t-0.0719972\t2.55018 \n",
            "158\t252   \t-0.0719972\t2.88567 \n",
            "159\t247   \t-0.0719972\t2.81806 \n",
            "160\t260   \t-0.0719972\t3.11934 \n",
            "161\t256   \t-0.0719972\t2.85154 \n",
            "162\t261   \t-0.0719972\t3.25512 \n",
            "163\t255   \t-0.0719972\t2.78464 \n",
            "164\t253   \t-0.0719972\t2.95226 \n",
            "165\t258   \t-0.0719972\t2.81842 \n",
            "166\t255   \t-0.0719972\t2.88533 \n",
            "167\t255   \t-0.0719972\t2.91883 \n",
            "168\t255   \t-0.0719972\t2.75129 \n",
            "169\t257   \t-0.0719972\t2.91902 \n",
            "170\t262   \t-0.0719972\t3.15377 \n",
            "171\t253   \t-0.0719972\t3.15373 \n",
            "172\t252   \t-0.0719972\t3.38828 \n",
            "173\t261   \t-0.0719972\t3.45539 \n",
            "174\t255   \t-0.0719972\t2.91864 \n",
            "175\t263   \t-0.0719972\t2.91878 \n",
            "176\t258   \t-0.0719972\t3.22126 \n",
            "177\t256   \t-0.0719972\t2.8183  \n",
            "178\t265   \t-0.0719972\t3.32211 \n",
            "179\t262   \t-0.0719972\t2.91937 \n",
            "180\t257   \t-0.0719972\t3.32218 \n",
            "181\t256   \t-0.0719972\t2.78585 \n",
            "182\t253   \t-0.0719972\t2.786   \n",
            "183\t260   \t-0.0719972\t3.05403 \n",
            "184\t256   \t-0.0719972\t2.88567 \n",
            "185\t260   \t-0.0719972\t3.15379 \n",
            "186\t256   \t-0.0719972\t3.12005 \n",
            "187\t255   \t-0.0719972\t3.1866  \n",
            "188\t257   \t-0.0719972\t3.45547 \n",
            "189\t257   \t-0.0719972\t3.48945 \n",
            "190\t253   \t-0.0719972\t3.55651 \n",
            "191\t253   \t-0.0719972\t3.18749 \n",
            "192\t260   \t-0.0719972\t3.05341 \n",
            "193\t261   \t-0.0719972\t3.1538  \n",
            "194\t255   \t-0.0719972\t2.7854  \n",
            "195\t249   \t-0.0719972\t3.18784 \n",
            "196\t259   \t-0.0719972\t2.44924 \n",
            "197\t256   \t-0.0719972\t2.18046 \n",
            "198\t257   \t-0.0719972\t2.58296 \n",
            "199\t259   \t-0.0719972\t3.01962 \n",
            "200\t256   \t-0.0719981\t3.35501 \n",
            "201\t258   \t-0.0719981\t3.12099 \n",
            "202\t249   \t-0.0719981\t2.88615 \n",
            "203\t260   \t-0.0719981\t2.85196 \n",
            "204\t256   \t-0.0719981\t3.01973 \n",
            "205\t251   \t-0.0719981\t3.05291 \n",
            "206\t252   \t-0.0719981\t2.91833 \n",
            "207\t251   \t-0.0719981\t2.51548 \n",
            "208\t257   \t-0.0719981\t2.75068 \n",
            "209\t254   \t-0.0719981\t3.05312 \n",
            "210\t260   \t-0.0719981\t2.78399 \n",
            "211\t244   \t-0.0719981\t2.8843  \n",
            "212\t257   \t-0.0719981\t3.11949 \n",
            "213\t252   \t-0.0719981\t2.88473 \n",
            "214\t254   \t-0.0719981\t2.98562 \n",
            "215\t249   \t-0.0719981\t2.91839 \n",
            "216\t264   \t-0.0719981\t2.88543 \n",
            "217\t255   \t-0.0719981\t3.0533  \n",
            "218\t255   \t-0.0719981\t3.05316 \n",
            "219\t258   \t-0.0719981\t3.08679 \n",
            "220\t259   \t-0.0719981\t2.95275 \n",
            "221\t256   \t-0.0719981\t3.15427 \n",
            "222\t258   \t-0.0719981\t3.28894 \n",
            "223\t249   \t-0.0719981\t2.85203 \n",
            "224\t248   \t-0.0719982\t3.18751 \n",
            "225\t263   \t-0.0719982\t2.78458 \n",
            "226\t254   \t-0.0719982\t2.68418 \n",
            "227\t260   \t-0.0719982\t2.81876 \n",
            "228\t252   \t-0.0719982\t3.05304 \n",
            "229\t259   \t-0.0719982\t3.32199 \n",
            "230\t263   \t-0.0719982\t3.02012 \n",
            "231\t263   \t-0.0719982\t3.28859 \n",
            "232\t253   \t-0.0719982\t3.32147 \n",
            "233\t253   \t-0.0719982\t3.38902 \n",
            "234\t259   \t-0.0719982\t3.38922 \n",
            "235\t265   \t-0.0719982\t3.15433 \n",
            "236\t260   \t-0.0719982\t2.95248 \n",
            "237\t261   \t-0.0719982\t2.98544 \n",
            "238\t254   \t-0.0719982\t2.9521  \n",
            "239\t255   \t-0.0719982\t2.98564 \n",
            "240\t260   \t-0.0719982\t3.55605 \n",
            "241\t260   \t-0.0719982\t3.18738 \n",
            "242\t249   \t-0.0719982\t2.95202 \n",
            "243\t261   \t-0.0719982\t2.7844  \n",
            "244\t261   \t-0.0719982\t2.85208 \n",
            "245\t257   \t-0.0719982\t2.6499  \n",
            "246\t258   \t-0.0719982\t3.01941 \n",
            "247\t249   \t-0.0719982\t2.65025 \n",
            "248\t258   \t-0.0719982\t2.6169  \n",
            "249\t254   \t-0.0719982\t2.28122 \n",
            "250\t259   \t-0.0719982\t3.38872 \n",
            "251\t256   \t-0.0719982\t2.85238 \n",
            "252\t251   \t-0.0719982\t2.65034 \n",
            "253\t244   \t-0.0719982\t2.78467 \n",
            "254\t248   \t-0.0719982\t2.91872 \n",
            "255\t260   \t-0.0719982\t3.01918 \n",
            "256\t261   \t-0.0719982\t3.11958 \n",
            "257\t258   \t-0.0719982\t2.98629 \n",
            "258\t255   \t-0.0719982\t3.15416 \n",
            "259\t258   \t-0.0719982\t3.28872 \n",
            "260\t261   \t-0.0719982\t3.28872 \n",
            "261\t258   \t-0.0719982\t2.58347 \n",
            "262\t253   \t-0.0719982\t2.71766 \n",
            "263\t261   \t-0.0719982\t2.9194  \n",
            "264\t261   \t-0.0719982\t3.08682 \n",
            "265\t258   \t-0.0719982\t3.15403 \n",
            "266\t254   \t-0.0719982\t3.25499 \n",
            "267\t257   \t-0.0719982\t3.08663 \n",
            "268\t257   \t-0.0719982\t2.68392 \n",
            "269\t262   \t-0.0719982\t2.41512 \n",
            "270\t246   \t-0.0719982\t2.58242 \n",
            "271\t258   \t-0.0719982\t2.34801 \n",
            "272\t251   \t-0.0719982\t2.44863 \n",
            "273\t254   \t-0.0719982\t2.91847 \n",
            "274\t263   \t-0.0719982\t3.25436 \n",
            "275\t257   \t-0.0719982\t2.8855  \n",
            "276\t256   \t-0.0719982\t3.32137 \n",
            "277\t258   \t-0.0719982\t2.78392 \n",
            "278\t253   \t-0.0719982\t2.68295 \n",
            "279\t260   \t-0.0719982\t3.1535  \n",
            "280\t262   \t-0.0719982\t2.51573 \n",
            "281\t257   \t-0.0719982\t2.4148  \n",
            "282\t261   \t-0.0719982\t3.18687 \n",
            "283\t248   \t-0.0719982\t2.9186  \n",
            "284\t252   \t-0.0719982\t3.05286 \n",
            "285\t253   \t-0.0719982\t2.88495 \n",
            "286\t261   \t-0.0719982\t2.88523 \n",
            "287\t260   \t-0.0719982\t3.12022 \n",
            "288\t252   \t-0.0719982\t2.41562 \n",
            "289\t259   \t-0.0719982\t2.95248 \n",
            "290\t262   \t-0.0719982\t2.75124 \n",
            "291\t256   \t-0.0719982\t2.54903 \n",
            "292\t257   \t-0.0719982\t2.95235 \n",
            "293\t252   \t-0.0719982\t2.98558 \n",
            "294\t256   \t-0.0719982\t2.95198 \n",
            "295\t258   \t-0.0719982\t2.85218 \n",
            "296\t249   \t-0.0719982\t2.98587 \n",
            "297\t260   \t-0.0719982\t2.58319 \n",
            "298\t256   \t-0.0719982\t2.61675 \n",
            "299\t258   \t-0.0719982\t2.919   \n",
            "300\t247   \t-0.0719982\t2.61662 \n",
            "-- Best Individual =  [0.8473393061601769, -0.8496978476111602]\n",
            "-- Best Fitness =  -0.07199823846406363\n"
          ]
        },
        {
          "output_type": "display_data",
          "data": {
            "text/plain": [
              "<Figure size 640x480 with 1 Axes>"
            ],
            "image/png": "[encoded data removed]"
          },
          "metadata": {}
        }
      ]
    }
  ]
}