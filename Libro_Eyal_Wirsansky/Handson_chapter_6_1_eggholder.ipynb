{
  "nbformat": 4,
  "nbformat_minor": 0,
  "metadata": {
    "colab": {
      "provenance": [],
      "authorship_tag": "ABX9TyPDr0iRjKDTWw6jpzmVuIM9",
      "include_colab_link": true
    },
    "kernelspec": {
      "name": "python3",
      "display_name": "Python 3"
    },
    "language_info": {
      "name": "python"
    }
  },
  "cells": [
    {
      "cell_type": "markdown",
      "metadata": {
        "id": "view-in-github",
        "colab_type": "text"
      },
      "source": [
        "<a href=\"https://colab.research.google.com/github/antonvandike/Algoritmos-Geneticos/blob/main/Libro_Eyal_Wirsansky/Handson_chapter_6_1_eggholder.ipynb\" target=\"_parent\"><img src=\"https://colab.research.google.com/assets/colab-badge.svg\" alt=\"Open In Colab\"/></a>"
      ]
    },
    {
      "cell_type": "markdown",
      "source": [
        "#Solucion del problema de la funcion continua Eggholder"
      ],
      "metadata": {
        "id": "pVVtyKf7dVZH"
      }
    },
    {
      "cell_type": "markdown",
      "source": [
        "###Configuraciones y definiciones"
      ],
      "metadata": {
        "id": "jUyH11RZdH6j"
      }
    },
    {
      "cell_type": "code",
      "source": [
        "pip install deap"
      ],
      "metadata": {
        "colab": {
          "base_uri": "https://localhost:8080/"
        },
        "id": "JE91VIDQCHrA",
        "outputId": "eb7d8bf5-b956-4ec3-f032-a5e91b576477"
      },
      "execution_count": 1,
      "outputs": [
        {
          "output_type": "stream",
          "name": "stdout",
          "text": [
            "Collecting deap\n",
            "  Downloading deap-1.4.1-cp310-cp310-manylinux_2_5_x86_64.manylinux1_x86_64.manylinux_2_17_x86_64.manylinux2014_x86_64.whl (135 kB)\n",
            "\u001b[?25l     \u001b[90m━━━━━━━━━━━━━━━━━━━━━━━━━━━━━━━━━━━━━━━━\u001b[0m \u001b[32m0.0/135.4 kB\u001b[0m \u001b[31m?\u001b[0m eta \u001b[36m-:--:--\u001b[0m\r\u001b[2K     \u001b[91m━━━━━━━━━━━━━━━━━━━━━━━━━━━\u001b[0m\u001b[90m╺\u001b[0m\u001b[90m━━━━━━━━━━━━\u001b[0m \u001b[32m92.2/135.4 kB\u001b[0m \u001b[31m2.8 MB/s\u001b[0m eta \u001b[36m0:00:01\u001b[0m\r\u001b[2K     \u001b[90m━━━━━━━━━━━━━━━━━━━━━━━━━━━━━━━━━━━━━━━━\u001b[0m \u001b[32m135.4/135.4 kB\u001b[0m \u001b[31m2.7 MB/s\u001b[0m eta \u001b[36m0:00:00\u001b[0m\n",
            "\u001b[?25hRequirement already satisfied: numpy in /usr/local/lib/python3.10/dist-packages (from deap) (1.25.2)\n",
            "Installing collected packages: deap\n",
            "Successfully installed deap-1.4.1\n"
          ]
        }
      ]
    },
    {
      "cell_type": "markdown",
      "source": [
        "#Solucion del problema del agente de ventas viajero"
      ],
      "metadata": {
        "id": "ohjtxY33tjmD"
      }
    },
    {
      "cell_type": "markdown",
      "source": [
        "###Configuraciones y definiciones"
      ],
      "metadata": {
        "id": "dx6mGb10tjmE"
      }
    },
    {
      "cell_type": "code",
      "source": [
        "pip install deap"
      ],
      "metadata": {
        "colab": {
          "base_uri": "https://localhost:8080/"
        },
        "outputId": "be168698-8a2d-4965-dca9-8710da16ff11",
        "id": "MXQn6uvgtjmF"
      },
      "execution_count": 2,
      "outputs": [
        {
          "output_type": "stream",
          "name": "stdout",
          "text": [
            "Requirement already satisfied: deap in /usr/local/lib/python3.10/dist-packages (1.4.1)\n",
            "Requirement already satisfied: numpy in /usr/local/lib/python3.10/dist-packages (from deap) (1.25.2)\n"
          ]
        }
      ]
    },
    {
      "cell_type": "code",
      "execution_count": 3,
      "metadata": {
        "id": "_o0YKIs34_AR"
      },
      "outputs": [],
      "source": [
        "## Paso 1: Modulos\n",
        "\n",
        "from deap import base\n",
        "from deap import creator\n",
        "from deap import tools\n",
        "\n",
        "import random as rd\n",
        "import numpy as np\n",
        "\n",
        "import matplotlib.pyplot as plt\n",
        "import seaborn as sns\n",
        "\n",
        "import elitism"
      ]
    },
    {
      "cell_type": "code",
      "source": [
        "# Constantes del problema:\n",
        "\n",
        "DIMENSIONS = 2  # number of dimensions\n",
        "BOUND_LOW, BOUND_UP = -512.0, 512.0  # boundaries for all dimensions"
      ],
      "metadata": {
        "id": "DnZPCG94uGyl"
      },
      "execution_count": 4,
      "outputs": []
    },
    {
      "cell_type": "code",
      "source": [
        "## Paso 2: Parametros del problema\n",
        "\n",
        "# Contenido del problema del agente viajero\n",
        "\n",
        "POPULATION_SIZE = 300     # Tamaño de la poblacion de individuos\n",
        "P_CROSSOVER     =  0.9    # Probabilidad de cruza\n",
        "P_MUTATION      =  0.5    # Probabilidad de mutación\n",
        "\n",
        "MAX_GENERATIONS = 300     # Maximo numero de generaciones (condición de termino)"
      ],
      "metadata": {
        "id": "sk8gDOZfLjT5"
      },
      "execution_count": 5,
      "outputs": []
    },
    {
      "cell_type": "code",
      "source": [
        "HALL_OF_FAME_SIZE = 30"
      ],
      "metadata": {
        "id": "T8ksHqrDLC3A"
      },
      "execution_count": 6,
      "outputs": []
    },
    {
      "cell_type": "code",
      "source": [
        "CROWDING_FACTOR = 20.0  # Factor de aglomeracion para cruza y mutacion"
      ],
      "metadata": {
        "id": "hkriYODeudGj"
      },
      "execution_count": 7,
      "outputs": []
    },
    {
      "cell_type": "code",
      "source": [
        "## Paso 3: Elementos aleatorios\n",
        "\n",
        "RANDOM_SEED = 42          # Comunmente cuando se experimenta con un codigo\n",
        "rd.seed(RANDOM_SEED)      # se corre el problema con los mismos parametros\n",
        "                          # para repetir y compara resultados"
      ],
      "metadata": {
        "id": "eDnBQiyiNGGu"
      },
      "execution_count": 8,
      "outputs": []
    },
    {
      "cell_type": "code",
      "source": [
        "## Paso 4: Declarando el cromosoma\n",
        "toolbox = base.Toolbox()\n",
        "\n",
        "def randomFloat(low, up):\n",
        "    return [rd.uniform(l, u) for l, u in zip([low] * DIMENSIONS, [up] * DIMENSIONS)]\n",
        "\n",
        "toolbox.register(\"attrFloat\", randomFloat, BOUND_LOW, BOUND_UP)"
      ],
      "metadata": {
        "id": "4O4iiU3bSF9G"
      },
      "execution_count": 9,
      "outputs": []
    },
    {
      "cell_type": "code",
      "source": [
        "toolbox.attrFloat()"
      ],
      "metadata": {
        "colab": {
          "base_uri": "https://localhost:8080/"
        },
        "id": "jhGFJHbpu4CW",
        "outputId": "1c3a9599-fe22-4c6a-fb6e-81dd6275682d"
      },
      "execution_count": 10,
      "outputs": [
        {
          "output_type": "execute_result",
          "data": {
            "text/plain": [
              "[142.77304162087296, -486.38898665198906]"
            ]
          },
          "metadata": {},
          "execution_count": 10
        }
      ]
    },
    {
      "cell_type": "code",
      "source": [
        "## Paso 5: Crear la funcion de aptitud (FITNESS)\n",
        "\n",
        "# Se indica maximizacion y un solo peso\n",
        "creator.create('FitnessMin', base.Fitness, weights = (-1.0,))"
      ],
      "metadata": {
        "id": "PfnaIlJPTMBV"
      },
      "execution_count": 11,
      "outputs": []
    },
    {
      "cell_type": "code",
      "source": [
        "## Paso 6: Crear la funcion de  aptitud del individuo\n",
        "\n",
        "creator.create(\"Individual\", list, fitness=creator.FitnessMin)"
      ],
      "metadata": {
        "id": "wrTNY_p7VcMt"
      },
      "execution_count": 12,
      "outputs": []
    },
    {
      "cell_type": "code",
      "source": [
        "## Paso 7: Declarar el operador para generador de individuos\n",
        "\n",
        "toolbox.register(\"individualCreator\", tools.initIterate, creator.Individual, toolbox.attrFloat)"
      ],
      "metadata": {
        "id": "pVg34tJUYaOE"
      },
      "execution_count": 13,
      "outputs": []
    },
    {
      "cell_type": "code",
      "source": [
        "## Paso 8: Declarar el operador para generar la poblacion\n",
        "\n",
        "toolbox.register(\"populationCreator\", tools.initRepeat, list, toolbox.individualCreator)"
      ],
      "metadata": {
        "id": "5OB5u2ePa7wO"
      },
      "execution_count": 14,
      "outputs": []
    },
    {
      "cell_type": "code",
      "source": [
        "## Paso 9: Definir función para calcular la aptitud\n",
        "def eggholder(individual):\n",
        "    x = individual[0]\n",
        "    y = individual[1]\n",
        "    f = (-(y + 47.0) * np.sin(np.sqrt(abs(x/2.0 + (y + 47.0)))) - x * np.sin(np.sqrt(abs(x - (y + 47.0)))))\n",
        "    return f,  # return a tuple"
      ],
      "metadata": {
        "id": "W8mXJZs6b_Ei"
      },
      "execution_count": 15,
      "outputs": []
    },
    {
      "cell_type": "code",
      "source": [
        "## Paso 10: Declarar el operador de evaluacion\n",
        "\n",
        "toolbox.register(\"evaluate\", eggholder)"
      ],
      "metadata": {
        "id": "ZSbOP09Bcx2W"
      },
      "execution_count": 16,
      "outputs": []
    },
    {
      "cell_type": "code",
      "source": [
        "## Paso 11: Declarar los operadores geneticos\n",
        "\n",
        "toolbox.register(\"select\", tools.selTournament, tournsize=2)\n",
        "toolbox.register(\"mate\", tools.cxSimulatedBinaryBounded, low=BOUND_LOW, up=BOUND_UP, eta=CROWDING_FACTOR)\n",
        "toolbox.register(\"mutate\", tools.mutPolynomialBounded, low=BOUND_LOW, up=BOUND_UP, eta=CROWDING_FACTOR, indpb=1.0/DIMENSIONS)"
      ],
      "metadata": {
        "id": "6wv9YN9qdrVi"
      },
      "execution_count": 17,
      "outputs": []
    },
    {
      "cell_type": "markdown",
      "source": [
        "###Evolucionando la solución"
      ],
      "metadata": {
        "id": "UPas2s4We39f"
      }
    },
    {
      "cell_type": "code",
      "source": [
        "def eggholder_problem():\n",
        "\n",
        "\n",
        "    # create initial population (generation 0):\n",
        "    population = toolbox.populationCreator(n=POPULATION_SIZE)\n",
        "\n",
        "    # prepare the statistics object:\n",
        "    stats = tools.Statistics(lambda ind: ind.fitness.values)\n",
        "    stats.register(\"min\", np.min)\n",
        "    stats.register(\"avg\", np.mean)\n",
        "\n",
        "    # define the hall-of-fame object:\n",
        "    hof = tools.HallOfFame(HALL_OF_FAME_SIZE)\n",
        "\n",
        "    # perform the Genetic Algorithm flow with elitism:\n",
        "    population, logbook = elitism.eaSimpleWithElitism(population, toolbox, cxpb=P_CROSSOVER, mutpb=P_MUTATION,\n",
        "                                              ngen=MAX_GENERATIONS, stats=stats, halloffame=hof, verbose=True)\n",
        "\n",
        "    # print info for best solution found:\n",
        "    best = hof.items[0]\n",
        "    print(\"-- Best Individual = \", best)\n",
        "    print(\"-- Best Fitness = \", best.fitness.values[0])\n",
        "\n",
        "    # extract statistics:\n",
        "    minFitnessValues, meanFitnessValues = logbook.select(\"min\", \"avg\")\n",
        "\n",
        "    # plot statistics:\n",
        "    sns.set_style(\"whitegrid\")\n",
        "    plt.plot(minFitnessValues, color='red')\n",
        "    plt.plot(meanFitnessValues, color='green')\n",
        "    plt.xlabel('Generation')\n",
        "    plt.ylabel('Min / Average Fitness')\n",
        "    plt.title('Min and Average fitness over Generations')\n",
        "\n",
        "    plt.show()\n",
        "\n"
      ],
      "metadata": {
        "id": "tlyaYNAd2uSn"
      },
      "execution_count": 18,
      "outputs": []
    },
    {
      "cell_type": "code",
      "source": [
        "eggholder_problem()"
      ],
      "metadata": {
        "colab": {
          "base_uri": "https://localhost:8080/",
          "height": 1000
        },
        "id": "TaFnkwBFw_LJ",
        "outputId": "cfb30259-2a35-4508-91e0-db911bdccc0d"
      },
      "execution_count": 19,
      "outputs": [
        {
          "output_type": "stream",
          "name": "stdout",
          "text": [
            "gen\tnevals\tmin     \tavg    \n",
            "0  \t300   \t-938.344\t5.30597\n",
            "1  \t258   \t-938.344\t-132.101\n",
            "2  \t258   \t-938.344\t-212.165\n",
            "3  \t259   \t-938.344\t-215.804\n",
            "4  \t257   \t-938.344\t-289.894\n",
            "5  \t263   \t-938.344\t-292.851\n",
            "6  \t253   \t-938.344\t-326.09 \n",
            "7  \t258   \t-938.344\t-358.532\n",
            "8  \t260   \t-938.344\t-406.511\n",
            "9  \t263   \t-950.559\t-456.314\n",
            "10 \t248   \t-950.559\t-496.04 \n",
            "11 \t257   \t-950.559\t-468.975\n",
            "12 \t257   \t-950.559\t-498.863\n",
            "13 \t256   \t-950.559\t-476.765\n",
            "14 \t262   \t-950.559\t-531.446\n",
            "15 \t262   \t-950.559\t-530.217\n",
            "16 \t259   \t-954.329\t-559.248\n",
            "17 \t262   \t-954.329\t-555.611\n",
            "18 \t262   \t-958.508\t-545.504\n",
            "19 \t258   \t-958.802\t-565.931\n",
            "20 \t255   \t-959.094\t-583.931\n",
            "21 \t257   \t-959.094\t-602.44 \n",
            "22 \t257   \t-959.094\t-586.79 \n",
            "23 \t256   \t-959.094\t-612.242\n",
            "24 \t257   \t-959.105\t-614.1  \n",
            "25 \t262   \t-959.607\t-641.177\n",
            "26 \t249   \t-959.623\t-656.35 \n",
            "27 \t256   \t-959.623\t-689.953\n",
            "28 \t260   \t-959.634\t-778.067\n",
            "29 \t252   \t-959.634\t-751.571\n",
            "30 \t249   \t-959.634\t-759.938\n",
            "31 \t256   \t-959.636\t-747.385\n",
            "32 \t252   \t-959.639\t-720.81 \n",
            "33 \t253   \t-959.639\t-740.198\n",
            "34 \t258   \t-959.639\t-744.93 \n",
            "35 \t253   \t-959.639\t-725.139\n",
            "36 \t264   \t-959.64 \t-761.526\n",
            "37 \t259   \t-959.64 \t-764.851\n",
            "38 \t257   \t-959.64 \t-723.245\n",
            "39 \t261   \t-959.64 \t-712.25 \n",
            "40 \t259   \t-959.64 \t-755.548\n",
            "41 \t258   \t-959.64 \t-766.85 \n",
            "42 \t255   \t-959.64 \t-754.393\n",
            "43 \t260   \t-959.64 \t-732.698\n",
            "44 \t257   \t-959.641\t-764.569\n",
            "45 \t261   \t-959.641\t-758.371\n",
            "46 \t253   \t-959.641\t-776.585\n",
            "47 \t258   \t-959.641\t-759.298\n",
            "48 \t260   \t-959.641\t-779.312\n",
            "49 \t254   \t-959.641\t-760.693\n",
            "50 \t259   \t-959.641\t-768.482\n",
            "51 \t265   \t-959.641\t-728.349\n",
            "52 \t259   \t-959.641\t-753.821\n",
            "53 \t255   \t-959.641\t-782.835\n",
            "54 \t255   \t-959.641\t-744.625\n",
            "55 \t256   \t-959.641\t-791.242\n",
            "56 \t257   \t-959.641\t-761.639\n",
            "57 \t252   \t-959.641\t-726.093\n",
            "58 \t253   \t-959.641\t-779.99 \n",
            "59 \t257   \t-959.641\t-713.216\n",
            "60 \t254   \t-959.641\t-756.845\n",
            "61 \t258   \t-959.641\t-749.45 \n",
            "62 \t259   \t-959.641\t-746.74 \n",
            "63 \t262   \t-959.641\t-724.861\n",
            "64 \t260   \t-959.641\t-761.639\n",
            "65 \t264   \t-959.641\t-748.359\n",
            "66 \t258   \t-959.641\t-718.867\n",
            "67 \t250   \t-959.641\t-746.697\n",
            "68 \t254   \t-959.641\t-772.077\n",
            "69 \t258   \t-959.641\t-794.623\n",
            "70 \t259   \t-959.641\t-751.318\n",
            "71 \t249   \t-959.641\t-755.987\n",
            "72 \t261   \t-959.641\t-760.336\n",
            "73 \t248   \t-959.641\t-756.061\n",
            "74 \t254   \t-959.641\t-774.204\n",
            "75 \t264   \t-959.641\t-762.064\n",
            "76 \t256   \t-959.641\t-763.588\n",
            "77 \t259   \t-959.641\t-759.871\n",
            "78 \t256   \t-959.641\t-718.494\n",
            "79 \t265   \t-959.641\t-721.4  \n",
            "80 \t251   \t-959.641\t-759.926\n",
            "81 \t257   \t-959.641\t-719.505\n",
            "82 \t253   \t-959.641\t-747.106\n",
            "83 \t249   \t-959.641\t-758.516\n",
            "84 \t257   \t-959.641\t-762.014\n",
            "85 \t259   \t-959.641\t-724.924\n",
            "86 \t247   \t-959.641\t-711.088\n",
            "87 \t253   \t-959.641\t-741.619\n",
            "88 \t254   \t-959.641\t-723.809\n",
            "89 \t264   \t-959.641\t-721.193\n",
            "90 \t259   \t-959.641\t-710.381\n",
            "91 \t254   \t-959.641\t-733.116\n",
            "92 \t262   \t-959.641\t-793.355\n",
            "93 \t255   \t-959.641\t-791.736\n",
            "94 \t256   \t-959.641\t-735.582\n",
            "95 \t258   \t-959.641\t-749.967\n",
            "96 \t264   \t-959.641\t-737.75 \n",
            "97 \t250   \t-959.641\t-740.306\n",
            "98 \t255   \t-959.641\t-746.688\n",
            "99 \t249   \t-959.641\t-791.352\n",
            "100\t253   \t-959.641\t-781.991\n",
            "101\t261   \t-959.641\t-789.302\n",
            "102\t257   \t-959.641\t-755.234\n",
            "103\t253   \t-959.641\t-793.853\n",
            "104\t257   \t-959.641\t-766.423\n",
            "105\t255   \t-959.641\t-748.483\n",
            "106\t258   \t-959.641\t-758.47 \n",
            "107\t251   \t-959.641\t-780.989\n",
            "108\t259   \t-959.641\t-772.676\n",
            "109\t257   \t-959.641\t-762.446\n",
            "110\t257   \t-959.641\t-768.893\n",
            "111\t265   \t-959.641\t-775.663\n",
            "112\t260   \t-959.641\t-742.545\n",
            "113\t263   \t-959.641\t-755.178\n",
            "114\t253   \t-959.641\t-721.169\n",
            "115\t255   \t-959.641\t-758.859\n",
            "116\t256   \t-959.641\t-744.896\n",
            "117\t256   \t-959.641\t-769.444\n",
            "118\t259   \t-959.641\t-792.531\n",
            "119\t260   \t-959.641\t-754.082\n",
            "120\t242   \t-959.641\t-752.693\n",
            "121\t261   \t-959.641\t-742.126\n",
            "122\t256   \t-959.641\t-710.942\n",
            "123\t259   \t-959.641\t-772.27 \n",
            "124\t255   \t-959.641\t-746.747\n",
            "125\t257   \t-959.641\t-734.268\n",
            "126\t260   \t-959.641\t-736.227\n",
            "127\t246   \t-959.641\t-760.912\n",
            "128\t260   \t-959.641\t-765.397\n",
            "129\t247   \t-959.641\t-754.766\n",
            "130\t256   \t-959.641\t-744.854\n",
            "131\t256   \t-959.641\t-757.957\n",
            "132\t264   \t-959.641\t-761.262\n",
            "133\t258   \t-959.641\t-778.959\n",
            "134\t258   \t-959.641\t-744.871\n",
            "135\t248   \t-959.641\t-734.499\n",
            "136\t259   \t-959.641\t-768.825\n",
            "137\t261   \t-959.641\t-765.848\n",
            "138\t249   \t-959.641\t-783.299\n",
            "139\t254   \t-959.641\t-788.227\n",
            "140\t256   \t-959.641\t-771.694\n",
            "141\t255   \t-959.641\t-751.516\n",
            "142\t258   \t-959.641\t-763.035\n",
            "143\t258   \t-959.641\t-775.491\n",
            "144\t259   \t-959.641\t-775.739\n",
            "145\t258   \t-959.641\t-713.591\n",
            "146\t258   \t-959.641\t-707.242\n",
            "147\t259   \t-959.641\t-746.094\n",
            "148\t257   \t-959.641\t-745.372\n",
            "149\t258   \t-959.641\t-691.801\n",
            "150\t252   \t-959.641\t-747.717\n",
            "151\t255   \t-959.641\t-762.906\n",
            "152\t256   \t-959.641\t-722.876\n",
            "153\t255   \t-959.641\t-735.682\n",
            "154\t253   \t-959.641\t-735.445\n",
            "155\t262   \t-959.641\t-714.709\n",
            "156\t257   \t-959.641\t-670.791\n",
            "157\t251   \t-959.641\t-680.845\n",
            "158\t260   \t-959.641\t-701.317\n",
            "159\t250   \t-959.641\t-731.139\n",
            "160\t258   \t-959.641\t-719.85 \n",
            "161\t255   \t-959.641\t-727.917\n",
            "162\t256   \t-959.641\t-782.4  \n",
            "163\t264   \t-959.641\t-773.384\n",
            "164\t260   \t-959.641\t-762.028\n",
            "165\t267   \t-959.641\t-729.161\n",
            "166\t249   \t-959.641\t-735.407\n",
            "167\t264   \t-959.641\t-752.55 \n",
            "168\t265   \t-959.641\t-759.174\n",
            "169\t244   \t-959.641\t-765.167\n",
            "170\t256   \t-959.641\t-734.902\n",
            "171\t253   \t-959.641\t-748.429\n",
            "172\t257   \t-959.641\t-733.69 \n",
            "173\t254   \t-959.641\t-773.782\n",
            "174\t262   \t-959.641\t-754.957\n",
            "175\t253   \t-959.641\t-753.419\n",
            "176\t262   \t-959.641\t-689.322\n",
            "177\t260   \t-959.641\t-742.977\n",
            "178\t261   \t-959.641\t-722.08 \n",
            "179\t254   \t-959.641\t-752.503\n",
            "180\t253   \t-959.641\t-761.456\n",
            "181\t263   \t-959.641\t-783.873\n",
            "182\t257   \t-959.641\t-766.871\n",
            "183\t254   \t-959.641\t-728.368\n",
            "184\t253   \t-959.641\t-788.356\n",
            "185\t257   \t-959.641\t-763.248\n",
            "186\t249   \t-959.641\t-770.019\n",
            "187\t255   \t-959.641\t-791.055\n",
            "188\t259   \t-959.641\t-759.408\n",
            "189\t253   \t-959.641\t-736.049\n",
            "190\t259   \t-959.641\t-734.07 \n",
            "191\t257   \t-959.641\t-780.868\n",
            "192\t253   \t-959.641\t-718.04 \n",
            "193\t255   \t-959.641\t-755.248\n",
            "194\t251   \t-959.641\t-740.672\n",
            "195\t257   \t-959.641\t-733.611\n",
            "196\t266   \t-959.641\t-755.366\n",
            "197\t250   \t-959.641\t-753.572\n",
            "198\t247   \t-959.641\t-748.489\n",
            "199\t248   \t-959.641\t-756.788\n",
            "200\t253   \t-959.641\t-763.904\n",
            "201\t261   \t-959.641\t-724.615\n",
            "202\t249   \t-959.641\t-750.149\n",
            "203\t252   \t-959.641\t-758.264\n",
            "204\t256   \t-959.641\t-754.265\n",
            "205\t250   \t-959.641\t-745.566\n",
            "206\t248   \t-959.641\t-761.193\n",
            "207\t265   \t-959.641\t-760.9  \n",
            "208\t257   \t-959.641\t-742.462\n",
            "209\t258   \t-959.641\t-738.986\n",
            "210\t257   \t-959.641\t-767.69 \n",
            "211\t256   \t-959.641\t-750.032\n",
            "212\t260   \t-959.641\t-730.779\n",
            "213\t248   \t-959.641\t-767.229\n",
            "214\t253   \t-959.641\t-758.357\n",
            "215\t254   \t-959.641\t-746.338\n",
            "216\t248   \t-959.641\t-772.4  \n",
            "217\t256   \t-959.641\t-739.892\n",
            "218\t249   \t-959.641\t-771.954\n",
            "219\t253   \t-959.641\t-732.912\n",
            "220\t258   \t-959.641\t-729.565\n",
            "221\t249   \t-959.641\t-740.688\n",
            "222\t256   \t-959.641\t-752.349\n",
            "223\t262   \t-959.641\t-740.099\n",
            "224\t251   \t-959.641\t-752.689\n",
            "225\t247   \t-959.641\t-779.156\n",
            "226\t254   \t-959.641\t-740.08 \n",
            "227\t259   \t-959.641\t-722.995\n",
            "228\t254   \t-959.641\t-741.647\n",
            "229\t264   \t-959.641\t-758.266\n",
            "230\t259   \t-959.641\t-754.687\n",
            "231\t259   \t-959.641\t-748.439\n",
            "232\t256   \t-959.641\t-733.226\n",
            "233\t256   \t-959.641\t-749.918\n",
            "234\t255   \t-959.641\t-728.921\n",
            "235\t253   \t-959.641\t-774.607\n",
            "236\t258   \t-959.641\t-777.765\n",
            "237\t258   \t-959.641\t-755.321\n",
            "238\t257   \t-959.641\t-733.988\n",
            "239\t251   \t-959.641\t-723.726\n",
            "240\t263   \t-959.641\t-683.286\n",
            "241\t258   \t-959.641\t-752.3  \n",
            "242\t257   \t-959.641\t-775.151\n",
            "243\t261   \t-959.641\t-746.051\n",
            "244\t260   \t-959.641\t-755.797\n",
            "245\t259   \t-959.641\t-758.723\n",
            "246\t256   \t-959.641\t-763.688\n",
            "247\t261   \t-959.641\t-774.238\n",
            "248\t249   \t-959.641\t-739.075\n",
            "249\t261   \t-959.641\t-737.29 \n",
            "250\t260   \t-959.641\t-742.556\n",
            "251\t261   \t-959.641\t-765.743\n",
            "252\t257   \t-959.641\t-760.936\n",
            "253\t259   \t-959.641\t-750.309\n",
            "254\t265   \t-959.641\t-738.173\n",
            "255\t246   \t-959.641\t-787.658\n",
            "256\t259   \t-959.641\t-792.132\n",
            "257\t254   \t-959.641\t-776.026\n",
            "258\t261   \t-959.641\t-786.672\n",
            "259\t249   \t-959.641\t-768.184\n",
            "260\t249   \t-959.641\t-747.432\n",
            "261\t245   \t-959.641\t-797.776\n",
            "262\t264   \t-959.641\t-770.583\n",
            "263\t255   \t-959.641\t-743.34 \n",
            "264\t250   \t-959.641\t-725.549\n",
            "265\t258   \t-959.641\t-729.839\n",
            "266\t255   \t-959.641\t-735.59 \n",
            "267\t266   \t-959.641\t-702.216\n",
            "268\t253   \t-959.641\t-759.258\n",
            "269\t258   \t-959.641\t-743.051\n",
            "270\t250   \t-959.641\t-750.996\n",
            "271\t262   \t-959.641\t-765.378\n",
            "272\t263   \t-959.641\t-727.18 \n",
            "273\t258   \t-959.641\t-746.09 \n",
            "274\t255   \t-959.641\t-739.02 \n",
            "275\t258   \t-959.641\t-742.554\n",
            "276\t251   \t-959.641\t-777.608\n",
            "277\t249   \t-959.641\t-759.076\n",
            "278\t253   \t-959.641\t-739.366\n",
            "279\t262   \t-959.641\t-734.647\n",
            "280\t259   \t-959.641\t-765.433\n",
            "281\t254   \t-959.641\t-722.259\n",
            "282\t261   \t-959.641\t-778.411\n",
            "283\t258   \t-959.641\t-754.268\n",
            "284\t256   \t-959.641\t-709.971\n",
            "285\t254   \t-959.641\t-711.572\n",
            "286\t251   \t-959.641\t-749.298\n",
            "287\t262   \t-959.641\t-710.073\n",
            "288\t260   \t-959.641\t-734.631\n",
            "289\t258   \t-959.641\t-743.985\n",
            "290\t257   \t-959.641\t-741.901\n",
            "291\t252   \t-959.641\t-706.664\n",
            "292\t257   \t-959.641\t-723.469\n",
            "293\t253   \t-959.641\t-693.817\n",
            "294\t254   \t-959.641\t-709.505\n",
            "295\t254   \t-959.641\t-746.606\n",
            "296\t253   \t-959.641\t-758.906\n",
            "297\t255   \t-959.641\t-750.69 \n",
            "298\t257   \t-959.641\t-755.692\n",
            "299\t262   \t-959.641\t-768.31 \n",
            "300\t260   \t-959.641\t-805.883\n",
            "-- Best Individual =  [512.0, 404.2318050059763]\n",
            "-- Best Fitness =  -959.640662720851\n"
          ]
        },
        {
          "output_type": "display_data",
          "data": {
            "text/plain": [
              "<Figure size 640x480 with 1 Axes>"
            ],
            "image/png": "[encoded data removed]"
          },
          "metadata": {}
        }
      ]
    }
  ]
}