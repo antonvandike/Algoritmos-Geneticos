{
  "nbformat": 4,
  "nbformat_minor": 0,
  "metadata": {
    "colab": {
      "provenance": [],
      "authorship_tag": "ABX9TyNfhbN7lqzCgP23Aurfl4qe",
      "include_colab_link": true
    },
    "kernelspec": {
      "name": "python3",
      "display_name": "Python 3"
    },
    "language_info": {
      "name": "python"
    }
  },
  "cells": [
    {
      "cell_type": "markdown",
      "metadata": {
        "id": "view-in-github",
        "colab_type": "text"
      },
      "source": [
        "<a href=\"https://colab.research.google.com/github/antonvandike/Algoritmos-Geneticos/blob/main/Libro_Eyal_Wirsansky/Handson_chapter_6_2_himmelblau.ipynb\" target=\"_parent\"><img src=\"https://colab.research.google.com/assets/colab-badge.svg\" alt=\"Open In Colab\"/></a>"
      ]
    },
    {
      "cell_type": "markdown",
      "source": [
        "#Solucion del problema de la funcion de Himmelblau"
      ],
      "metadata": {
        "id": "pVVtyKf7dVZH"
      }
    },
    {
      "cell_type": "markdown",
      "source": [
        "###Configuraciones y definiciones"
      ],
      "metadata": {
        "id": "jUyH11RZdH6j"
      }
    },
    {
      "cell_type": "code",
      "source": [
        "pip install deap"
      ],
      "metadata": {
        "colab": {
          "base_uri": "https://localhost:8080/"
        },
        "id": "JE91VIDQCHrA",
        "outputId": "71904083-b10f-4900-a13a-4f11b4706e50"
      },
      "execution_count": 1,
      "outputs": [
        {
          "output_type": "stream",
          "name": "stdout",
          "text": [
            "Collecting deap\n",
            "  Downloading deap-1.4.1-cp310-cp310-manylinux_2_5_x86_64.manylinux1_x86_64.manylinux_2_17_x86_64.manylinux2014_x86_64.whl (135 kB)\n",
            "\u001b[2K     \u001b[90m━━━━━━━━━━━━━━━━━━━━━━━━━━━━━━━━━━━━━━━━\u001b[0m \u001b[32m135.4/135.4 kB\u001b[0m \u001b[31m1.4 MB/s\u001b[0m eta \u001b[36m0:00:00\u001b[0m\n",
            "\u001b[?25hRequirement already satisfied: numpy in /usr/local/lib/python3.10/dist-packages (from deap) (1.25.2)\n",
            "Installing collected packages: deap\n",
            "Successfully installed deap-1.4.1\n"
          ]
        }
      ]
    },
    {
      "cell_type": "markdown",
      "source": [
        "#Solucion del problema del agente de ventas viajero"
      ],
      "metadata": {
        "id": "ohjtxY33tjmD"
      }
    },
    {
      "cell_type": "markdown",
      "source": [
        "###Configuraciones y definiciones"
      ],
      "metadata": {
        "id": "dx6mGb10tjmE"
      }
    },
    {
      "cell_type": "code",
      "source": [
        "pip install deap"
      ],
      "metadata": {
        "colab": {
          "base_uri": "https://localhost:8080/"
        },
        "outputId": "467c7a05-f772-4299-d58e-bfd3c0d75629",
        "id": "MXQn6uvgtjmF"
      },
      "execution_count": 2,
      "outputs": [
        {
          "output_type": "stream",
          "name": "stdout",
          "text": [
            "Requirement already satisfied: deap in /usr/local/lib/python3.10/dist-packages (1.4.1)\n",
            "Requirement already satisfied: numpy in /usr/local/lib/python3.10/dist-packages (from deap) (1.25.2)\n"
          ]
        }
      ]
    },
    {
      "cell_type": "code",
      "execution_count": 3,
      "metadata": {
        "id": "_o0YKIs34_AR"
      },
      "outputs": [],
      "source": [
        "## Paso 1: Modulos\n",
        "\n",
        "from deap import base\n",
        "from deap import creator\n",
        "from deap import tools\n",
        "\n",
        "import random as rd\n",
        "import numpy as np\n",
        "\n",
        "import matplotlib.pyplot as plt\n",
        "import seaborn as sns\n",
        "\n",
        "import elitism"
      ]
    },
    {
      "cell_type": "code",
      "source": [
        "# Constantes del problema:\n",
        "\n",
        "DIMENSIONS = 2  # number of dimensions\n",
        "BOUND_LOW, BOUND_UP = -5.0, 5.0  # boundaries for all dimensions"
      ],
      "metadata": {
        "id": "DnZPCG94uGyl"
      },
      "execution_count": 4,
      "outputs": []
    },
    {
      "cell_type": "code",
      "source": [
        "## Paso 2: Parametros del problema\n",
        "\n",
        "# Contenido del problema del agente viajero\n",
        "\n",
        "POPULATION_SIZE = 300     # Tamaño de la poblacion de individuos\n",
        "P_CROSSOVER     =  0.9    # Probabilidad de cruza\n",
        "P_MUTATION      =  0.5    # Probabilidad de mutación\n",
        "\n",
        "MAX_GENERATIONS = 300     # Maximo numero de generaciones (condición de termino)"
      ],
      "metadata": {
        "id": "sk8gDOZfLjT5"
      },
      "execution_count": 5,
      "outputs": []
    },
    {
      "cell_type": "code",
      "source": [
        "HALL_OF_FAME_SIZE = 30"
      ],
      "metadata": {
        "id": "T8ksHqrDLC3A"
      },
      "execution_count": 6,
      "outputs": []
    },
    {
      "cell_type": "code",
      "source": [
        "CROWDING_FACTOR = 20.0  # Factor de aglomeracion para cruza y mutacion"
      ],
      "metadata": {
        "id": "hkriYODeudGj"
      },
      "execution_count": 7,
      "outputs": []
    },
    {
      "cell_type": "code",
      "source": [
        "## Paso 3: Elementos aleatorios\n",
        "\n",
        "RANDOM_SEED = 42          # Comunmente cuando se experimenta con un codigo\n",
        "rd.seed(RANDOM_SEED)      # se corre el problema con los mismos parametros\n",
        "                          # para repetir y compara resultados"
      ],
      "metadata": {
        "id": "eDnBQiyiNGGu"
      },
      "execution_count": 8,
      "outputs": []
    },
    {
      "cell_type": "code",
      "source": [
        "## Paso 4: Declarando el cromosoma\n",
        "toolbox = base.Toolbox()\n",
        "\n",
        "def randomFloat(low, up):\n",
        "    return [rd.uniform(l, u) for l, u in zip([low] * DIMENSIONS, [up] * DIMENSIONS)]\n",
        "\n",
        "toolbox.register(\"attrFloat\", randomFloat, BOUND_LOW, BOUND_UP)"
      ],
      "metadata": {
        "id": "4O4iiU3bSF9G"
      },
      "execution_count": 9,
      "outputs": []
    },
    {
      "cell_type": "code",
      "source": [
        "toolbox.attrFloat()"
      ],
      "metadata": {
        "colab": {
          "base_uri": "https://localhost:8080/"
        },
        "id": "jhGFJHbpu4CW",
        "outputId": "49de815b-e27e-4888-fa5e-7f8bae7032f7"
      },
      "execution_count": 10,
      "outputs": [
        {
          "output_type": "execute_result",
          "data": {
            "text/plain": [
              "[1.3942679845788373, -4.74989244777333]"
            ]
          },
          "metadata": {},
          "execution_count": 10
        }
      ]
    },
    {
      "cell_type": "code",
      "source": [
        "## Paso 5: Crear la funcion de aptitud (FITNESS)\n",
        "\n",
        "# Se indica maximizacion y un solo peso\n",
        "creator.create('FitnessMin', base.Fitness, weights = (-1.0,))"
      ],
      "metadata": {
        "id": "PfnaIlJPTMBV"
      },
      "execution_count": 11,
      "outputs": []
    },
    {
      "cell_type": "code",
      "source": [
        "## Paso 6: Crear la funcion de  aptitud del individuo\n",
        "\n",
        "creator.create(\"Individual\", list, fitness=creator.FitnessMin)"
      ],
      "metadata": {
        "id": "wrTNY_p7VcMt"
      },
      "execution_count": 12,
      "outputs": []
    },
    {
      "cell_type": "code",
      "source": [
        "## Paso 7: Declarar el operador para generador de individuos\n",
        "\n",
        "toolbox.register(\"individualCreator\", tools.initIterate, creator.Individual, toolbox.attrFloat)"
      ],
      "metadata": {
        "id": "pVg34tJUYaOE"
      },
      "execution_count": 13,
      "outputs": []
    },
    {
      "cell_type": "code",
      "source": [
        "## Paso 8: Declarar el operador para generar la poblacion\n",
        "\n",
        "toolbox.register(\"populationCreator\", tools.initRepeat, list, toolbox.individualCreator)"
      ],
      "metadata": {
        "id": "5OB5u2ePa7wO"
      },
      "execution_count": 14,
      "outputs": []
    },
    {
      "cell_type": "code",
      "source": [
        "## Paso 9: Definir función para calcular la aptitud\n",
        "def himmelblau(individual):\n",
        "    x = individual[0]\n",
        "    y = individual[1]\n",
        "    f = (x ** 2 + y - 11) ** 2 + (x + y ** 2 - 7) ** 2\n",
        "    return f,  # return a tuple"
      ],
      "metadata": {
        "id": "W8mXJZs6b_Ei"
      },
      "execution_count": 15,
      "outputs": []
    },
    {
      "cell_type": "code",
      "source": [
        "## Paso 10: Declarar el operador de evaluacion\n",
        "\n",
        "toolbox.register(\"evaluate\", himmelblau)"
      ],
      "metadata": {
        "id": "ZSbOP09Bcx2W"
      },
      "execution_count": 16,
      "outputs": []
    },
    {
      "cell_type": "code",
      "source": [
        "## Paso 11: Declarar los operadores geneticos\n",
        "\n",
        "toolbox.register(\"select\", tools.selTournament, tournsize=2)\n",
        "toolbox.register(\"mate\", tools.cxSimulatedBinaryBounded, low=BOUND_LOW, up=BOUND_UP, eta=CROWDING_FACTOR)\n",
        "toolbox.register(\"mutate\", tools.mutPolynomialBounded, low=BOUND_LOW, up=BOUND_UP, eta=CROWDING_FACTOR, indpb=1.0/DIMENSIONS)"
      ],
      "metadata": {
        "id": "6wv9YN9qdrVi"
      },
      "execution_count": 17,
      "outputs": []
    },
    {
      "cell_type": "markdown",
      "source": [
        "###Evolucionando la solución"
      ],
      "metadata": {
        "id": "UPas2s4We39f"
      }
    },
    {
      "cell_type": "code",
      "source": [
        "def himmelblau_problem():\n",
        "\n",
        "\n",
        "    # create initial population (generation 0):\n",
        "    population = toolbox.populationCreator(n=POPULATION_SIZE)\n",
        "\n",
        "    # prepare the statistics object:\n",
        "    stats = tools.Statistics(lambda ind: ind.fitness.values)\n",
        "    stats.register(\"min\", np.min)\n",
        "    stats.register(\"avg\", np.mean)\n",
        "\n",
        "    # define the hall-of-fame object:\n",
        "    hof = tools.HallOfFame(HALL_OF_FAME_SIZE)\n",
        "\n",
        "    # perform the Genetic Algorithm flow with elitism:\n",
        "    population, logbook = elitism.eaSimpleWithElitism(population, toolbox, cxpb=P_CROSSOVER, mutpb=P_MUTATION,\n",
        "                                              ngen=MAX_GENERATIONS, stats=stats, halloffame=hof, verbose=True)\n",
        "\n",
        "    # print info for best solution found:\n",
        "    best = hof.items[0]\n",
        "    print(\"-- Best Individual = \", best)\n",
        "    print(\"-- Best Fitness = \", best.fitness.values[0])\n",
        "\n",
        "    # extract statistics:\n",
        "    minFitnessValues, meanFitnessValues = logbook.select(\"min\", \"avg\")\n",
        "\n",
        "    # plot statistics:\n",
        "    sns.set_style(\"whitegrid\")\n",
        "    plt.plot(minFitnessValues, color='red')\n",
        "    plt.plot(meanFitnessValues, color='green')\n",
        "    plt.xlabel('Generation')\n",
        "    plt.ylabel('Min / Average Fitness')\n",
        "    plt.title('Min and Average fitness over Generations')\n",
        "\n",
        "    plt.show()\n",
        "\n"
      ],
      "metadata": {
        "id": "tlyaYNAd2uSn"
      },
      "execution_count": 18,
      "outputs": []
    },
    {
      "cell_type": "code",
      "source": [
        "himmelblau_problem()"
      ],
      "metadata": {
        "colab": {
          "base_uri": "https://localhost:8080/",
          "height": 1000
        },
        "id": "TaFnkwBFw_LJ",
        "outputId": "0bd24e88-a195-4acf-d7f9-c45ac7e54584"
      },
      "execution_count": 19,
      "outputs": [
        {
          "output_type": "stream",
          "name": "stdout",
          "text": [
            "gen\tnevals\tmin     \tavg    \n",
            "0  \t300   \t0.077887\t137.418\n",
            "1  \t258   \t0.077887\t79.024 \n",
            "2  \t258   \t0.077887\t46.3965\n",
            "3  \t259   \t0.077887\t29.1852\n",
            "4  \t257   \t0.077887\t24.6174\n",
            "5  \t263   \t0.000321803\t22.697 \n",
            "6  \t253   \t0.000321803\t20.185 \n",
            "7  \t257   \t0.000321803\t16.8825\n",
            "8  \t261   \t0.000321803\t17.2193\n",
            "9  \t264   \t0.000321803\t11.2078\n",
            "10 \t248   \t0.000321803\t11.373 \n",
            "11 \t257   \t0.000321803\t11.632 \n",
            "12 \t257   \t0.000321803\t9.3482 \n",
            "13 \t254   \t6.79567e-05\t12.5257\n",
            "14 \t262   \t6.79567e-05\t9.94383\n",
            "15 \t251   \t6.79567e-05\t9.89502\n",
            "16 \t254   \t6.79567e-05\t10.8606\n",
            "17 \t261   \t6.79567e-05\t8.65194\n",
            "18 \t264   \t5.55738e-05\t8.65389\n",
            "19 \t255   \t4.22337e-05\t9.59594\n",
            "20 \t247   \t4.22337e-05\t5.86419\n",
            "21 \t262   \t3.19176e-06\t7.62228\n",
            "22 \t264   \t3.19176e-06\t6.53664\n",
            "23 \t262   \t3.19176e-06\t6.74235\n",
            "24 \t257   \t2.08199e-06\t4.66071\n",
            "25 \t263   \t2.08199e-06\t6.55421\n",
            "26 \t261   \t1.26015e-07\t6.53739\n",
            "27 \t257   \t1.26015e-07\t3.77622\n",
            "28 \t264   \t1.26015e-07\t4.19847\n",
            "29 \t255   \t1.26015e-07\t5.90253\n",
            "30 \t252   \t1.26015e-07\t5.31571\n",
            "31 \t261   \t1.21714e-07\t5.28464\n",
            "32 \t253   \t8.17059e-08\t5.41364\n",
            "33 \t256   \t8.17059e-08\t6.15395\n",
            "34 \t252   \t8.16582e-08\t4.8154 \n",
            "35 \t257   \t1.34605e-08\t6.07748\n",
            "36 \t260   \t1.34605e-08\t4.68046\n",
            "37 \t256   \t1.34605e-08\t4.99061\n",
            "38 \t254   \t1.27204e-08\t5.88323\n",
            "39 \t257   \t7.78212e-09\t5.73248\n",
            "40 \t260   \t7.78212e-09\t5.61796\n",
            "41 \t257   \t7.78212e-09\t5.46498\n",
            "42 \t250   \t6.34324e-09\t4.86516\n",
            "43 \t258   \t6.34324e-09\t6.81801\n",
            "44 \t259   \t8.09e-10   \t4.70312\n",
            "45 \t258   \t7.14301e-10\t4.20035\n",
            "46 \t254   \t7.14301e-10\t3.83171\n",
            "47 \t259   \t5.06216e-11\t5.33628\n",
            "48 \t255   \t4.80425e-11\t5.00063\n",
            "49 \t255   \t4.79999e-11\t6.82326\n",
            "50 \t258   \t4.65111e-11\t5.34636\n",
            "51 \t254   \t4.65111e-11\t6.88134\n",
            "52 \t262   \t4.65111e-11\t9.29163\n",
            "53 \t259   \t4.09018e-11\t5.84195\n",
            "54 \t256   \t4.09018e-11\t4.49311\n",
            "55 \t257   \t1.27138e-11\t4.3103 \n",
            "56 \t251   \t1.27138e-11\t5.80032\n",
            "57 \t262   \t7.45708e-12\t5.66341\n",
            "58 \t256   \t7.45708e-12\t6.36844\n",
            "59 \t247   \t6.91423e-12\t5.86472\n",
            "60 \t261   \t6.91423e-12\t4.88315\n",
            "61 \t243   \t3.84356e-12\t5.76117\n",
            "62 \t258   \t1.04883e-12\t4.05578\n",
            "63 \t258   \t8.07062e-13\t5.43928\n",
            "64 \t251   \t8.07062e-13\t5.33618\n",
            "65 \t263   \t8.07062e-13\t5.15045\n",
            "66 \t260   \t4.68772e-13\t5.63172\n",
            "67 \t250   \t4.68772e-13\t7.08831\n",
            "68 \t260   \t4.32614e-13\t7.82692\n",
            "69 \t256   \t2.43303e-13\t4.20387\n",
            "70 \t258   \t2.43303e-13\t4.39571\n",
            "71 \t255   \t2.43303e-13\t5.61778\n",
            "72 \t258   \t2.13739e-13\t5.63199\n",
            "73 \t249   \t2.13739e-13\t8.36409\n",
            "74 \t255   \t5.94634e-14\t3.66574\n",
            "75 \t265   \t5.94634e-14\t4.38595\n",
            "76 \t256   \t5.94634e-14\t5.31949\n",
            "77 \t264   \t5.94634e-14\t3.6002 \n",
            "78 \t256   \t5.3716e-14 \t6.04107\n",
            "79 \t254   \t5.33921e-14\t5.60116\n",
            "80 \t256   \t5.33921e-14\t7.61463\n",
            "81 \t260   \t5.03711e-14\t5.02665\n",
            "82 \t255   \t5.0371e-14 \t6.53299\n",
            "83 \t259   \t6.6715e-16 \t4.64276\n",
            "84 \t255   \t6.6715e-16 \t4.84543\n",
            "85 \t258   \t4.01874e-16\t7.85925\n",
            "86 \t255   \t4.01874e-16\t5.32874\n",
            "87 \t257   \t6.52471e-17\t5.08559\n",
            "88 \t249   \t6.52471e-17\t4.54303\n",
            "89 \t251   \t4.43738e-17\t4.16351\n",
            "90 \t249   \t4.43738e-17\t6.87658\n",
            "91 \t252   \t9.30738e-18\t6.93089\n",
            "92 \t258   \t9.30738e-18\t5.20081\n",
            "93 \t252   \t9.30738e-18\t4.9753 \n",
            "94 \t255   \t9.30738e-18\t6.81563\n",
            "95 \t248   \t1.21859e-18\t7.45515\n",
            "96 \t255   \t1.21446e-18\t5.05428\n",
            "97 \t259   \t1.21446e-18\t5.87163\n",
            "98 \t259   \t1.18355e-18\t4.19052\n",
            "99 \t255   \t1.18355e-18\t6.82435\n",
            "100\t260   \t4.56753e-19\t5.10954\n",
            "101\t256   \t3.58055e-19\t6.36873\n",
            "102\t265   \t3.40007e-19\t6.20863\n",
            "103\t254   \t1.21874e-20\t5.41031\n",
            "104\t258   \t1.05972e-20\t5.41387\n",
            "105\t253   \t7.61622e-21\t4.26228\n",
            "106\t251   \t2.53899e-21\t5.22568\n",
            "107\t259   \t2.53899e-21\t4.78539\n",
            "108\t257   \t2.53899e-21\t5.32053\n",
            "109\t260   \t2.13107e-21\t6.30035\n",
            "110\t254   \t9.47966e-22\t6.33973\n",
            "111\t260   \t9.47966e-22\t7.10207\n",
            "112\t261   \t8.74942e-22\t6.14823\n",
            "113\t254   \t8.74942e-22\t5.4332 \n",
            "114\t259   \t6.75965e-22\t5.73529\n",
            "115\t254   \t6.75965e-22\t5.93464\n",
            "116\t260   \t6.75965e-22\t5.24102\n",
            "117\t257   \t5.43586e-23\t5.52277\n",
            "118\t263   \t5.43586e-23\t4.89431\n",
            "119\t262   \t5.34241e-23\t6.34937\n",
            "120\t256   \t5.34241e-23\t5.59134\n",
            "121\t260   \t4.6409e-23 \t4.50799\n",
            "122\t255   \t4.6409e-23 \t5.81264\n",
            "123\t254   \t4.6409e-23 \t6.75059\n",
            "124\t260   \t4.63403e-23\t5.58233\n",
            "125\t253   \t3.97103e-23\t6.43829\n",
            "126\t258   \t3.87808e-23\t6.26748\n",
            "127\t264   \t3.87808e-23\t7.10957\n",
            "128\t257   \t3.87808e-23\t6.23587\n",
            "129\t258   \t2.21635e-23\t6.65763\n",
            "130\t263   \t3.81181e-24\t5.43449\n",
            "131\t250   \t3.81181e-24\t7.01509\n",
            "132\t263   \t3.75735e-24\t5.81965\n",
            "133\t259   \t3.5248e-24 \t5.00176\n",
            "134\t252   \t3.5248e-24 \t5.70691\n",
            "135\t258   \t2.7342e-24 \t8.17009\n",
            "136\t251   \t2.35292e-24\t5.67731\n",
            "137\t257   \t2.29704e-24\t5.66914\n",
            "138\t256   \t1.79623e-24\t7.17671\n",
            "139\t252   \t1.71714e-24\t4.84676\n",
            "140\t257   \t1.71714e-24\t4.1095 \n",
            "141\t257   \t1.64088e-24\t5.27458\n",
            "142\t259   \t1.64088e-24\t6.07459\n",
            "143\t259   \t1.51316e-24\t4.82402\n",
            "144\t261   \t1.29053e-24\t3.66906\n",
            "145\t246   \t1.29053e-24\t4.44869\n",
            "146\t260   \t1.29053e-24\t5.84687\n",
            "147\t257   \t1.29053e-24\t4.76057\n",
            "148\t254   \t1.29053e-24\t5.19402\n",
            "149\t260   \t1.28441e-24\t5.67616\n",
            "150\t254   \t1.28087e-24\t5.23539\n",
            "151\t250   \t1.08033e-24\t5.93554\n",
            "152\t259   \t1.0763e-24 \t6.21279\n",
            "153\t259   \t1.0763e-24 \t5.20598\n",
            "154\t255   \t1.0763e-24 \t5.05316\n",
            "155\t252   \t1.06517e-24\t4.32701\n",
            "156\t263   \t1.06517e-24\t7.38124\n",
            "157\t256   \t1.05923e-24\t4.36413\n",
            "158\t255   \t1.05085e-24\t5.64214\n",
            "159\t257   \t1.05085e-24\t5.77745\n",
            "160\t260   \t1.05057e-24\t4.90561\n",
            "161\t250   \t1.04691e-24\t5.76156\n",
            "162\t256   \t1.04516e-24\t4.21058\n",
            "163\t260   \t1.04516e-24\t5.26505\n",
            "164\t258   \t1.03979e-24\t6.08814\n",
            "165\t255   \t1.03979e-24\t5.76388\n",
            "166\t256   \t1.02426e-24\t4.71134\n",
            "167\t260   \t1.02115e-24\t4.17488\n",
            "168\t256   \t1.02115e-24\t4.45479\n",
            "169\t254   \t1.02115e-24\t4.2106 \n",
            "170\t245   \t1.02115e-24\t7.53762\n",
            "171\t258   \t1.02105e-24\t6.53993\n",
            "172\t260   \t1.01591e-24\t4.1053 \n",
            "173\t254   \t1.01591e-24\t4.26581\n",
            "174\t253   \t1.00875e-24\t5.33576\n",
            "175\t262   \t9.86474e-25\t4.97012\n",
            "176\t258   \t9.86474e-25\t6.22424\n",
            "177\t259   \t9.86474e-25\t5.30832\n",
            "178\t260   \t9.86474e-25\t4.16027\n",
            "179\t257   \t9.86474e-25\t4.65299\n",
            "180\t255   \t9.86474e-25\t7.0954 \n",
            "181\t261   \t9.84518e-25\t4.99129\n",
            "182\t259   \t9.84518e-25\t6.18305\n",
            "183\t250   \t9.84206e-25\t4.96407\n",
            "184\t257   \t8.13126e-25\t3.44801\n",
            "185\t263   \t8.13126e-25\t5.79319\n",
            "186\t258   \t7.89195e-25\t6.84829\n",
            "187\t263   \t7.78969e-25\t7.24341\n",
            "188\t246   \t7.78969e-25\t5.32276\n",
            "189\t263   \t7.78969e-25\t6.14303\n",
            "190\t258   \t1.58839e-25\t4.62735\n",
            "191\t256   \t1.58839e-25\t6.70741\n",
            "192\t263   \t1.58839e-25\t5.87832\n",
            "193\t261   \t1.58839e-25\t5.29046\n",
            "194\t253   \t1.58839e-25\t5.72899\n",
            "195\t254   \t1.58839e-25\t5.12947\n",
            "196\t251   \t1.54759e-25\t6.33596\n",
            "197\t259   \t1.54759e-25\t5.33238\n",
            "198\t255   \t1.54759e-25\t4.39187\n",
            "199\t255   \t1.54759e-25\t4.33571\n",
            "200\t257   \t1.438e-25  \t5.23679\n",
            "201\t258   \t1.438e-25  \t5.00973\n",
            "202\t253   \t1.438e-25  \t7.02683\n",
            "203\t258   \t1.438e-25  \t5.80266\n",
            "204\t257   \t1.28651e-25\t5.39958\n",
            "205\t257   \t1.28651e-25\t5.03059\n",
            "206\t247   \t1.28651e-25\t8.32821\n",
            "207\t251   \t1.28651e-25\t7.62438\n",
            "208\t258   \t1.28651e-25\t6.28558\n",
            "209\t260   \t1.28651e-25\t4.3256 \n",
            "210\t253   \t8.71691e-26\t5.40573\n",
            "211\t258   \t8.71691e-26\t6.64338\n",
            "212\t257   \t8.71691e-26\t6.29959\n",
            "213\t252   \t8.52254e-26\t5.7235 \n",
            "214\t259   \t8.52254e-26\t4.89205\n",
            "215\t259   \t8.52254e-26\t5.45027\n",
            "216\t261   \t8.21993e-26\t5.40926\n",
            "217\t255   \t8.1954e-26 \t4.95415\n",
            "218\t259   \t8.1954e-26 \t4.98065\n",
            "219\t261   \t4.71676e-26\t6.89208\n",
            "220\t253   \t4.27152e-26\t4.91073\n",
            "221\t247   \t5.71135e-27\t5.14629\n",
            "222\t258   \t3.45837e-27\t5.99379\n",
            "223\t257   \t3.45837e-27\t6.00009\n",
            "224\t251   \t3.45837e-27\t4.26069\n",
            "225\t260   \t3.33846e-27\t4.69075\n",
            "226\t257   \t3.33846e-27\t5.16796\n",
            "227\t250   \t3.33846e-27\t5.23298\n",
            "228\t260   \t2.48097e-27\t4.03558\n",
            "229\t259   \t2.48097e-27\t4.99978\n",
            "230\t252   \t2.48097e-27\t6.36114\n",
            "231\t258   \t2.41391e-27\t7.38188\n",
            "232\t251   \t2.41391e-27\t6.21149\n",
            "233\t257   \t2.41391e-27\t7.99771\n",
            "234\t263   \t2.41391e-27\t6.00459\n",
            "235\t257   \t2.41391e-27\t5.80302\n",
            "236\t256   \t2.41391e-27\t5.20284\n",
            "237\t256   \t2.41391e-27\t6.23763\n",
            "238\t261   \t2.41391e-27\t7.11637\n",
            "239\t262   \t2.00055e-27\t4.1519 \n",
            "240\t257   \t2.00055e-27\t5.74637\n",
            "241\t249   \t2.00055e-27\t4.36809\n",
            "242\t254   \t2.00055e-27\t6.84068\n",
            "243\t255   \t1.02552e-27\t6.70161\n",
            "244\t257   \t1.02552e-27\t3.50886\n",
            "245\t268   \t1.02552e-27\t6.74347\n",
            "246\t262   \t1.02552e-27\t7.38565\n",
            "247\t259   \t1.02552e-27\t6.29828\n",
            "248\t261   \t1.02552e-27\t5.72002\n",
            "249\t259   \t1.02552e-27\t7.75689\n",
            "250\t253   \t1.02552e-27\t5.74118\n",
            "251\t261   \t1.02552e-27\t3.8281 \n",
            "252\t252   \t1.02552e-27\t4.85451\n",
            "253\t260   \t1.02552e-27\t5.01191\n",
            "254\t263   \t1.02552e-27\t7.55968\n",
            "255\t253   \t1.02552e-27\t6.33666\n",
            "256\t261   \t1.02552e-27\t4.31897\n",
            "257\t255   \t1.02552e-27\t5.03488\n",
            "258\t251   \t1.02552e-27\t5.68371\n",
            "259\t255   \t1.02552e-27\t4.95828\n",
            "260\t250   \t1.02552e-27\t5.66657\n",
            "261\t258   \t1.02552e-27\t4.1797 \n",
            "262\t252   \t1.02552e-27\t5.07919\n",
            "263\t258   \t1.02552e-27\t5.40023\n",
            "264\t251   \t1.02552e-27\t4.7663 \n",
            "265\t260   \t1.02552e-27\t5.45921\n",
            "266\t253   \t1.02552e-27\t4.27971\n",
            "267\t260   \t1.02552e-27\t6.09202\n",
            "268\t252   \t1.02552e-27\t7.09636\n",
            "269\t257   \t1.02552e-27\t7.18511\n",
            "270\t259   \t1.02552e-27\t6.77277\n",
            "271\t254   \t1.02552e-27\t7.01086\n",
            "272\t262   \t1.02552e-27\t4.48487\n",
            "273\t259   \t1.02552e-27\t5.68017\n",
            "274\t260   \t1.02552e-27\t5.36561\n",
            "275\t251   \t1.02552e-27\t6.36611\n",
            "276\t256   \t1.02552e-27\t6.47809\n",
            "277\t257   \t1.02552e-27\t7.2082 \n",
            "278\t255   \t1.02552e-27\t5.30506\n",
            "279\t258   \t1.02552e-27\t3.99178\n",
            "280\t263   \t1.02552e-27\t6.7134 \n",
            "281\t256   \t1.02552e-27\t6.43858\n",
            "282\t256   \t1.02552e-27\t5.4886 \n",
            "283\t260   \t1.02552e-27\t4.18441\n",
            "284\t258   \t1.02552e-27\t5.84303\n",
            "285\t250   \t1.02552e-27\t4.5    \n",
            "286\t256   \t1.02552e-27\t6.60618\n",
            "287\t255   \t1.02552e-27\t6.40811\n",
            "288\t252   \t1.02552e-27\t5.90939\n",
            "289\t255   \t1.02552e-27\t5.17926\n",
            "290\t263   \t1.02552e-27\t5.26976\n",
            "291\t252   \t1.02552e-27\t7.23931\n",
            "292\t257   \t1.02552e-27\t6.41381\n",
            "293\t259   \t1.02552e-27\t5.48639\n",
            "294\t258   \t1.02552e-27\t5.64892\n",
            "295\t260   \t1.02552e-27\t4.8913 \n",
            "296\t255   \t1.02552e-27\t6.29149\n",
            "297\t254   \t1.02552e-27\t6.85532\n",
            "298\t258   \t1.02552e-27\t5.09698\n",
            "299\t252   \t1.02552e-27\t7.24407\n",
            "300\t262   \t1.02552e-27\t7.39623\n",
            "-- Best Individual =  [3.5844283403304926, -1.8481265269644118]\n",
            "-- Best Fitness =  1.0255191767873153e-27\n"
          ]
        },
        {
          "output_type": "display_data",
          "data": {
            "text/plain": [
              "<Figure size 640x480 with 1 Axes>"
            ],
            "image/png": "[encoded data removed]"
          },
          "metadata": {}
        }
      ]
    }
  ]
}