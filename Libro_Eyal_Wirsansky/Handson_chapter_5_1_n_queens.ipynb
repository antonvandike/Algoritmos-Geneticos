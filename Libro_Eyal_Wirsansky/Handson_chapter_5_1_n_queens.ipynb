{
  "nbformat": 4,
  "nbformat_minor": 0,
  "metadata": {
    "colab": {
      "provenance": [],
      "authorship_tag": "ABX9TyPHLutYsE2E0lYRlpq/6SCT",
      "include_colab_link": true
    },
    "kernelspec": {
      "name": "python3",
      "display_name": "Python 3"
    },
    "language_info": {
      "name": "python"
    }
  },
  "cells": [
    {
      "cell_type": "markdown",
      "metadata": {
        "id": "view-in-github",
        "colab_type": "text"
      },
      "source": [
        "<a href=\"https://colab.research.google.com/github/antonvandike/Algoritmos-Geneticos/blob/main/Libro_Eyal_Wirsansky/Handson_chapter_5_1_n_queens.ipynb\" target=\"_parent\"><img src=\"https://colab.research.google.com/assets/colab-badge.svg\" alt=\"Open In Colab\"/></a>"
      ]
    },
    {
      "cell_type": "markdown",
      "source": [
        "#Solucion del problema de las N Damas || N-Queens Problem"
      ],
      "metadata": {
        "id": "pVVtyKf7dVZH"
      }
    },
    {
      "cell_type": "markdown",
      "source": [
        "###Configuraciones y definiciones"
      ],
      "metadata": {
        "id": "jUyH11RZdH6j"
      }
    },
    {
      "cell_type": "code",
      "source": [
        "pip install deap"
      ],
      "metadata": {
        "colab": {
          "base_uri": "https://localhost:8080/"
        },
        "id": "JE91VIDQCHrA",
        "outputId": "5a807e8a-982e-4e66-f338-02348c7b5034"
      },
      "execution_count": null,
      "outputs": [
        {
          "output_type": "stream",
          "name": "stdout",
          "text": [
            "Requirement already satisfied: deap in /usr/local/lib/python3.10/dist-packages (1.4.1)\n",
            "Requirement already satisfied: numpy in /usr/local/lib/python3.10/dist-packages (from deap) (1.25.2)\n"
          ]
        }
      ]
    },
    {
      "cell_type": "code",
      "source": [
        "import queens\n",
        "import elitism"
      ],
      "metadata": {
        "id": "zqUQ6hVooRR9"
      },
      "execution_count": null,
      "outputs": []
    },
    {
      "cell_type": "code",
      "execution_count": null,
      "metadata": {
        "id": "_o0YKIs34_AR"
      },
      "outputs": [],
      "source": [
        "## Paso 1: Modulos\n",
        "\n",
        "from deap import base\n",
        "from deap import creator\n",
        "from deap import tools\n",
        "from deap import algorithms\n",
        "\n",
        "import random as rd\n",
        "import numpy as np\n",
        "import array as arr\n",
        "\n",
        "import matplotlib.pyplot as plt\n",
        "import seaborn as sns\n",
        "\n"
      ]
    },
    {
      "cell_type": "code",
      "source": [
        "## Paso 2: Parametros del problema\n",
        "\n",
        "# Contenido del problema\n",
        "NUM_OF_QUEENS = 8 # Numero de damas\n",
        "nQueens = queens.NQueensProblem(NUM_OF_QUEENS)\n",
        "\n",
        "POPULATION_SIZE = 300      # Tamaño de los inidivios de la población\n",
        "P_CROSSOVER     =  0.9    # Probabilidad de cruza\n",
        "P_MUTATION      =  0.1    # Probabilidad de mutación\n",
        "\n",
        "MAX_GENERATIONS = 100     # Maximo numero de generaciones (condición de termino)"
      ],
      "metadata": {
        "id": "sk8gDOZfLjT5"
      },
      "execution_count": null,
      "outputs": []
    },
    {
      "cell_type": "code",
      "source": [
        "HALL_OF_FAME_SIZE = 10"
      ],
      "metadata": {
        "id": "T8ksHqrDLC3A"
      },
      "execution_count": null,
      "outputs": []
    },
    {
      "cell_type": "code",
      "source": [
        "## Paso 3: Elementos aleatorios\n",
        "\n",
        "RANDOM_SEED = 42          # Comunmente cuando se experimenta con un codigo\n",
        "rd.seed(RANDOM_SEED)      # se corre el problema con los mismos parametros\n",
        "                          # para repetir y compara resultados"
      ],
      "metadata": {
        "id": "eDnBQiyiNGGu"
      },
      "execution_count": null,
      "outputs": []
    },
    {
      "cell_type": "code",
      "source": [
        "## Paso 4: Declarando el cromosoma\n",
        "\n",
        "toolbox = base.Toolbox()\n",
        "toolbox.register(\"randomOrder\", rd.sample, range(len(nQueens)), len(nQueens))"
      ],
      "metadata": {
        "id": "4O4iiU3bSF9G"
      },
      "execution_count": null,
      "outputs": []
    },
    {
      "cell_type": "code",
      "source": [
        "## Paso 5: Crear la funcion de aptitud (FITNESS)\n",
        "\n",
        "# Se indica maximizacion y un solo peso\n",
        "creator.create('FitnessMin', base.Fitness, weights = (-1.0,))"
      ],
      "metadata": {
        "id": "PfnaIlJPTMBV"
      },
      "execution_count": null,
      "outputs": []
    },
    {
      "cell_type": "code",
      "source": [
        "## Paso 6: Crear la funcion de  aptitud del individuo\n",
        "\n",
        "creator.create(\"Individual\", arr.array, typecode='i', fitness=creator.FitnessMin)"
      ],
      "metadata": {
        "id": "wrTNY_p7VcMt"
      },
      "execution_count": null,
      "outputs": []
    },
    {
      "cell_type": "code",
      "source": [
        "## Paso 7: Declarar el operador para generador de individuos\n",
        "\n",
        "toolbox.register(\"individualCreator\", tools.initIterate, creator.Individual, toolbox.randomOrder)"
      ],
      "metadata": {
        "id": "pVg34tJUYaOE"
      },
      "execution_count": null,
      "outputs": []
    },
    {
      "cell_type": "code",
      "source": [
        "## Paso 8: Declarar el operador para generar la poblacion\n",
        "\n",
        "toolbox.register(\"populationCreator\", tools.initRepeat, list, toolbox.individualCreator)"
      ],
      "metadata": {
        "id": "5OB5u2ePa7wO"
      },
      "execution_count": null,
      "outputs": []
    },
    {
      "cell_type": "code",
      "source": [
        "## Paso 9: Herramienta para calcular la aptitud\n",
        "##         incluida en la libreria queens\n",
        "def getViolationsCount(individual):\n",
        "    return nQueens.getViolationsCount(individual),"
      ],
      "metadata": {
        "id": "W8mXJZs6b_Ei"
      },
      "execution_count": null,
      "outputs": []
    },
    {
      "cell_type": "code",
      "source": [
        "## Paso 10: Declarar el operador de evaluacion\n",
        "\n",
        "toolbox.register(\"evaluate\", getViolationsCount)"
      ],
      "metadata": {
        "id": "ZSbOP09Bcx2W"
      },
      "execution_count": null,
      "outputs": []
    },
    {
      "cell_type": "code",
      "source": [
        "## Paso 11: Declarar los operadores geneticos\n",
        "\n",
        "toolbox.register(\"select\", tools.selTournament, tournsize=2)\n",
        "toolbox.register(\"mate\", tools.cxUniformPartialyMatched, indpb=2.0/len(nQueens))\n",
        "toolbox.register(\"mutate\", tools.mutShuffleIndexes, indpb=1.0/len(nQueens))"
      ],
      "metadata": {
        "id": "6wv9YN9qdrVi"
      },
      "execution_count": null,
      "outputs": []
    },
    {
      "cell_type": "markdown",
      "source": [
        "###Evolucionando la solución"
      ],
      "metadata": {
        "id": "UPas2s4We39f"
      }
    },
    {
      "cell_type": "code",
      "source": [
        "def nQueens_problem():\n",
        "\n",
        "    # create initial population (generation 0):\n",
        "    population = toolbox.populationCreator(n=POPULATION_SIZE)\n",
        "\n",
        "    # prepare the statistics object:\n",
        "    stats = tools.Statistics(lambda ind: ind.fitness.values)\n",
        "    stats.register(\"min\", np.min)\n",
        "    stats.register(\"avg\", np.mean)\n",
        "\n",
        "    # define the hall-of-fame object:\n",
        "    hof = tools.HallOfFame(HALL_OF_FAME_SIZE)\n",
        "\n",
        "    # perform the Genetic Algorithm flow with hof feature added:\n",
        "    population, logbook = elitism.eaSimpleWithElitism(population, toolbox, cxpb=P_CROSSOVER, mutpb=P_MUTATION,\n",
        "                                              ngen=MAX_GENERATIONS, stats=stats, halloffame=hof, verbose=True)\n",
        "\n",
        "    # print hall of fame members info:\n",
        "    print(\"- Best solutions are:\")\n",
        "    for i in range(HALL_OF_FAME_SIZE):\n",
        "        print(i, \": \", hof.items[i].fitness.values[0], \" -> \", hof.items[i])\n",
        "\n",
        "    # plot statistics:\n",
        "    minFitnessValues, meanFitnessValues = logbook.select(\"min\", \"avg\")\n",
        "    plt.figure(1)\n",
        "    sns.set_style(\"whitegrid\")\n",
        "    plt.plot(minFitnessValues, color='red')\n",
        "    plt.plot(meanFitnessValues, color='green')\n",
        "    plt.xlabel('Generation')\n",
        "    plt.ylabel('Min / Average Fitness')\n",
        "    plt.title('Min and Average fitness over Generations')\n",
        "\n",
        "    # plot best solution:\n",
        "    sns.set_style(\"whitegrid\", {'axes.grid' : False})\n",
        "    nQueens.plotBoard(hof.items[0])\n",
        "\n",
        "    # show both plots:\n",
        "    plt.show()"
      ],
      "metadata": {
        "id": "oLalgOms74TM"
      },
      "execution_count": null,
      "outputs": []
    },
    {
      "cell_type": "code",
      "source": [
        "nQueens_problem()"
      ],
      "metadata": {
        "colab": {
          "base_uri": "https://localhost:8080/",
          "height": 1000
        },
        "id": "JzjvDhO177zv",
        "outputId": "90a8cf0e-cce7-481b-855a-cc1a71e032c8"
      },
      "execution_count": null,
      "outputs": [
        {
          "output_type": "stream",
          "name": "stdout",
          "text": [
            "gen\tnevals\tmin\tavg    \n",
            "0  \t300   \t1  \t5.08667\n",
            "1  \t259   \t0  \t4.34   \n",
            "2  \t268   \t0  \t4.03   \n",
            "3  \t260   \t0  \t4.04   \n",
            "4  \t261   \t0  \t3.96   \n",
            "5  \t261   \t0  \t3.85   \n",
            "6  \t266   \t0  \t3.75333\n",
            "7  \t274   \t0  \t3.67   \n",
            "8  \t270   \t0  \t3.87333\n",
            "9  \t258   \t0  \t3.89   \n",
            "10 \t268   \t0  \t3.96   \n",
            "11 \t266   \t0  \t3.72333\n",
            "12 \t256   \t0  \t3.66333\n",
            "13 \t269   \t0  \t3.51667\n",
            "14 \t258   \t0  \t3.43   \n",
            "15 \t260   \t0  \t3.55   \n",
            "16 \t261   \t0  \t3.48   \n",
            "17 \t253   \t0  \t3.53667\n",
            "18 \t275   \t0  \t3.61333\n",
            "19 \t267   \t0  \t3.76667\n",
            "20 \t256   \t0  \t3.78   \n",
            "21 \t254   \t0  \t3.71   \n",
            "22 \t267   \t0  \t3.45   \n",
            "23 \t268   \t0  \t3.60667\n",
            "24 \t262   \t0  \t3.47333\n",
            "25 \t270   \t0  \t3.5    \n",
            "26 \t250   \t0  \t3.45   \n",
            "27 \t256   \t0  \t3.32333\n",
            "28 \t266   \t0  \t3.32667\n",
            "29 \t271   \t0  \t3.56667\n",
            "30 \t269   \t0  \t3.57667\n",
            "31 \t274   \t0  \t3.57667\n",
            "32 \t250   \t0  \t3.61333\n",
            "33 \t262   \t0  \t3.67667\n",
            "34 \t272   \t0  \t3.44   \n",
            "35 \t262   \t0  \t3.68333\n",
            "36 \t264   \t0  \t3.52333\n",
            "37 \t258   \t0  \t3.56333\n",
            "38 \t270   \t0  \t3.27   \n",
            "39 \t266   \t0  \t3.28333\n",
            "40 \t268   \t0  \t3.43   \n",
            "41 \t249   \t0  \t3.53667\n",
            "42 \t283   \t0  \t3.55333\n",
            "43 \t268   \t0  \t3.68333\n",
            "44 \t253   \t0  \t3.58   \n",
            "45 \t268   \t0  \t3.68   \n",
            "46 \t268   \t0  \t3.71   \n",
            "47 \t272   \t0  \t3.93   \n",
            "48 \t279   \t0  \t3.74333\n",
            "49 \t257   \t0  \t3.50333\n",
            "50 \t263   \t0  \t3.62667\n",
            "51 \t261   \t0  \t3.54   \n",
            "52 \t266   \t0  \t3.69   \n",
            "53 \t268   \t0  \t3.71   \n",
            "54 \t261   \t0  \t3.67667\n",
            "55 \t257   \t0  \t3.61   \n",
            "56 \t269   \t0  \t3.63667\n",
            "57 \t261   \t0  \t3.57333\n",
            "58 \t257   \t0  \t3.51   \n",
            "59 \t278   \t0  \t3.59667\n",
            "60 \t274   \t0  \t3.51   \n",
            "61 \t260   \t0  \t3.49   \n",
            "62 \t270   \t0  \t3.5    \n",
            "63 \t260   \t0  \t3.34   \n",
            "64 \t263   \t0  \t3.46   \n",
            "65 \t269   \t0  \t3.49333\n",
            "66 \t270   \t0  \t3.92333\n",
            "67 \t258   \t0  \t3.39667\n",
            "68 \t259   \t0  \t3.58   \n",
            "69 \t271   \t0  \t3.70333\n",
            "70 \t261   \t0  \t3.81667\n",
            "71 \t254   \t0  \t3.64333\n",
            "72 \t256   \t0  \t3.53667\n",
            "73 \t262   \t0  \t3.64   \n",
            "74 \t269   \t0  \t3.5    \n",
            "75 \t262   \t0  \t3.69333\n",
            "76 \t259   \t0  \t3.58333\n",
            "77 \t264   \t0  \t3.54667\n",
            "78 \t256   \t0  \t3.39667\n",
            "79 \t253   \t0  \t3.32667\n",
            "80 \t258   \t0  \t3.44333\n",
            "81 \t263   \t0  \t3.40333\n",
            "82 \t263   \t0  \t3.63333\n",
            "83 \t260   \t0  \t3.45333\n",
            "84 \t263   \t0  \t3.46333\n",
            "85 \t268   \t0  \t3.85333\n",
            "86 \t263   \t0  \t3.77667\n",
            "87 \t264   \t0  \t3.52333\n",
            "88 \t266   \t0  \t3.53667\n",
            "89 \t260   \t0  \t3.40667\n",
            "90 \t266   \t0  \t3.62667\n",
            "91 \t262   \t0  \t3.63   \n",
            "92 \t267   \t0  \t3.61333\n",
            "93 \t265   \t0  \t3.56333\n",
            "94 \t269   \t0  \t3.76   \n",
            "95 \t267   \t0  \t3.45667\n",
            "96 \t268   \t0  \t3.73667\n",
            "97 \t263   \t0  \t3.79667\n",
            "98 \t265   \t0  \t3.68667\n",
            "99 \t263   \t0  \t3.49333\n",
            "100\t268   \t0  \t3.71667\n",
            "- Best solutions are:\n",
            "0 :  0.0  ->  Individual('i', [4, 6, 1, 5, 2, 0, 3, 7])\n",
            "1 :  0.0  ->  Individual('i', [4, 6, 3, 0, 2, 7, 5, 1])\n",
            "2 :  0.0  ->  Individual('i', [1, 6, 2, 5, 7, 4, 0, 3])\n",
            "3 :  0.0  ->  Individual('i', [2, 5, 1, 6, 4, 0, 7, 3])\n",
            "4 :  0.0  ->  Individual('i', [5, 3, 6, 0, 2, 4, 1, 7])\n",
            "5 :  0.0  ->  Individual('i', [5, 7, 1, 3, 0, 6, 4, 2])\n",
            "6 :  0.0  ->  Individual('i', [3, 5, 7, 2, 0, 6, 4, 1])\n",
            "7 :  0.0  ->  Individual('i', [3, 0, 4, 7, 5, 2, 6, 1])\n",
            "8 :  0.0  ->  Individual('i', [2, 6, 1, 7, 4, 0, 3, 5])\n",
            "9 :  0.0  ->  Individual('i', [5, 2, 6, 3, 0, 7, 1, 4])\n"
          ]
        },
        {
          "output_type": "error",
          "ename": "FileNotFoundError",
          "evalue": "[Errno 2] No such file or directory: 'queen-thumbnail.png'",
          "traceback": [
            "\u001b[0;31m---------------------------------------------------------------------------\u001b[0m",
            "\u001b[0;31mFileNotFoundError\u001b[0m                         Traceback (most recent call last)",
            "\u001b[0;32m<ipython-input-16-a9f795fc7eb1>\u001b[0m in \u001b[0;36m<cell line: 1>\u001b[0;34m()\u001b[0m\n\u001b[0;32m----> 1\u001b[0;31m \u001b[0mnQueens_problem\u001b[0m\u001b[0;34m(\u001b[0m\u001b[0;34m)\u001b[0m\u001b[0;34m\u001b[0m\u001b[0;34m\u001b[0m\u001b[0m\n\u001b[0m",
            "\u001b[0;32m<ipython-input-15-3977222f7611>\u001b[0m in \u001b[0;36mnQueens_problem\u001b[0;34m()\u001b[0m\n\u001b[1;32m     33\u001b[0m     \u001b[0;31m# plot best solution:\u001b[0m\u001b[0;34m\u001b[0m\u001b[0;34m\u001b[0m\u001b[0m\n\u001b[1;32m     34\u001b[0m     \u001b[0msns\u001b[0m\u001b[0;34m.\u001b[0m\u001b[0mset_style\u001b[0m\u001b[0;34m(\u001b[0m\u001b[0;34m\"whitegrid\"\u001b[0m\u001b[0;34m,\u001b[0m \u001b[0;34m{\u001b[0m\u001b[0;34m'axes.grid'\u001b[0m \u001b[0;34m:\u001b[0m \u001b[0;32mFalse\u001b[0m\u001b[0;34m}\u001b[0m\u001b[0;34m)\u001b[0m\u001b[0;34m\u001b[0m\u001b[0;34m\u001b[0m\u001b[0m\n\u001b[0;32m---> 35\u001b[0;31m     \u001b[0mnQueens\u001b[0m\u001b[0;34m.\u001b[0m\u001b[0mplotBoard\u001b[0m\u001b[0;34m(\u001b[0m\u001b[0mhof\u001b[0m\u001b[0;34m.\u001b[0m\u001b[0mitems\u001b[0m\u001b[0;34m[\u001b[0m\u001b[0;36m0\u001b[0m\u001b[0;34m]\u001b[0m\u001b[0;34m)\u001b[0m\u001b[0;34m\u001b[0m\u001b[0;34m\u001b[0m\u001b[0m\n\u001b[0m\u001b[1;32m     36\u001b[0m \u001b[0;34m\u001b[0m\u001b[0m\n\u001b[1;32m     37\u001b[0m     \u001b[0;31m# show both plots:\u001b[0m\u001b[0;34m\u001b[0m\u001b[0;34m\u001b[0m\u001b[0m\n",
            "\u001b[0;32m/content/queens.py\u001b[0m in \u001b[0;36mplotBoard\u001b[0;34m(self, positions)\u001b[0m\n\u001b[1;32m     72\u001b[0m \u001b[0;34m\u001b[0m\u001b[0m\n\u001b[1;32m     73\u001b[0m         \u001b[0;31m# read the queen image thumbnail and give it a spread of 70% of the square dimensions:\u001b[0m\u001b[0;34m\u001b[0m\u001b[0;34m\u001b[0m\u001b[0m\n\u001b[0;32m---> 74\u001b[0;31m         \u001b[0mqueenThumbnail\u001b[0m \u001b[0;34m=\u001b[0m \u001b[0mplt\u001b[0m\u001b[0;34m.\u001b[0m\u001b[0mimread\u001b[0m\u001b[0;34m(\u001b[0m\u001b[0;34m'queen-thumbnail.png'\u001b[0m\u001b[0;34m)\u001b[0m\u001b[0;34m\u001b[0m\u001b[0;34m\u001b[0m\u001b[0m\n\u001b[0m\u001b[1;32m     75\u001b[0m         \u001b[0mthumbnailSpread\u001b[0m \u001b[0;34m=\u001b[0m \u001b[0;36m0.70\u001b[0m \u001b[0;34m*\u001b[0m \u001b[0mnp\u001b[0m\u001b[0;34m.\u001b[0m\u001b[0marray\u001b[0m\u001b[0;34m(\u001b[0m\u001b[0;34m[\u001b[0m\u001b[0;34m-\u001b[0m\u001b[0;36m1\u001b[0m\u001b[0;34m,\u001b[0m \u001b[0;36m1\u001b[0m\u001b[0;34m,\u001b[0m \u001b[0;34m-\u001b[0m\u001b[0;36m1\u001b[0m\u001b[0;34m,\u001b[0m \u001b[0;36m1\u001b[0m\u001b[0;34m]\u001b[0m\u001b[0;34m)\u001b[0m \u001b[0;34m/\u001b[0m \u001b[0;36m2\u001b[0m  \u001b[0;31m# spread is [left, right, bottom, top]\u001b[0m\u001b[0;34m\u001b[0m\u001b[0;34m\u001b[0m\u001b[0m\n\u001b[1;32m     76\u001b[0m \u001b[0;34m\u001b[0m\u001b[0m\n",
            "\u001b[0;32m/usr/local/lib/python3.10/dist-packages/matplotlib/pyplot.py\u001b[0m in \u001b[0;36mimread\u001b[0;34m(fname, format)\u001b[0m\n\u001b[1;32m   2193\u001b[0m \u001b[0;34m@\u001b[0m\u001b[0m_copy_docstring_and_deprecators\u001b[0m\u001b[0;34m(\u001b[0m\u001b[0mmatplotlib\u001b[0m\u001b[0;34m.\u001b[0m\u001b[0mimage\u001b[0m\u001b[0;34m.\u001b[0m\u001b[0mimread\u001b[0m\u001b[0;34m)\u001b[0m\u001b[0;34m\u001b[0m\u001b[0;34m\u001b[0m\u001b[0m\n\u001b[1;32m   2194\u001b[0m \u001b[0;32mdef\u001b[0m \u001b[0mimread\u001b[0m\u001b[0;34m(\u001b[0m\u001b[0mfname\u001b[0m\u001b[0;34m,\u001b[0m \u001b[0mformat\u001b[0m\u001b[0;34m=\u001b[0m\u001b[0;32mNone\u001b[0m\u001b[0;34m)\u001b[0m\u001b[0;34m:\u001b[0m\u001b[0;34m\u001b[0m\u001b[0;34m\u001b[0m\u001b[0m\n\u001b[0;32m-> 2195\u001b[0;31m     \u001b[0;32mreturn\u001b[0m \u001b[0mmatplotlib\u001b[0m\u001b[0;34m.\u001b[0m\u001b[0mimage\u001b[0m\u001b[0;34m.\u001b[0m\u001b[0mimread\u001b[0m\u001b[0;34m(\u001b[0m\u001b[0mfname\u001b[0m\u001b[0;34m,\u001b[0m \u001b[0mformat\u001b[0m\u001b[0;34m)\u001b[0m\u001b[0;34m\u001b[0m\u001b[0;34m\u001b[0m\u001b[0m\n\u001b[0m\u001b[1;32m   2196\u001b[0m \u001b[0;34m\u001b[0m\u001b[0m\n\u001b[1;32m   2197\u001b[0m \u001b[0;34m\u001b[0m\u001b[0m\n",
            "\u001b[0;32m/usr/local/lib/python3.10/dist-packages/matplotlib/image.py\u001b[0m in \u001b[0;36mimread\u001b[0;34m(fname, format)\u001b[0m\n\u001b[1;32m   1561\u001b[0m             \u001b[0;34m\"``np.array(PIL.Image.open(urllib.request.urlopen(url)))``.\"\u001b[0m\u001b[0;34m\u001b[0m\u001b[0;34m\u001b[0m\u001b[0m\n\u001b[1;32m   1562\u001b[0m             )\n\u001b[0;32m-> 1563\u001b[0;31m     \u001b[0;32mwith\u001b[0m \u001b[0mimg_open\u001b[0m\u001b[0;34m(\u001b[0m\u001b[0mfname\u001b[0m\u001b[0;34m)\u001b[0m \u001b[0;32mas\u001b[0m \u001b[0mimage\u001b[0m\u001b[0;34m:\u001b[0m\u001b[0;34m\u001b[0m\u001b[0;34m\u001b[0m\u001b[0m\n\u001b[0m\u001b[1;32m   1564\u001b[0m         return (_pil_png_to_float_array(image)\n\u001b[1;32m   1565\u001b[0m                 \u001b[0;32mif\u001b[0m \u001b[0misinstance\u001b[0m\u001b[0;34m(\u001b[0m\u001b[0mimage\u001b[0m\u001b[0;34m,\u001b[0m \u001b[0mPIL\u001b[0m\u001b[0;34m.\u001b[0m\u001b[0mPngImagePlugin\u001b[0m\u001b[0;34m.\u001b[0m\u001b[0mPngImageFile\u001b[0m\u001b[0;34m)\u001b[0m \u001b[0;32melse\u001b[0m\u001b[0;34m\u001b[0m\u001b[0;34m\u001b[0m\u001b[0m\n",
            "\u001b[0;32m/usr/local/lib/python3.10/dist-packages/PIL/ImageFile.py\u001b[0m in \u001b[0;36m__init__\u001b[0;34m(self, fp, filename)\u001b[0m\n\u001b[1;32m    103\u001b[0m         \u001b[0;32mif\u001b[0m \u001b[0mis_path\u001b[0m\u001b[0;34m(\u001b[0m\u001b[0mfp\u001b[0m\u001b[0;34m)\u001b[0m\u001b[0;34m:\u001b[0m\u001b[0;34m\u001b[0m\u001b[0;34m\u001b[0m\u001b[0m\n\u001b[1;32m    104\u001b[0m             \u001b[0;31m# filename\u001b[0m\u001b[0;34m\u001b[0m\u001b[0;34m\u001b[0m\u001b[0m\n\u001b[0;32m--> 105\u001b[0;31m             \u001b[0mself\u001b[0m\u001b[0;34m.\u001b[0m\u001b[0mfp\u001b[0m \u001b[0;34m=\u001b[0m \u001b[0mopen\u001b[0m\u001b[0;34m(\u001b[0m\u001b[0mfp\u001b[0m\u001b[0;34m,\u001b[0m \u001b[0;34m\"rb\"\u001b[0m\u001b[0;34m)\u001b[0m\u001b[0;34m\u001b[0m\u001b[0;34m\u001b[0m\u001b[0m\n\u001b[0m\u001b[1;32m    106\u001b[0m             \u001b[0mself\u001b[0m\u001b[0;34m.\u001b[0m\u001b[0mfilename\u001b[0m \u001b[0;34m=\u001b[0m \u001b[0mfp\u001b[0m\u001b[0;34m\u001b[0m\u001b[0;34m\u001b[0m\u001b[0m\n\u001b[1;32m    107\u001b[0m             \u001b[0mself\u001b[0m\u001b[0;34m.\u001b[0m\u001b[0m_exclusive_fp\u001b[0m \u001b[0;34m=\u001b[0m \u001b[0;32mTrue\u001b[0m\u001b[0;34m\u001b[0m\u001b[0;34m\u001b[0m\u001b[0m\n",
            "\u001b[0;31mFileNotFoundError\u001b[0m: [Errno 2] No such file or directory: 'queen-thumbnail.png'"
          ]
        },
        {
          "output_type": "display_data",
          "data": {
            "text/plain": [
              "<Figure size 640x480 with 1 Axes>"
            ],
            "image/png": "[encoded data removed]"
          },
          "metadata": {}
        },
        {
          "output_type": "display_data",
          "data": {
            "text/plain": [
              "<Figure size 640x480 with 1 Axes>"
            ],
            "image/png": "[encoded data removed]"
          },
          "metadata": {}
        }
      ]
    }
  ]
}