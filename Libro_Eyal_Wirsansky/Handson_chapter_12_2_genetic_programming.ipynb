{
  "nbformat": 4,
  "nbformat_minor": 0,
  "metadata": {
    "colab": {
      "provenance": [],
      "authorship_tag": "ABX9TyPkF4SBMYFLdYEmzXtvMRup",
      "include_colab_link": true
    },
    "kernelspec": {
      "name": "python3",
      "display_name": "Python 3"
    },
    "language_info": {
      "name": "python"
    }
  },
  "cells": [
    {
      "cell_type": "markdown",
      "metadata": {
        "id": "view-in-github",
        "colab_type": "text"
      },
      "source": [
        "<a href=\"https://colab.research.google.com/github/antonvandike/Algoritmos-Geneticos/blob/main/Libro_Eyal_Wirsansky/Handson_chapter_12_2_genetic_programming.ipynb\" target=\"_parent\"><img src=\"https://colab.research.google.com/assets/colab-badge.svg\" alt=\"Open In Colab\"/></a>"
      ]
    },
    {
      "cell_type": "markdown",
      "source": [
        "#Solucion del problema del control de paridad uniforme\n"
      ],
      "metadata": {
        "id": "pVVtyKf7dVZH"
      }
    },
    {
      "cell_type": "code",
      "source": [
        "pip install deap"
      ],
      "metadata": {
        "colab": {
          "base_uri": "https://localhost:8080/"
        },
        "id": "JE91VIDQCHrA",
        "outputId": "566dc852-4fc8-4501-9c9c-b370425afe8f"
      },
      "execution_count": null,
      "outputs": [
        {
          "output_type": "stream",
          "name": "stdout",
          "text": [
            "Requirement already satisfied: deap in /usr/local/lib/python3.10/dist-packages (1.4.1)\n",
            "Requirement already satisfied: numpy in /usr/local/lib/python3.10/dist-packages (from deap) (1.25.2)\n"
          ]
        }
      ]
    },
    {
      "cell_type": "markdown",
      "source": [
        "###Configuraciones y definiciones"
      ],
      "metadata": {
        "id": "dx6mGb10tjmE"
      }
    },
    {
      "cell_type": "code",
      "execution_count": null,
      "metadata": {
        "id": "_o0YKIs34_AR"
      },
      "outputs": [],
      "source": [
        "## Paso 1: Modulos\n",
        "\n",
        "from deap import base\n",
        "from deap import creator\n",
        "from deap import tools\n",
        "from deap import gp\n",
        "\n",
        "import random as rd\n",
        "import numpy as np\n",
        "import operator as op\n",
        "\n",
        "import matplotlib.pyplot as plt\n",
        "import seaborn as sns\n",
        "\n",
        "import itertools\n",
        "import matplotlib.pyplot as plt\n",
        "import networkx as nx\n",
        "\n",
        "import elitism\n"
      ]
    },
    {
      "cell_type": "code",
      "source": [
        "# Constantes del problema:\n",
        "\n",
        "NUM_INPUTS = 3   # Numero de entradas\n",
        "NUM_COMBINATIONS = 2 ** NUM_INPUTS   # Numero de combinaciones"
      ],
      "metadata": {
        "id": "DnZPCG94uGyl"
      },
      "execution_count": null,
      "outputs": []
    },
    {
      "cell_type": "code",
      "source": [
        "## Paso 2: Parametros del problema\n",
        "\n",
        "# Contenido del problema del agente viajero\n",
        "\n",
        "POPULATION_SIZE = 60     # Tamaño de la poblacion de individuos\n",
        "P_CROSSOVER     =  0.9    # Probabilidad de cruza\n",
        "P_MUTATION      =  0.5    # Probabilidad de mutación\n",
        "\n",
        "MAX_GENERATIONS = 20    # Maximo numero de generaciones (condición de termino)"
      ],
      "metadata": {
        "id": "sk8gDOZfLjT5"
      },
      "execution_count": null,
      "outputs": []
    },
    {
      "cell_type": "code",
      "source": [
        "HALL_OF_FAME_SIZE = 10"
      ],
      "metadata": {
        "id": "T8ksHqrDLC3A"
      },
      "execution_count": null,
      "outputs": []
    },
    {
      "cell_type": "code",
      "source": [
        "# Constantes especificas de la progrmacion genetica:\n",
        "MIN_TREE_HEIGHT = 3\n",
        "MAX_TREE_HEIGHT = 5\n",
        "LIMIT_TREE_HEIGHT = 17\n",
        "MUT_MIN_TREE_HEIGHT = 0\n",
        "MUT_MAX_TREE_HEIGHT = 2"
      ],
      "metadata": {
        "id": "Q71qAv4enZR2"
      },
      "execution_count": null,
      "outputs": []
    },
    {
      "cell_type": "code",
      "source": [],
      "metadata": {
        "id": "rmUaHjy5ncrE"
      },
      "execution_count": null,
      "outputs": []
    },
    {
      "cell_type": "code",
      "source": [
        "## Paso 3: Elementos aleatorios\n",
        "\n",
        "RANDOM_SEED = 42          # Comunmente cuando se experimenta con un codigo\n",
        "rd.seed(RANDOM_SEED)      # se corre el problema con los mismos parametros\n",
        "                          # para repetir y compara resultados"
      ],
      "metadata": {
        "id": "eDnBQiyiNGGu"
      },
      "execution_count": null,
      "outputs": []
    },
    {
      "cell_type": "code",
      "source": [
        "toolbox = base.Toolbox()"
      ],
      "metadata": {
        "id": "VbkWpv6JnitJ"
      },
      "execution_count": null,
      "outputs": []
    },
    {
      "cell_type": "code",
      "source": [
        "## Paso 4: Declarando el cromosoma\n",
        "\n",
        "\n",
        "# calculate the truth table of even parity check:\n",
        "parityIn = list(itertools.product([0, 1], repeat=NUM_INPUTS))\n",
        "parityOut = []\n",
        "for row in parityIn:\n",
        "    parityOut.append(sum(row) % 2)\n",
        "\n",
        "# create the primitive set:\n",
        "primitiveSet = gp.PrimitiveSet(\"main\", NUM_INPUTS, \"in_\")\n",
        "primitiveSet.addPrimitive(op.and_, 2)\n",
        "primitiveSet.addPrimitive(op.or_, 2)\n",
        "primitiveSet.addPrimitive(op.xor, 2)\n",
        "primitiveSet.addPrimitive(op.not_, 1)\n",
        "\n",
        "# add terminal values:\n",
        "primitiveSet.addTerminal(1)\n",
        "primitiveSet.addTerminal(0)\n",
        "\n",
        "toolbox.register(\"expr\", gp.genFull, pset=primitiveSet, min_=MIN_TREE_HEIGHT, max_=MAX_TREE_HEIGHT)"
      ],
      "metadata": {
        "id": "4O4iiU3bSF9G"
      },
      "execution_count": null,
      "outputs": []
    },
    {
      "cell_type": "code",
      "source": [
        "parityIn"
      ],
      "metadata": {
        "colab": {
          "base_uri": "https://localhost:8080/"
        },
        "id": "fX5IQB3Qrsgl",
        "outputId": "4255c1ac-315f-45c3-88f1-bb962081d4aa"
      },
      "execution_count": null,
      "outputs": [
        {
          "output_type": "execute_result",
          "data": {
            "text/plain": [
              "[(0, 0, 0),\n",
              " (0, 0, 1),\n",
              " (0, 1, 0),\n",
              " (0, 1, 1),\n",
              " (1, 0, 0),\n",
              " (1, 0, 1),\n",
              " (1, 1, 0),\n",
              " (1, 1, 1)]"
            ]
          },
          "metadata": {},
          "execution_count": 35
        }
      ]
    },
    {
      "cell_type": "code",
      "source": [
        "parityOut"
      ],
      "metadata": {
        "id": "GDfA4hqSqTYh",
        "colab": {
          "base_uri": "https://localhost:8080/"
        },
        "outputId": "374bdf9c-92b2-4706-e6fb-6239215e6484"
      },
      "execution_count": null,
      "outputs": [
        {
          "output_type": "execute_result",
          "data": {
            "text/plain": [
              "[0, 1, 1, 0, 1, 0, 0, 1]"
            ]
          },
          "metadata": {},
          "execution_count": 36
        }
      ]
    },
    {
      "cell_type": "code",
      "source": [
        "## Paso 5: Crear la funcion de aptitud (FITNESS)\n",
        "\n",
        "# Se indica maximizacion y un solo peso\n",
        "creator.create(\"FitnessMin\", base.Fitness, weights=(-1.0,))"
      ],
      "metadata": {
        "id": "PfnaIlJPTMBV",
        "outputId": "4059e3de-6d3e-46ee-c811-2218b9ff69ce",
        "colab": {
          "base_uri": "https://localhost:8080/"
        }
      },
      "execution_count": null,
      "outputs": [
        {
          "output_type": "stream",
          "name": "stderr",
          "text": [
            "/usr/local/lib/python3.10/dist-packages/deap/creator.py:185: RuntimeWarning: A class named 'FitnessMin' has already been created and it will be overwritten. Consider deleting previous creation of that class or rename it.\n",
            "  warnings.warn(\"A class named '{0}' has already been created and it \"\n"
          ]
        }
      ]
    },
    {
      "cell_type": "code",
      "source": [],
      "metadata": {
        "id": "aR45V6hHqZMe"
      },
      "execution_count": null,
      "outputs": []
    },
    {
      "cell_type": "code",
      "source": [
        "## Paso 6: Crear la funcion de  aptitud del individuo\n",
        "\n",
        "creator.create(\"Individual\", gp.PrimitiveTree, fitness=creator.FitnessMin)"
      ],
      "metadata": {
        "id": "wrTNY_p7VcMt",
        "outputId": "7780ec4d-a2e2-48d7-a971-d63565e00b89",
        "colab": {
          "base_uri": "https://localhost:8080/"
        }
      },
      "execution_count": null,
      "outputs": [
        {
          "output_type": "stream",
          "name": "stderr",
          "text": [
            "/usr/local/lib/python3.10/dist-packages/deap/creator.py:185: RuntimeWarning: A class named 'Individual' has already been created and it will be overwritten. Consider deleting previous creation of that class or rename it.\n",
            "  warnings.warn(\"A class named '{0}' has already been created and it \"\n"
          ]
        }
      ]
    },
    {
      "cell_type": "code",
      "source": [
        "## Paso 7: Declarar el operador para generador de individuos\n",
        "\n",
        "toolbox.register(\"individualCreator\", tools.initIterate, creator.Individual, toolbox.expr)"
      ],
      "metadata": {
        "id": "pVg34tJUYaOE"
      },
      "execution_count": null,
      "outputs": []
    },
    {
      "cell_type": "code",
      "source": [
        "  nodes, edges, labels = gp.graph(toolbox.individualCreator())\n",
        "  g = nx.Graph()\n",
        "  g.add_nodes_from(nodes)\n",
        "  g.add_edges_from(edges)\n",
        "  pos = nx.spring_layout(g)\n",
        "\n",
        "  nx.draw_networkx_nodes(g, pos, node_color='cyan')\n",
        "  nx.draw_networkx_nodes(g, pos, nodelist=[0], node_color='red', node_size=400)\n",
        "\n",
        "  nx.draw_networkx_edges(g, pos)\n",
        "  nx.draw_networkx_labels(g, pos, **{\"labels\": labels, \"font_size\": 8})"
      ],
      "metadata": {
        "colab": {
          "base_uri": "https://localhost:8080/"
        },
        "id": "N5JovwUvqq4t",
        "outputId": "cedd0075-08b8-4d7c-abb4-81b6addabd62"
      },
      "execution_count": null,
      "outputs": [
        {
          "output_type": "execute_result",
          "data": {
            "text/plain": [
              "{0: Text(0.027157101360935895, -0.004925880423161041, 'and_'),\n",
              " 1: Text(-0.10689610191616201, -0.13964584596319726, 'and_'),\n",
              " 2: Text(0.10566668483858922, -0.37787152654434397, 'xor'),\n",
              " 3: Text(0.2649381010274332, -0.6235366351246148, 'or_'),\n",
              " 4: Text(0.2998632896844238, -0.8259818706907988, 'or_'),\n",
              " 5: Text(0.28426824589628585, -0.9556697897019959, 'in_1'),\n",
              " 6: Text(0.36130073216893444, -0.9431775008179386, 'in_0'),\n",
              " 7: Text(0.4350103607268952, -0.7415426506245726, 'and_'),\n",
              " 8: Text(0.5581995987512461, -0.789508907942092, '0'),\n",
              " 9: Text(0.5141654237132695, -0.8529423845201312, '1'),\n",
              " 10: Text(0.22040568295587018, -0.3199984592054476, 'and_'),\n",
              " 11: Text(0.07189123368988415, -0.30338992978031354, 'and_'),\n",
              " 12: Text(-0.03413160195417984, -0.25543354553799513, 'in_0'),\n",
              " 13: Text(-0.03072008362192804, -0.33840072635511786, 'in_1'),\n",
              " 14: Text(0.38987389569809905, -0.28523412667740494, 'or_'),\n",
              " 15: Text(0.5002175166396431, -0.2457862793367435, '0'),\n",
              " 16: Text(0.4997734031208294, -0.3293805956537936, '0'),\n",
              " 17: Text(-0.3912128922914006, 0.010274141872412334, 'and_'),\n",
              " 18: Text(-0.5687580347094836, 0.21644177440046838, 'or_'),\n",
              " 19: Text(-0.7393866001463579, 0.29645261256443867, 'not_'),\n",
              " 20: Text(-0.870675327997251, 0.3538366828865664, 'in_1'),\n",
              " 21: Text(-0.6564188198411084, 0.37494474899281666, 'not_'),\n",
              " 22: Text(-0.7393877784104044, 0.4869446197802965, '0'),\n",
              " 23: Text(-0.5990783184671241, -0.03099240869533539, 'xor'),\n",
              " 24: Text(-0.6048256170319558, 0.08088404073696248, 'and_'),\n",
              " 25: Text(-0.5326681271108011, 0.14720253845316517, 'in_1'),\n",
              " 26: Text(-0.7038725337761169, 0.11683445138918401, '1'),\n",
              " 27: Text(-0.7834038176064936, -0.1071648198422006, 'xor'),\n",
              " 28: Text(-0.9134856330168708, -0.11614698617536086, 'in_2'),\n",
              " 29: Text(-0.8727323857305204, -0.19109722333783566, 'in_1'),\n",
              " 30: Text(0.14504774872320983, 0.1317154963228369, 'or_'),\n",
              " 31: Text(-0.10324271776784293, 0.060779866554168345, 'xor'),\n",
              " 32: Text(-0.24326195734872574, -0.2451445149971655, 'and_'),\n",
              " 33: Text(-0.39608490400979307, -0.4087438412366157, 'and_'),\n",
              " 34: Text(-0.4696296318151715, -0.5319536282002987, '1'),\n",
              " 35: Text(-0.5161926042433391, -0.4766266659955374, 'in_0'),\n",
              " 36: Text(-0.27445282044029246, -0.4823412121785288, 'xor'),\n",
              " 37: Text(-0.26464255912312457, -0.6243103158287738, 'in_2'),\n",
              " 38: Text(-0.3342378248410904, -0.617470586987088, '0'),\n",
              " 39: Text(-0.15567236325019299, 0.346599535437622, 'xor'),\n",
              " 40: Text(-0.25852499928542205, 0.5254475694992687, 'and_'),\n",
              " 41: Text(-0.2912927500592149, 0.6589499480132083, '1'),\n",
              " 42: Text(-0.35098246784691817, 0.6188496592434314, '0'),\n",
              " 43: Text(-0.12586471153218728, 0.5536450857760615, 'and_'),\n",
              " 44: Text(-0.14820057436387146, 0.6902297473666186, '1'),\n",
              " 45: Text(-0.0796079075519634, 0.6802905162731492, 'in_0'),\n",
              " 46: Text(0.41215625333803674, 0.2640397099191358, 'xor'),\n",
              " 47: Text(0.42697868913960335, 0.4779265463394849, 'xor'),\n",
              " 48: Text(0.5368702503767998, 0.651019945481096, 'or_'),\n",
              " 49: Text(0.6404975734418273, 0.7371255593484335, 'in_0'),\n",
              " 50: Text(0.5717050333038797, 0.7781096852060159, 'in_0'),\n",
              " 51: Text(0.2715468265505003, 0.5146668980035075, 'or_'),\n",
              " 52: Text(0.18015843546163826, 0.5695878417853244, 'in_2'),\n",
              " 53: Text(0.14733315033974337, 0.481919977823228, 'in_0'),\n",
              " 54: Text(0.6756932501913767, 0.23861038923079878, 'or_'),\n",
              " 55: Text(0.8661985021396166, 0.16120929023895553, 'and_'),\n",
              " 56: Text(1.0, 0.16813377434920007, '1'),\n",
              " 57: Text(0.9777712705677855, 0.09219580500429529, 'in_2'),\n",
              " 58: Text(0.8279725387292624, 0.31114066799664264, 'not_'),\n",
              " 59: Text(0.9468836745316924, 0.3684097320856105, 'in_2')}"
            ]
          },
          "metadata": {},
          "execution_count": 40
        },
        {
          "output_type": "display_data",
          "data": {
            "text/plain": [
              "<Figure size 640x480 with 1 Axes>"
            ],
            "image/png": "[encoded data removed]"
          },
          "metadata": {}
        }
      ]
    },
    {
      "cell_type": "code",
      "source": [
        "## Paso 8: Declarar el operador para generar la poblacion\n",
        "toolbox.register(\"populationCreator\", tools.initRepeat, list, toolbox.individualCreator)"
      ],
      "metadata": {
        "id": "5OB5u2ePa7wO"
      },
      "execution_count": null,
      "outputs": []
    },
    {
      "cell_type": "code",
      "source": [
        "# Crear un operador para compilar el arbol primitivo en el codigo de python\n",
        "\n",
        "toolbox.register(\"compile\", gp.compile, pset=primitiveSet)"
      ],
      "metadata": {
        "id": "CaDkM5easYm4"
      },
      "execution_count": null,
      "outputs": []
    },
    {
      "cell_type": "code",
      "source": [
        "## Paso 9: Definir función para calcular la aptitud\n",
        "\n",
        "def parityError(individual):\n",
        "    func = toolbox.compile(expr=individual)\n",
        "    return sum(func(*pIn) != pOut for pIn, pOut in zip(parityIn, parityOut))\n",
        "\n",
        "# fitness measure:\n",
        "def getCost(individual):\n",
        "    return parityError(individual) + individual.height / 100, # return a tuple"
      ],
      "metadata": {
        "id": "W8mXJZs6b_Ei"
      },
      "execution_count": null,
      "outputs": []
    },
    {
      "cell_type": "code",
      "source": [
        "getCost(toolbox.individualCreator())"
      ],
      "metadata": {
        "colab": {
          "base_uri": "https://localhost:8080/"
        },
        "id": "m-EesjC4tTjz",
        "outputId": "ced00cf8-2707-4f27-fd7c-7ead601e01c9"
      },
      "execution_count": null,
      "outputs": [
        {
          "output_type": "execute_result",
          "data": {
            "text/plain": [
              "(4.03,)"
            ]
          },
          "metadata": {},
          "execution_count": 44
        }
      ]
    },
    {
      "cell_type": "code",
      "source": [
        "## Paso 10: Declarar el operador de evaluacion\n",
        "\n",
        "toolbox.register(\"evaluate\", getCost)"
      ],
      "metadata": {
        "id": "ZSbOP09Bcx2W"
      },
      "execution_count": null,
      "outputs": []
    },
    {
      "cell_type": "code",
      "source": [],
      "metadata": {
        "id": "EDJe8Ud4uHdv"
      },
      "execution_count": null,
      "outputs": []
    },
    {
      "cell_type": "code",
      "source": [],
      "metadata": {
        "id": "i4upHmEwuI9W"
      },
      "execution_count": null,
      "outputs": []
    },
    {
      "cell_type": "code",
      "source": [
        "## Paso 11: Declarar los operadores geneticos\n",
        "\n",
        "toolbox.register(\"select\", tools.selTournament, tournsize=2)\n",
        "toolbox.register(\"mate\", gp.cxOnePoint)\n",
        "toolbox.register(\"expr_mut\", gp.genGrow, min_=MUT_MIN_TREE_HEIGHT, max_=MUT_MAX_TREE_HEIGHT)\n",
        "toolbox.register(\"mutate\", gp.mutUniform, expr=toolbox.expr_mut, pset=primitiveSet)"
      ],
      "metadata": {
        "id": "6wv9YN9qdrVi"
      },
      "execution_count": null,
      "outputs": []
    },
    {
      "cell_type": "code",
      "source": [
        "# bloat control:\n",
        "toolbox.decorate(\"mate\", gp.staticLimit(key=op.attrgetter(\"height\"), max_value=LIMIT_TREE_HEIGHT))\n",
        "toolbox.decorate(\"mutate\", gp.staticLimit(key=op.attrgetter(\"height\"), max_value=LIMIT_TREE_HEIGHT))"
      ],
      "metadata": {
        "id": "qjlYdGcRuUkO"
      },
      "execution_count": null,
      "outputs": []
    },
    {
      "cell_type": "markdown",
      "source": [
        "###Evolucionando la solución"
      ],
      "metadata": {
        "id": "UPas2s4We39f"
      }
    },
    {
      "cell_type": "code",
      "source": [
        "def parity_problem():\n",
        "  # create initial population (generation 0):\n",
        "  population = toolbox.populationCreator(n=POPULATION_SIZE)\n",
        "\n",
        "  # prepare the statistics object:\n",
        "  stats = tools.Statistics(lambda ind: ind.fitness.values)\n",
        "  stats.register(\"min\", np.min)\n",
        "  stats.register(\"avg\", np.mean)\n",
        "\n",
        "  # define the hall-of-fame object:\n",
        "  hof = tools.HallOfFame(HALL_OF_FAME_SIZE)\n",
        "\n",
        "  # perform the Genetic Algorithm flow with elitism:\n",
        "  population, logbook = elitism.eaSimpleWithElitism(population,\n",
        "                                                    toolbox,\n",
        "                                                    cxpb=P_CROSSOVER,\n",
        "                                                    mutpb=P_MUTATION,\n",
        "                                                    ngen=MAX_GENERATIONS,\n",
        "                                                    stats=stats,\n",
        "                                                    halloffame=hof,\n",
        "                                                    verbose=True)\n",
        "\n",
        "  # print info for best solution found:\n",
        "  best = hof.items[0]\n",
        "  print(\"-- Best Individual = \", best)\n",
        "  print(\"-- length={}, height={}\".format(len(best), best.height))\n",
        "  print(\"-- Best Fitness = \", best.fitness.values[0])\n",
        "  print(\"-- Best Parity Error = \", parityError(best))\n",
        "\n",
        "  # plot best tree:\n",
        "  nodes, edges, labels = gp.graph(best)\n",
        "  g = nx.Graph()\n",
        "  g.add_nodes_from(nodes)\n",
        "  g.add_edges_from(edges)\n",
        "  pos = nx.spring_layout(g)\n",
        "\n",
        "  nx.draw_networkx_nodes(g, pos, node_color='cyan')\n",
        "  nx.draw_networkx_nodes(g, pos, nodelist=[0], node_color='red', node_size=400)\n",
        "\n",
        "  nx.draw_networkx_edges(g, pos)\n",
        "  nx.draw_networkx_labels(g, pos, **{\"labels\": labels, \"font_size\": 8})\n",
        "\n",
        "\n",
        "  plt.show()"
      ],
      "metadata": {
        "id": "2W7B1caQuR3L"
      },
      "execution_count": null,
      "outputs": []
    },
    {
      "cell_type": "code",
      "source": [
        "parity_problem()"
      ],
      "metadata": {
        "colab": {
          "base_uri": "https://localhost:8080/"
        },
        "id": "Z_fbsn00u6Fy",
        "outputId": "df9844a2-b6ff-41c3-e8c1-885632d7591b"
      },
      "execution_count": null,
      "outputs": [
        {
          "output_type": "stream",
          "name": "stdout",
          "text": [
            "gen\tnevals\tmin \tavg   \n",
            "0  \t60    \t2.03\t3.9565\n",
            "1  \t49    \t2.03\t3.83933\n",
            "2  \t48    \t2.03\t3.7035 \n",
            "3  \t48    \t2.03\t3.58583\n",
            "4  \t45    \t1.04\t3.404  \n",
            "5  \t49    \t1.04\t3.25617\n",
            "6  \t50    \t0.06\t3.2885 \n",
            "7  \t48    \t0.06\t3.38833\n",
            "8  \t49    \t0.06\t3.22183\n",
            "9  \t47    \t0.06\t3.20483\n",
            "10 \t49    \t0.06\t3.02283\n",
            "11 \t48    \t0.04\t2.97633\n",
            "12 \t50    \t0.04\t2.59417\n",
            "13 \t50    \t0.03\t2.81467\n",
            "14 \t47    \t0.03\t2.351  \n",
            "15 \t50    \t0.03\t1.98333\n",
            "16 \t48    \t0.02\t1.83067\n",
            "17 \t50    \t0.02\t2.45917\n",
            "18 \t48    \t0.02\t2.4715 \n",
            "19 \t46    \t0.02\t2.6175 \n",
            "20 \t48    \t0.02\t2.46567\n",
            "-- Best Individual =  xor(xor(in_2, in_1), in_0)\n",
            "-- length=5, height=2\n",
            "-- Best Fitness =  0.02\n",
            "-- Best Parity Error =  0\n"
          ]
        },
        {
          "output_type": "display_data",
          "data": {
            "text/plain": [
              "<Figure size 640x480 with 1 Axes>"
            ],
            "image/png": "[encoded data removed]"
          },
          "metadata": {}
        }
      ]
    }
  ]
}