{
  "nbformat": 4,
  "nbformat_minor": 0,
  "metadata": {
    "colab": {
      "provenance": [],
      "authorship_tag": "ABX9TyMDq+4GNpzeBGc6Bi6V5kL3",
      "include_colab_link": true
    },
    "kernelspec": {
      "name": "python3",
      "display_name": "Python 3"
    },
    "language_info": {
      "name": "python"
    }
  },
  "cells": [
    {
      "cell_type": "markdown",
      "metadata": {
        "id": "view-in-github",
        "colab_type": "text"
      },
      "source": [
        "<a href=\"https://colab.research.google.com/github/antonvandike/Algoritmos-Geneticos/blob/main/Libro_Eyal_Wirsansky/Handson_chapter_12_1_genetic_programming.ipynb\" target=\"_parent\"><img src=\"https://colab.research.google.com/assets/colab-badge.svg\" alt=\"Open In Colab\"/></a>"
      ]
    },
    {
      "cell_type": "markdown",
      "source": [
        "#Solucion del problema del control de paridad uniforme\n"
      ],
      "metadata": {
        "id": "pVVtyKf7dVZH"
      }
    },
    {
      "cell_type": "code",
      "source": [
        "pip install deap"
      ],
      "metadata": {
        "colab": {
          "base_uri": "https://localhost:8080/"
        },
        "id": "JE91VIDQCHrA",
        "outputId": "ef0f3de1-1932-4a9a-926e-22af1e63a037"
      },
      "execution_count": null,
      "outputs": [
        {
          "output_type": "stream",
          "name": "stdout",
          "text": [
            "Collecting deap\n",
            "  Downloading deap-1.4.1-cp310-cp310-manylinux_2_5_x86_64.manylinux1_x86_64.manylinux_2_17_x86_64.manylinux2014_x86_64.whl (135 kB)\n",
            "\u001b[?25l     \u001b[90m━━━━━━━━━━━━━━━━━━━━━━━━━━━━━━━━━━━━━━━━\u001b[0m \u001b[32m0.0/135.4 kB\u001b[0m \u001b[31m?\u001b[0m eta \u001b[36m-:--:--\u001b[0m\r\u001b[2K     \u001b[91m━━━━━━━━━━━━━━━━━━━━━━━━━━━━━━━━━\u001b[0m\u001b[90m╺\u001b[0m\u001b[90m━━━━━━\u001b[0m \u001b[32m112.6/135.4 kB\u001b[0m \u001b[31m3.1 MB/s\u001b[0m eta \u001b[36m0:00:01\u001b[0m\r\u001b[2K     \u001b[90m━━━━━━━━━━━━━━━━━━━━━━━━━━━━━━━━━━━━━━━━\u001b[0m \u001b[32m135.4/135.4 kB\u001b[0m \u001b[31m2.4 MB/s\u001b[0m eta \u001b[36m0:00:00\u001b[0m\n",
            "\u001b[?25hRequirement already satisfied: numpy in /usr/local/lib/python3.10/dist-packages (from deap) (1.25.2)\n",
            "Installing collected packages: deap\n",
            "Successfully installed deap-1.4.1\n"
          ]
        }
      ]
    },
    {
      "cell_type": "markdown",
      "source": [
        "###Configuraciones y definiciones"
      ],
      "metadata": {
        "id": "dx6mGb10tjmE"
      }
    },
    {
      "cell_type": "code",
      "execution_count": null,
      "metadata": {
        "id": "_o0YKIs34_AR"
      },
      "outputs": [],
      "source": [
        "## Paso 1: Modulos\n",
        "\n",
        "from deap import base\n",
        "from deap import creator\n",
        "from deap import tools\n",
        "from deap import gp\n",
        "\n",
        "import random as rd\n",
        "import numpy as np\n",
        "import operator as op\n",
        "\n",
        "import matplotlib.pyplot as plt\n",
        "import seaborn as sns\n",
        "\n",
        "import itertools\n",
        "import matplotlib.pyplot as plt\n",
        "import networkx as nx\n",
        "\n"
      ]
    },
    {
      "cell_type": "code",
      "source": [
        "# Constantes del problema:\n",
        "\n",
        "NUM_INPUTS = 3   # Numero de entradas\n",
        "NUM_COMBINATIONS = 2 ** NUM_INPUTS   # Numero de combinaciones"
      ],
      "metadata": {
        "id": "DnZPCG94uGyl"
      },
      "execution_count": null,
      "outputs": []
    },
    {
      "cell_type": "code",
      "source": [],
      "metadata": {
        "id": "GJL8YmKWnEtf"
      },
      "execution_count": null,
      "outputs": []
    },
    {
      "cell_type": "code",
      "source": [
        "## Paso 2: Parametros del problema\n",
        "\n",
        "# Contenido del problema\n",
        "\n",
        "POPULATION_SIZE = 60     # Tamaño de la poblacion de individuos\n",
        "P_CROSSOVER     =  0.9    # Probabilidad de cruza\n",
        "P_MUTATION      =  0.5    # Probabilidad de mutación\n",
        "\n",
        "MAX_GENERATIONS = 20    # Maximo numero de generaciones (condición de termino)"
      ],
      "metadata": {
        "id": "sk8gDOZfLjT5"
      },
      "execution_count": null,
      "outputs": []
    },
    {
      "cell_type": "code",
      "source": [
        "HALL_OF_FAME_SIZE = 10"
      ],
      "metadata": {
        "id": "T8ksHqrDLC3A"
      },
      "execution_count": null,
      "outputs": []
    },
    {
      "cell_type": "code",
      "source": [
        "# Constantes especificas de la progrmacion genetica:\n",
        "MIN_TREE_HEIGHT = 3\n",
        "MAX_TREE_HEIGHT = 5\n",
        "LIMIT_TREE_HEIGHT = 17\n",
        "MUT_MIN_TREE_HEIGHT = 0\n",
        "MUT_MAX_TREE_HEIGHT = 2"
      ],
      "metadata": {
        "id": "Q71qAv4enZR2"
      },
      "execution_count": null,
      "outputs": []
    },
    {
      "cell_type": "code",
      "source": [],
      "metadata": {
        "id": "rmUaHjy5ncrE"
      },
      "execution_count": null,
      "outputs": []
    },
    {
      "cell_type": "code",
      "source": [
        "## Paso 3: Elementos aleatorios\n",
        "\n",
        "RANDOM_SEED = 42          # Comunmente cuando se experimenta con un codigo\n",
        "rd.seed(RANDOM_SEED)      # se corre el problema con los mismos parametros\n",
        "                          # para repetir y compara resultados"
      ],
      "metadata": {
        "id": "eDnBQiyiNGGu"
      },
      "execution_count": null,
      "outputs": []
    },
    {
      "cell_type": "code",
      "source": [],
      "metadata": {
        "id": "VbkWpv6JnitJ"
      },
      "execution_count": null,
      "outputs": []
    },
    {
      "cell_type": "code",
      "source": [
        "## Paso 4: Declarando el cromosoma\n",
        "toolbox = base.Toolbox()\n",
        "\n",
        "# calculate the truth table of even parity check:\n",
        "parityIn = list(itertools.product([0, 1], repeat=NUM_INPUTS))\n",
        "parityOut = []\n",
        "for row in parityIn:\n",
        "    parityOut.append(sum(row) % 2)\n",
        "\n",
        "# create the primitive set:\n",
        "primitiveSet = gp.PrimitiveSet(\"main\", NUM_INPUTS, \"in_\")\n",
        "primitiveSet.addPrimitive(op.and_, 2)\n",
        "primitiveSet.addPrimitive(op.or_, 2)\n",
        "primitiveSet.addPrimitive(op.xor, 2)\n",
        "primitiveSet.addPrimitive(op.not_, 1)\n",
        "\n",
        "# add terminal values:\n",
        "primitiveSet.addTerminal(1)\n",
        "primitiveSet.addTerminal(0)\n",
        "\n",
        "toolbox.register(\"expr\", gp.genFull, pset=primitiveSet, min_=MIN_TREE_HEIGHT, max_=MAX_TREE_HEIGHT)"
      ],
      "metadata": {
        "id": "4O4iiU3bSF9G"
      },
      "execution_count": null,
      "outputs": []
    },
    {
      "cell_type": "code",
      "source": [
        "parityIn"
      ],
      "metadata": {
        "colab": {
          "base_uri": "https://localhost:8080/"
        },
        "id": "fX5IQB3Qrsgl",
        "outputId": "ed4d8c36-e91b-4677-8e06-92c46d204938"
      },
      "execution_count": null,
      "outputs": [
        {
          "output_type": "execute_result",
          "data": {
            "text/plain": [
              "[(0, 0, 0),\n",
              " (0, 0, 1),\n",
              " (0, 1, 0),\n",
              " (0, 1, 1),\n",
              " (1, 0, 0),\n",
              " (1, 0, 1),\n",
              " (1, 1, 0),\n",
              " (1, 1, 1)]"
            ]
          },
          "metadata": {},
          "execution_count": 9
        }
      ]
    },
    {
      "cell_type": "code",
      "source": [
        "parityOut"
      ],
      "metadata": {
        "id": "GDfA4hqSqTYh",
        "colab": {
          "base_uri": "https://localhost:8080/"
        },
        "outputId": "34f490f8-40d5-4afb-c51f-db27d4c9ea30"
      },
      "execution_count": null,
      "outputs": [
        {
          "output_type": "execute_result",
          "data": {
            "text/plain": [
              "[0, 1, 1, 0, 1, 0, 0, 1]"
            ]
          },
          "metadata": {},
          "execution_count": 10
        }
      ]
    },
    {
      "cell_type": "code",
      "source": [
        "## Paso 5: Crear la funcion de aptitud (FITNESS)\n",
        "\n",
        "# Se indica maximizacion y un solo peso\n",
        "creator.create(\"FitnessMin\", base.Fitness, weights=(-1.0,))"
      ],
      "metadata": {
        "id": "PfnaIlJPTMBV"
      },
      "execution_count": null,
      "outputs": []
    },
    {
      "cell_type": "code",
      "source": [],
      "metadata": {
        "id": "aR45V6hHqZMe"
      },
      "execution_count": null,
      "outputs": []
    },
    {
      "cell_type": "code",
      "source": [
        "## Paso 6: Crear la funcion de  aptitud del individuo\n",
        "\n",
        "creator.create(\"Individual\", gp.PrimitiveTree, fitness=creator.FitnessMin)"
      ],
      "metadata": {
        "id": "wrTNY_p7VcMt"
      },
      "execution_count": null,
      "outputs": []
    },
    {
      "cell_type": "code",
      "source": [
        "## Paso 7: Declarar el operador para generador de individuos\n",
        "\n",
        "toolbox.register(\"individualCreator\", tools.initIterate, creator.Individual, toolbox.expr)"
      ],
      "metadata": {
        "id": "pVg34tJUYaOE"
      },
      "execution_count": null,
      "outputs": []
    },
    {
      "cell_type": "code",
      "source": [
        "  nodes, edges, labels = gp.graph(toolbox.individualCreator())\n",
        "  g = nx.Graph()\n",
        "  g.add_nodes_from(nodes)\n",
        "  g.add_edges_from(edges)\n",
        "  pos = nx.spring_layout(g)\n",
        "\n",
        "  nx.draw_networkx_nodes(g, pos, node_color='cyan')\n",
        "  nx.draw_networkx_nodes(g, pos, nodelist=[0], node_color='red', node_size=400)\n",
        "\n",
        "  nx.draw_networkx_edges(g, pos)\n",
        "  nx.draw_networkx_labels(g, pos, **{\"labels\": labels, \"font_size\": 8})"
      ],
      "metadata": {
        "colab": {
          "base_uri": "https://localhost:8080/",
          "height": 1000
        },
        "id": "N5JovwUvqq4t",
        "outputId": "6e600644-fe36-46a7-a73b-d5a357d3951b"
      },
      "execution_count": null,
      "outputs": [
        {
          "output_type": "execute_result",
          "data": {
            "text/plain": [
              "{0: Text(0.03884850720296186, 0.03158418236915494, 'and_'),\n",
              " 1: Text(0.1828936558667695, -0.13385816265650713, 'and_'),\n",
              " 2: Text(0.06366322573241173, -0.1670828871353711, 'xor'),\n",
              " 3: Text(0.33968863623558926, -0.09398439074604795, 'or_'),\n",
              " 4: Text(0.5379496908893411, -0.1120023645051513, 'or_'),\n",
              " 5: Text(0.6572574348718541, -0.15552833871122412, 'in_1'),\n",
              " 6: Text(0.664695982957114, -0.08533209533523232, 'in_0'),\n",
              " 7: Text(0.5145981227079357, 0.032549459737978265, 'and_'),\n",
              " 8: Text(0.6430004018433969, 0.07779087886589742, '0'),\n",
              " 9: Text(0.6034039449672278, 0.13490171298951625, '1'),\n",
              " 10: Text(-0.22308631125753525, -0.25984495177506056, 'and_'),\n",
              " 11: Text(-0.43349159052710856, -0.2717304014791441, 'and_'),\n",
              " 12: Text(-0.5560814233510192, -0.3271280729317692, 'in_0'),\n",
              " 13: Text(-0.562564123886171, -0.26092672149476925, 'in_1'),\n",
              " 14: Text(-0.38027912144795023, -0.39611317254392925, 'or_'),\n",
              " 15: Text(-0.49781355418792833, -0.46246430140597855, '0'),\n",
              " 16: Text(-0.448480370354163, -0.5104013244071159, '0'),\n",
              " 17: Text(0.3772202741328418, -0.27574755889485736, 'and_'),\n",
              " 18: Text(0.5834590314672881, -0.41059822517727046, 'or_'),\n",
              " 19: Text(0.748674636230071, -0.4549704542668777, 'not_'),\n",
              " 20: Text(0.8732965880892503, -0.494191353480505, 'in_1'),\n",
              " 21: Text(0.6840193625164854, -0.5365758535126676, 'not_'),\n",
              " 22: Text(0.764783691082663, -0.6289008154980165, '0'),\n",
              " 23: Text(0.28083684736867537, -0.22356848571707194, 'xor'),\n",
              " 24: Text(0.3340318329835387, -0.04871195808178247, 'and_'),\n",
              " 25: Text(0.3446862154228378, 0.06738974370861286, 'in_1'),\n",
              " 26: Text(0.4087807696724798, 0.0326575116590024, '1'),\n",
              " 27: Text(0.1615335946111198, -0.35246580452187803, 'xor'),\n",
              " 28: Text(0.05000899598873536, -0.41649055149192504, 'in_2'),\n",
              " 29: Text(0.12731394297712859, -0.450745515837622, 'in_1'),\n",
              " 30: Text(-0.10923138409047796, 0.17482406472274545, 'or_'),\n",
              " 31: Text(-0.19224612734907315, -0.08040271182795614, 'xor'),\n",
              " 32: Text(-0.10612148390182119, -0.38568167675081777, 'and_'),\n",
              " 33: Text(0.024198928720311038, -0.5783381022831309, 'and_'),\n",
              " 34: Text(0.05624358544198664, -0.7144977153978229, '1'),\n",
              " 35: Text(0.11781079087853516, -0.6830479308217995, 'in_0'),\n",
              " 36: Text(-0.13318674409700182, -0.5987416931983582, 'xor'),\n",
              " 37: Text(-0.12484104962476802, -0.7356907529205048, 'in_2'),\n",
              " 38: Text(-0.19429183441278228, -0.7188623579624553, '0'),\n",
              " 39: Text(-0.3986022730377778, 0.03526786550322087, 'xor'),\n",
              " 40: Text(-0.5891006363062626, 0.051396926220077306, 'and_'),\n",
              " 41: Text(-0.705388776615924, 0.09730396901412097, '1'),\n",
              " 42: Text(-0.7158383448203526, 0.024751898953919067, '0'),\n",
              " 43: Text(-0.4729011558174726, 0.17652877614684173, 'and_'),\n",
              " 44: Text(-0.5003397268757324, 0.27880131681542336, '1'),\n",
              " 45: Text(-0.5713284417795904, 0.2358017666949404, 'in_0'),\n",
              " 46: Text(-0.13622622833744227, 0.47620853768784366, 'xor'),\n",
              " 47: Text(0.01739506375594678, 0.6890026056351938, 'xor'),\n",
              " 48: Text(0.1860113125433296, 0.779154670505793, 'or_'),\n",
              " 49: Text(0.30041524422827914, 0.8204580416159608, 'in_0'),\n",
              " 50: Text(0.2578460070180242, 0.8800955356536554, 'in_0'),\n",
              " 51: Text(0.0402873304371959, 0.8772672855927921, 'or_'),\n",
              " 52: Text(0.08822412813640042, 0.9923949238791276, 'in_2'),\n",
              " 53: Text(0.01333525722981874, 0.9999999999999999, 'in_0'),\n",
              " 54: Text(-0.34077618254529063, 0.6019380777954519, 'or_'),\n",
              " 55: Text(-0.531858260638661, 0.6079218577641873, 'and_'),\n",
              " 56: Text(-0.6449815652051349, 0.6552798563303237, '1'),\n",
              " 57: Text(-0.6542153844313966, 0.5792465109322744, 'in_2'),\n",
              " 58: Text(-0.40511254870859176, 0.7507375820260479, 'not_'),\n",
              " 59: Text(-0.4580283906001181, 0.8633711439505144, 'in_2')}"
            ]
          },
          "metadata": {},
          "execution_count": 14
        },
        {
          "output_type": "display_data",
          "data": {
            "text/plain": [
              "<Figure size 640x480 with 1 Axes>"
            ],
            "image/png": "[encoded data removed]"
          },
          "metadata": {}
        }
      ]
    },
    {
      "cell_type": "code",
      "source": [
        "## Paso 8: Declarar el operador para generar la poblacion\n",
        "\n",
        "toolbox.register(\"populationCreator\", tools.initRepeat, list, toolbox.individualCreator)"
      ],
      "metadata": {
        "id": "5OB5u2ePa7wO"
      },
      "execution_count": null,
      "outputs": []
    },
    {
      "cell_type": "code",
      "source": [
        "# Crear un operador para compilar el arbol primitivo en el codigo de python\n",
        "\n",
        "toolbox.register(\"compile\", gp.compile, pset=primitiveSet)"
      ],
      "metadata": {
        "id": "CaDkM5easYm4"
      },
      "execution_count": null,
      "outputs": []
    },
    {
      "cell_type": "code",
      "source": [
        "## Paso 9: Definir función para calcular la aptitud\n",
        "\n",
        "def parityError(individual):\n",
        "    func = toolbox.compile(expr=individual)\n",
        "    return sum(func(*pIn) != pOut for pIn, pOut in zip(parityIn, parityOut))\n",
        "\n",
        "# fitness measure:\n",
        "def getCost(individual):\n",
        "    return parityError(individual), # return a tuple"
      ],
      "metadata": {
        "id": "W8mXJZs6b_Ei"
      },
      "execution_count": null,
      "outputs": []
    },
    {
      "cell_type": "code",
      "source": [
        "getCost(toolbox.individualCreator())"
      ],
      "metadata": {
        "colab": {
          "base_uri": "https://localhost:8080/"
        },
        "id": "m-EesjC4tTjz",
        "outputId": "3d786d0d-62ea-4cb7-99c9-d8145ecadcf6"
      },
      "execution_count": null,
      "outputs": [
        {
          "output_type": "execute_result",
          "data": {
            "text/plain": [
              "(4,)"
            ]
          },
          "metadata": {},
          "execution_count": 18
        }
      ]
    },
    {
      "cell_type": "code",
      "source": [
        "## Paso 10: Declarar el operador de evaluacion\n",
        "\n",
        "toolbox.register(\"evaluate\", getCost)"
      ],
      "metadata": {
        "id": "ZSbOP09Bcx2W"
      },
      "execution_count": null,
      "outputs": []
    },
    {
      "cell_type": "code",
      "source": [],
      "metadata": {
        "id": "EDJe8Ud4uHdv"
      },
      "execution_count": null,
      "outputs": []
    },
    {
      "cell_type": "code",
      "source": [],
      "metadata": {
        "id": "i4upHmEwuI9W"
      },
      "execution_count": null,
      "outputs": []
    },
    {
      "cell_type": "code",
      "source": [
        "## Paso 11: Declarar los operadores geneticos\n",
        "\n",
        "toolbox.register(\"select\", tools.selTournament, tournsize=2)\n",
        "toolbox.register(\"mate\", gp.cxOnePoint)\n",
        "toolbox.register(\"expr_mut\", gp.genGrow, min_=MUT_MIN_TREE_HEIGHT, max_=MUT_MAX_TREE_HEIGHT)\n",
        "toolbox.register(\"mutate\", gp.mutUniform, expr=toolbox.expr_mut, pset=primitiveSet)"
      ],
      "metadata": {
        "id": "6wv9YN9qdrVi"
      },
      "execution_count": null,
      "outputs": []
    },
    {
      "cell_type": "code",
      "source": [
        "# bloat control:\n",
        "toolbox.decorate(\"mate\", gp.staticLimit(key=op.attrgetter(\"height\"), max_value=LIMIT_TREE_HEIGHT))\n",
        "toolbox.decorate(\"mutate\", gp.staticLimit(key=op.attrgetter(\"height\"), max_value=LIMIT_TREE_HEIGHT))"
      ],
      "metadata": {
        "id": "qjlYdGcRuUkO"
      },
      "execution_count": null,
      "outputs": []
    },
    {
      "cell_type": "markdown",
      "source": [
        "###Evolucionando la solución"
      ],
      "metadata": {
        "id": "UPas2s4We39f"
      }
    },
    {
      "cell_type": "code",
      "source": [
        "def parity_problem():\n",
        "  # create initial population (generation 0):\n",
        "  population = toolbox.populationCreator(n=POPULATION_SIZE)\n",
        "\n",
        "  # prepare the statistics object:\n",
        "  stats = tools.Statistics(lambda ind: ind.fitness.values)\n",
        "  stats.register(\"min\", np.min)\n",
        "  stats.register(\"avg\", np.mean)\n",
        "\n",
        "  # define the hall-of-fame object:\n",
        "  hof = tools.HallOfFame(HALL_OF_FAME_SIZE)\n",
        "\n",
        "  # perform the Genetic Algorithm flow with elitism:\n",
        "  population, logbook = elitism.eaSimpleWithElitism(population,\n",
        "                                                    toolbox,\n",
        "                                                    cxpb=P_CROSSOVER,\n",
        "                                                    mutpb=P_MUTATION,\n",
        "                                                    ngen=MAX_GENERATIONS,\n",
        "                                                    stats=stats,\n",
        "                                                    halloffame=hof,\n",
        "                                                    verbose=True)\n",
        "\n",
        "  # print info for best solution found:\n",
        "  best = hof.items[0]\n",
        "  print(\"-- Best Individual = \", best)\n",
        "  print(\"-- length={}, height={}\".format(len(best), best.height))\n",
        "  print(\"-- Best Fitness = \", best.fitness.values[0])\n",
        "\n",
        "\n",
        "  # plot best tree:\n",
        "  nodes, edges, labels = gp.graph(best)\n",
        "  g = nx.Graph()\n",
        "  g.add_nodes_from(nodes)\n",
        "  g.add_edges_from(edges)\n",
        "  pos = nx.spring_layout(g)\n",
        "\n",
        "  nx.draw_networkx_nodes(g, pos, node_color='cyan')\n",
        "  nx.draw_networkx_nodes(g, pos, nodelist=[0], node_color='red', node_size=400)\n",
        "\n",
        "  nx.draw_networkx_edges(g, pos)\n",
        "  nx.draw_networkx_labels(g, pos, **{\"labels\": labels, \"font_size\": 8})\n",
        "\n",
        "\n",
        "  plt.show()"
      ],
      "metadata": {
        "id": "2W7B1caQuR3L"
      },
      "execution_count": null,
      "outputs": []
    },
    {
      "cell_type": "code",
      "source": [
        "parity_problem()"
      ],
      "metadata": {
        "colab": {
          "base_uri": "https://localhost:8080/",
          "height": 840
        },
        "id": "Z_fbsn00u6Fy",
        "outputId": "d308c919-1b1f-41bc-da8a-bba149a4a8c0"
      },
      "execution_count": null,
      "outputs": [
        {
          "output_type": "stream",
          "name": "stdout",
          "text": [
            "gen\tnevals\tmin\tavg    \n",
            "0  \t60    \t2  \t4.21667\n",
            "1  \t49    \t2  \t3.85   \n",
            "2  \t42    \t2  \t3.78333\n",
            "3  \t47    \t2  \t3.71667\n",
            "4  \t48    \t1  \t3.55   \n",
            "5  \t46    \t1  \t3.41667\n",
            "6  \t44    \t1  \t3.36667\n",
            "7  \t44    \t0  \t3.13333\n",
            "8  \t47    \t0  \t3.2    \n",
            "9  \t47    \t0  \t3.16667\n",
            "10 \t42    \t0  \t2.83333\n",
            "11 \t48    \t0  \t2.85   \n",
            "12 \t49    \t0  \t2.85   \n",
            "13 \t49    \t0  \t2.78333\n",
            "14 \t50    \t0  \t2.58333\n",
            "15 \t44    \t0  \t2.4    \n",
            "16 \t48    \t0  \t2.41667\n",
            "17 \t50    \t0  \t2.91667\n",
            "18 \t47    \t0  \t2.71667\n",
            "19 \t47    \t0  \t2.81667\n",
            "20 \t49    \t0  \t2.38333\n",
            "-- Best Individual =  xor(or_(in_0, and_(1, in_0)), xor(in_1, in_2))\n",
            "-- length=9, height=3\n",
            "-- Best Fitness =  0.0\n"
          ]
        },
        {
          "output_type": "display_data",
          "data": {
            "text/plain": [
              "<Figure size 640x480 with 1 Axes>"
            ],
            "image/png": "[encoded data removed]"
          },
          "metadata": {}
        }
      ]
    }
  ]
}