{
  "nbformat": 4,
  "nbformat_minor": 0,
  "metadata": {
    "colab": {
      "provenance": [],
      "authorship_tag": "ABX9TyPIKK7KE1PYQZd7wK+MOqy4",
      "include_colab_link": true
    },
    "kernelspec": {
      "name": "python3",
      "display_name": "Python 3"
    },
    "language_info": {
      "name": "python"
    }
  },
  "cells": [
    {
      "cell_type": "markdown",
      "metadata": {
        "id": "view-in-github",
        "colab_type": "text"
      },
      "source": [
        "<a href=\"https://colab.research.google.com/github/antonvandike/Algoritmos-Geneticos/blob/main/Libro_Eyal_Wirsansky/Handson_chapter_4_1_knapsack_problem.ipynb\" target=\"_parent\"><img src=\"https://colab.research.google.com/assets/colab-badge.svg\" alt=\"Open In Colab\"/></a>"
      ]
    },
    {
      "cell_type": "markdown",
      "source": [
        "#Solucion del problema de la mochila"
      ],
      "metadata": {
        "id": "pVVtyKf7dVZH"
      }
    },
    {
      "cell_type": "markdown",
      "source": [
        "###Configuraciones y definiciones"
      ],
      "metadata": {
        "id": "jUyH11RZdH6j"
      }
    },
    {
      "cell_type": "code",
      "source": [
        "pip install deap"
      ],
      "metadata": {
        "colab": {
          "base_uri": "https://localhost:8080/"
        },
        "id": "JE91VIDQCHrA",
        "outputId": "d84e8e3f-1270-40ea-e1ed-e864d358a61a"
      },
      "execution_count": null,
      "outputs": [
        {
          "output_type": "stream",
          "name": "stdout",
          "text": [
            "Requirement already satisfied: deap in /usr/local/lib/python3.10/dist-packages (1.4.1)\n",
            "Requirement already satisfied: numpy in /usr/local/lib/python3.10/dist-packages (from deap) (1.25.2)\n"
          ]
        }
      ]
    },
    {
      "cell_type": "code",
      "source": [
        "import knapsack"
      ],
      "metadata": {
        "id": "zqUQ6hVooRR9"
      },
      "execution_count": null,
      "outputs": []
    },
    {
      "cell_type": "code",
      "execution_count": null,
      "metadata": {
        "id": "_o0YKIs34_AR"
      },
      "outputs": [],
      "source": [
        "## Paso 1: Modulos\n",
        "\n",
        "from deap import base\n",
        "from deap import creator\n",
        "from deap import tools\n",
        "from deap import algorithms\n",
        "\n",
        "import random as rd\n",
        "import numpy as np\n",
        "\n",
        "import matplotlib.pyplot as plt\n",
        "import seaborn as sns\n",
        "\n"
      ]
    },
    {
      "cell_type": "code",
      "source": [
        "## Paso 2: Parametros del problema\n",
        "\n",
        "# Contenido del problema de la mochila\n",
        "ks = knapsack.Knapsack01Problem() # Elementos y pesos     # Tamaño del problema (longitud de las cadenas binarias)\n",
        "\n",
        "POPULATION_SIZE = 50      # Tamaño de los inidivios de la población\n",
        "P_CROSSOVER     =  0.9    # Probabilidad de cruza\n",
        "P_MUTATION      =  0.1    # Probabilidad de mutación\n",
        "\n",
        "MAX_GENERATIONS = 50      # Maximo numero de generaciones (condición de termino)"
      ],
      "metadata": {
        "id": "sk8gDOZfLjT5"
      },
      "execution_count": null,
      "outputs": []
    },
    {
      "cell_type": "code",
      "source": [
        "HALL_OF_FAME_SIZE = 5"
      ],
      "metadata": {
        "id": "T8ksHqrDLC3A"
      },
      "execution_count": null,
      "outputs": []
    },
    {
      "cell_type": "code",
      "source": [
        "## Paso 3: Elementos aleatorios\n",
        "\n",
        "RANDOM_SEED = 42          # Comunmente cuando se experimenta con un codigo\n",
        "rd.seed(RANDOM_SEED)      # se corre el problema con los mismos parametros\n",
        "                          # para repetir y compara resultados"
      ],
      "metadata": {
        "id": "eDnBQiyiNGGu"
      },
      "execution_count": null,
      "outputs": []
    },
    {
      "cell_type": "code",
      "source": [
        "## Paso 4: Declarando el cromosoma\n",
        "\n",
        "toolbox = base.Toolbox()\n",
        "toolbox.register('ZeroOrOne', rd.randint , 0 , 1)"
      ],
      "metadata": {
        "id": "4O4iiU3bSF9G"
      },
      "execution_count": null,
      "outputs": []
    },
    {
      "cell_type": "code",
      "source": [
        "## Paso 5: Crear la funcion de aptitud (FITNESS)\n",
        "\n",
        "# Se indica maximizacion y un solo peso\n",
        "creator.create('FitnessMax', base.Fitness, weights = (1.0,))"
      ],
      "metadata": {
        "id": "PfnaIlJPTMBV"
      },
      "execution_count": null,
      "outputs": []
    },
    {
      "cell_type": "code",
      "source": [
        "## Paso 6: Crear la funcion de  aptitud del individuo\n",
        "\n",
        "creator.create('Individual', list, fitness = creator.FitnessMax)"
      ],
      "metadata": {
        "id": "wrTNY_p7VcMt"
      },
      "execution_count": null,
      "outputs": []
    },
    {
      "cell_type": "code",
      "source": [
        "## Paso 7: Declarar el operador para generador de individuos\n",
        "\n",
        "toolbox.register('IndividualCreator', tools.initRepeat, creator.Individual, toolbox.ZeroOrOne, len(ks))"
      ],
      "metadata": {
        "id": "pVg34tJUYaOE"
      },
      "execution_count": null,
      "outputs": []
    },
    {
      "cell_type": "code",
      "source": [
        "## Paso 8: Declarar el operador para generar la poblacion\n",
        "\n",
        "toolbox.register('PopulationCreator', tools.initRepeat, list, toolbox.IndividualCreator)"
      ],
      "metadata": {
        "id": "5OB5u2ePa7wO"
      },
      "execution_count": null,
      "outputs": []
    },
    {
      "cell_type": "code",
      "source": [
        "## Paso 9: Herramienta para calcular la aptitud\n",
        "##         incluida en la libreria knacksack\n",
        "def knapsackValue(individual):\n",
        "    return ks.getValue(individual),  # return a tuple"
      ],
      "metadata": {
        "id": "W8mXJZs6b_Ei"
      },
      "execution_count": null,
      "outputs": []
    },
    {
      "cell_type": "code",
      "source": [
        "## Paso 10: Declarar el operador de evaluacion\n",
        "\n",
        "toolbox.register(\"evaluate\", knapsackValue)"
      ],
      "metadata": {
        "id": "ZSbOP09Bcx2W"
      },
      "execution_count": null,
      "outputs": []
    },
    {
      "cell_type": "code",
      "source": [
        "## Paso 11: Declarar los operadores geneticos\n",
        "\n",
        "toolbox.register('select', tools.selTournament, tournsize = 3)\n",
        "toolbox.register('mate',   tools.cxTwoPoint)\n",
        "toolbox.register('mutate', tools.mutFlipBit, indpb = 1.0/len(ks))"
      ],
      "metadata": {
        "id": "6wv9YN9qdrVi"
      },
      "execution_count": null,
      "outputs": []
    },
    {
      "cell_type": "markdown",
      "source": [
        "###Evolucionando la solución"
      ],
      "metadata": {
        "id": "UPas2s4We39f"
      }
    },
    {
      "cell_type": "code",
      "source": [
        "def problema_mochila():\n",
        "\n",
        "    # Poblacion inicial\n",
        "    population = toolbox.PopulationCreator(n=POPULATION_SIZE)\n",
        "\n",
        "    # Objeto Statistics\n",
        "    stats = tools.Statistics(lambda ind: ind.fitness.values)\n",
        "    stats.register(\"max\", np.max)\n",
        "    stats.register(\"avg\", np.mean)\n",
        "\n",
        "    # Declarar el salon de la fama\n",
        "    hof = tools.HallOfFame(HALL_OF_FAME_SIZE)\n",
        "\n",
        "    # Algortimo genetico, ahora con el salon de la fama\n",
        "    population, logbook = algorithms.eaSimple(population, toolbox, cxpb=P_CROSSOVER, mutpb=P_MUTATION,\n",
        "                                              ngen=MAX_GENERATIONS, stats=stats, halloffame=hof, verbose=False)\n",
        "\n",
        "    # Informacion del salon de la fama\n",
        "    # Mejores individuos y el mejor de estos\n",
        "    print(\"Hall of Fame Individuals = \", *hof.items, sep=\"\\n\")\n",
        "    print(\"Best Ever Individual = \", hof.items[0])\n",
        "\n",
        "    # La mejor solucion del salon de la fama\n",
        "    best = hof.items[0]\n",
        "    print(\"-- Mejor individuo = \", best)\n",
        "    print(\"-- Mejor aptitud = \", best.fitness.values[0])\n",
        "\n",
        "    # Mejorres elementos para la mochila\n",
        "    print(\"-- Elementos de la mochila = \")\n",
        "    ks.printItems(best)\n",
        "\n",
        "    # Los valores estadisticos y la poblacion final estan el libro de registros\n",
        "    maxFitnessValues, meanFitnessValues = logbook.select(\"max\", \"avg\")\n",
        "\n",
        "    # Resumen grafico de la evolución de los resultados\n",
        "    # Color rojo : Evolucion de la maxima aptitud de la poblacion\n",
        "    # Color verde: Evolucion del promedio de la aptitud de la poblacion\n",
        "    sns.set_style(\"whitegrid\")\n",
        "    plt.plot(maxFitnessValues, color='red')\n",
        "    plt.plot(meanFitnessValues, color='green')\n",
        "    plt.xlabel('Generation')\n",
        "    plt.ylabel('Max / Average Fitness')\n",
        "    plt.title('Max and Average Fitness over Generations')\n",
        "    plt.show()\n",
        "    return"
      ],
      "metadata": {
        "id": "2CW6SrfveR4L"
      },
      "execution_count": null,
      "outputs": []
    },
    {
      "cell_type": "code",
      "source": [
        "problema_mochila()"
      ],
      "metadata": {
        "colab": {
          "base_uri": "https://localhost:8080/",
          "height": 889
        },
        "id": "7Su6hcXHe7jB",
        "outputId": "33c6344e-ee3d-4a75-b5c5-af82eba3208f"
      },
      "execution_count": null,
      "outputs": [
        {
          "output_type": "stream",
          "name": "stdout",
          "text": [
            "Hall of Fame Individuals = \n",
            "[1, 1, 1, 1, 1, 0, 1, 0, 1, 0, 1, 0, 1, 0, 0, 1, 0, 1, 1, 1, 1, 1]\n",
            "[1, 1, 1, 1, 1, 0, 1, 0, 1, 0, 1, 0, 1, 0, 0, 1, 0, 1, 1, 1, 1, 0]\n",
            "[1, 1, 1, 1, 1, 0, 1, 0, 1, 0, 1, 0, 1, 0, 0, 1, 0, 1, 1, 0, 1, 0]\n",
            "[1, 1, 1, 1, 1, 0, 1, 0, 1, 0, 1, 0, 0, 0, 0, 1, 0, 1, 1, 1, 1, 0]\n",
            "[1, 1, 1, 1, 1, 0, 1, 0, 1, 0, 1, 0, 0, 0, 0, 1, 0, 1, 1, 1, 1, 1]\n",
            "Best Ever Individual =  [1, 1, 1, 1, 1, 0, 1, 0, 1, 0, 1, 0, 1, 0, 0, 1, 0, 1, 1, 1, 1, 1]\n",
            "-- Mejor individuo =  [1, 1, 1, 1, 1, 0, 1, 0, 1, 0, 1, 0, 1, 0, 0, 1, 0, 1, 1, 1, 1, 1]\n",
            "-- Mejor aptitud =  1000.0\n",
            "-- Elementos de la mochila = \n",
            "- Adding map: weight = 9, value = 150, accumulated weight = 9, accumulated value = 150\n",
            "- Adding compass: weight = 13, value = 35, accumulated weight = 22, accumulated value = 185\n",
            "- Adding water: weight = 153, value = 200, accumulated weight = 175, accumulated value = 385\n",
            "- Adding sandwich: weight = 50, value = 160, accumulated weight = 225, accumulated value = 545\n",
            "- Adding glucose: weight = 15, value = 60, accumulated weight = 240, accumulated value = 605\n",
            "- Adding banana: weight = 27, value = 60, accumulated weight = 267, accumulated value = 665\n",
            "- Adding cheese: weight = 23, value = 30, accumulated weight = 290, accumulated value = 695\n",
            "- Adding suntan cream: weight = 11, value = 70, accumulated weight = 301, accumulated value = 765\n",
            "- Adding t-shirt: weight = 24, value = 15, accumulated weight = 325, accumulated value = 780\n",
            "- Adding waterproof trousers: weight = 42, value = 70, accumulated weight = 367, accumulated value = 850\n",
            "- Adding note-case: weight = 22, value = 80, accumulated weight = 389, accumulated value = 930\n",
            "- Adding sunglasses: weight = 7, value = 20, accumulated weight = 396, accumulated value = 950\n",
            "- Adding socks: weight = 4, value = 50, accumulated weight = 400, accumulated value = 1000\n",
            "- Total weight = 400, Total value = 1000\n"
          ]
        },
        {
          "output_type": "display_data",
          "data": {
            "text/plain": [
              "<Figure size 640x480 with 1 Axes>"
            ],
            "image/png": "[encoded data removed]"
          },
          "metadata": {}
        }
      ]
    }
  ]
}