{
  "nbformat": 4,
  "nbformat_minor": 0,
  "metadata": {
    "colab": {
      "provenance": [],
      "authorship_tag": "ABX9TyP/hyrqWx65NtwuRexXpeLy",
      "include_colab_link": true
    },
    "kernelspec": {
      "name": "python3",
      "display_name": "Python 3"
    },
    "language_info": {
      "name": "python"
    }
  },
  "cells": [
    {
      "cell_type": "markdown",
      "metadata": {
        "id": "view-in-github",
        "colab_type": "text"
      },
      "source": [
        "<a href=\"https://colab.research.google.com/github/antonvandike/Algoritmos-Geneticos/blob/main/Libro_Eyal_Wirsansky/Handson_chapter_3.ipynb\" target=\"_parent\"><img src=\"https://colab.research.google.com/assets/colab-badge.svg\" alt=\"Open In Colab\"/></a>"
      ]
    },
    {
      "cell_type": "markdown",
      "source": [
        "# Capitulo 3: Usando el entorno DEAP\n",
        "\n"
      ],
      "metadata": {
        "id": "RHfpXd8VZb1d"
      }
    },
    {
      "cell_type": "code",
      "source": [
        "pip install deap"
      ],
      "metadata": {
        "colab": {
          "base_uri": "https://localhost:8080/"
        },
        "id": "BYl7LhsOb4r6",
        "outputId": "d8b255e9-0925-4014-bf04-89174b501893"
      },
      "execution_count": null,
      "outputs": [
        {
          "output_type": "stream",
          "name": "stdout",
          "text": [
            "Requirement already satisfied: deap in /usr/local/lib/python3.10/dist-packages (1.4.1)\n",
            "Requirement already satisfied: numpy in /usr/local/lib/python3.10/dist-packages (from deap) (1.25.2)\n"
          ]
        }
      ]
    },
    {
      "cell_type": "markdown",
      "source": [
        "##Usando el modulo creator"
      ],
      "metadata": {
        "id": "bidNWjE3hltL"
      }
    },
    {
      "cell_type": "code",
      "source": [
        "from deap import creator\n",
        "from deap import base"
      ],
      "metadata": {
        "id": "cnPq4Fv9c_09"
      },
      "execution_count": null,
      "outputs": []
    },
    {
      "cell_type": "markdown",
      "source": [
        "El modulo creator permite crear las clases de aptitud (Fitness) y la estrategia de aptitud (fitness strategy)"
      ],
      "metadata": {
        "id": "eprM9nTdvUIL"
      }
    },
    {
      "cell_type": "code",
      "source": [
        "# Para maximizar\n",
        "creator.create('FitnessMax_1', base.Fitness, weights=(1.0,))"
      ],
      "metadata": {
        "id": "8RYv8U4zmK6d"
      },
      "execution_count": null,
      "outputs": []
    },
    {
      "cell_type": "code",
      "source": [
        "# Para minimizar\n",
        "creator.create('FitnessMin_1', base.Fitness, weights = (-1.0,))"
      ],
      "metadata": {
        "id": "LzxTDhaapvYV"
      },
      "execution_count": null,
      "outputs": []
    },
    {
      "cell_type": "code",
      "source": [
        "# Diferentes importancias de optimizacion y maximizacion o minimizacion\n",
        "creator.create('FitnessCompound_1', base.Fitness, weights = (1.0,0.2,-0.5))"
      ],
      "metadata": {
        "id": "PsCCnJ8e7ycd"
      },
      "execution_count": null,
      "outputs": []
    },
    {
      "cell_type": "markdown",
      "source": [
        "Tambien permite crea la clase de individuos (Individual)"
      ],
      "metadata": {
        "id": "ukHWORXQv37o"
      }
    },
    {
      "cell_type": "code",
      "source": [
        "creator.create('Individual_1', list , fitness = creator.FitnessMax_1)"
      ],
      "metadata": {
        "id": "vIulkDOQv3Wx"
      },
      "execution_count": null,
      "outputs": []
    },
    {
      "cell_type": "markdown",
      "source": [
        "##Usando la clase Toolbox"
      ],
      "metadata": {
        "id": "UPeI4vYaxa5Q"
      }
    },
    {
      "cell_type": "markdown",
      "source": [
        "Ejemplo"
      ],
      "metadata": {
        "id": "53MdLITPxgYS"
      }
    },
    {
      "cell_type": "code",
      "source": [
        "def sumOfTwo(a,b):\n",
        "  return(a+b)"
      ],
      "metadata": {
        "id": "xbb1juSsxe0k"
      },
      "execution_count": null,
      "outputs": []
    },
    {
      "cell_type": "code",
      "source": [
        "toolbox = base.Toolbox()\n",
        "toolbox.register('incrementByFive', sumOfTwo, b = 5 )"
      ],
      "metadata": {
        "id": "BeY7pi9UxnCi"
      },
      "execution_count": null,
      "outputs": []
    },
    {
      "cell_type": "code",
      "source": [
        "toolbox.incrementByFive(10)"
      ],
      "metadata": {
        "colab": {
          "base_uri": "https://localhost:8080/"
        },
        "id": "VRprZEPwyDrm",
        "outputId": "1467faa8-d3f2-4b75-89c6-4885b4ebdecf"
      },
      "execution_count": null,
      "outputs": [
        {
          "output_type": "execute_result",
          "data": {
            "text/plain": [
              "15"
            ]
          },
          "metadata": {},
          "execution_count": 9
        }
      ]
    },
    {
      "cell_type": "markdown",
      "source": [
        "De forma analoga, se tiene"
      ],
      "metadata": {
        "id": "bUA1-JBMyJSV"
      }
    },
    {
      "cell_type": "code",
      "source": [
        "sumOfTwo(10,5)"
      ],
      "metadata": {
        "colab": {
          "base_uri": "https://localhost:8080/"
        },
        "id": "MOePKOXRyI4T",
        "outputId": "a89362cf-2c00-44cd-9c11-2ae1de9f2fd5"
      },
      "execution_count": null,
      "outputs": [
        {
          "output_type": "execute_result",
          "data": {
            "text/plain": [
              "15"
            ]
          },
          "metadata": {},
          "execution_count": 10
        }
      ]
    },
    {
      "cell_type": "markdown",
      "source": [
        "##Creando operadores genéticos"
      ],
      "metadata": {
        "id": "sCCKECT8ybDe"
      }
    },
    {
      "cell_type": "markdown",
      "source": [
        "El modulo tools contiene numerasas funciones de ayuda relacionadas a los operadores geneticos de seleccion, cruza y mutacion"
      ],
      "metadata": {
        "id": "0Hop20Jdztgn"
      }
    },
    {
      "cell_type": "code",
      "source": [
        "from deap import tools"
      ],
      "metadata": {
        "id": "8ELL09wvyfs_"
      },
      "execution_count": null,
      "outputs": []
    },
    {
      "cell_type": "code",
      "source": [
        "# Para la estrategia de seleccion\n",
        "toolbox.register('select_1', tools.selTournament, tournsize = 3)\n",
        "\n",
        "# Para la estrategia de cruza\n",
        "toolbox.register('mate_1',tools.cxESTwoPoint)\n",
        "\n",
        "# Para la estrategia de mutacion\n",
        "toolbox.register('mutate_1', tools.mutFlipBit, indpb = 0.02)"
      ],
      "metadata": {
        "id": "7J8EzpZoyhmP"
      },
      "execution_count": null,
      "outputs": []
    },
    {
      "cell_type": "markdown",
      "source": [
        "##Creando la población"
      ],
      "metadata": {
        "id": "YyRvjWFc0Gyc"
      }
    },
    {
      "cell_type": "markdown",
      "source": [
        "Se utiliza particularmente la funcion util initRepeat(), la cual se usa para guardar los objetos resultantes, generarlos y cuantos se generan"
      ],
      "metadata": {
        "id": "C4j1eVxS0nJG"
      }
    },
    {
      "cell_type": "code",
      "source": [
        "import random as rd"
      ],
      "metadata": {
        "id": "ig51RE3-1Bv1"
      },
      "execution_count": null,
      "outputs": []
    },
    {
      "cell_type": "code",
      "source": [
        "# Usa tres argumentos\n",
        "# tipo de contendor, herramienta de generacion, cantidad de elementos generados\n",
        "randomList = tools.initRepeat( list, rd.random , 3 )\n",
        "\n",
        "print(randomList)"
      ],
      "metadata": {
        "colab": {
          "base_uri": "https://localhost:8080/"
        },
        "id": "zossA8bx0mlA",
        "outputId": "76ab0a9f-f6f1-40c6-9eeb-5aa73e23ee45"
      },
      "execution_count": null,
      "outputs": [
        {
          "output_type": "stream",
          "name": "stdout",
          "text": [
            "[0.31927646819011246, 0.5028226389927458, 0.06271434354671779]\n"
          ]
        }
      ]
    },
    {
      "cell_type": "markdown",
      "source": [
        "¿Que pasa si queremos una lista con numero aleatorios enteros que sean 0 y 1?"
      ],
      "metadata": {
        "id": "8PglS-aq2FTq"
      }
    },
    {
      "cell_type": "code",
      "source": [
        "def zeroOrOne_1():\n",
        "  return(rd.randint(0,1))"
      ],
      "metadata": {
        "id": "H4-EQTbT2EnJ"
      },
      "execution_count": null,
      "outputs": []
    },
    {
      "cell_type": "code",
      "source": [
        "randomList = tools.initRepeat( list , zeroOrOne_1 , 3)\n",
        "\n",
        "print(randomList)"
      ],
      "metadata": {
        "colab": {
          "base_uri": "https://localhost:8080/"
        },
        "id": "E5Xc9gqC1Vy9",
        "outputId": "c662ac86-bcb0-4aa4-dc2e-f1ad398378d6"
      },
      "execution_count": null,
      "outputs": [
        {
          "output_type": "stream",
          "name": "stdout",
          "text": [
            "[1, 1, 1]\n"
          ]
        }
      ]
    },
    {
      "cell_type": "markdown",
      "source": [
        "O aprovechando toolbox como sigue"
      ],
      "metadata": {
        "id": "rp8-it0J3AiZ"
      }
    },
    {
      "cell_type": "code",
      "source": [
        "toolbox.register('zeroOrOne_2', rd.randint , 0 ,1)\n",
        "randomList = tools.initRepeat( list , toolbox.zeroOrOne_2 , 3)\n",
        "print(randomList)"
      ],
      "metadata": {
        "colab": {
          "base_uri": "https://localhost:8080/"
        },
        "id": "ybN2_nXg3AL5",
        "outputId": "a6b33079-76d8-456f-bb1d-b377e1f764ac"
      },
      "execution_count": null,
      "outputs": [
        {
          "output_type": "stream",
          "name": "stdout",
          "text": [
            "[1, 1, 1]\n"
          ]
        }
      ]
    },
    {
      "cell_type": "markdown",
      "source": [
        "##Calculando la aptitud"
      ],
      "metadata": {
        "id": "rk-HHWQ_4J9l"
      }
    },
    {
      "cell_type": "markdown",
      "source": [
        "Se crea la funcion para calcular la aptitud por separado, tipicamente registrada con el modulo toolbox usando el alias evaluate como se muestra"
      ],
      "metadata": {
        "id": "saotrs4o4XoJ"
      }
    },
    {
      "cell_type": "code",
      "source": [
        "def someFitnessCalculationFunction_1(individual):\n",
        "  return _some_calculation_of_the_fitness"
      ],
      "metadata": {
        "id": "DZUnhKSS4WnG"
      },
      "execution_count": null,
      "outputs": []
    },
    {
      "cell_type": "code",
      "source": [
        "toolbox.register('evaluate_1', someFitnessCalculationFunction_1)"
      ],
      "metadata": {
        "id": "1ExgBQg44OCp"
      },
      "execution_count": null,
      "outputs": []
    },
    {
      "cell_type": "markdown",
      "source": [
        "##El problema de un maximo || The OneMax problem"
      ],
      "metadata": {
        "id": "Pd63KkqW4wCD"
      }
    },
    {
      "cell_type": "markdown",
      "source": [
        "El problema de un maximo es una tarea de optimizacion simple que es amenudo usada como el 'Hola mundo' de los entornos de algoritmos geneticos."
      ],
      "metadata": {
        "id": "qOtvVes35Tlc"
      }
    },
    {
      "cell_type": "markdown",
      "source": [
        "La tarea de Un maximo es encontrar la cadena binaria de una longitud dada que maximice la suma de sus digitos, la cual, obviamente es una cadena con solo el numero 1."
      ],
      "metadata": {
        "id": "0_b_yV3H6CNT"
      }
    },
    {
      "cell_type": "markdown",
      "source": [
        "Cromosoma: seran cadenas binarias con valores de 0 y 1\n",
        "\n",
        "Aptitud: El valor de aptitud será la suma directa de la lista y es un problema de maximización\n",
        "\n",
        "Operadores genéticos:\n",
        "\n",
        "\n",
        " Selección: Torneo\n",
        "\n",
        " Cruza: cruza de un punto\n",
        "\n",
        " Mutación: Inversion de un bit\n",
        "\n",
        " Condición de termino: Suma de de la cadenaigual al tamaño del problema o numero fijo de generaciones\n",
        "\n"
      ],
      "metadata": {
        "id": "nOaSzo5g3ner"
      }
    },
    {
      "cell_type": "markdown",
      "source": [
        "###Configuraciones y definiciones"
      ],
      "metadata": {
        "id": "jUyH11RZdH6j"
      }
    },
    {
      "cell_type": "code",
      "source": [
        "# Paso 1: Modulos\n",
        "from deap import base\n",
        "from deap import creator\n",
        "from deap import tools\n",
        "\n",
        "import random as rd\n",
        "import matplotlib.pyplot as plt"
      ],
      "metadata": {
        "id": "5e6um-ly4vkU"
      },
      "execution_count": null,
      "outputs": []
    },
    {
      "cell_type": "code",
      "source": [
        "## Paso 2: Parametros del problema\n",
        "\n",
        "ONE_MAX_LENGTH = 100      # Tamaño del problema (longitud de las cadenas binarias)\n",
        "\n",
        "POPULATION_SIZE = 200     # Tamaño de los inidivios de la población\n",
        "P_CROSSOVER     =   0.9   # Probabilidad de cruza\n",
        "P_MUTATION      =   0.1   # Probabilidad de mutación\n",
        "\n",
        "MAX_GENERATIONS =  50     # Maximo numero de generaciones (condición de termino)"
      ],
      "metadata": {
        "id": "sk8gDOZfLjT5"
      },
      "execution_count": null,
      "outputs": []
    },
    {
      "cell_type": "code",
      "source": [
        "## Paso 3: Elementos aleatorios\n",
        "\n",
        "RANDOM_SEED = 42          # Comunmente cuando se experimenta con un codigo\n",
        "rd.seed(RANDOM_SEED)      # se corre el problema con los mismos parametros\n",
        "                          # para repetir y compara resultados\n"
      ],
      "metadata": {
        "id": "eDnBQiyiNGGu"
      },
      "execution_count": null,
      "outputs": []
    },
    {
      "cell_type": "code",
      "source": [
        "## Paso 4: Declarando el cromosoma\n",
        "\n",
        "toolbox = base.Toolbox()\n",
        "toolbox.register('ZeroOrOne', rd.randint , 0 , 1)"
      ],
      "metadata": {
        "id": "4O4iiU3bSF9G"
      },
      "execution_count": null,
      "outputs": []
    },
    {
      "cell_type": "code",
      "source": [
        "## Paso 5: Crear la funcion de aptitud (FITNESS)\n",
        "\n",
        "# Se indica maximizacion y un solo peso\n",
        "creator.create('FitnessMax', base.Fitness, weights = (1.0,))"
      ],
      "metadata": {
        "id": "PfnaIlJPTMBV"
      },
      "execution_count": null,
      "outputs": []
    },
    {
      "cell_type": "code",
      "source": [
        "## Paso 6: Crear la funcion de  aptitud del individuo\n",
        "\n",
        "creator.create('Individual', list, fitness = creator.FitnessMax)"
      ],
      "metadata": {
        "id": "wrTNY_p7VcMt"
      },
      "execution_count": null,
      "outputs": []
    },
    {
      "cell_type": "code",
      "source": [
        "## Paso 7: Declarar el operador para generador de individuos\n",
        "\n",
        "toolbox.register('IndividualCreator', tools.initRepeat, creator.Individual, toolbox.ZeroOrOne, ONE_MAX_LENGTH)"
      ],
      "metadata": {
        "id": "pVg34tJUYaOE"
      },
      "execution_count": null,
      "outputs": []
    },
    {
      "cell_type": "code",
      "source": [
        "## Paso 8: Declarar el operador para generar la poblacion\n",
        "\n",
        "toolbox.register('PopulationCreator', tools.initRepeat, list, toolbox.IndividualCreator)"
      ],
      "metadata": {
        "id": "5OB5u2ePa7wO"
      },
      "execution_count": null,
      "outputs": []
    },
    {
      "cell_type": "code",
      "source": [
        "## Paso 9: Herramienta para calcular la aptitud\n",
        "\n",
        "def OneMaxFitness(Individual):\n",
        "  return sum(Individual),"
      ],
      "metadata": {
        "id": "W8mXJZs6b_Ei"
      },
      "execution_count": null,
      "outputs": []
    },
    {
      "cell_type": "code",
      "source": [
        "## Paso 10: Declarar el operador de evaluacion\n",
        "\n",
        "toolbox.register('evaluate',OneMaxFitness)"
      ],
      "metadata": {
        "id": "ZSbOP09Bcx2W"
      },
      "execution_count": null,
      "outputs": []
    },
    {
      "cell_type": "code",
      "source": [
        "## Paso 11: Declarar los operadores geneticos\n",
        "\n",
        "toolbox.register('select', tools.selTournament, tournsize = 3)\n",
        "toolbox.register('mate',   tools.cxOnePoint)\n",
        "toolbox.register('mutate', tools.mutFlipBit, indpb = 1.0/ONE_MAX_LENGTH)"
      ],
      "metadata": {
        "id": "6wv9YN9qdrVi"
      },
      "execution_count": null,
      "outputs": []
    },
    {
      "cell_type": "markdown",
      "source": [
        "###Evolucionando la solución"
      ],
      "metadata": {
        "id": "UPas2s4We39f"
      }
    },
    {
      "cell_type": "code",
      "source": [
        "## Paso 1: Generar la poblacion inicial\n",
        "\n",
        "population = toolbox.PopulationCreator(n=POPULATION_SIZE)\n",
        "generationCounter = 0"
      ],
      "metadata": {
        "id": "V_LUhJuxe6p8"
      },
      "execution_count": null,
      "outputs": []
    },
    {
      "cell_type": "code",
      "source": [
        "## Paso 2: Calculando la aptitud de los elementos de la poblacion\n",
        "\n",
        "fitnessValues = list(map(toolbox.evaluate, population))"
      ],
      "metadata": {
        "id": "LEaqo1MXfVI-"
      },
      "execution_count": null,
      "outputs": []
    },
    {
      "cell_type": "code",
      "source": [
        "## Paso 3: Combinar la aptitud con su respectivo individuo\n",
        "for individual, fitnessValue in zip(population, fitnessValues):\n",
        "  individual.fitness.values = fitnessValue"
      ],
      "metadata": {
        "id": "iYshlGZnhNTd"
      },
      "execution_count": null,
      "outputs": []
    },
    {
      "cell_type": "code",
      "source": [
        "## Paso 4: Extraer estadisticas (extraer) el primer valor de cada aptitud)\n",
        "fitnessValues = [individual.fitness.values[0] for individual in population]"
      ],
      "metadata": {
        "id": "WcS_DGpDh5Az"
      },
      "execution_count": null,
      "outputs": []
    },
    {
      "cell_type": "code",
      "source": [
        "## Paso 5: Definir el contenedor de las maximas aptitudes y el promedio\n",
        "##         de aptitudes de la poblacion\n",
        "\n",
        "maxFitnessValues = []\n",
        "meanFitnessValues = []"
      ],
      "metadata": {
        "id": "DRxvryStibd9"
      },
      "execution_count": null,
      "outputs": []
    },
    {
      "cell_type": "code",
      "source": [
        "## Paso 6: Estructura del programa\n",
        "\n",
        "# Condicion de termino\n",
        "while max(fitnessValues) < ONE_MAX_LENGTH and generationCounter < MAX_GENERATIONS:\n",
        "\n",
        "  # Contador de cuantas generaciones van\n",
        "  generationCounter = generationCounter + 1\n",
        "\n",
        "  # Operador de seleccion\n",
        "  offspring = toolbox.select(population, len(population))\n",
        "\n",
        "  # Descendencia clonada, para no alterar la original\n",
        "  offspring = list(map(toolbox.clone, offspring))\n",
        "\n",
        "  # Operador de cruza\n",
        "  for child1, child2 in zip(offspring[::2], offspring[1::2]):\n",
        "    if rd.random() < P_CROSSOVER:\n",
        "      toolbox.mate(child1, child2)\n",
        "      del child1.fitness.values\n",
        "      del child2.fitness.values\n",
        "\n",
        "  # Operador de mutacion\n",
        "  for mutant in offspring:\n",
        "    if rd.random() < P_MUTATION:\n",
        "      toolbox.mutate(mutant)\n",
        "      del mutant.fitness.values\n",
        "\n",
        "  # Encontrar a los nuevos individuos y asignarles su valor de aptitud\n",
        "  freshIndividuals = [ind for ind in offspring if not ind.fitness.valid]\n",
        "  freshFitnessValues = list(map(toolbox.evaluate,freshIndividuals))\n",
        "\n",
        "  for individual, fitnessValue in zip(freshIndividuals,freshFitnessValues):\n",
        "    individual.fitness.values = fitnessValue\n",
        "\n",
        "  # Reemplazar la poblacion vieja con la nueva\n",
        "  population[:] = offspring\n",
        "\n",
        "  # Recopilar datos estadisticos\n",
        "  fitnessValues = [ind.fitness.values[0] for ind in population]\n",
        "\n",
        "  # La mejor aptitud y la aptitud promedio de la poblacion, para cononcer el avance del algoritmo\n",
        "  maxFitness = max(fitnessValues)\n",
        "  meanFitness = sum(fitnessValues) / len(population)\n",
        "  maxFitnessValues.append(maxFitness)\n",
        "  meanFitnessValues.append(meanFitness)\n",
        "  print(\"- Generation {}: Max Fitness = {}, Avg Fitness = {}\".format(generationCounter, maxFitness, meanFitness))\n",
        "\n",
        "  # El mejor individuo de la poblacion\n",
        "  best_index = fitnessValues.index(max(fitnessValues))\n",
        "  print(\"Best Individual = \", *population[best_index], \"\\n\")\n",
        "\n",
        "# Resumen grafico de la evolución de los resultados\n",
        "plt.plot(maxFitnessValues, color='red')\n",
        "plt.plot(meanFitnessValues, color='green')\n",
        "plt.xlabel('Generation')\n",
        "plt.ylabel('Max / Average Fitness')\n",
        "plt.title('Max and Average fitness over Generations')\n",
        "plt.show()\n"
      ],
      "metadata": {
        "colab": {
          "base_uri": "https://localhost:8080/",
          "height": 1000
        },
        "id": "qx5KH0jbjGNo",
        "outputId": "8559e462-50ac-4611-d279-37543d5774f7"
      },
      "execution_count": null,
      "outputs": [
        {
          "output_type": "stream",
          "name": "stdout",
          "text": [
            "- Generation 1: Max Fitness = 65.0, Avg Fitness = 53.575\n",
            "Best Individual =  1 1 0 1 0 1 0 0 1 0 0 0 1 1 1 0 1 0 0 1 0 1 0 0 0 1 1 1 1 1 0 1 1 1 1 0 1 0 1 1 1 1 0 0 1 1 1 1 1 1 0 1 1 1 1 1 0 1 1 1 1 1 1 1 0 0 0 0 1 0 1 0 1 1 1 0 1 1 0 0 0 1 1 1 0 0 1 1 1 1 1 1 1 1 1 1 1 1 0 0 \n",
            "\n",
            "- Generation 2: Max Fitness = 66.0, Avg Fitness = 56.855\n",
            "Best Individual =  1 1 1 0 0 1 0 1 1 1 0 1 1 1 0 1 1 0 1 0 0 0 0 0 0 1 1 1 1 1 0 1 1 0 1 1 0 0 0 1 0 1 1 1 1 1 1 1 1 1 0 1 1 1 1 1 0 1 1 1 1 1 1 1 0 0 0 0 1 0 1 0 1 1 1 0 1 1 0 0 0 1 1 1 0 0 1 1 1 1 1 1 1 1 1 1 1 1 0 0 \n",
            "\n",
            "- Generation 3: Max Fitness = 69.0, Avg Fitness = 59.42\n",
            "Best Individual =  1 0 1 1 1 0 1 0 1 1 1 1 1 0 0 1 0 1 0 1 1 1 0 0 0 0 1 1 1 1 1 1 1 1 0 1 1 1 0 0 1 1 1 1 1 1 1 0 1 1 1 0 1 0 0 0 0 1 1 1 1 1 1 1 1 1 1 1 1 0 1 1 0 1 1 0 1 1 1 1 0 1 1 0 0 1 1 0 1 1 1 1 1 0 0 1 0 1 1 0 \n",
            "\n",
            "- Generation 4: Max Fitness = 70.0, Avg Fitness = 62.03\n",
            "Best Individual =  1 0 0 0 0 1 1 1 1 1 1 0 1 1 1 1 0 1 1 0 0 1 0 0 0 0 1 1 1 1 1 1 1 1 0 1 1 1 0 0 1 1 1 1 1 1 1 0 1 1 0 0 1 0 1 0 0 1 1 1 1 0 1 0 1 0 1 0 0 1 1 0 1 1 0 1 1 1 1 1 1 1 1 1 1 1 1 1 1 1 0 1 0 1 1 1 1 1 1 1 \n",
            "\n",
            "- Generation 5: Max Fitness = 75.0, Avg Fitness = 64.715\n",
            "Best Individual =  1 0 1 1 1 0 1 0 1 1 1 1 1 0 0 1 0 1 0 1 1 1 0 0 0 0 1 1 1 1 1 1 1 1 0 1 1 1 0 0 1 1 1 1 1 1 1 0 1 1 1 0 1 0 0 0 0 1 1 1 1 1 1 1 1 1 1 1 1 0 1 1 0 1 0 1 1 1 1 1 1 1 1 1 1 1 1 1 1 1 0 1 0 1 1 1 1 1 1 1 \n",
            "\n",
            "- Generation 6: Max Fitness = 75.0, Avg Fitness = 67.515\n",
            "Best Individual =  1 1 1 0 0 1 1 0 1 1 1 1 1 1 0 1 1 0 1 1 0 1 0 0 0 1 1 1 1 1 1 1 0 1 1 1 1 1 1 1 1 1 0 1 0 1 1 0 1 1 1 0 0 1 1 0 1 1 0 1 1 1 1 1 1 0 1 1 1 1 0 1 0 1 0 1 1 0 0 1 1 1 1 1 1 1 1 1 1 1 0 1 0 1 1 1 1 1 1 1 \n",
            "\n",
            "- Generation 7: Max Fitness = 77.0, Avg Fitness = 70.215\n",
            "Best Individual =  1 0 0 1 1 0 0 0 1 1 1 1 1 0 1 1 1 0 0 1 1 1 0 1 0 1 1 1 1 1 1 1 1 1 0 1 1 1 0 0 1 1 1 1 1 1 1 0 1 1 1 0 1 1 1 0 0 1 1 1 1 1 1 1 1 1 1 1 1 0 1 1 0 1 1 0 1 1 1 1 0 1 1 0 1 1 1 1 1 1 1 1 0 1 1 1 1 1 1 1 \n",
            "\n",
            "- Generation 8: Max Fitness = 81.0, Avg Fitness = 72.475\n",
            "Best Individual =  1 0 1 1 1 0 1 1 1 1 1 1 1 0 0 1 1 1 1 0 0 1 0 1 0 1 1 1 1 1 1 1 1 1 0 1 1 1 0 0 1 1 1 1 1 1 1 0 1 1 1 0 1 1 1 0 0 1 1 1 1 1 1 1 1 1 1 1 1 0 1 1 0 1 1 1 1 1 1 1 1 1 1 1 1 1 1 1 1 1 0 1 0 1 1 1 1 1 1 1 \n",
            "\n",
            "- Generation 9: Max Fitness = 82.0, Avg Fitness = 74.79\n",
            "Best Individual =  1 0 1 1 1 0 1 1 1 1 1 1 1 0 1 1 1 1 1 1 0 1 1 1 0 1 0 1 0 0 1 1 1 1 1 1 1 1 1 1 1 1 1 1 1 1 1 0 1 1 1 0 1 0 0 0 0 1 1 1 1 1 1 1 1 1 1 1 1 0 1 1 0 1 1 1 1 1 1 1 1 1 1 1 1 1 1 1 1 1 0 1 0 1 1 1 1 1 1 1 \n",
            "\n",
            "- Generation 10: Max Fitness = 85.0, Avg Fitness = 76.685\n",
            "Best Individual =  1 0 1 1 1 0 1 1 1 1 1 1 1 0 1 1 1 1 1 1 0 1 1 1 0 1 0 1 0 0 1 1 1 1 1 1 1 1 1 1 1 1 1 1 1 1 1 1 1 1 0 1 1 1 1 1 0 1 1 1 1 0 1 1 0 1 1 1 1 1 1 1 1 1 0 1 1 1 1 1 1 1 1 1 1 1 1 1 1 1 0 1 0 1 1 1 1 1 1 1 \n",
            "\n",
            "- Generation 11: Max Fitness = 85.0, Avg Fitness = 78.46\n",
            "Best Individual =  1 0 1 1 1 0 1 1 1 1 1 1 1 0 1 1 1 1 1 1 0 1 1 1 0 1 0 1 0 0 1 1 1 1 1 1 1 1 1 1 1 1 1 1 1 1 1 1 1 1 0 1 1 1 1 1 0 1 1 1 1 0 1 1 0 1 1 1 1 1 1 1 1 1 0 1 1 1 1 1 1 1 1 1 1 1 1 1 1 1 0 1 0 1 1 1 1 1 1 1 \n",
            "\n",
            "- Generation 12: Max Fitness = 87.0, Avg Fitness = 80.265\n",
            "Best Individual =  1 0 1 1 1 1 1 1 1 1 1 1 1 0 1 1 1 1 1 1 0 1 1 1 0 1 0 1 0 0 1 1 1 1 1 1 1 1 1 1 1 1 1 1 1 1 1 1 1 1 0 1 1 1 1 1 0 1 1 1 1 0 1 1 0 1 1 1 1 1 1 1 1 1 1 1 1 1 1 1 1 1 1 1 1 1 1 1 1 1 0 1 0 1 1 1 1 1 1 1 \n",
            "\n",
            "- Generation 13: Max Fitness = 87.0, Avg Fitness = 81.8\n",
            "Best Individual =  1 0 1 1 1 1 1 1 1 1 1 1 1 0 1 1 1 1 1 1 0 1 1 1 0 1 0 1 0 0 1 1 1 1 1 1 1 1 1 1 1 1 1 1 1 1 1 1 1 1 0 1 1 1 1 1 0 1 1 1 1 0 1 1 0 1 1 1 1 1 1 1 1 1 1 1 1 1 1 1 1 1 1 1 1 1 1 1 1 1 0 1 0 1 1 1 1 1 1 1 \n",
            "\n",
            "- Generation 14: Max Fitness = 87.0, Avg Fitness = 83.15\n",
            "Best Individual =  1 0 1 1 1 1 1 1 1 1 1 1 1 0 1 1 1 1 1 1 0 1 1 1 0 1 0 1 0 0 1 1 1 1 1 1 1 1 1 1 1 1 1 1 1 1 1 1 1 1 0 1 1 1 1 1 0 1 1 1 1 0 1 1 0 1 1 1 1 1 1 1 1 1 1 1 1 1 1 1 1 1 1 1 1 1 1 1 1 1 0 1 0 1 1 1 1 1 1 1 \n",
            "\n",
            "- Generation 15: Max Fitness = 89.0, Avg Fitness = 84.4\n",
            "Best Individual =  1 0 1 1 1 1 1 1 1 1 1 1 1 0 1 1 1 1 1 1 0 1 1 1 0 0 1 1 1 1 1 1 1 1 0 1 1 1 0 1 1 1 1 1 1 1 1 1 1 1 0 1 1 1 1 1 0 1 1 1 1 1 1 1 1 1 1 1 1 1 1 1 1 1 1 1 1 1 1 1 1 1 1 1 1 1 1 1 1 1 0 1 0 1 1 1 1 1 1 1 \n",
            "\n",
            "- Generation 16: Max Fitness = 89.0, Avg Fitness = 85.59\n",
            "Best Individual =  1 0 1 1 1 1 1 1 1 1 1 1 1 0 1 1 1 1 1 1 0 1 1 1 0 1 0 1 0 1 1 1 1 1 1 1 1 1 1 1 1 1 1 1 1 1 1 1 1 1 0 1 1 1 1 1 0 1 1 1 1 1 1 1 1 1 1 1 1 1 1 1 1 1 0 1 1 1 1 1 1 1 1 1 1 1 1 1 1 1 0 1 0 1 1 1 1 1 1 1 \n",
            "\n",
            "- Generation 17: Max Fitness = 90.0, Avg Fitness = 86.755\n",
            "Best Individual =  1 0 1 1 1 1 1 1 1 1 1 1 1 0 1 1 1 1 1 1 0 1 1 1 0 1 0 1 1 1 1 1 0 1 1 1 1 1 1 1 1 1 1 1 1 1 1 1 1 1 0 1 1 1 1 1 0 1 1 1 1 1 1 1 1 1 1 1 1 1 1 1 1 1 1 1 1 1 1 1 1 1 1 1 1 1 1 1 1 1 0 1 0 1 1 1 1 1 1 1 \n",
            "\n",
            "- Generation 18: Max Fitness = 91.0, Avg Fitness = 87.715\n",
            "Best Individual =  1 0 1 1 1 1 1 1 1 1 1 1 1 0 1 1 1 1 1 1 0 1 1 1 0 1 0 1 1 1 1 1 1 1 1 1 1 1 1 1 1 1 1 1 1 1 1 1 1 1 0 1 1 1 1 1 0 1 1 1 1 1 1 1 1 1 1 1 1 1 1 1 1 1 1 1 1 1 1 1 1 1 1 1 1 1 1 1 1 1 0 1 0 1 1 1 1 1 1 1 \n",
            "\n",
            "- Generation 19: Max Fitness = 92.0, Avg Fitness = 88.495\n",
            "Best Individual =  1 1 1 1 1 1 1 1 1 1 1 1 1 0 1 1 1 1 1 1 0 1 1 1 0 1 0 1 1 1 1 1 1 1 1 1 1 1 1 1 1 1 1 1 1 1 1 1 1 1 1 1 1 1 1 1 0 1 1 1 1 0 1 1 0 1 1 1 1 1 1 1 1 1 1 1 1 1 1 1 1 1 1 1 1 1 1 1 1 1 1 1 1 0 1 1 1 1 1 1 \n",
            "\n",
            "- Generation 20: Max Fitness = 92.0, Avg Fitness = 89.275\n",
            "Best Individual =  1 1 1 1 1 1 1 1 1 1 1 1 1 0 1 1 1 1 1 1 0 1 1 1 0 1 1 1 0 0 1 1 1 1 1 1 1 1 1 1 1 1 1 1 1 1 1 1 1 1 0 1 1 1 1 1 0 1 1 1 1 1 1 1 1 1 1 1 1 1 1 1 1 1 1 1 1 1 1 1 1 1 1 1 1 1 1 1 1 1 1 1 1 0 1 1 1 1 1 1 \n",
            "\n",
            "- Generation 21: Max Fitness = 93.0, Avg Fitness = 90.04\n",
            "Best Individual =  1 1 1 1 1 1 1 1 1 1 1 1 1 0 1 1 1 1 1 1 0 1 1 1 1 1 0 1 1 1 1 1 1 1 1 1 1 1 1 1 1 1 1 1 1 1 1 1 1 1 0 1 1 1 1 1 0 1 1 1 1 1 1 1 1 1 1 1 1 1 1 1 1 1 1 1 1 1 1 1 1 1 1 1 1 1 1 1 1 1 0 1 0 1 1 1 1 1 1 1 \n",
            "\n",
            "- Generation 22: Max Fitness = 94.0, Avg Fitness = 90.865\n",
            "Best Individual =  1 0 1 1 1 1 1 1 1 1 1 1 1 0 1 1 1 1 1 1 0 1 1 1 0 1 1 1 1 1 1 1 1 1 1 1 1 1 1 1 1 1 1 1 1 1 1 1 1 1 0 1 1 1 1 1 1 1 1 1 1 1 1 1 1 1 1 1 1 1 1 1 1 1 1 1 1 1 1 1 1 1 1 1 1 1 1 1 1 1 1 1 1 0 1 1 1 1 1 1 \n",
            "\n",
            "- Generation 23: Max Fitness = 94.0, Avg Fitness = 91.645\n",
            "Best Individual =  1 1 1 1 1 1 1 1 1 1 1 1 1 0 1 1 1 1 1 1 0 1 1 1 0 1 1 1 1 1 1 1 1 1 1 1 1 1 1 1 1 1 1 1 1 1 1 1 1 1 0 1 1 1 1 1 0 1 1 1 1 1 1 1 1 1 1 1 1 1 1 1 1 1 1 1 1 1 1 1 1 1 1 1 1 1 1 1 1 1 1 1 0 1 1 1 1 1 1 1 \n",
            "\n",
            "- Generation 24: Max Fitness = 95.0, Avg Fitness = 92.69\n",
            "Best Individual =  1 1 1 1 1 1 1 1 1 1 1 1 1 0 1 1 1 1 1 1 0 1 1 1 0 1 1 1 1 1 1 1 1 1 1 1 1 1 1 1 1 1 1 1 1 1 1 1 1 1 0 1 1 1 1 1 1 1 1 1 1 1 1 1 1 1 1 1 1 1 1 1 1 1 1 1 1 1 1 1 1 1 1 1 1 1 1 1 1 1 1 1 0 1 1 1 1 1 1 1 \n",
            "\n",
            "- Generation 25: Max Fitness = 95.0, Avg Fitness = 93.325\n",
            "Best Individual =  1 1 1 1 1 1 1 1 1 1 1 1 1 0 1 1 1 1 1 1 0 1 1 1 1 1 0 1 1 1 1 1 1 1 1 1 1 1 1 1 1 1 1 1 1 1 1 1 1 1 0 1 1 1 1 1 1 1 1 1 1 1 1 1 1 1 1 1 1 1 1 1 1 1 1 1 1 1 1 1 1 1 1 1 1 1 1 1 1 1 1 1 0 1 1 1 1 1 1 1 \n",
            "\n",
            "- Generation 26: Max Fitness = 95.0, Avg Fitness = 93.935\n",
            "Best Individual =  1 1 1 1 1 1 1 1 1 1 1 1 1 0 1 1 1 1 1 1 0 1 1 1 0 1 1 1 1 1 1 1 1 1 1 1 1 1 1 1 1 1 1 1 1 1 1 1 1 1 0 1 1 1 1 1 1 1 1 1 1 1 1 1 1 1 1 1 1 1 1 1 1 1 1 1 1 1 1 1 1 1 1 1 1 1 1 1 1 1 1 1 1 0 1 1 1 1 1 1 \n",
            "\n",
            "- Generation 27: Max Fitness = 96.0, Avg Fitness = 94.39\n",
            "Best Individual =  1 1 1 1 1 1 1 1 1 1 1 1 1 0 1 1 1 1 1 1 1 1 1 1 0 1 1 1 1 1 1 1 1 1 1 1 1 1 1 1 1 1 1 1 1 1 1 1 1 1 0 1 1 1 1 1 1 1 1 1 1 1 1 1 1 1 1 1 1 1 1 1 1 1 1 1 1 1 1 1 1 1 1 1 1 1 1 1 1 1 1 1 1 0 1 1 1 1 1 1 \n",
            "\n",
            "- Generation 28: Max Fitness = 96.0, Avg Fitness = 94.84\n",
            "Best Individual =  1 1 1 1 1 1 1 1 1 1 1 1 1 0 1 1 1 1 1 1 0 1 1 1 1 1 1 1 1 1 1 1 1 1 1 1 1 1 1 1 1 1 1 1 1 1 1 1 1 1 0 1 1 1 1 1 1 1 1 1 1 1 1 1 1 1 1 1 1 1 1 1 1 1 1 1 1 1 1 1 1 1 1 1 1 1 1 1 1 1 1 1 1 0 1 1 1 1 1 1 \n",
            "\n",
            "- Generation 29: Max Fitness = 96.0, Avg Fitness = 95.07\n",
            "Best Individual =  1 1 1 1 1 1 1 1 1 1 1 1 1 0 1 1 1 1 1 1 1 1 1 1 0 1 1 1 1 1 1 1 1 1 1 1 1 1 1 1 1 1 1 1 1 1 1 1 1 1 0 1 1 1 1 1 1 1 1 1 1 1 1 1 1 1 1 1 1 1 1 1 1 1 1 1 1 1 1 1 1 1 1 1 1 1 1 1 1 1 1 1 0 1 1 1 1 1 1 1 \n",
            "\n",
            "- Generation 30: Max Fitness = 97.0, Avg Fitness = 95.325\n",
            "Best Individual =  1 1 1 1 1 1 1 1 1 1 1 1 1 0 1 1 1 1 1 1 0 1 1 1 1 1 1 1 1 1 1 1 1 1 1 1 1 1 1 1 1 1 1 1 1 1 1 1 1 1 0 1 1 1 1 1 1 1 1 1 1 1 1 1 1 1 1 1 1 1 1 1 1 1 1 1 1 1 1 1 1 1 1 1 1 1 1 1 1 1 1 1 1 1 1 1 1 1 1 1 \n",
            "\n",
            "- Generation 31: Max Fitness = 97.0, Avg Fitness = 95.69\n",
            "Best Individual =  1 1 1 1 1 1 1 1 1 1 1 1 1 0 1 1 1 1 1 1 1 1 1 1 0 1 1 1 1 1 1 1 1 1 1 1 1 1 1 1 1 1 1 1 1 1 1 1 1 1 0 1 1 1 1 1 1 1 1 1 1 1 1 1 1 1 1 1 1 1 1 1 1 1 1 1 1 1 1 1 1 1 1 1 1 1 1 1 1 1 1 1 1 1 1 1 1 1 1 1 \n",
            "\n",
            "- Generation 32: Max Fitness = 97.0, Avg Fitness = 95.93\n",
            "Best Individual =  1 1 1 1 1 1 1 1 1 1 1 1 1 0 1 1 1 1 1 1 1 1 1 1 0 1 1 1 1 1 1 1 1 1 1 1 1 1 1 1 1 1 1 1 1 1 1 1 1 1 0 1 1 1 1 1 1 1 1 1 1 1 1 1 1 1 1 1 1 1 1 1 1 1 1 1 1 1 1 1 1 1 1 1 1 1 1 1 1 1 1 1 1 1 1 1 1 1 1 1 \n",
            "\n",
            "- Generation 33: Max Fitness = 97.0, Avg Fitness = 96.085\n",
            "Best Individual =  1 1 1 1 1 1 1 1 1 1 1 1 1 0 1 1 1 1 1 1 1 1 1 1 1 1 1 1 1 1 1 1 1 1 1 1 1 1 1 1 1 1 1 1 1 1 1 1 1 1 0 1 1 1 1 1 1 1 1 1 1 1 1 1 1 1 1 1 1 1 1 1 1 1 1 1 1 1 1 1 1 1 1 1 1 1 1 1 1 1 1 1 0 1 1 1 1 1 1 1 \n",
            "\n",
            "- Generation 34: Max Fitness = 98.0, Avg Fitness = 96.325\n",
            "Best Individual =  1 1 1 1 1 1 1 1 1 1 1 1 1 0 1 1 1 1 1 1 1 1 1 1 1 1 1 1 1 1 1 1 1 1 1 1 1 1 1 1 1 1 1 1 1 1 1 1 1 1 0 1 1 1 1 1 1 1 1 1 1 1 1 1 1 1 1 1 1 1 1 1 1 1 1 1 1 1 1 1 1 1 1 1 1 1 1 1 1 1 1 1 1 1 1 1 1 1 1 1 \n",
            "\n",
            "- Generation 35: Max Fitness = 98.0, Avg Fitness = 96.835\n",
            "Best Individual =  1 1 1 1 1 1 1 1 1 1 1 1 1 0 1 1 1 1 1 1 1 1 1 1 1 1 1 1 1 1 1 1 1 1 1 1 1 1 1 1 1 1 1 1 1 1 1 1 1 1 0 1 1 1 1 1 1 1 1 1 1 1 1 1 1 1 1 1 1 1 1 1 1 1 1 1 1 1 1 1 1 1 1 1 1 1 1 1 1 1 1 1 1 1 1 1 1 1 1 1 \n",
            "\n",
            "- Generation 36: Max Fitness = 98.0, Avg Fitness = 97.18\n",
            "Best Individual =  1 1 1 1 1 1 1 1 1 1 1 1 1 0 1 1 1 1 1 1 1 1 1 1 1 1 1 1 1 1 1 1 1 1 1 1 1 1 1 1 1 1 1 1 1 1 1 1 1 1 0 1 1 1 1 1 1 1 1 1 1 1 1 1 1 1 1 1 1 1 1 1 1 1 1 1 1 1 1 1 1 1 1 1 1 1 1 1 1 1 1 1 1 1 1 1 1 1 1 1 \n",
            "\n",
            "- Generation 37: Max Fitness = 99.0, Avg Fitness = 97.655\n",
            "Best Individual =  1 1 1 1 1 1 1 1 1 1 1 1 1 1 1 1 1 1 1 1 1 1 1 1 1 1 1 1 1 1 1 1 1 1 1 1 1 1 1 1 1 1 1 1 1 1 1 1 1 1 0 1 1 1 1 1 1 1 1 1 1 1 1 1 1 1 1 1 1 1 1 1 1 1 1 1 1 1 1 1 1 1 1 1 1 1 1 1 1 1 1 1 1 1 1 1 1 1 1 1 \n",
            "\n",
            "- Generation 38: Max Fitness = 99.0, Avg Fitness = 97.91\n",
            "Best Individual =  1 1 1 1 1 1 1 1 1 1 1 1 1 1 1 1 1 1 1 1 1 1 1 1 1 1 1 1 1 1 1 1 1 1 1 1 1 1 1 1 1 1 1 1 1 1 1 1 1 1 0 1 1 1 1 1 1 1 1 1 1 1 1 1 1 1 1 1 1 1 1 1 1 1 1 1 1 1 1 1 1 1 1 1 1 1 1 1 1 1 1 1 1 1 1 1 1 1 1 1 \n",
            "\n",
            "- Generation 39: Max Fitness = 99.0, Avg Fitness = 98.04\n",
            "Best Individual =  1 1 1 1 1 1 1 1 1 1 1 1 1 0 1 1 1 1 1 1 1 1 1 1 1 1 1 1 1 1 1 1 1 1 1 1 1 1 1 1 1 1 1 1 1 1 1 1 1 1 1 1 1 1 1 1 1 1 1 1 1 1 1 1 1 1 1 1 1 1 1 1 1 1 1 1 1 1 1 1 1 1 1 1 1 1 1 1 1 1 1 1 1 1 1 1 1 1 1 1 \n",
            "\n",
            "- Generation 40: Max Fitness = 100.0, Avg Fitness = 98.29\n",
            "Best Individual =  1 1 1 1 1 1 1 1 1 1 1 1 1 1 1 1 1 1 1 1 1 1 1 1 1 1 1 1 1 1 1 1 1 1 1 1 1 1 1 1 1 1 1 1 1 1 1 1 1 1 1 1 1 1 1 1 1 1 1 1 1 1 1 1 1 1 1 1 1 1 1 1 1 1 1 1 1 1 1 1 1 1 1 1 1 1 1 1 1 1 1 1 1 1 1 1 1 1 1 1 \n",
            "\n"
          ]
        },
        {
          "output_type": "display_data",
          "data": {
            "text/plain": [
              "<Figure size 640x480 with 1 Axes>"
            ],
            "image/png": "[encoded data removed]"
          },
          "metadata": {}
        }
      ]
    }
  ]
}