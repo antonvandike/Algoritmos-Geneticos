{
  "nbformat": 4,
  "nbformat_minor": 0,
  "metadata": {
    "colab": {
      "provenance": [],
      "authorship_tag": "ABX9TyMDCgp26amrs4XBWVOKk5Pu",
      "include_colab_link": true
    },
    "kernelspec": {
      "name": "python3",
      "display_name": "Python 3"
    },
    "language_info": {
      "name": "python"
    }
  },
  "cells": [
    {
      "cell_type": "markdown",
      "metadata": {
        "id": "view-in-github",
        "colab_type": "text"
      },
      "source": [
        "<a href=\"https://colab.research.google.com/github/antonvandike/Algoritmos-Geneticos/blob/main/Libro_Eyal_Wirsansky/Handson_chapter_4_2_tsp_problem.ipynb\" target=\"_parent\"><img src=\"https://colab.research.google.com/assets/colab-badge.svg\" alt=\"Open In Colab\"/></a>"
      ]
    },
    {
      "cell_type": "markdown",
      "source": [
        "#Solucion del problema del agente de ventas viajero"
      ],
      "metadata": {
        "id": "pVVtyKf7dVZH"
      }
    },
    {
      "cell_type": "markdown",
      "source": [
        "###Configuraciones y definiciones"
      ],
      "metadata": {
        "id": "jUyH11RZdH6j"
      }
    },
    {
      "cell_type": "code",
      "source": [
        "pip install deap"
      ],
      "metadata": {
        "colab": {
          "base_uri": "https://localhost:8080/"
        },
        "id": "JE91VIDQCHrA",
        "outputId": "6daf8059-f4da-4c39-bf04-3231cced33c7"
      },
      "execution_count": 7,
      "outputs": [
        {
          "output_type": "stream",
          "name": "stdout",
          "text": [
            "Requirement already satisfied: deap in /usr/local/lib/python3.10/dist-packages (1.4.1)\n",
            "Requirement already satisfied: numpy in /usr/local/lib/python3.10/dist-packages (from deap) (1.25.2)\n"
          ]
        }
      ]
    },
    {
      "cell_type": "code",
      "source": [
        "pip install tsplib95"
      ],
      "metadata": {
        "colab": {
          "base_uri": "https://localhost:8080/"
        },
        "id": "ZkEgE-45rgJ1",
        "outputId": "09da40ca-b8f9-4d09-e954-339bec3082b9"
      },
      "execution_count": 8,
      "outputs": [
        {
          "output_type": "stream",
          "name": "stdout",
          "text": [
            "Requirement already satisfied: tsplib95 in /usr/local/lib/python3.10/dist-packages (0.7.1)\n",
            "Requirement already satisfied: Click>=6.0 in /usr/local/lib/python3.10/dist-packages (from tsplib95) (8.1.7)\n",
            "Requirement already satisfied: Deprecated~=1.2.9 in /usr/local/lib/python3.10/dist-packages (from tsplib95) (1.2.14)\n",
            "Requirement already satisfied: networkx~=2.1 in /usr/local/lib/python3.10/dist-packages (from tsplib95) (2.8.8)\n",
            "Requirement already satisfied: tabulate~=0.8.7 in /usr/local/lib/python3.10/dist-packages (from tsplib95) (0.8.10)\n",
            "Requirement already satisfied: wrapt<2,>=1.10 in /usr/local/lib/python3.10/dist-packages (from Deprecated~=1.2.9->tsplib95) (1.14.1)\n"
          ]
        }
      ]
    },
    {
      "cell_type": "code",
      "execution_count": 9,
      "metadata": {
        "id": "_o0YKIs34_AR",
        "colab": {
          "base_uri": "https://localhost:8080/",
          "height": 349
        },
        "outputId": "ea0d7f18-faa8-45b5-aaad-62330e8bfcac"
      },
      "outputs": [
        {
          "output_type": "error",
          "ename": "ModuleNotFoundError",
          "evalue": "No module named 'elitism'",
          "traceback": [
            "\u001b[0;31m---------------------------------------------------------------------------\u001b[0m",
            "\u001b[0;31mModuleNotFoundError\u001b[0m                       Traceback (most recent call last)",
            "\u001b[0;32m<ipython-input-9-71d88beedb1e>\u001b[0m in \u001b[0;36m<cell line: 15>\u001b[0;34m()\u001b[0m\n\u001b[1;32m     13\u001b[0m \u001b[0;34m\u001b[0m\u001b[0m\n\u001b[1;32m     14\u001b[0m \u001b[0;32mimport\u001b[0m \u001b[0mtsplib95\u001b[0m\u001b[0;34m\u001b[0m\u001b[0;34m\u001b[0m\u001b[0m\n\u001b[0;32m---> 15\u001b[0;31m \u001b[0;32mimport\u001b[0m \u001b[0melitism\u001b[0m\u001b[0;34m\u001b[0m\u001b[0;34m\u001b[0m\u001b[0m\n\u001b[0m",
            "\u001b[0;31mModuleNotFoundError\u001b[0m: No module named 'elitism'",
            "",
            "\u001b[0;31m---------------------------------------------------------------------------\u001b[0;32m\nNOTE: If your import is failing due to a missing package, you can\nmanually install dependencies using either !pip or !apt.\n\nTo view examples of installing some common dependencies, click the\n\"Open Examples\" button below.\n\u001b[0;31m---------------------------------------------------------------------------\u001b[0m\n"
          ],
          "errorDetails": {
            "actions": [
              {
                "action": "open_url",
                "actionText": "Open Examples",
                "url": "/notebooks/snippets/importing_libraries.ipynb"
              }
            ]
          }
        }
      ],
      "source": [
        "## Paso 1: Modulos\n",
        "from deap import base\n",
        "from deap import creator\n",
        "from deap import tools\n",
        "from deap import algorithms\n",
        "\n",
        "import random as rd\n",
        "import array as arr\n",
        "\n",
        "import numpy as np\n",
        "import matplotlib.pyplot as plt\n",
        "import seaborn as sns\n",
        "\n",
        "import tsplib95\n",
        "import elitism"
      ]
    },
    {
      "cell_type": "code",
      "source": [
        "## Paso 2: Crear una instancia de las caracteristicas del problema\n",
        "\n",
        "with open('/content/bayg29.tsp') as f:\n",
        "  text = f.read()\n",
        "\n",
        "tsp = tsplib95.parse(text)"
      ],
      "metadata": {
        "id": "JT9DENZU3Fvz"
      },
      "execution_count": null,
      "outputs": []
    },
    {
      "cell_type": "code",
      "source": [
        "## Paso 2: Parametros del problema\n",
        "\n",
        "# Contenido del problema del agente viajero\n",
        "\n",
        "POPULATION_SIZE = 300     # Tamaño de la poblacion de individuos\n",
        "P_CROSSOVER     =  0.9    # Probabilidad de cruza\n",
        "P_MUTATION      =  0.05    # Probabilidad de mutación\n",
        "\n",
        "MAX_GENERATIONS = 200     # Maximo numero de generaciones (condición de termino)"
      ],
      "metadata": {
        "id": "sk8gDOZfLjT5"
      },
      "execution_count": null,
      "outputs": []
    },
    {
      "cell_type": "code",
      "source": [
        "HALL_OF_FAME_SIZE = 30"
      ],
      "metadata": {
        "id": "T8ksHqrDLC3A"
      },
      "execution_count": null,
      "outputs": []
    },
    {
      "cell_type": "code",
      "source": [
        "## Paso 3: Elementos aleatorios\n",
        "\n",
        "RANDOM_SEED = 42          # Comunmente cuando se experimenta con un codigo\n",
        "rd.seed(RANDOM_SEED)      # se corre el problema con los mismos parametros\n",
        "                          # para repetir y compara resultados"
      ],
      "metadata": {
        "id": "eDnBQiyiNGGu"
      },
      "execution_count": null,
      "outputs": []
    },
    {
      "cell_type": "code",
      "source": [
        "## Paso 4: Declarando el cromosoma\n",
        "toolbox = base.Toolbox()\n",
        "toolbox.register(\"randomOrder\", rd.sample, range(tsp.dimension), tsp.dimension)"
      ],
      "metadata": {
        "id": "4O4iiU3bSF9G"
      },
      "execution_count": null,
      "outputs": []
    },
    {
      "cell_type": "code",
      "source": [
        "## Paso 5: Crear la funcion de aptitud (FITNESS)\n",
        "\n",
        "# Se indica maximizacion y un solo peso\n",
        "creator.create('FitnessMin', base.Fitness, weights = (-1.0,))"
      ],
      "metadata": {
        "id": "PfnaIlJPTMBV"
      },
      "execution_count": null,
      "outputs": []
    },
    {
      "cell_type": "code",
      "source": [
        "## Paso 6: Crear la funcion de  aptitud del individuo\n",
        "\n",
        "creator.create(\"Individual\", arr.array, typecode='i', fitness=creator.FitnessMin)"
      ],
      "metadata": {
        "id": "wrTNY_p7VcMt"
      },
      "execution_count": null,
      "outputs": []
    },
    {
      "cell_type": "code",
      "source": [
        "## Paso 7: Declarar el operador para generador de individuos\n",
        "\n",
        "toolbox.register(\"individualCreator\", tools.initIterate, creator.Individual, toolbox.randomOrder)"
      ],
      "metadata": {
        "id": "pVg34tJUYaOE"
      },
      "execution_count": null,
      "outputs": []
    },
    {
      "cell_type": "code",
      "source": [
        "## Paso 8: Declarar el operador para generar la poblacion\n",
        "\n",
        "toolbox.register(\"populationCreator\", tools.initRepeat, list, toolbox.individualCreator)"
      ],
      "metadata": {
        "id": "5OB5u2ePa7wO"
      },
      "execution_count": null,
      "outputs": []
    },
    {
      "cell_type": "code",
      "source": [
        "# Funcion para calcular la distancia\n",
        "def TotalDistance(indices):\n",
        "\n",
        "  distancia = 0\n",
        "  for x in range(-1,len(indices)-1):\n",
        "\n",
        "    edge = indices[x]+1,indices[x+1]+1\n",
        "    distancia = distancia + tsp.get_weight(*edge)\n",
        "\n",
        "  return distancia"
      ],
      "metadata": {
        "id": "QG3P3uARvw6t"
      },
      "execution_count": null,
      "outputs": []
    },
    {
      "cell_type": "code",
      "source": [
        "## Paso 9: Definir función para calcular la aptitud\n",
        "def tpsDistance(individual):\n",
        "\n",
        "  return TotalDistance(individual),  # return a tuple"
      ],
      "metadata": {
        "id": "W8mXJZs6b_Ei"
      },
      "execution_count": null,
      "outputs": []
    },
    {
      "cell_type": "code",
      "source": [
        "## Paso 10: Declarar el operador de evaluacion\n",
        "\n",
        "toolbox.register(\"evaluate\", tpsDistance)"
      ],
      "metadata": {
        "id": "ZSbOP09Bcx2W"
      },
      "execution_count": null,
      "outputs": []
    },
    {
      "cell_type": "code",
      "source": [
        "## Paso 11: Declarar los operadores geneticos\n",
        "\n",
        "toolbox.register(\"select\", tools.selTournament, tournsize=3)\n",
        "toolbox.register(\"mate\", tools.cxOrdered)\n",
        "toolbox.register(\"mutate\", tools.mutShuffleIndexes, indpb = 1.0/tsp.dimension)"
      ],
      "metadata": {
        "id": "6wv9YN9qdrVi"
      },
      "execution_count": null,
      "outputs": []
    },
    {
      "cell_type": "markdown",
      "source": [
        "###Evolucionando la solución"
      ],
      "metadata": {
        "id": "UPas2s4We39f"
      }
    },
    {
      "cell_type": "code",
      "source": [
        "def TSP_problem():\n",
        "\n",
        "    # create initial population (generation 0):\n",
        "    population = toolbox.populationCreator(n=POPULATION_SIZE)\n",
        "\n",
        "    # prepare the statistics object:\n",
        "    stats = tools.Statistics(lambda ind: ind.fitness.values)\n",
        "    stats.register(\"min\", np.min)\n",
        "    stats.register(\"avg\", np.mean)\n",
        "\n",
        "    # define the hall-of-fame object:\n",
        "    hof = tools.HallOfFame(HALL_OF_FAME_SIZE)\n",
        "\n",
        "    # perform the Genetic Algorithm flow with hof feature added:\n",
        "    population, logbook = elitism.eaSimpleWithElitism(population, toolbox, cxpb=P_CROSSOVER, mutpb=P_MUTATION,\n",
        "                                              ngen=MAX_GENERATIONS, stats=stats, halloffame=hof, verbose=True)\n",
        "\n",
        "    # print best individual info:\n",
        "    best = hof.items[0]\n",
        "    print(\"-- Best Ever Individual = \", best)\n",
        "    print(\"-- Solución exacta al problema bayg29 = \", 1610)\n",
        "    print(\"-- Best Ever Fitness = \", best.fitness.values[0])\n",
        "\n",
        "\n",
        "    # plot statistics:\n",
        "    minFitnessValues, meanFitnessValues = logbook.select(\"min\", \"avg\")\n",
        "    plt.figure(2)\n",
        "    sns.set_style(\"whitegrid\")\n",
        "    plt.plot(minFitnessValues, color='red')\n",
        "    plt.plot(meanFitnessValues, color='green')\n",
        "    plt.xlabel('Generation')\n",
        "    plt.ylabel('Min / Average Fitness')\n",
        "    plt.title('Min and Average fitness over Generations')\n",
        "    plt.show()\n",
        "\n",
        "    colores = [\"*b-\",\"*m-\"]\n",
        "    plt.figure(figsize=(12, 8))\n",
        "    ax1 = plt.subplot(2,3,1)\n",
        "    ax2 = plt.subplot(2,3,2)\n",
        "\n",
        "    axes = [ax1, ax2]\n",
        "\n",
        "\n",
        "\n",
        "    color = 0\n",
        "\n",
        "    optimalSolution = [0, 27, 5, 11, 8, 25, 2, 28, 4, 20, 1, 19, 9, 3, 14, 17, 13, 16, 21, 10, 18, 24, 6, 22, 7, 26, 15, 12, 23]\n",
        "    c = [best,optimalSolution]\n",
        "\n",
        "    for y1 in range(2):\n",
        "      for x in range(-1,tsp.dimension-1):\n",
        "        a = tsp.display_data[c[y1][x]+1]\n",
        "        b = tsp.display_data[c[y1][x+1]+1]\n",
        "        axes[y1].plot([a[0],b[0]],[a[1],b[1]],colores[y1])\n",
        "\n",
        "    # show both plots:\n",
        "    plt.title('Comparación de la solución\\nobtenida y la solución real')\n",
        "    plt.show()\n",
        "\n",
        "\n"
      ],
      "metadata": {
        "id": "tlyaYNAd2uSn"
      },
      "execution_count": null,
      "outputs": []
    },
    {
      "cell_type": "code",
      "source": [
        "TSP_problem()"
      ],
      "metadata": {
        "id": "XUiGEquW2yiU"
      },
      "execution_count": null,
      "outputs": []
    }
  ]
}