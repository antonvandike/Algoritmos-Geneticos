{
  "nbformat": 4,
  "nbformat_minor": 0,
  "metadata": {
    "colab": {
      "provenance": [],
      "authorship_tag": "ABX9TyOz3udBftzTMEPad1R0hI3V",
      "include_colab_link": true
    },
    "kernelspec": {
      "name": "python3",
      "display_name": "Python 3"
    },
    "language_info": {
      "name": "python"
    }
  },
  "cells": [
    {
      "cell_type": "markdown",
      "metadata": {
        "id": "view-in-github",
        "colab_type": "text"
      },
      "source": [
        "<a href=\"https://colab.research.google.com/github/antonvandike/Algoritmos-Geneticos/blob/main/Libro_Eyal_Wirsansky/Handson_chapter_4_tsp_problem.ipynb\" target=\"_parent\"><img src=\"https://colab.research.google.com/assets/colab-badge.svg\" alt=\"Open In Colab\"/></a>"
      ]
    },
    {
      "cell_type": "markdown",
      "source": [
        "#Solucion del problema del agente de ventas viajero"
      ],
      "metadata": {
        "id": "pVVtyKf7dVZH"
      }
    },
    {
      "cell_type": "markdown",
      "source": [
        "###Configuraciones y definiciones"
      ],
      "metadata": {
        "id": "jUyH11RZdH6j"
      }
    },
    {
      "cell_type": "code",
      "source": [
        "pip install deap"
      ],
      "metadata": {
        "colab": {
          "base_uri": "https://localhost:8080/"
        },
        "id": "JE91VIDQCHrA",
        "outputId": "7144eaf1-05cd-4aab-82b3-885894e92e65"
      },
      "execution_count": null,
      "outputs": [
        {
          "output_type": "stream",
          "name": "stdout",
          "text": [
            "Collecting deap\n",
            "  Downloading deap-1.4.1-cp310-cp310-manylinux_2_5_x86_64.manylinux1_x86_64.manylinux_2_17_x86_64.manylinux2014_x86_64.whl (135 kB)\n",
            "\u001b[?25l     \u001b[90m━━━━━━━━━━━━━━━━━━━━━━━━━━━━━━━━━━━━━━━━\u001b[0m \u001b[32m0.0/135.4 kB\u001b[0m \u001b[31m?\u001b[0m eta \u001b[36m-:--:--\u001b[0m\r\u001b[2K     \u001b[90m━━━━━━━━━━━━━━━━━━━━━━━━━━━━━━━━━━━━━━━━\u001b[0m \u001b[32m135.4/135.4 kB\u001b[0m \u001b[31m3.9 MB/s\u001b[0m eta \u001b[36m0:00:00\u001b[0m\n",
            "\u001b[?25hRequirement already satisfied: numpy in /usr/local/lib/python3.10/dist-packages (from deap) (1.25.2)\n",
            "Installing collected packages: deap\n",
            "Successfully installed deap-1.4.1\n"
          ]
        }
      ]
    },
    {
      "cell_type": "code",
      "source": [
        "pip install tsplib95"
      ],
      "metadata": {
        "colab": {
          "base_uri": "https://localhost:8080/"
        },
        "id": "ZkEgE-45rgJ1",
        "outputId": "6ef9ed2a-60b1-4924-9dff-a4485c3250cc"
      },
      "execution_count": null,
      "outputs": [
        {
          "output_type": "stream",
          "name": "stdout",
          "text": [
            "Collecting tsplib95\n",
            "  Downloading tsplib95-0.7.1-py2.py3-none-any.whl (25 kB)\n",
            "Requirement already satisfied: Click>=6.0 in /usr/local/lib/python3.10/dist-packages (from tsplib95) (8.1.7)\n",
            "Collecting Deprecated~=1.2.9 (from tsplib95)\n",
            "  Downloading Deprecated-1.2.14-py2.py3-none-any.whl (9.6 kB)\n",
            "Collecting networkx~=2.1 (from tsplib95)\n",
            "  Downloading networkx-2.8.8-py3-none-any.whl (2.0 MB)\n",
            "\u001b[2K     \u001b[90m━━━━━━━━━━━━━━━━━━━━━━━━━━━━━━━━━━━━━━━━\u001b[0m \u001b[32m2.0/2.0 MB\u001b[0m \u001b[31m21.0 MB/s\u001b[0m eta \u001b[36m0:00:00\u001b[0m\n",
            "\u001b[?25hCollecting tabulate~=0.8.7 (from tsplib95)\n",
            "  Downloading tabulate-0.8.10-py3-none-any.whl (29 kB)\n",
            "Requirement already satisfied: wrapt<2,>=1.10 in /usr/local/lib/python3.10/dist-packages (from Deprecated~=1.2.9->tsplib95) (1.14.1)\n",
            "Installing collected packages: tabulate, networkx, Deprecated, tsplib95\n",
            "  Attempting uninstall: tabulate\n",
            "    Found existing installation: tabulate 0.9.0\n",
            "    Uninstalling tabulate-0.9.0:\n",
            "      Successfully uninstalled tabulate-0.9.0\n",
            "  Attempting uninstall: networkx\n",
            "    Found existing installation: networkx 3.2.1\n",
            "    Uninstalling networkx-3.2.1:\n",
            "      Successfully uninstalled networkx-3.2.1\n",
            "\u001b[31mERROR: pip's dependency resolver does not currently take into account all the packages that are installed. This behaviour is the source of the following dependency conflicts.\n",
            "bigframes 0.21.0 requires tabulate>=0.9, but you have tabulate 0.8.10 which is incompatible.\u001b[0m\u001b[31m\n",
            "\u001b[0mSuccessfully installed Deprecated-1.2.14 networkx-2.8.8 tabulate-0.8.10 tsplib95-0.7.1\n"
          ]
        }
      ]
    },
    {
      "cell_type": "code",
      "execution_count": null,
      "metadata": {
        "id": "_o0YKIs34_AR"
      },
      "outputs": [],
      "source": [
        "## Paso 1: Modulos\n",
        "\n",
        "from deap import base\n",
        "from deap import creator\n",
        "from deap import tools\n",
        "from deap import algorithms\n",
        "\n",
        "import random as rd\n",
        "import array as arr\n",
        "\n",
        "import numpy as np\n",
        "import matplotlib.pyplot as plt\n",
        "import seaborn as sns\n",
        "\n",
        "import tsplib95"
      ]
    },
    {
      "cell_type": "code",
      "source": [
        "## Paso 2: Crear una instancia de las caracteristicas del problema\n",
        "\n",
        "with open('/content/bayg29.tsp') as f:\n",
        "  text = f.read()\n",
        "\n",
        "tsp = tsplib95.parse(text)"
      ],
      "metadata": {
        "id": "JT9DENZU3Fvz",
        "colab": {
          "base_uri": "https://localhost:8080/",
          "height": 211
        },
        "outputId": "745ce9dc-97c7-407e-b217-7a192e86c462"
      },
      "execution_count": null,
      "outputs": [
        {
          "output_type": "error",
          "ename": "FileNotFoundError",
          "evalue": "[Errno 2] No such file or directory: '/content/bayg29.tsp'",
          "traceback": [
            "\u001b[0;31m---------------------------------------------------------------------------\u001b[0m",
            "\u001b[0;31mFileNotFoundError\u001b[0m                         Traceback (most recent call last)",
            "\u001b[0;32m<ipython-input-4-e8b3f41dd499>\u001b[0m in \u001b[0;36m<cell line: 3>\u001b[0;34m()\u001b[0m\n\u001b[1;32m      1\u001b[0m \u001b[0;31m## Paso 2: Crear una instancia de las caracteristicas del problema\u001b[0m\u001b[0;34m\u001b[0m\u001b[0;34m\u001b[0m\u001b[0m\n\u001b[1;32m      2\u001b[0m \u001b[0;34m\u001b[0m\u001b[0m\n\u001b[0;32m----> 3\u001b[0;31m \u001b[0;32mwith\u001b[0m \u001b[0mopen\u001b[0m\u001b[0;34m(\u001b[0m\u001b[0;34m'/content/bayg29.tsp'\u001b[0m\u001b[0;34m)\u001b[0m \u001b[0;32mas\u001b[0m \u001b[0mf\u001b[0m\u001b[0;34m:\u001b[0m\u001b[0;34m\u001b[0m\u001b[0;34m\u001b[0m\u001b[0m\n\u001b[0m\u001b[1;32m      4\u001b[0m   \u001b[0mtext\u001b[0m \u001b[0;34m=\u001b[0m \u001b[0mf\u001b[0m\u001b[0;34m.\u001b[0m\u001b[0mread\u001b[0m\u001b[0;34m(\u001b[0m\u001b[0;34m)\u001b[0m\u001b[0;34m\u001b[0m\u001b[0;34m\u001b[0m\u001b[0m\n\u001b[1;32m      5\u001b[0m \u001b[0;34m\u001b[0m\u001b[0m\n",
            "\u001b[0;31mFileNotFoundError\u001b[0m: [Errno 2] No such file or directory: '/content/bayg29.tsp'"
          ]
        }
      ]
    },
    {
      "cell_type": "code",
      "source": [
        "## Paso 2: Parametros del problema\n",
        "\n",
        "# Contenido del problema del agente viajero\n",
        "\n",
        "POPULATION_SIZE = 300     # Tamaño de la poblacion de individuos\n",
        "P_CROSSOVER     =  0.9    # Probabilidad de cruza\n",
        "P_MUTATION      =  0.1    # Probabilidad de mutación\n",
        "\n",
        "MAX_GENERATIONS = 200     # Maximo numero de generaciones (condición de termino)"
      ],
      "metadata": {
        "id": "sk8gDOZfLjT5"
      },
      "execution_count": null,
      "outputs": []
    },
    {
      "cell_type": "code",
      "source": [
        "HALL_OF_FAME_SIZE = 1"
      ],
      "metadata": {
        "id": "T8ksHqrDLC3A"
      },
      "execution_count": null,
      "outputs": []
    },
    {
      "cell_type": "code",
      "source": [
        "## Paso 3: Elementos aleatorios\n",
        "\n",
        "RANDOM_SEED = 42          # Comunmente cuando se experimenta con un codigo\n",
        "rd.seed(RANDOM_SEED)      # se corre el problema con los mismos parametros\n",
        "                          # para repetir y compara resultados"
      ],
      "metadata": {
        "id": "eDnBQiyiNGGu"
      },
      "execution_count": null,
      "outputs": []
    },
    {
      "cell_type": "code",
      "source": [
        "## Paso 4: Declarando el cromosoma\n",
        "toolbox = base.Toolbox()\n",
        "toolbox.register(\"randomOrder\", rd.sample, range(tsp.dimension), tsp.dimension)"
      ],
      "metadata": {
        "id": "4O4iiU3bSF9G"
      },
      "execution_count": null,
      "outputs": []
    },
    {
      "cell_type": "code",
      "source": [
        "## Paso 5: Crear la funcion de aptitud (FITNESS)\n",
        "\n",
        "# Se indica maximizacion y un solo peso\n",
        "creator.create('FitnessMin', base.Fitness, weights = (-1.0,))"
      ],
      "metadata": {
        "id": "PfnaIlJPTMBV"
      },
      "execution_count": null,
      "outputs": []
    },
    {
      "cell_type": "code",
      "source": [
        "## Paso 6: Crear la funcion de  aptitud del individuo\n",
        "\n",
        "creator.create(\"Individual\", arr.array, typecode='i', fitness=creator.FitnessMin)"
      ],
      "metadata": {
        "id": "wrTNY_p7VcMt"
      },
      "execution_count": null,
      "outputs": []
    },
    {
      "cell_type": "code",
      "source": [
        "## Paso 7: Declarar el operador para generador de individuos\n",
        "\n",
        "toolbox.register(\"individualCreator\", tools.initIterate, creator.Individual, toolbox.randomOrder)"
      ],
      "metadata": {
        "id": "pVg34tJUYaOE"
      },
      "execution_count": null,
      "outputs": []
    },
    {
      "cell_type": "code",
      "source": [
        "## Paso 8: Declarar el operador para generar la poblacion\n",
        "\n",
        "toolbox.register(\"populationCreator\", tools.initRepeat, list, toolbox.individualCreator)"
      ],
      "metadata": {
        "id": "5OB5u2ePa7wO"
      },
      "execution_count": null,
      "outputs": []
    },
    {
      "cell_type": "code",
      "source": [
        "# Funcion para calcular la distancia\n",
        "def TotalDistance(indices):\n",
        "\n",
        "  distancia = 0\n",
        "  for x in range(-1,len(indices)-1):\n",
        "\n",
        "    edge = indices[x]+1,indices[x+1]+1\n",
        "    distancia = distancia + tsp.get_weight(*edge)\n",
        "\n",
        "  return distancia"
      ],
      "metadata": {
        "id": "QG3P3uARvw6t"
      },
      "execution_count": null,
      "outputs": []
    },
    {
      "cell_type": "code",
      "source": [
        "## Paso 9: Definir función para calcular la aptitud\n",
        "def tpsDistance(individual):\n",
        "\n",
        "  return TotalDistance(individual),  # return a tuple"
      ],
      "metadata": {
        "id": "W8mXJZs6b_Ei"
      },
      "execution_count": null,
      "outputs": []
    },
    {
      "cell_type": "code",
      "source": [
        "## Paso 10: Declarar el operador de evaluacion\n",
        "\n",
        "toolbox.register(\"evaluate\", tpsDistance)"
      ],
      "metadata": {
        "id": "ZSbOP09Bcx2W"
      },
      "execution_count": null,
      "outputs": []
    },
    {
      "cell_type": "code",
      "source": [
        "## Paso 11: Declarar los operadores geneticos\n",
        "\n",
        "toolbox.register(\"select\", tools.selTournament, tournsize=3)\n",
        "toolbox.register(\"mate\", tools.cxOrdered)\n",
        "toolbox.register(\"mutate\", tools.mutShuffleIndexes, indpb = 1.0/tsp.dimension)"
      ],
      "metadata": {
        "id": "6wv9YN9qdrVi"
      },
      "execution_count": null,
      "outputs": []
    },
    {
      "cell_type": "markdown",
      "source": [
        "###Evolucionando la solución"
      ],
      "metadata": {
        "id": "UPas2s4We39f"
      }
    },
    {
      "cell_type": "code",
      "source": [
        "def TSP_problem():\n",
        "\n",
        "\n",
        "    # create initial population (generation 0):\n",
        "    population = toolbox.populationCreator(n=POPULATION_SIZE)\n",
        "\n",
        "    # prepare the statistics object:\n",
        "    stats = tools.Statistics(lambda ind: ind.fitness.values)\n",
        "    stats.register(\"min\", np.min)\n",
        "    stats.register(\"avg\", np.mean)\n",
        "\n",
        "    # define the hall-of-fame object:\n",
        "    hof = tools.HallOfFame(HALL_OF_FAME_SIZE)\n",
        "\n",
        "    # perform the Genetic Algorithm flow with hof feature added:\n",
        "    population, logbook = algorithms.eaSimple(population, toolbox, cxpb=P_CROSSOVER, mutpb=P_MUTATION,\n",
        "                                              ngen=MAX_GENERATIONS, stats=stats, halloffame=hof, verbose=False)\n",
        "\n",
        "    # print best individual info:\n",
        "    best = hof.items[0]\n",
        "    print(\"-- Best Ever Individual = \", best)\n",
        "    print(\"-- Best Ever Fitness = \", best.fitness.values[0])\n",
        "\n",
        "\n"
      ],
      "metadata": {
        "id": "tlyaYNAd2uSn"
      },
      "execution_count": null,
      "outputs": []
    },
    {
      "cell_type": "code",
      "source": [
        "TSP_problem()"
      ],
      "metadata": {
        "id": "XUiGEquW2yiU"
      },
      "execution_count": null,
      "outputs": []
    },
    {
      "cell_type": "code",
      "source": [],
      "metadata": {
        "id": "lwecJmvhooU9"
      },
      "execution_count": null,
      "outputs": []
    }
  ]
}