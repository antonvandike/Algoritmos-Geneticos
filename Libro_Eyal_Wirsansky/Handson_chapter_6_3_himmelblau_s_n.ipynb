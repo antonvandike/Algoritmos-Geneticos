{
  "nbformat": 4,
  "nbformat_minor": 0,
  "metadata": {
    "colab": {
      "provenance": [],
      "authorship_tag": "ABX9TyN71sr5lE4XdjdURQA8dNNA",
      "include_colab_link": true
    },
    "kernelspec": {
      "name": "python3",
      "display_name": "Python 3"
    },
    "language_info": {
      "name": "python"
    }
  },
  "cells": [
    {
      "cell_type": "markdown",
      "metadata": {
        "id": "view-in-github",
        "colab_type": "text"
      },
      "source": [
        "<a href=\"https://colab.research.google.com/github/antonvandike/Algoritmos-Geneticos/blob/main/Libro_Eyal_Wirsansky/Handson_chapter_6_3_himmelblau_s_n.ipynb\" target=\"_parent\"><img src=\"https://colab.research.google.com/assets/colab-badge.svg\" alt=\"Open In Colab\"/></a>"
      ]
    },
    {
      "cell_type": "markdown",
      "source": [
        "#Solucion del problema de la funcion de himmelblau con sharing y niching"
      ],
      "metadata": {
        "id": "pVVtyKf7dVZH"
      }
    },
    {
      "cell_type": "markdown",
      "source": [
        "###Configuraciones y definiciones"
      ],
      "metadata": {
        "id": "jUyH11RZdH6j"
      }
    },
    {
      "cell_type": "code",
      "source": [
        "pip install deap"
      ],
      "metadata": {
        "colab": {
          "base_uri": "https://localhost:8080/"
        },
        "id": "JE91VIDQCHrA",
        "outputId": "5be7050b-73dd-441e-bbfc-ba08cea439b4"
      },
      "execution_count": 1,
      "outputs": [
        {
          "output_type": "stream",
          "name": "stdout",
          "text": [
            "Collecting deap\n",
            "  Downloading deap-1.4.1-cp310-cp310-manylinux_2_5_x86_64.manylinux1_x86_64.manylinux_2_17_x86_64.manylinux2014_x86_64.whl (135 kB)\n",
            "\u001b[2K     \u001b[90m━━━━━━━━━━━━━━━━━━━━━━━━━━━━━━━━━━━━━━━━\u001b[0m \u001b[32m135.4/135.4 kB\u001b[0m \u001b[31m2.1 MB/s\u001b[0m eta \u001b[36m0:00:00\u001b[0m\n",
            "\u001b[?25hRequirement already satisfied: numpy in /usr/local/lib/python3.10/dist-packages (from deap) (1.25.2)\n",
            "Installing collected packages: deap\n",
            "Successfully installed deap-1.4.1\n"
          ]
        }
      ]
    },
    {
      "cell_type": "markdown",
      "source": [
        "#Solucion del problema del agente de ventas viajero"
      ],
      "metadata": {
        "id": "ohjtxY33tjmD"
      }
    },
    {
      "cell_type": "markdown",
      "source": [
        "###Configuraciones y definiciones"
      ],
      "metadata": {
        "id": "dx6mGb10tjmE"
      }
    },
    {
      "cell_type": "code",
      "execution_count": 2,
      "metadata": {
        "id": "_o0YKIs34_AR"
      },
      "outputs": [],
      "source": [
        "## Paso 1: Modulos\n",
        "\n",
        "from deap import base\n",
        "from deap import creator\n",
        "from deap import tools\n",
        "\n",
        "import random as rd\n",
        "import numpy as np\n",
        "\n",
        "import matplotlib.pyplot as plt\n",
        "import seaborn as sns\n",
        "\n",
        "import elitism\n",
        "import math"
      ]
    },
    {
      "cell_type": "code",
      "source": [
        "# Constantes del problema:\n",
        "\n",
        "DIMENSIONS = 2  # number of dimensions\n",
        "BOUND_LOW, BOUND_UP = -5.0, 5.0  # boundaries for all dimensions"
      ],
      "metadata": {
        "id": "DnZPCG94uGyl"
      },
      "execution_count": 3,
      "outputs": []
    },
    {
      "cell_type": "code",
      "source": [
        "# sharing constants:\n",
        "DISTANCE_THRESHOLD = 0.1\n",
        "SHARING_EXTENT = 5.0"
      ],
      "metadata": {
        "id": "3kiQQ2fp2oBF"
      },
      "execution_count": 4,
      "outputs": []
    },
    {
      "cell_type": "code",
      "source": [
        "## Paso 2: Parametros del problema\n",
        "\n",
        "# Contenido del problema del agente viajero\n",
        "\n",
        "POPULATION_SIZE = 300     # Tamaño de la poblacion de individuos\n",
        "P_CROSSOVER     =  0.9    # Probabilidad de cruza\n",
        "P_MUTATION      =  0.5    # Probabilidad de mutación\n",
        "\n",
        "MAX_GENERATIONS = 300     # Maximo numero de generaciones (condición de termino)"
      ],
      "metadata": {
        "id": "sk8gDOZfLjT5"
      },
      "execution_count": 5,
      "outputs": []
    },
    {
      "cell_type": "code",
      "source": [
        "HALL_OF_FAME_SIZE = 30"
      ],
      "metadata": {
        "id": "T8ksHqrDLC3A"
      },
      "execution_count": 6,
      "outputs": []
    },
    {
      "cell_type": "code",
      "source": [
        "CROWDING_FACTOR = 20.0  # Factor de aglomeracion para cruza y mutacion"
      ],
      "metadata": {
        "id": "hkriYODeudGj"
      },
      "execution_count": 7,
      "outputs": []
    },
    {
      "cell_type": "code",
      "source": [
        "## Paso 3: Elementos aleatorios\n",
        "\n",
        "RANDOM_SEED = 42          # Comunmente cuando se experimenta con un codigo\n",
        "rd.seed(RANDOM_SEED)      # se corre el problema con los mismos parametros\n",
        "                          # para repetir y compara resultados"
      ],
      "metadata": {
        "id": "eDnBQiyiNGGu"
      },
      "execution_count": 8,
      "outputs": []
    },
    {
      "cell_type": "code",
      "source": [
        "## Paso 4: Declarando el cromosoma\n",
        "toolbox = base.Toolbox()\n",
        "\n",
        "def randomFloat(low, up):\n",
        "    return [rd.uniform(l, u) for l, u in zip([low] * DIMENSIONS, [up] * DIMENSIONS)]\n",
        "\n",
        "toolbox.register(\"attrFloat\", randomFloat, BOUND_LOW, BOUND_UP)"
      ],
      "metadata": {
        "id": "4O4iiU3bSF9G"
      },
      "execution_count": 9,
      "outputs": []
    },
    {
      "cell_type": "code",
      "source": [
        "toolbox.attrFloat()"
      ],
      "metadata": {
        "colab": {
          "base_uri": "https://localhost:8080/"
        },
        "id": "jhGFJHbpu4CW",
        "outputId": "a9051009-e41f-406e-8eef-e2ccf5bbc81f"
      },
      "execution_count": 10,
      "outputs": [
        {
          "output_type": "execute_result",
          "data": {
            "text/plain": [
              "[1.3942679845788373, -4.74989244777333]"
            ]
          },
          "metadata": {},
          "execution_count": 10
        }
      ]
    },
    {
      "cell_type": "code",
      "source": [
        "## Paso 5: Crear la funcion de aptitud (FITNESS)\n",
        "\n",
        "# Se indica maximizacion y un solo peso\n",
        "creator.create('FitnessMax', base.Fitness, weights = (1.0,))"
      ],
      "metadata": {
        "id": "PfnaIlJPTMBV"
      },
      "execution_count": 11,
      "outputs": []
    },
    {
      "cell_type": "code",
      "source": [
        "## Paso 6: Crear la funcion de  aptitud del individuo\n",
        "\n",
        "creator.create(\"Individual\", list, fitness=creator.FitnessMax)"
      ],
      "metadata": {
        "id": "wrTNY_p7VcMt"
      },
      "execution_count": 12,
      "outputs": []
    },
    {
      "cell_type": "code",
      "source": [
        "## Paso 7: Declarar el operador para generador de individuos\n",
        "\n",
        "toolbox.register(\"individualCreator\", tools.initIterate, creator.Individual, toolbox.attrFloat)"
      ],
      "metadata": {
        "id": "pVg34tJUYaOE"
      },
      "execution_count": 13,
      "outputs": []
    },
    {
      "cell_type": "code",
      "source": [
        "## Paso 8: Declarar el operador para generar la poblacion\n",
        "\n",
        "toolbox.register(\"populationCreator\", tools.initRepeat, list, toolbox.individualCreator)"
      ],
      "metadata": {
        "id": "5OB5u2ePa7wO"
      },
      "execution_count": 14,
      "outputs": []
    },
    {
      "cell_type": "code",
      "source": [
        "## Paso 9: Definir función para calcular la aptitud\n",
        "# 'Inverted' Himmelblau function as the given individual's fitness:\n",
        "def himmelblauInverted(individual):\n",
        "    x = individual[0]\n",
        "    y = individual[1]\n",
        "    f = (x ** 2 + y - 11) ** 2 + (x + y ** 2 - 7) ** 2\n",
        "    return 2000.0 - f,  # return a tuple"
      ],
      "metadata": {
        "id": "W8mXJZs6b_Ei"
      },
      "execution_count": 15,
      "outputs": []
    },
    {
      "cell_type": "code",
      "source": [
        "## Paso 10: Declarar el operador de evaluacion\n",
        "\n",
        "toolbox.register(\"evaluate\", himmelblauInverted)"
      ],
      "metadata": {
        "id": "ZSbOP09Bcx2W"
      },
      "execution_count": 16,
      "outputs": []
    },
    {
      "cell_type": "code",
      "source": [
        "# wraps the tools.selTournament() with fitness sharing\n",
        "# same signature as tools.selTournament()\n",
        "def selTournamentWithSharing(individuals, k, tournsize, fit_attr=\"fitness\"):\n",
        "\n",
        "    # get orig fitnesses:\n",
        "    origFitnesses = [ind.fitness.values[0] for ind in individuals]\n",
        "\n",
        "    # apply sharing to each individual:\n",
        "    for i in range(len(individuals)):\n",
        "        sharingSum = 1\n",
        "\n",
        "        # iterate over all other individuals\n",
        "        for j in range(len(individuals)):\n",
        "            if i != j:\n",
        "                # calculate eucledean distance between individuals:\n",
        "                distance = math.sqrt(\n",
        "                    ((individuals[i][0] - individuals[j][0]) ** 2) + ((individuals[i][1] - individuals[j][1]) ** 2))\n",
        "\n",
        "                if distance < DISTANCE_THRESHOLD:\n",
        "                    sharingSum += (1 - distance / (SHARING_EXTENT * DISTANCE_THRESHOLD))\n",
        "\n",
        "        # reduce fitness accordingly:\n",
        "        individuals[i].fitness.values = origFitnesses[i] / sharingSum,\n",
        "\n",
        "    # apply original tools.selTournament() using modified fitness:\n",
        "    selected = tools.selTournament(individuals, k, tournsize, fit_attr)\n",
        "\n",
        "    # retrieve original fitness:\n",
        "    for i, ind in enumerate(individuals):\n",
        "        ind.fitness.values = origFitnesses[i],\n",
        "\n",
        "    return selected"
      ],
      "metadata": {
        "id": "Bv9rLJWl2KOp"
      },
      "execution_count": 17,
      "outputs": []
    },
    {
      "cell_type": "code",
      "source": [
        "## Paso 11: Declarar los operadores geneticos\n",
        "\n",
        "toolbox.register(\"select\", selTournamentWithSharing, tournsize=2)\n",
        "toolbox.register(\"mate\", tools.cxSimulatedBinaryBounded, low=BOUND_LOW, up=BOUND_UP, eta=CROWDING_FACTOR)\n",
        "toolbox.register(\"mutate\", tools.mutPolynomialBounded, low=BOUND_LOW, up=BOUND_UP, eta=CROWDING_FACTOR, indpb=1.0/DIMENSIONS)"
      ],
      "metadata": {
        "id": "6wv9YN9qdrVi"
      },
      "execution_count": 18,
      "outputs": []
    },
    {
      "cell_type": "markdown",
      "source": [
        "###Evolucionando la solución"
      ],
      "metadata": {
        "id": "UPas2s4We39f"
      }
    },
    {
      "cell_type": "code",
      "source": [
        "def himmelblau_problem():\n",
        "\n",
        "    # create initial population (generation 0):\n",
        "    population = toolbox.populationCreator(n=POPULATION_SIZE)\n",
        "\n",
        "    # prepare the statistics object:\n",
        "    stats = tools.Statistics(lambda ind: ind.fitness.values)\n",
        "    stats.register(\"max\", np.max)\n",
        "    stats.register(\"avg\", np.mean)\n",
        "\n",
        "    # define the hall-of-fame object:\n",
        "    hof = tools.HallOfFame(HALL_OF_FAME_SIZE)\n",
        "\n",
        "    # perform the Genetic Algorithm flow with elitism:\n",
        "    population, logbook = elitism.eaSimpleWithElitism(population, toolbox, cxpb=P_CROSSOVER, mutpb=P_MUTATION,\n",
        "                                              ngen=MAX_GENERATIONS, stats=stats, halloffame=hof, verbose=True)\n",
        "\n",
        "    # print info for best solution found:\n",
        "    best = hof.items[0]\n",
        "    print(\"-- Best Individual = \", best)\n",
        "    print(\"-- Best Fitness = \", best.fitness.values[0])\n",
        "\n",
        "    print(\"- Best solutions are:\")\n",
        "    for i in range(HALL_OF_FAME_SIZE):\n",
        "        print(i, \": \", hof.items[i].fitness.values[0], \" -> \", hof.items[i])\n",
        "\n",
        "    # plot solution locations on x-y plane:\n",
        "    plt.figure(1)\n",
        "    globalMaxima = [[3.0, 2.0], [-2.805118, 3.131312], [-3.779310, -3.283186], [3.584458, -1.848126]]\n",
        "    plt.scatter(*zip(*globalMaxima), marker='x', color='red', zorder=1)\n",
        "    plt.scatter(*zip(*population), marker='.', color='blue', zorder=0)    # plot solution locations on x-y plane:\n",
        "\n",
        "    # plot best solutions locations on x-y plane:\n",
        "    plt.figure(2)\n",
        "    plt.scatter(*zip(*globalMaxima), marker='x', color='red', zorder=1)\n",
        "    plt.scatter(*zip(*hof.items), marker='.', color='blue', zorder=0)\n",
        "\n",
        "    # extract statistics:\n",
        "    maxFitnessValues, meanFitnessValues = logbook.select(\"max\", \"avg\")\n",
        "\n",
        "    # plot statistics:\n",
        "    plt.figure(3)\n",
        "    sns.set_style(\"whitegrid\")\n",
        "    plt.plot(maxFitnessValues, color='red')\n",
        "    plt.plot(meanFitnessValues, color='green')\n",
        "    plt.xlabel('Generation')\n",
        "    plt.ylabel('Max / Average Fitness')\n",
        "    plt.title('Max and Average fitness over Generations')\n",
        "\n",
        "    plt.show()\n",
        "\n"
      ],
      "metadata": {
        "id": "tlyaYNAd2uSn"
      },
      "execution_count": 19,
      "outputs": []
    },
    {
      "cell_type": "code",
      "source": [
        "himmelblau_problem()"
      ],
      "metadata": {
        "colab": {
          "base_uri": "https://localhost:8080/",
          "height": 1000
        },
        "id": "TaFnkwBFw_LJ",
        "outputId": "88989c1b-e929-4dc9-a4d4-d7297d872aed"
      },
      "execution_count": 20,
      "outputs": [
        {
          "output_type": "stream",
          "name": "stdout",
          "text": [
            "gen\tnevals\tmax    \tavg    \n",
            "0  \t300   \t1999.92\t1862.58\n",
            "1  \t258   \t1999.92\t1912.98\n",
            "2  \t258   \t1999.92\t1923.31\n",
            "3  \t259   \t1999.92\t1933.72\n",
            "4  \t257   \t1999.98\t1940.87\n",
            "5  \t262   \t1999.98\t1935.04\n",
            "6  \t253   \t1999.98\t1945.11\n",
            "7  \t258   \t1999.98\t1948.03\n",
            "8  \t260   \t1999.98\t1942.7 \n",
            "9  \t259   \t1999.98\t1939.97\n",
            "10 \t253   \t1999.98\t1944.35\n",
            "11 \t257   \t1999.98\t1948.72\n",
            "12 \t260   \t1999.98\t1945.71\n",
            "13 \t261   \t1999.98\t1946.48\n",
            "14 \t262   \t1999.98\t1950.38\n",
            "15 \t255   \t1999.99\t1954.13\n",
            "16 \t253   \t1999.99\t1952.95\n",
            "17 \t264   \t1999.99\t1944.09\n",
            "18 \t259   \t1999.99\t1946.95\n",
            "19 \t262   \t1999.99\t1946.51\n",
            "20 \t255   \t1999.99\t1947.72\n",
            "21 \t260   \t1999.99\t1947.34\n",
            "22 \t263   \t1999.99\t1949.54\n",
            "23 \t253   \t1999.99\t1950.46\n",
            "24 \t259   \t1999.99\t1955.62\n",
            "25 \t260   \t1999.99\t1951.02\n",
            "26 \t251   \t1999.99\t1957.56\n",
            "27 \t259   \t1999.99\t1957.44\n",
            "28 \t251   \t1999.99\t1953.7 \n",
            "29 \t264   \t1999.99\t1949.97\n",
            "30 \t255   \t1999.99\t1954.7 \n",
            "31 \t249   \t1999.99\t1957.9 \n",
            "32 \t244   \t1999.99\t1958.1 \n",
            "33 \t252   \t1999.99\t1954.26\n",
            "34 \t249   \t1999.99\t1953.43\n",
            "35 \t257   \t1999.99\t1944.54\n",
            "36 \t248   \t1999.99\t1949.4 \n",
            "37 \t258   \t1999.99\t1950.94\n",
            "38 \t252   \t1999.99\t1952.21\n",
            "39 \t261   \t1999.99\t1952.27\n",
            "40 \t259   \t1999.99\t1955.62\n",
            "41 \t251   \t1999.99\t1954.3 \n",
            "42 \t255   \t1999.99\t1957.53\n",
            "43 \t258   \t1999.99\t1953.55\n",
            "44 \t255   \t1999.99\t1951.05\n",
            "45 \t258   \t1999.99\t1957.16\n",
            "46 \t256   \t1999.99\t1962.07\n",
            "47 \t251   \t1999.99\t1950.64\n",
            "48 \t251   \t1999.99\t1943.92\n",
            "49 \t259   \t1999.99\t1950.2 \n",
            "50 \t257   \t1999.99\t1951.24\n",
            "51 \t265   \t1999.99\t1945.83\n",
            "52 \t255   \t1999.99\t1950.24\n",
            "53 \t255   \t1999.99\t1951.69\n",
            "54 \t257   \t1999.99\t1946.22\n",
            "55 \t259   \t1999.99\t1950.33\n",
            "56 \t259   \t1999.99\t1946.13\n",
            "57 \t258   \t1999.99\t1946.69\n",
            "58 \t253   \t1999.99\t1950.4 \n",
            "59 \t257   \t1999.99\t1945.71\n",
            "60 \t255   \t1999.99\t1946.2 \n",
            "61 \t258   \t1999.99\t1944.95\n",
            "62 \t261   \t1999.99\t1950.15\n",
            "63 \t256   \t1999.99\t1942.58\n",
            "64 \t258   \t1999.99\t1943.32\n",
            "65 \t259   \t1999.99\t1949.17\n",
            "66 \t255   \t1999.99\t1946.68\n",
            "67 \t256   \t1999.99\t1945.66\n",
            "68 \t256   \t1999.99\t1941.47\n",
            "69 \t258   \t1999.99\t1943.34\n",
            "70 \t260   \t1999.99\t1946.32\n",
            "71 \t262   \t1999.99\t1950.95\n",
            "72 \t258   \t1999.99\t1948.96\n",
            "73 \t242   \t1999.99\t1947.05\n",
            "74 \t260   \t1999.99\t1944.63\n",
            "75 \t264   \t1999.99\t1950.76\n",
            "76 \t261   \t2000   \t1956.41\n",
            "77 \t264   \t2000   \t1955.93\n",
            "78 \t250   \t2000   \t1952.78\n",
            "79 \t262   \t2000   \t1960.67\n",
            "80 \t259   \t2000   \t1951.64\n",
            "81 \t258   \t2000   \t1952.28\n",
            "82 \t258   \t2000   \t1951.3 \n",
            "83 \t256   \t2000   \t1948.62\n",
            "84 \t259   \t2000   \t1941.82\n",
            "85 \t264   \t2000   \t1947.68\n",
            "86 \t254   \t2000   \t1944   \n",
            "87 \t258   \t2000   \t1943.9 \n",
            "88 \t252   \t2000   \t1947.9 \n",
            "89 \t258   \t2000   \t1952.56\n",
            "90 \t249   \t2000   \t1947.44\n",
            "91 \t251   \t2000   \t1947.63\n",
            "92 \t252   \t2000   \t1944.59\n",
            "93 \t259   \t2000   \t1950.13\n",
            "94 \t252   \t2000   \t1951.63\n",
            "95 \t253   \t2000   \t1950.74\n",
            "96 \t256   \t2000   \t1944.11\n",
            "97 \t266   \t2000   \t1955.8 \n",
            "98 \t251   \t2000   \t1957.36\n",
            "99 \t250   \t2000   \t1956.54\n",
            "100\t253   \t2000   \t1956   \n",
            "101\t257   \t2000   \t1953.09\n",
            "102\t247   \t2000   \t1950.12\n",
            "103\t266   \t2000   \t1954.01\n",
            "104\t253   \t2000   \t1955.08\n",
            "105\t255   \t2000   \t1954.88\n",
            "106\t259   \t2000   \t1953.96\n",
            "107\t260   \t2000   \t1950.02\n",
            "108\t249   \t2000   \t1948.89\n",
            "109\t253   \t2000   \t1956   \n",
            "110\t262   \t2000   \t1948.91\n",
            "111\t256   \t2000   \t1941.89\n",
            "112\t251   \t2000   \t1944.01\n",
            "113\t255   \t2000   \t1942.01\n",
            "114\t259   \t2000   \t1953.3 \n",
            "115\t253   \t2000   \t1950.97\n",
            "116\t247   \t2000   \t1945.93\n",
            "117\t252   \t2000   \t1955.25\n",
            "118\t262   \t2000   \t1958.69\n",
            "119\t255   \t2000   \t1954.48\n",
            "120\t256   \t2000   \t1952.48\n",
            "121\t258   \t2000   \t1947.54\n",
            "122\t258   \t2000   \t1956.96\n",
            "123\t247   \t2000   \t1959.44\n",
            "124\t262   \t2000   \t1959.96\n",
            "125\t251   \t2000   \t1954.25\n",
            "126\t252   \t2000   \t1952.23\n",
            "127\t252   \t2000   \t1953.83\n",
            "128\t261   \t2000   \t1954.36\n",
            "129\t255   \t2000   \t1956.24\n",
            "130\t270   \t2000   \t1952.78\n",
            "131\t257   \t2000   \t1956.75\n",
            "132\t253   \t2000   \t1952.38\n",
            "133\t253   \t2000   \t1953.64\n",
            "134\t251   \t2000   \t1947.68\n",
            "135\t262   \t2000   \t1949.41\n",
            "136\t257   \t2000   \t1952.86\n",
            "137\t253   \t2000   \t1949.62\n",
            "138\t257   \t2000   \t1952.37\n",
            "139\t252   \t2000   \t1948.49\n",
            "140\t256   \t2000   \t1943.09\n",
            "141\t254   \t2000   \t1947.91\n",
            "142\t251   \t2000   \t1949.28\n",
            "143\t257   \t2000   \t1947.57\n",
            "144\t256   \t2000   \t1955.29\n",
            "145\t252   \t2000   \t1954.47\n",
            "146\t258   \t2000   \t1951.14\n",
            "147\t248   \t2000   \t1946.65\n",
            "148\t256   \t2000   \t1950.31\n",
            "149\t257   \t2000   \t1954.98\n",
            "150\t260   \t2000   \t1956.65\n",
            "151\t261   \t2000   \t1956.84\n",
            "152\t260   \t2000   \t1958.06\n",
            "153\t256   \t2000   \t1962.48\n",
            "154\t258   \t2000   \t1956.84\n",
            "155\t252   \t2000   \t1951.07\n",
            "156\t256   \t2000   \t1957.36\n",
            "157\t249   \t2000   \t1950.55\n",
            "158\t262   \t2000   \t1948.25\n",
            "159\t247   \t2000   \t1959.89\n",
            "160\t253   \t2000   \t1959.27\n",
            "161\t254   \t2000   \t1957.48\n",
            "162\t249   \t2000   \t1956.9 \n",
            "163\t262   \t2000   \t1959.69\n",
            "164\t259   \t2000   \t1957.78\n",
            "165\t245   \t2000   \t1956.54\n",
            "166\t257   \t2000   \t1949.65\n",
            "167\t261   \t2000   \t1947.19\n",
            "168\t258   \t2000   \t1950.41\n",
            "169\t259   \t2000   \t1952.17\n",
            "170\t257   \t2000   \t1950.25\n",
            "171\t259   \t2000   \t1955.89\n",
            "172\t257   \t2000   \t1953.69\n",
            "173\t258   \t2000   \t1954.94\n",
            "174\t254   \t2000   \t1951.47\n",
            "175\t249   \t2000   \t1957.24\n",
            "176\t260   \t2000   \t1952.14\n",
            "177\t252   \t2000   \t1951.89\n",
            "178\t267   \t2000   \t1948.91\n",
            "179\t264   \t2000   \t1951.82\n",
            "180\t262   \t2000   \t1949   \n",
            "181\t259   \t2000   \t1945.11\n",
            "182\t244   \t2000   \t1944.12\n",
            "183\t257   \t2000   \t1952.19\n",
            "184\t258   \t2000   \t1947.29\n",
            "185\t261   \t2000   \t1944.31\n",
            "186\t249   \t2000   \t1945.82\n",
            "187\t254   \t2000   \t1946.91\n",
            "188\t262   \t2000   \t1956.21\n",
            "189\t257   \t2000   \t1957.81\n",
            "190\t252   \t2000   \t1957.39\n",
            "191\t254   \t2000   \t1962.42\n",
            "192\t251   \t2000   \t1963.07\n",
            "193\t260   \t2000   \t1961.77\n",
            "194\t257   \t2000   \t1956.85\n",
            "195\t257   \t2000   \t1952.71\n",
            "196\t253   \t2000   \t1957.77\n",
            "197\t255   \t2000   \t1955.42\n",
            "198\t250   \t2000   \t1952.42\n",
            "199\t251   \t2000   \t1949   \n",
            "200\t260   \t2000   \t1947.83\n",
            "201\t248   \t2000   \t1946.21\n",
            "202\t245   \t2000   \t1948.9 \n",
            "203\t247   \t2000   \t1949.76\n",
            "204\t249   \t2000   \t1950.49\n",
            "205\t263   \t2000   \t1953.11\n",
            "206\t261   \t2000   \t1959.03\n",
            "207\t250   \t2000   \t1957.53\n",
            "208\t252   \t2000   \t1955.42\n",
            "209\t256   \t2000   \t1954.29\n",
            "210\t250   \t2000   \t1951.39\n",
            "211\t259   \t2000   \t1952.46\n",
            "212\t253   \t2000   \t1955.45\n",
            "213\t264   \t2000   \t1951.28\n",
            "214\t255   \t2000   \t1951.88\n",
            "215\t255   \t2000   \t1947.91\n",
            "216\t261   \t2000   \t1953.6 \n",
            "217\t258   \t2000   \t1954.44\n",
            "218\t252   \t2000   \t1955.2 \n",
            "219\t252   \t2000   \t1950.42\n",
            "220\t255   \t2000   \t1951.87\n",
            "221\t254   \t2000   \t1953.29\n",
            "222\t250   \t2000   \t1947.65\n",
            "223\t260   \t2000   \t1950.05\n",
            "224\t263   \t2000   \t1948.25\n",
            "225\t255   \t2000   \t1951.85\n",
            "226\t252   \t2000   \t1951.27\n",
            "227\t262   \t2000   \t1947.88\n",
            "228\t257   \t2000   \t1952.24\n",
            "229\t258   \t2000   \t1952.82\n",
            "230\t258   \t2000   \t1948.68\n",
            "231\t261   \t2000   \t1953.87\n",
            "232\t253   \t2000   \t1955.55\n",
            "233\t246   \t2000   \t1950.83\n",
            "234\t255   \t2000   \t1943.48\n",
            "235\t265   \t2000   \t1952.94\n",
            "236\t259   \t2000   \t1952.85\n",
            "237\t263   \t2000   \t1954   \n",
            "238\t251   \t2000   \t1962.29\n",
            "239\t258   \t2000   \t1959.52\n",
            "240\t260   \t2000   \t1959.17\n",
            "241\t257   \t2000   \t1949.96\n",
            "242\t265   \t2000   \t1946.47\n",
            "243\t260   \t2000   \t1943.06\n",
            "244\t256   \t2000   \t1951.82\n",
            "245\t256   \t2000   \t1944.83\n",
            "246\t255   \t2000   \t1950.47\n",
            "247\t252   \t2000   \t1955.34\n",
            "248\t256   \t2000   \t1947.54\n",
            "249\t257   \t2000   \t1947.44\n",
            "250\t257   \t2000   \t1947.05\n",
            "251\t254   \t2000   \t1946.21\n",
            "252\t256   \t2000   \t1950.66\n",
            "253\t246   \t2000   \t1953.87\n",
            "254\t258   \t2000   \t1950.8 \n",
            "255\t252   \t2000   \t1947.49\n",
            "256\t257   \t2000   \t1945.19\n",
            "257\t262   \t2000   \t1945.78\n",
            "258\t263   \t2000   \t1943.7 \n",
            "259\t257   \t2000   \t1943.6 \n",
            "260\t264   \t2000   \t1953.22\n",
            "261\t264   \t2000   \t1948.35\n",
            "262\t258   \t2000   \t1948.61\n",
            "263\t257   \t2000   \t1950.85\n",
            "264\t261   \t2000   \t1943.91\n",
            "265\t255   \t2000   \t1945.91\n",
            "266\t262   \t2000   \t1956.25\n",
            "267\t259   \t2000   \t1954.4 \n",
            "268\t249   \t2000   \t1950.68\n",
            "269\t254   \t2000   \t1956.3 \n",
            "270\t259   \t2000   \t1954.8 \n",
            "271\t251   \t2000   \t1958.43\n",
            "272\t254   \t2000   \t1957.24\n",
            "273\t253   \t2000   \t1951.77\n",
            "274\t249   \t2000   \t1956.45\n",
            "275\t255   \t2000   \t1954.13\n",
            "276\t259   \t2000   \t1952.07\n",
            "277\t255   \t2000   \t1956.8 \n",
            "278\t255   \t2000   \t1953.16\n",
            "279\t253   \t2000   \t1949.46\n",
            "280\t256   \t2000   \t1952.43\n",
            "281\t248   \t2000   \t1953.5 \n",
            "282\t249   \t2000   \t1955.92\n",
            "283\t262   \t2000   \t1950.71\n",
            "284\t253   \t2000   \t1951.01\n",
            "285\t250   \t2000   \t1949.57\n",
            "286\t253   \t2000   \t1952.15\n",
            "287\t262   \t2000   \t1949.51\n",
            "288\t257   \t2000   \t1944.42\n",
            "289\t253   \t2000   \t1947.92\n",
            "290\t258   \t2000   \t1947.61\n",
            "291\t256   \t2000   \t1943.15\n",
            "292\t260   \t2000   \t1951.56\n",
            "293\t254   \t2000   \t1950.04\n",
            "294\t245   \t2000   \t1941.07\n",
            "295\t257   \t2000   \t1940.38\n",
            "296\t264   \t2000   \t1942.67\n",
            "297\t257   \t2000   \t1939.39\n",
            "298\t254   \t2000   \t1941.07\n",
            "299\t256   \t2000   \t1947.35\n",
            "300\t259   \t2000   \t1947.13\n",
            "-- Best Individual =  [3.001352941499661, 2.0035039605951437]\n",
            "-- Best Fitness =  1999.9996283185849\n",
            "- Best solutions are:\n",
            "0 :  1999.9996283185849  ->  [3.001352941499661, 2.0035039605951437]\n",
            "1 :  1999.9994278121512  ->  [3.001352941499661, 2.0047043569584555]\n",
            "2 :  1999.9992976903122  ->  [3.000710052144181, 2.0059295850535763]\n",
            "3 :  1999.99912307582  ->  [3.5806350517534478, -1.8502701881182073]\n",
            "4 :  1999.9981752645474  ->  [2.9931143305413936, 2.008577649052265]\n",
            "5 :  1999.9976370679694  ->  [3.579692646180862, -1.8560709988305173]\n",
            "6 :  1999.9966508514813  ->  [2.991771489989576, 1.9962651782679774]\n",
            "7 :  1999.9965916920607  ->  [-2.815322515757561, 3.1308478891198948]\n",
            "8 :  1999.9965237511205  ->  [-2.81530042895518, 3.1299098116727753]\n",
            "9 :  1999.9964459331613  ->  [3.5788277232808876, -1.858282105285221]\n",
            "10 :  1999.9962424839473  ->  [-2.815322515757561, 3.1284609197153017]\n",
            "11 :  1999.9961013056334  ->  [-2.815322515757561, 3.1279252272414677]\n",
            "12 :  1999.9959227436295  ->  [3.001352941499661, 2.014533933332533]\n",
            "13 :  1999.9955756875588  ->  [2.991255023584203, 2.0160488692287117]\n",
            "14 :  1999.9954851636583  ->  [3.575086964643156, -1.8445724560134307]\n",
            "15 :  1999.9954301326222  ->  [-2.8164706216302484, 3.1284609197153017]\n",
            "16 :  1999.9948111711994  ->  [-2.815322515757561, 3.1381527777672638]\n",
            "17 :  1999.994791672801  ->  [-2.815322515757561, 3.1381888811279683]\n",
            "18 :  1999.994196891295  ->  [2.9905332973225005, 2.018796588873143]\n",
            "19 :  1999.9940239053487  ->  [3.590182009051863, -1.8323819476355367]\n",
            "20 :  1999.9933516388778  ->  [3.5806350517534478, -1.8270344814927972]\n",
            "21 :  1999.9932777299955  ->  [3.5803555307671973, -1.8270344814927972]\n",
            "22 :  1999.993183390505  ->  [2.987812347737163, 2.0184633674282795]\n",
            "23 :  1999.9927632712383  ->  [3.0144268829442082, 1.9848654936793464]\n",
            "24 :  1999.9923286760393  ->  [2.9868251199653044, 1.9961192770258158]\n",
            "25 :  1999.9921841857242  ->  [-2.815322515757561, 3.141947308311244]\n",
            "26 :  1999.9921003585791  ->  [-2.81530042895518, 3.1420627448814855]\n",
            "27 :  1999.9920859637787  ->  [-2.815322515757561, 3.1420627448814855]\n",
            "28 :  1999.9920625922837  ->  [-2.8203313274769717, 3.1284609197153017]\n",
            "29 :  1999.9914908127953  ->  [-3.7775699160803304, -3.296358502321876]\n"
          ]
        },
        {
          "output_type": "display_data",
          "data": {
            "text/plain": [
              "<Figure size 640x480 with 1 Axes>"
            ],
            "image/png": "[encoded data removed]"
          },
          "metadata": {}
        },
        {
          "output_type": "display_data",
          "data": {
            "text/plain": [
              "<Figure size 640x480 with 1 Axes>"
            ],
            "image/png": "[encoded data removed]"
          },
          "metadata": {}
        },
        {
          "output_type": "display_data",
          "data": {
            "text/plain": [
              "<Figure size 640x480 with 1 Axes>"
            ],
            "image/png": "[encoded data removed]"
          },
          "metadata": {}
        }
      ]
    }
  ]
}